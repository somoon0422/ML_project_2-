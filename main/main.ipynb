{
 "cells": [
  {
   "cell_type": "markdown",
   "metadata": {},
   "source": [
    "### 1. 데이터 불러오기"
   ]
  },
  {
   "cell_type": "code",
   "execution_count": 1,
   "metadata": {},
   "outputs": [],
   "source": [
    "from sklearn.cluster import KMeans\n",
    "import pandas as pd\n",
    "import numpy as np\n",
    "import seaborn as sns\n",
    "import matplotlib.pyplot as plt"
   ]
  },
  {
   "cell_type": "code",
   "execution_count": 16,
   "metadata": {},
   "outputs": [],
   "source": [
    "padua_data = pd.read_csv('../data/kideny_PADUA_upload.csv')\n",
    "renal_data = pd.read_csv('../data/kideny_RENAL_upload.csv')\n",
    "treat_data = pd.read_csv('../data/kidney_treat_upload.csv')"
   ]
  },
  {
   "cell_type": "markdown",
   "metadata": {},
   "source": [
    "## PADUA\n",
    "\n",
    "### 'Tumor_PADUA' : 종양의 크기<br>\n",
    "### 'Exophytic_PADUA' : 종양의 표면 위치<br>\n",
    "### 'Rim_PADUA' : 종양의 신동과의 거리<br>\n",
    "### 'Sinus_PADUA' : <br>\n",
    "### 'Polarlocation_PADUA' : 종양의 세로 기준 위치<br>\n",
    "### 'Collectingsystem_PADUA' :<br>\n",
    "### 'PADUA_total' : 총 PADUA 점수<br>"
   ]
  },
  {
   "cell_type": "markdown",
   "metadata": {},
   "source": [
    "## RENAL\n",
    "\n",
    "### 'Radius_RENAL' : 종양의 최장 반지름 길이\n",
    "### 'Exophytic_RENAL' : 종양의 외성장 정도\n",
    "### 'Nearness_RENAL' : 종양의 집배뇨관의 근접 정도\n",
    "### 'APX_RENAL' : 종양의 위치 - 전/후방(숫자)\n",
    "### 'Location_RENAL' : 종양의 집배뇨관 기준 상대 위치\n",
    "### 'RENAL_total' : 최종 RENAL 점수"
   ]
  },
  {
   "cell_type": "code",
   "execution_count": 17,
   "metadata": {},
   "outputs": [
    {
     "data": {
      "text/html": [
       "<div>\n",
       "<style scoped>\n",
       "    .dataframe tbody tr th:only-of-type {\n",
       "        vertical-align: middle;\n",
       "    }\n",
       "\n",
       "    .dataframe tbody tr th {\n",
       "        vertical-align: top;\n",
       "    }\n",
       "\n",
       "    .dataframe thead th {\n",
       "        text-align: right;\n",
       "    }\n",
       "</style>\n",
       "<table border=\"1\" class=\"dataframe\">\n",
       "  <thead>\n",
       "    <tr style=\"text-align: right;\">\n",
       "      <th></th>\n",
       "      <th>serial</th>\n",
       "      <th>Tumor_PADUA</th>\n",
       "      <th>Exophytic_PADUA</th>\n",
       "      <th>Rim_PADUA</th>\n",
       "      <th>Sinus_PADUA</th>\n",
       "      <th>Polarlocation_PADUA</th>\n",
       "      <th>Collectingsystem_PADUA</th>\n",
       "      <th>PADUA_total</th>\n",
       "    </tr>\n",
       "  </thead>\n",
       "  <tbody>\n",
       "    <tr>\n",
       "      <th>0</th>\n",
       "      <td>1</td>\n",
       "      <td>2.0</td>\n",
       "      <td>1.0</td>\n",
       "      <td>2.0</td>\n",
       "      <td>1.0</td>\n",
       "      <td>1.0</td>\n",
       "      <td>1.0</td>\n",
       "      <td>8</td>\n",
       "    </tr>\n",
       "    <tr>\n",
       "      <th>1</th>\n",
       "      <td>2</td>\n",
       "      <td>1.0</td>\n",
       "      <td>2.0</td>\n",
       "      <td>1.0</td>\n",
       "      <td>1.0</td>\n",
       "      <td>2.0</td>\n",
       "      <td>1.0</td>\n",
       "      <td>8</td>\n",
       "    </tr>\n",
       "    <tr>\n",
       "      <th>2</th>\n",
       "      <td>3</td>\n",
       "      <td>1.0</td>\n",
       "      <td>1.0</td>\n",
       "      <td>1.0</td>\n",
       "      <td>1.0</td>\n",
       "      <td>2.0</td>\n",
       "      <td>1.0</td>\n",
       "      <td>7</td>\n",
       "    </tr>\n",
       "    <tr>\n",
       "      <th>3</th>\n",
       "      <td>4</td>\n",
       "      <td>1.0</td>\n",
       "      <td>1.0</td>\n",
       "      <td>1.0</td>\n",
       "      <td>1.0</td>\n",
       "      <td>2.0</td>\n",
       "      <td>2.0</td>\n",
       "      <td>8</td>\n",
       "    </tr>\n",
       "    <tr>\n",
       "      <th>4</th>\n",
       "      <td>5</td>\n",
       "      <td>1.0</td>\n",
       "      <td>2.0</td>\n",
       "      <td>1.0</td>\n",
       "      <td>1.0</td>\n",
       "      <td>2.0</td>\n",
       "      <td>1.0</td>\n",
       "      <td>8</td>\n",
       "    </tr>\n",
       "  </tbody>\n",
       "</table>\n",
       "</div>"
      ],
      "text/plain": [
       "   serial  Tumor_PADUA  Exophytic_PADUA  Rim_PADUA  Sinus_PADUA  \\\n",
       "0       1          2.0              1.0        2.0          1.0   \n",
       "1       2          1.0              2.0        1.0          1.0   \n",
       "2       3          1.0              1.0        1.0          1.0   \n",
       "3       4          1.0              1.0        1.0          1.0   \n",
       "4       5          1.0              2.0        1.0          1.0   \n",
       "\n",
       "   Polarlocation_PADUA  Collectingsystem_PADUA  PADUA_total  \n",
       "0                  1.0                     1.0            8  \n",
       "1                  2.0                     1.0            8  \n",
       "2                  2.0                     1.0            7  \n",
       "3                  2.0                     2.0            8  \n",
       "4                  2.0                     1.0            8  "
      ]
     },
     "execution_count": 17,
     "metadata": {},
     "output_type": "execute_result"
    }
   ],
   "source": [
    "padua_data.head()"
   ]
  },
  {
   "cell_type": "code",
   "execution_count": 18,
   "metadata": {},
   "outputs": [
    {
     "data": {
      "text/html": [
       "<div>\n",
       "<style scoped>\n",
       "    .dataframe tbody tr th:only-of-type {\n",
       "        vertical-align: middle;\n",
       "    }\n",
       "\n",
       "    .dataframe tbody tr th {\n",
       "        vertical-align: top;\n",
       "    }\n",
       "\n",
       "    .dataframe thead th {\n",
       "        text-align: right;\n",
       "    }\n",
       "</style>\n",
       "<table border=\"1\" class=\"dataframe\">\n",
       "  <thead>\n",
       "    <tr style=\"text-align: right;\">\n",
       "      <th></th>\n",
       "      <th>serial</th>\n",
       "      <th>Radius_RENAL</th>\n",
       "      <th>Exophytic_RENAL</th>\n",
       "      <th>Nearness_RENAL</th>\n",
       "      <th>APX_RENAL</th>\n",
       "      <th>Location_RENAL</th>\n",
       "      <th>RENAL_total</th>\n",
       "    </tr>\n",
       "  </thead>\n",
       "  <tbody>\n",
       "    <tr>\n",
       "      <th>0</th>\n",
       "      <td>1</td>\n",
       "      <td>2.0</td>\n",
       "      <td>1.0</td>\n",
       "      <td>1.0</td>\n",
       "      <td>2.0</td>\n",
       "      <td>1.0</td>\n",
       "      <td>4</td>\n",
       "    </tr>\n",
       "    <tr>\n",
       "      <th>1</th>\n",
       "      <td>2</td>\n",
       "      <td>1.0</td>\n",
       "      <td>2.0</td>\n",
       "      <td>2.0</td>\n",
       "      <td>2.0</td>\n",
       "      <td>2.0</td>\n",
       "      <td>5</td>\n",
       "    </tr>\n",
       "    <tr>\n",
       "      <th>2</th>\n",
       "      <td>3</td>\n",
       "      <td>1.0</td>\n",
       "      <td>1.0</td>\n",
       "      <td>1.0</td>\n",
       "      <td>1.0</td>\n",
       "      <td>1.0</td>\n",
       "      <td>3</td>\n",
       "    </tr>\n",
       "    <tr>\n",
       "      <th>3</th>\n",
       "      <td>4</td>\n",
       "      <td>1.0</td>\n",
       "      <td>1.0</td>\n",
       "      <td>3.0</td>\n",
       "      <td>2.0</td>\n",
       "      <td>3.0</td>\n",
       "      <td>5</td>\n",
       "    </tr>\n",
       "    <tr>\n",
       "      <th>4</th>\n",
       "      <td>5</td>\n",
       "      <td>1.0</td>\n",
       "      <td>2.0</td>\n",
       "      <td>1.0</td>\n",
       "      <td>1.0</td>\n",
       "      <td>3.0</td>\n",
       "      <td>4</td>\n",
       "    </tr>\n",
       "  </tbody>\n",
       "</table>\n",
       "</div>"
      ],
      "text/plain": [
       "   serial  Radius_RENAL  Exophytic_RENAL  Nearness_RENAL  APX_RENAL  \\\n",
       "0       1           2.0              1.0             1.0        2.0   \n",
       "1       2           1.0              2.0             2.0        2.0   \n",
       "2       3           1.0              1.0             1.0        1.0   \n",
       "3       4           1.0              1.0             3.0        2.0   \n",
       "4       5           1.0              2.0             1.0        1.0   \n",
       "\n",
       "   Location_RENAL  RENAL_total  \n",
       "0             1.0            4  \n",
       "1             2.0            5  \n",
       "2             1.0            3  \n",
       "3             3.0            5  \n",
       "4             3.0            4  "
      ]
     },
     "execution_count": 18,
     "metadata": {},
     "output_type": "execute_result"
    }
   ],
   "source": [
    "renal_data.head()"
   ]
  },
  {
   "cell_type": "code",
   "execution_count": 19,
   "metadata": {},
   "outputs": [
    {
     "data": {
      "text/html": [
       "<div>\n",
       "<style scoped>\n",
       "    .dataframe tbody tr th:only-of-type {\n",
       "        vertical-align: middle;\n",
       "    }\n",
       "\n",
       "    .dataframe tbody tr th {\n",
       "        vertical-align: top;\n",
       "    }\n",
       "\n",
       "    .dataframe thead th {\n",
       "        text-align: right;\n",
       "    }\n",
       "</style>\n",
       "<table border=\"1\" class=\"dataframe\">\n",
       "  <thead>\n",
       "    <tr style=\"text-align: right;\">\n",
       "      <th></th>\n",
       "      <th>serial</th>\n",
       "      <th>RAIV_1</th>\n",
       "    </tr>\n",
       "  </thead>\n",
       "  <tbody>\n",
       "    <tr>\n",
       "      <th>0</th>\n",
       "      <td>1</td>\n",
       "      <td>51.1</td>\n",
       "    </tr>\n",
       "    <tr>\n",
       "      <th>1</th>\n",
       "      <td>2</td>\n",
       "      <td>46.1</td>\n",
       "    </tr>\n",
       "    <tr>\n",
       "      <th>2</th>\n",
       "      <td>3</td>\n",
       "      <td>14.8</td>\n",
       "    </tr>\n",
       "    <tr>\n",
       "      <th>3</th>\n",
       "      <td>4</td>\n",
       "      <td>19.7</td>\n",
       "    </tr>\n",
       "    <tr>\n",
       "      <th>4</th>\n",
       "      <td>5</td>\n",
       "      <td>14.8</td>\n",
       "    </tr>\n",
       "  </tbody>\n",
       "</table>\n",
       "</div>"
      ],
      "text/plain": [
       "   serial  RAIV_1\n",
       "0       1    51.1\n",
       "1       2    46.1\n",
       "2       3    14.8\n",
       "3       4    19.7\n",
       "4       5    14.8"
      ]
     },
     "execution_count": 19,
     "metadata": {},
     "output_type": "execute_result"
    }
   ],
   "source": [
    "treat_data.head()"
   ]
  },
  {
   "cell_type": "markdown",
   "metadata": {},
   "source": [
    "### 2. 간단한 데이터 정리 "
   ]
  },
  {
   "cell_type": "markdown",
   "metadata": {},
   "source": [
    "* treat_data 에 변수가 <serial\\tRAIV_1> 이라는 하나로 잡혀서 2개의 컬럼으로 만들어준 후, <br>\n",
    "\\t 을 ''으로 변경 후, 결측치를 (3개) 평균값으로 채워넣어줌"
   ]
  },
  {
   "cell_type": "code",
   "execution_count": 20,
   "metadata": {},
   "outputs": [],
   "source": [
    "mean_value = treat_data['RAIV_1'].mean()\n",
    "treat_data['RAIV_1'].fillna(mean_value, inplace=True)"
   ]
  },
  {
   "cell_type": "code",
   "execution_count": 21,
   "metadata": {},
   "outputs": [
    {
     "name": "stdout",
     "output_type": "stream",
     "text": [
      "<class 'pandas.core.frame.DataFrame'>\n",
      "RangeIndex: 400 entries, 0 to 399\n",
      "Data columns (total 2 columns):\n",
      " #   Column  Non-Null Count  Dtype  \n",
      "---  ------  --------------  -----  \n",
      " 0   serial  400 non-null    int64  \n",
      " 1   RAIV_1  400 non-null    float64\n",
      "dtypes: float64(1), int64(1)\n",
      "memory usage: 6.4 KB\n"
     ]
    }
   ],
   "source": [
    "treat_data.info()"
   ]
  },
  {
   "cell_type": "markdown",
   "metadata": {},
   "source": [
    "### 3. padua 데이터와 renal 데이터를 serial 번호 기준으로 join\n",
    "하나의 데이터로 합쳐줌"
   ]
  },
  {
   "cell_type": "code",
   "execution_count": 22,
   "metadata": {},
   "outputs": [
    {
     "data": {
      "text/html": [
       "<div>\n",
       "<style scoped>\n",
       "    .dataframe tbody tr th:only-of-type {\n",
       "        vertical-align: middle;\n",
       "    }\n",
       "\n",
       "    .dataframe tbody tr th {\n",
       "        vertical-align: top;\n",
       "    }\n",
       "\n",
       "    .dataframe thead th {\n",
       "        text-align: right;\n",
       "    }\n",
       "</style>\n",
       "<table border=\"1\" class=\"dataframe\">\n",
       "  <thead>\n",
       "    <tr style=\"text-align: right;\">\n",
       "      <th></th>\n",
       "      <th>serial</th>\n",
       "      <th>Tumor_PADUA</th>\n",
       "      <th>Exophytic_PADUA</th>\n",
       "      <th>Rim_PADUA</th>\n",
       "      <th>Sinus_PADUA</th>\n",
       "      <th>Polarlocation_PADUA</th>\n",
       "      <th>Collectingsystem_PADUA</th>\n",
       "      <th>PADUA_total</th>\n",
       "      <th>Radius_RENAL</th>\n",
       "      <th>Exophytic_RENAL</th>\n",
       "      <th>Nearness_RENAL</th>\n",
       "      <th>APX_RENAL</th>\n",
       "      <th>Location_RENAL</th>\n",
       "      <th>RENAL_total</th>\n",
       "    </tr>\n",
       "  </thead>\n",
       "  <tbody>\n",
       "    <tr>\n",
       "      <th>0</th>\n",
       "      <td>1</td>\n",
       "      <td>2.0</td>\n",
       "      <td>1.0</td>\n",
       "      <td>2.0</td>\n",
       "      <td>1.0</td>\n",
       "      <td>1.0</td>\n",
       "      <td>1.0</td>\n",
       "      <td>8</td>\n",
       "      <td>2.0</td>\n",
       "      <td>1.0</td>\n",
       "      <td>1.0</td>\n",
       "      <td>2.0</td>\n",
       "      <td>1.0</td>\n",
       "      <td>4</td>\n",
       "    </tr>\n",
       "    <tr>\n",
       "      <th>1</th>\n",
       "      <td>2</td>\n",
       "      <td>1.0</td>\n",
       "      <td>2.0</td>\n",
       "      <td>1.0</td>\n",
       "      <td>1.0</td>\n",
       "      <td>2.0</td>\n",
       "      <td>1.0</td>\n",
       "      <td>8</td>\n",
       "      <td>1.0</td>\n",
       "      <td>2.0</td>\n",
       "      <td>2.0</td>\n",
       "      <td>2.0</td>\n",
       "      <td>2.0</td>\n",
       "      <td>5</td>\n",
       "    </tr>\n",
       "    <tr>\n",
       "      <th>2</th>\n",
       "      <td>3</td>\n",
       "      <td>1.0</td>\n",
       "      <td>1.0</td>\n",
       "      <td>1.0</td>\n",
       "      <td>1.0</td>\n",
       "      <td>2.0</td>\n",
       "      <td>1.0</td>\n",
       "      <td>7</td>\n",
       "      <td>1.0</td>\n",
       "      <td>1.0</td>\n",
       "      <td>1.0</td>\n",
       "      <td>1.0</td>\n",
       "      <td>1.0</td>\n",
       "      <td>3</td>\n",
       "    </tr>\n",
       "    <tr>\n",
       "      <th>3</th>\n",
       "      <td>4</td>\n",
       "      <td>1.0</td>\n",
       "      <td>1.0</td>\n",
       "      <td>1.0</td>\n",
       "      <td>1.0</td>\n",
       "      <td>2.0</td>\n",
       "      <td>2.0</td>\n",
       "      <td>8</td>\n",
       "      <td>1.0</td>\n",
       "      <td>1.0</td>\n",
       "      <td>3.0</td>\n",
       "      <td>2.0</td>\n",
       "      <td>3.0</td>\n",
       "      <td>5</td>\n",
       "    </tr>\n",
       "    <tr>\n",
       "      <th>4</th>\n",
       "      <td>5</td>\n",
       "      <td>1.0</td>\n",
       "      <td>2.0</td>\n",
       "      <td>1.0</td>\n",
       "      <td>1.0</td>\n",
       "      <td>2.0</td>\n",
       "      <td>1.0</td>\n",
       "      <td>8</td>\n",
       "      <td>1.0</td>\n",
       "      <td>2.0</td>\n",
       "      <td>1.0</td>\n",
       "      <td>1.0</td>\n",
       "      <td>3.0</td>\n",
       "      <td>4</td>\n",
       "    </tr>\n",
       "    <tr>\n",
       "      <th>...</th>\n",
       "      <td>...</td>\n",
       "      <td>...</td>\n",
       "      <td>...</td>\n",
       "      <td>...</td>\n",
       "      <td>...</td>\n",
       "      <td>...</td>\n",
       "      <td>...</td>\n",
       "      <td>...</td>\n",
       "      <td>...</td>\n",
       "      <td>...</td>\n",
       "      <td>...</td>\n",
       "      <td>...</td>\n",
       "      <td>...</td>\n",
       "      <td>...</td>\n",
       "    </tr>\n",
       "    <tr>\n",
       "      <th>395</th>\n",
       "      <td>408</td>\n",
       "      <td>1.0</td>\n",
       "      <td>2.0</td>\n",
       "      <td>1.0</td>\n",
       "      <td>1.0</td>\n",
       "      <td>2.0</td>\n",
       "      <td>1.0</td>\n",
       "      <td>8</td>\n",
       "      <td>1.0</td>\n",
       "      <td>2.0</td>\n",
       "      <td>1.0</td>\n",
       "      <td>1.0</td>\n",
       "      <td>3.0</td>\n",
       "      <td>4</td>\n",
       "    </tr>\n",
       "    <tr>\n",
       "      <th>396</th>\n",
       "      <td>409</td>\n",
       "      <td>1.0</td>\n",
       "      <td>2.0</td>\n",
       "      <td>1.0</td>\n",
       "      <td>1.0</td>\n",
       "      <td>2.0</td>\n",
       "      <td>1.0</td>\n",
       "      <td>8</td>\n",
       "      <td>1.0</td>\n",
       "      <td>2.0</td>\n",
       "      <td>1.0</td>\n",
       "      <td>1.0</td>\n",
       "      <td>3.0</td>\n",
       "      <td>4</td>\n",
       "    </tr>\n",
       "    <tr>\n",
       "      <th>397</th>\n",
       "      <td>410</td>\n",
       "      <td>1.0</td>\n",
       "      <td>2.0</td>\n",
       "      <td>1.0</td>\n",
       "      <td>1.0</td>\n",
       "      <td>1.0</td>\n",
       "      <td>1.0</td>\n",
       "      <td>7</td>\n",
       "      <td>1.0</td>\n",
       "      <td>2.0</td>\n",
       "      <td>1.0</td>\n",
       "      <td>1.0</td>\n",
       "      <td>1.0</td>\n",
       "      <td>4</td>\n",
       "    </tr>\n",
       "    <tr>\n",
       "      <th>398</th>\n",
       "      <td>411</td>\n",
       "      <td>1.0</td>\n",
       "      <td>2.0</td>\n",
       "      <td>2.0</td>\n",
       "      <td>2.0</td>\n",
       "      <td>1.0</td>\n",
       "      <td>2.0</td>\n",
       "      <td>10</td>\n",
       "      <td>1.0</td>\n",
       "      <td>2.0</td>\n",
       "      <td>2.0</td>\n",
       "      <td>2.0</td>\n",
       "      <td>1.0</td>\n",
       "      <td>5</td>\n",
       "    </tr>\n",
       "    <tr>\n",
       "      <th>399</th>\n",
       "      <td>412</td>\n",
       "      <td>1.0</td>\n",
       "      <td>1.0</td>\n",
       "      <td>1.0</td>\n",
       "      <td>1.0</td>\n",
       "      <td>2.0</td>\n",
       "      <td>1.0</td>\n",
       "      <td>7</td>\n",
       "      <td>1.0</td>\n",
       "      <td>1.0</td>\n",
       "      <td>1.0</td>\n",
       "      <td>1.0</td>\n",
       "      <td>3.0</td>\n",
       "      <td>3</td>\n",
       "    </tr>\n",
       "  </tbody>\n",
       "</table>\n",
       "<p>400 rows × 14 columns</p>\n",
       "</div>"
      ],
      "text/plain": [
       "     serial  Tumor_PADUA  Exophytic_PADUA  Rim_PADUA  Sinus_PADUA  \\\n",
       "0         1          2.0              1.0        2.0          1.0   \n",
       "1         2          1.0              2.0        1.0          1.0   \n",
       "2         3          1.0              1.0        1.0          1.0   \n",
       "3         4          1.0              1.0        1.0          1.0   \n",
       "4         5          1.0              2.0        1.0          1.0   \n",
       "..      ...          ...              ...        ...          ...   \n",
       "395     408          1.0              2.0        1.0          1.0   \n",
       "396     409          1.0              2.0        1.0          1.0   \n",
       "397     410          1.0              2.0        1.0          1.0   \n",
       "398     411          1.0              2.0        2.0          2.0   \n",
       "399     412          1.0              1.0        1.0          1.0   \n",
       "\n",
       "     Polarlocation_PADUA  Collectingsystem_PADUA  PADUA_total  Radius_RENAL  \\\n",
       "0                    1.0                     1.0            8           2.0   \n",
       "1                    2.0                     1.0            8           1.0   \n",
       "2                    2.0                     1.0            7           1.0   \n",
       "3                    2.0                     2.0            8           1.0   \n",
       "4                    2.0                     1.0            8           1.0   \n",
       "..                   ...                     ...          ...           ...   \n",
       "395                  2.0                     1.0            8           1.0   \n",
       "396                  2.0                     1.0            8           1.0   \n",
       "397                  1.0                     1.0            7           1.0   \n",
       "398                  1.0                     2.0           10           1.0   \n",
       "399                  2.0                     1.0            7           1.0   \n",
       "\n",
       "     Exophytic_RENAL  Nearness_RENAL  APX_RENAL  Location_RENAL  RENAL_total  \n",
       "0                1.0             1.0        2.0             1.0            4  \n",
       "1                2.0             2.0        2.0             2.0            5  \n",
       "2                1.0             1.0        1.0             1.0            3  \n",
       "3                1.0             3.0        2.0             3.0            5  \n",
       "4                2.0             1.0        1.0             3.0            4  \n",
       "..               ...             ...        ...             ...          ...  \n",
       "395              2.0             1.0        1.0             3.0            4  \n",
       "396              2.0             1.0        1.0             3.0            4  \n",
       "397              2.0             1.0        1.0             1.0            4  \n",
       "398              2.0             2.0        2.0             1.0            5  \n",
       "399              1.0             1.0        1.0             3.0            3  \n",
       "\n",
       "[400 rows x 14 columns]"
      ]
     },
     "execution_count": 22,
     "metadata": {},
     "output_type": "execute_result"
    }
   ],
   "source": [
    "merged_data = pd.merge(padua_data, renal_data, on='serial')\n",
    "merged_data"
   ]
  },
  {
   "cell_type": "markdown",
   "metadata": {},
   "source": [
    "#### 4. 중복데이터 삭제 - Tumor_PADUA , Exophytic_PADUA\n",
    "#### 컬럼명 변경\n",
    "        Radus_RENAL -> Radius_RENAL_PADUA\n",
    "        Exophytic_RENAL -> Exophytic_RENAL_PADUA"
   ]
  },
  {
   "cell_type": "code",
   "execution_count": 23,
   "metadata": {},
   "outputs": [],
   "source": [
    "merged_data.drop(['Tumor_PADUA', 'Exophytic_PADUA'], axis=1, inplace=True)"
   ]
  },
  {
   "cell_type": "code",
   "execution_count": 24,
   "metadata": {},
   "outputs": [],
   "source": [
    "merged_data.rename(columns={'Radius_RENAL': 'Radius_RENAL_PADUA'}, inplace=True)\n",
    "merged_data.rename(columns={'Exophytic_RENAL': 'Exophytic_RENAL_PADUA'}, inplace=True)"
   ]
  },
  {
   "cell_type": "code",
   "execution_count": 25,
   "metadata": {},
   "outputs": [
    {
     "data": {
      "text/html": [
       "<div>\n",
       "<style scoped>\n",
       "    .dataframe tbody tr th:only-of-type {\n",
       "        vertical-align: middle;\n",
       "    }\n",
       "\n",
       "    .dataframe tbody tr th {\n",
       "        vertical-align: top;\n",
       "    }\n",
       "\n",
       "    .dataframe thead th {\n",
       "        text-align: right;\n",
       "    }\n",
       "</style>\n",
       "<table border=\"1\" class=\"dataframe\">\n",
       "  <thead>\n",
       "    <tr style=\"text-align: right;\">\n",
       "      <th></th>\n",
       "      <th>serial</th>\n",
       "      <th>Rim_PADUA</th>\n",
       "      <th>Sinus_PADUA</th>\n",
       "      <th>Polarlocation_PADUA</th>\n",
       "      <th>Collectingsystem_PADUA</th>\n",
       "      <th>PADUA_total</th>\n",
       "      <th>Radius_RENAL_PADUA</th>\n",
       "      <th>Exophytic_RENAL_PADUA</th>\n",
       "      <th>Nearness_RENAL</th>\n",
       "      <th>APX_RENAL</th>\n",
       "      <th>Location_RENAL</th>\n",
       "      <th>RENAL_total</th>\n",
       "    </tr>\n",
       "  </thead>\n",
       "  <tbody>\n",
       "    <tr>\n",
       "      <th>0</th>\n",
       "      <td>1</td>\n",
       "      <td>2.0</td>\n",
       "      <td>1.0</td>\n",
       "      <td>1.0</td>\n",
       "      <td>1.0</td>\n",
       "      <td>8</td>\n",
       "      <td>2.0</td>\n",
       "      <td>1.0</td>\n",
       "      <td>1.0</td>\n",
       "      <td>2.0</td>\n",
       "      <td>1.0</td>\n",
       "      <td>4</td>\n",
       "    </tr>\n",
       "    <tr>\n",
       "      <th>1</th>\n",
       "      <td>2</td>\n",
       "      <td>1.0</td>\n",
       "      <td>1.0</td>\n",
       "      <td>2.0</td>\n",
       "      <td>1.0</td>\n",
       "      <td>8</td>\n",
       "      <td>1.0</td>\n",
       "      <td>2.0</td>\n",
       "      <td>2.0</td>\n",
       "      <td>2.0</td>\n",
       "      <td>2.0</td>\n",
       "      <td>5</td>\n",
       "    </tr>\n",
       "    <tr>\n",
       "      <th>2</th>\n",
       "      <td>3</td>\n",
       "      <td>1.0</td>\n",
       "      <td>1.0</td>\n",
       "      <td>2.0</td>\n",
       "      <td>1.0</td>\n",
       "      <td>7</td>\n",
       "      <td>1.0</td>\n",
       "      <td>1.0</td>\n",
       "      <td>1.0</td>\n",
       "      <td>1.0</td>\n",
       "      <td>1.0</td>\n",
       "      <td>3</td>\n",
       "    </tr>\n",
       "    <tr>\n",
       "      <th>3</th>\n",
       "      <td>4</td>\n",
       "      <td>1.0</td>\n",
       "      <td>1.0</td>\n",
       "      <td>2.0</td>\n",
       "      <td>2.0</td>\n",
       "      <td>8</td>\n",
       "      <td>1.0</td>\n",
       "      <td>1.0</td>\n",
       "      <td>3.0</td>\n",
       "      <td>2.0</td>\n",
       "      <td>3.0</td>\n",
       "      <td>5</td>\n",
       "    </tr>\n",
       "    <tr>\n",
       "      <th>4</th>\n",
       "      <td>5</td>\n",
       "      <td>1.0</td>\n",
       "      <td>1.0</td>\n",
       "      <td>2.0</td>\n",
       "      <td>1.0</td>\n",
       "      <td>8</td>\n",
       "      <td>1.0</td>\n",
       "      <td>2.0</td>\n",
       "      <td>1.0</td>\n",
       "      <td>1.0</td>\n",
       "      <td>3.0</td>\n",
       "      <td>4</td>\n",
       "    </tr>\n",
       "    <tr>\n",
       "      <th>...</th>\n",
       "      <td>...</td>\n",
       "      <td>...</td>\n",
       "      <td>...</td>\n",
       "      <td>...</td>\n",
       "      <td>...</td>\n",
       "      <td>...</td>\n",
       "      <td>...</td>\n",
       "      <td>...</td>\n",
       "      <td>...</td>\n",
       "      <td>...</td>\n",
       "      <td>...</td>\n",
       "      <td>...</td>\n",
       "    </tr>\n",
       "    <tr>\n",
       "      <th>395</th>\n",
       "      <td>408</td>\n",
       "      <td>1.0</td>\n",
       "      <td>1.0</td>\n",
       "      <td>2.0</td>\n",
       "      <td>1.0</td>\n",
       "      <td>8</td>\n",
       "      <td>1.0</td>\n",
       "      <td>2.0</td>\n",
       "      <td>1.0</td>\n",
       "      <td>1.0</td>\n",
       "      <td>3.0</td>\n",
       "      <td>4</td>\n",
       "    </tr>\n",
       "    <tr>\n",
       "      <th>396</th>\n",
       "      <td>409</td>\n",
       "      <td>1.0</td>\n",
       "      <td>1.0</td>\n",
       "      <td>2.0</td>\n",
       "      <td>1.0</td>\n",
       "      <td>8</td>\n",
       "      <td>1.0</td>\n",
       "      <td>2.0</td>\n",
       "      <td>1.0</td>\n",
       "      <td>1.0</td>\n",
       "      <td>3.0</td>\n",
       "      <td>4</td>\n",
       "    </tr>\n",
       "    <tr>\n",
       "      <th>397</th>\n",
       "      <td>410</td>\n",
       "      <td>1.0</td>\n",
       "      <td>1.0</td>\n",
       "      <td>1.0</td>\n",
       "      <td>1.0</td>\n",
       "      <td>7</td>\n",
       "      <td>1.0</td>\n",
       "      <td>2.0</td>\n",
       "      <td>1.0</td>\n",
       "      <td>1.0</td>\n",
       "      <td>1.0</td>\n",
       "      <td>4</td>\n",
       "    </tr>\n",
       "    <tr>\n",
       "      <th>398</th>\n",
       "      <td>411</td>\n",
       "      <td>2.0</td>\n",
       "      <td>2.0</td>\n",
       "      <td>1.0</td>\n",
       "      <td>2.0</td>\n",
       "      <td>10</td>\n",
       "      <td>1.0</td>\n",
       "      <td>2.0</td>\n",
       "      <td>2.0</td>\n",
       "      <td>2.0</td>\n",
       "      <td>1.0</td>\n",
       "      <td>5</td>\n",
       "    </tr>\n",
       "    <tr>\n",
       "      <th>399</th>\n",
       "      <td>412</td>\n",
       "      <td>1.0</td>\n",
       "      <td>1.0</td>\n",
       "      <td>2.0</td>\n",
       "      <td>1.0</td>\n",
       "      <td>7</td>\n",
       "      <td>1.0</td>\n",
       "      <td>1.0</td>\n",
       "      <td>1.0</td>\n",
       "      <td>1.0</td>\n",
       "      <td>3.0</td>\n",
       "      <td>3</td>\n",
       "    </tr>\n",
       "  </tbody>\n",
       "</table>\n",
       "<p>400 rows × 12 columns</p>\n",
       "</div>"
      ],
      "text/plain": [
       "     serial  Rim_PADUA  Sinus_PADUA  Polarlocation_PADUA  \\\n",
       "0         1        2.0          1.0                  1.0   \n",
       "1         2        1.0          1.0                  2.0   \n",
       "2         3        1.0          1.0                  2.0   \n",
       "3         4        1.0          1.0                  2.0   \n",
       "4         5        1.0          1.0                  2.0   \n",
       "..      ...        ...          ...                  ...   \n",
       "395     408        1.0          1.0                  2.0   \n",
       "396     409        1.0          1.0                  2.0   \n",
       "397     410        1.0          1.0                  1.0   \n",
       "398     411        2.0          2.0                  1.0   \n",
       "399     412        1.0          1.0                  2.0   \n",
       "\n",
       "     Collectingsystem_PADUA  PADUA_total  Radius_RENAL_PADUA  \\\n",
       "0                       1.0            8                 2.0   \n",
       "1                       1.0            8                 1.0   \n",
       "2                       1.0            7                 1.0   \n",
       "3                       2.0            8                 1.0   \n",
       "4                       1.0            8                 1.0   \n",
       "..                      ...          ...                 ...   \n",
       "395                     1.0            8                 1.0   \n",
       "396                     1.0            8                 1.0   \n",
       "397                     1.0            7                 1.0   \n",
       "398                     2.0           10                 1.0   \n",
       "399                     1.0            7                 1.0   \n",
       "\n",
       "     Exophytic_RENAL_PADUA  Nearness_RENAL  APX_RENAL  Location_RENAL  \\\n",
       "0                      1.0             1.0        2.0             1.0   \n",
       "1                      2.0             2.0        2.0             2.0   \n",
       "2                      1.0             1.0        1.0             1.0   \n",
       "3                      1.0             3.0        2.0             3.0   \n",
       "4                      2.0             1.0        1.0             3.0   \n",
       "..                     ...             ...        ...             ...   \n",
       "395                    2.0             1.0        1.0             3.0   \n",
       "396                    2.0             1.0        1.0             3.0   \n",
       "397                    2.0             1.0        1.0             1.0   \n",
       "398                    2.0             2.0        2.0             1.0   \n",
       "399                    1.0             1.0        1.0             3.0   \n",
       "\n",
       "     RENAL_total  \n",
       "0              4  \n",
       "1              5  \n",
       "2              3  \n",
       "3              5  \n",
       "4              4  \n",
       "..           ...  \n",
       "395            4  \n",
       "396            4  \n",
       "397            4  \n",
       "398            5  \n",
       "399            3  \n",
       "\n",
       "[400 rows x 12 columns]"
      ]
     },
     "execution_count": 25,
     "metadata": {},
     "output_type": "execute_result"
    }
   ],
   "source": [
    "merged_data"
   ]
  },
  {
   "cell_type": "code",
   "execution_count": 26,
   "metadata": {},
   "outputs": [
    {
     "data": {
      "text/plain": [
       "PADUA_total\n",
       "0      6\n",
       "6     36\n",
       "7     98\n",
       "8     93\n",
       "9     68\n",
       "10    42\n",
       "11    31\n",
       "12    23\n",
       "13     3\n",
       "Name: count, dtype: int64"
      ]
     },
     "execution_count": 26,
     "metadata": {},
     "output_type": "execute_result"
    }
   ],
   "source": [
    "merged_data['PADUA_total'].value_counts().sort_index()"
   ]
  },
  {
   "cell_type": "code",
   "execution_count": 27,
   "metadata": {},
   "outputs": [
    {
     "data": {
      "text/plain": [
       "RENAL_total\n",
       "0     6\n",
       "3    71\n",
       "4    96\n",
       "5    83\n",
       "6    68\n",
       "7    66\n",
       "8    10\n",
       "Name: count, dtype: int64"
      ]
     },
     "execution_count": 27,
     "metadata": {},
     "output_type": "execute_result"
    }
   ],
   "source": [
    "merged_data['RENAL_total'].value_counts().sort_index()"
   ]
  },
  {
   "cell_type": "code",
   "execution_count": 28,
   "metadata": {},
   "outputs": [],
   "source": [
    "# 결측치를 0으로 채움\n",
    "merged_data.fillna(0, inplace=True)\n"
   ]
  },
  {
   "cell_type": "code",
   "execution_count": 29,
   "metadata": {},
   "outputs": [
    {
     "data": {
      "text/plain": [
       "serial                    0\n",
       "Rim_PADUA                 0\n",
       "Sinus_PADUA               0\n",
       "Polarlocation_PADUA       0\n",
       "Collectingsystem_PADUA    0\n",
       "PADUA_total               0\n",
       "Radius_RENAL_PADUA        0\n",
       "Exophytic_RENAL_PADUA     0\n",
       "Nearness_RENAL            0\n",
       "APX_RENAL                 0\n",
       "Location_RENAL            0\n",
       "RENAL_total               0\n",
       "dtype: int64"
      ]
     },
     "execution_count": 29,
     "metadata": {},
     "output_type": "execute_result"
    }
   ],
   "source": [
    "# 결측치 확인\n",
    "merged_data.isnull().sum()\n"
   ]
  },
  {
   "cell_type": "code",
   "execution_count": 30,
   "metadata": {},
   "outputs": [
    {
     "name": "stdout",
     "output_type": "stream",
     "text": [
      "<class 'pandas.core.frame.DataFrame'>\n",
      "RangeIndex: 400 entries, 0 to 399\n",
      "Data columns (total 12 columns):\n",
      " #   Column                  Non-Null Count  Dtype  \n",
      "---  ------                  --------------  -----  \n",
      " 0   serial                  400 non-null    int64  \n",
      " 1   Rim_PADUA               400 non-null    float64\n",
      " 2   Sinus_PADUA             400 non-null    float64\n",
      " 3   Polarlocation_PADUA     400 non-null    float64\n",
      " 4   Collectingsystem_PADUA  400 non-null    float64\n",
      " 5   PADUA_total             400 non-null    int64  \n",
      " 6   Radius_RENAL_PADUA      400 non-null    float64\n",
      " 7   Exophytic_RENAL_PADUA   400 non-null    float64\n",
      " 8   Nearness_RENAL          400 non-null    float64\n",
      " 9   APX_RENAL               400 non-null    float64\n",
      " 10  Location_RENAL          400 non-null    float64\n",
      " 11  RENAL_total             400 non-null    int64  \n",
      "dtypes: float64(9), int64(3)\n",
      "memory usage: 37.6 KB\n"
     ]
    }
   ],
   "source": [
    "merged_data.info()"
   ]
  },
  {
   "cell_type": "code",
   "execution_count": 31,
   "metadata": {},
   "outputs": [],
   "source": [
    "merged_data_result = pd.merge(merged_data, treat_data, on='serial')\n"
   ]
  },
  {
   "cell_type": "code",
   "execution_count": 32,
   "metadata": {},
   "outputs": [
    {
     "data": {
      "text/html": [
       "<div>\n",
       "<style scoped>\n",
       "    .dataframe tbody tr th:only-of-type {\n",
       "        vertical-align: middle;\n",
       "    }\n",
       "\n",
       "    .dataframe tbody tr th {\n",
       "        vertical-align: top;\n",
       "    }\n",
       "\n",
       "    .dataframe thead th {\n",
       "        text-align: right;\n",
       "    }\n",
       "</style>\n",
       "<table border=\"1\" class=\"dataframe\">\n",
       "  <thead>\n",
       "    <tr style=\"text-align: right;\">\n",
       "      <th></th>\n",
       "      <th>serial</th>\n",
       "      <th>Rim_PADUA</th>\n",
       "      <th>Sinus_PADUA</th>\n",
       "      <th>Polarlocation_PADUA</th>\n",
       "      <th>Collectingsystem_PADUA</th>\n",
       "      <th>PADUA_total</th>\n",
       "      <th>Radius_RENAL_PADUA</th>\n",
       "      <th>Exophytic_RENAL_PADUA</th>\n",
       "      <th>Nearness_RENAL</th>\n",
       "      <th>APX_RENAL</th>\n",
       "      <th>Location_RENAL</th>\n",
       "      <th>RENAL_total</th>\n",
       "      <th>RAIV_1</th>\n",
       "    </tr>\n",
       "  </thead>\n",
       "  <tbody>\n",
       "    <tr>\n",
       "      <th>0</th>\n",
       "      <td>1</td>\n",
       "      <td>2.0</td>\n",
       "      <td>1.0</td>\n",
       "      <td>1.0</td>\n",
       "      <td>1.0</td>\n",
       "      <td>8</td>\n",
       "      <td>2.0</td>\n",
       "      <td>1.0</td>\n",
       "      <td>1.0</td>\n",
       "      <td>2.0</td>\n",
       "      <td>1.0</td>\n",
       "      <td>4</td>\n",
       "      <td>51.1</td>\n",
       "    </tr>\n",
       "    <tr>\n",
       "      <th>1</th>\n",
       "      <td>2</td>\n",
       "      <td>1.0</td>\n",
       "      <td>1.0</td>\n",
       "      <td>2.0</td>\n",
       "      <td>1.0</td>\n",
       "      <td>8</td>\n",
       "      <td>1.0</td>\n",
       "      <td>2.0</td>\n",
       "      <td>2.0</td>\n",
       "      <td>2.0</td>\n",
       "      <td>2.0</td>\n",
       "      <td>5</td>\n",
       "      <td>46.1</td>\n",
       "    </tr>\n",
       "    <tr>\n",
       "      <th>2</th>\n",
       "      <td>3</td>\n",
       "      <td>1.0</td>\n",
       "      <td>1.0</td>\n",
       "      <td>2.0</td>\n",
       "      <td>1.0</td>\n",
       "      <td>7</td>\n",
       "      <td>1.0</td>\n",
       "      <td>1.0</td>\n",
       "      <td>1.0</td>\n",
       "      <td>1.0</td>\n",
       "      <td>1.0</td>\n",
       "      <td>3</td>\n",
       "      <td>14.8</td>\n",
       "    </tr>\n",
       "    <tr>\n",
       "      <th>3</th>\n",
       "      <td>4</td>\n",
       "      <td>1.0</td>\n",
       "      <td>1.0</td>\n",
       "      <td>2.0</td>\n",
       "      <td>2.0</td>\n",
       "      <td>8</td>\n",
       "      <td>1.0</td>\n",
       "      <td>1.0</td>\n",
       "      <td>3.0</td>\n",
       "      <td>2.0</td>\n",
       "      <td>3.0</td>\n",
       "      <td>5</td>\n",
       "      <td>19.7</td>\n",
       "    </tr>\n",
       "    <tr>\n",
       "      <th>4</th>\n",
       "      <td>5</td>\n",
       "      <td>1.0</td>\n",
       "      <td>1.0</td>\n",
       "      <td>2.0</td>\n",
       "      <td>1.0</td>\n",
       "      <td>8</td>\n",
       "      <td>1.0</td>\n",
       "      <td>2.0</td>\n",
       "      <td>1.0</td>\n",
       "      <td>1.0</td>\n",
       "      <td>3.0</td>\n",
       "      <td>4</td>\n",
       "      <td>14.8</td>\n",
       "    </tr>\n",
       "    <tr>\n",
       "      <th>...</th>\n",
       "      <td>...</td>\n",
       "      <td>...</td>\n",
       "      <td>...</td>\n",
       "      <td>...</td>\n",
       "      <td>...</td>\n",
       "      <td>...</td>\n",
       "      <td>...</td>\n",
       "      <td>...</td>\n",
       "      <td>...</td>\n",
       "      <td>...</td>\n",
       "      <td>...</td>\n",
       "      <td>...</td>\n",
       "      <td>...</td>\n",
       "    </tr>\n",
       "    <tr>\n",
       "      <th>395</th>\n",
       "      <td>408</td>\n",
       "      <td>1.0</td>\n",
       "      <td>1.0</td>\n",
       "      <td>2.0</td>\n",
       "      <td>1.0</td>\n",
       "      <td>8</td>\n",
       "      <td>1.0</td>\n",
       "      <td>2.0</td>\n",
       "      <td>1.0</td>\n",
       "      <td>1.0</td>\n",
       "      <td>3.0</td>\n",
       "      <td>4</td>\n",
       "      <td>21.3</td>\n",
       "    </tr>\n",
       "    <tr>\n",
       "      <th>396</th>\n",
       "      <td>409</td>\n",
       "      <td>1.0</td>\n",
       "      <td>1.0</td>\n",
       "      <td>2.0</td>\n",
       "      <td>1.0</td>\n",
       "      <td>8</td>\n",
       "      <td>1.0</td>\n",
       "      <td>2.0</td>\n",
       "      <td>1.0</td>\n",
       "      <td>1.0</td>\n",
       "      <td>3.0</td>\n",
       "      <td>4</td>\n",
       "      <td>30.5</td>\n",
       "    </tr>\n",
       "    <tr>\n",
       "      <th>397</th>\n",
       "      <td>410</td>\n",
       "      <td>1.0</td>\n",
       "      <td>1.0</td>\n",
       "      <td>1.0</td>\n",
       "      <td>1.0</td>\n",
       "      <td>7</td>\n",
       "      <td>1.0</td>\n",
       "      <td>2.0</td>\n",
       "      <td>1.0</td>\n",
       "      <td>1.0</td>\n",
       "      <td>1.0</td>\n",
       "      <td>4</td>\n",
       "      <td>70.7</td>\n",
       "    </tr>\n",
       "    <tr>\n",
       "      <th>398</th>\n",
       "      <td>411</td>\n",
       "      <td>2.0</td>\n",
       "      <td>2.0</td>\n",
       "      <td>1.0</td>\n",
       "      <td>2.0</td>\n",
       "      <td>10</td>\n",
       "      <td>1.0</td>\n",
       "      <td>2.0</td>\n",
       "      <td>2.0</td>\n",
       "      <td>2.0</td>\n",
       "      <td>1.0</td>\n",
       "      <td>5</td>\n",
       "      <td>12.6</td>\n",
       "    </tr>\n",
       "    <tr>\n",
       "      <th>399</th>\n",
       "      <td>412</td>\n",
       "      <td>1.0</td>\n",
       "      <td>1.0</td>\n",
       "      <td>2.0</td>\n",
       "      <td>1.0</td>\n",
       "      <td>7</td>\n",
       "      <td>1.0</td>\n",
       "      <td>1.0</td>\n",
       "      <td>1.0</td>\n",
       "      <td>1.0</td>\n",
       "      <td>3.0</td>\n",
       "      <td>3</td>\n",
       "      <td>11.8</td>\n",
       "    </tr>\n",
       "  </tbody>\n",
       "</table>\n",
       "<p>400 rows × 13 columns</p>\n",
       "</div>"
      ],
      "text/plain": [
       "     serial  Rim_PADUA  Sinus_PADUA  Polarlocation_PADUA  \\\n",
       "0         1        2.0          1.0                  1.0   \n",
       "1         2        1.0          1.0                  2.0   \n",
       "2         3        1.0          1.0                  2.0   \n",
       "3         4        1.0          1.0                  2.0   \n",
       "4         5        1.0          1.0                  2.0   \n",
       "..      ...        ...          ...                  ...   \n",
       "395     408        1.0          1.0                  2.0   \n",
       "396     409        1.0          1.0                  2.0   \n",
       "397     410        1.0          1.0                  1.0   \n",
       "398     411        2.0          2.0                  1.0   \n",
       "399     412        1.0          1.0                  2.0   \n",
       "\n",
       "     Collectingsystem_PADUA  PADUA_total  Radius_RENAL_PADUA  \\\n",
       "0                       1.0            8                 2.0   \n",
       "1                       1.0            8                 1.0   \n",
       "2                       1.0            7                 1.0   \n",
       "3                       2.0            8                 1.0   \n",
       "4                       1.0            8                 1.0   \n",
       "..                      ...          ...                 ...   \n",
       "395                     1.0            8                 1.0   \n",
       "396                     1.0            8                 1.0   \n",
       "397                     1.0            7                 1.0   \n",
       "398                     2.0           10                 1.0   \n",
       "399                     1.0            7                 1.0   \n",
       "\n",
       "     Exophytic_RENAL_PADUA  Nearness_RENAL  APX_RENAL  Location_RENAL  \\\n",
       "0                      1.0             1.0        2.0             1.0   \n",
       "1                      2.0             2.0        2.0             2.0   \n",
       "2                      1.0             1.0        1.0             1.0   \n",
       "3                      1.0             3.0        2.0             3.0   \n",
       "4                      2.0             1.0        1.0             3.0   \n",
       "..                     ...             ...        ...             ...   \n",
       "395                    2.0             1.0        1.0             3.0   \n",
       "396                    2.0             1.0        1.0             3.0   \n",
       "397                    2.0             1.0        1.0             1.0   \n",
       "398                    2.0             2.0        2.0             1.0   \n",
       "399                    1.0             1.0        1.0             3.0   \n",
       "\n",
       "     RENAL_total  RAIV_1  \n",
       "0              4    51.1  \n",
       "1              5    46.1  \n",
       "2              3    14.8  \n",
       "3              5    19.7  \n",
       "4              4    14.8  \n",
       "..           ...     ...  \n",
       "395            4    21.3  \n",
       "396            4    30.5  \n",
       "397            4    70.7  \n",
       "398            5    12.6  \n",
       "399            3    11.8  \n",
       "\n",
       "[400 rows x 13 columns]"
      ]
     },
     "execution_count": 32,
     "metadata": {},
     "output_type": "execute_result"
    }
   ],
   "source": [
    "merged_data_result"
   ]
  },
  {
   "cell_type": "markdown",
   "metadata": {},
   "source": [
    "### 5. 데이터 나누기 train_test_split"
   ]
  },
  {
   "cell_type": "code",
   "execution_count": 33,
   "metadata": {},
   "outputs": [],
   "source": [
    "from sklearn.model_selection import train_test_split\n",
    "\n",
    "X = merged_data_result.drop('RAIV_1', axis=1)  # 'RAIV_1' 열을 제외한 모든 열 선택\n",
    "y = merged_data_result['RAIV_1']\n",
    "\n",
    "X_train, X_test, y_train, y_test = train_test_split(X, y, test_size=0.2, random_state=42)\n"
   ]
  },
  {
   "cell_type": "markdown",
   "metadata": {},
   "source": [
    "### 5.  최적의 군집 수 찾기"
   ]
  },
  {
   "cell_type": "code",
   "execution_count": 34,
   "metadata": {},
   "outputs": [
    {
     "name": "stderr",
     "output_type": "stream",
     "text": [
      "c:\\Users\\kimsh-dt01\\miniconda3\\envs\\ds_study\\lib\\site-packages\\sklearn\\cluster\\_kmeans.py:1412: FutureWarning: The default value of `n_init` will change from 10 to 'auto' in 1.4. Set the value of `n_init` explicitly to suppress the warning\n",
      "  super()._check_params_vs_input(X, default_n_init=10)\n",
      "c:\\Users\\kimsh-dt01\\miniconda3\\envs\\ds_study\\lib\\site-packages\\sklearn\\cluster\\_kmeans.py:1436: UserWarning: KMeans is known to have a memory leak on Windows with MKL, when there are less chunks than available threads. You can avoid it by setting the environment variable OMP_NUM_THREADS=2.\n",
      "  warnings.warn(\n",
      "c:\\Users\\kimsh-dt01\\miniconda3\\envs\\ds_study\\lib\\site-packages\\sklearn\\cluster\\_kmeans.py:1412: FutureWarning: The default value of `n_init` will change from 10 to 'auto' in 1.4. Set the value of `n_init` explicitly to suppress the warning\n",
      "  super()._check_params_vs_input(X, default_n_init=10)\n",
      "c:\\Users\\kimsh-dt01\\miniconda3\\envs\\ds_study\\lib\\site-packages\\sklearn\\cluster\\_kmeans.py:1436: UserWarning: KMeans is known to have a memory leak on Windows with MKL, when there are less chunks than available threads. You can avoid it by setting the environment variable OMP_NUM_THREADS=2.\n",
      "  warnings.warn(\n",
      "c:\\Users\\kimsh-dt01\\miniconda3\\envs\\ds_study\\lib\\site-packages\\sklearn\\cluster\\_kmeans.py:1412: FutureWarning: The default value of `n_init` will change from 10 to 'auto' in 1.4. Set the value of `n_init` explicitly to suppress the warning\n",
      "  super()._check_params_vs_input(X, default_n_init=10)\n",
      "c:\\Users\\kimsh-dt01\\miniconda3\\envs\\ds_study\\lib\\site-packages\\sklearn\\cluster\\_kmeans.py:1436: UserWarning: KMeans is known to have a memory leak on Windows with MKL, when there are less chunks than available threads. You can avoid it by setting the environment variable OMP_NUM_THREADS=2.\n",
      "  warnings.warn(\n",
      "c:\\Users\\kimsh-dt01\\miniconda3\\envs\\ds_study\\lib\\site-packages\\sklearn\\cluster\\_kmeans.py:1412: FutureWarning: The default value of `n_init` will change from 10 to 'auto' in 1.4. Set the value of `n_init` explicitly to suppress the warning\n",
      "  super()._check_params_vs_input(X, default_n_init=10)\n",
      "c:\\Users\\kimsh-dt01\\miniconda3\\envs\\ds_study\\lib\\site-packages\\sklearn\\cluster\\_kmeans.py:1436: UserWarning: KMeans is known to have a memory leak on Windows with MKL, when there are less chunks than available threads. You can avoid it by setting the environment variable OMP_NUM_THREADS=2.\n",
      "  warnings.warn(\n",
      "c:\\Users\\kimsh-dt01\\miniconda3\\envs\\ds_study\\lib\\site-packages\\sklearn\\cluster\\_kmeans.py:1412: FutureWarning: The default value of `n_init` will change from 10 to 'auto' in 1.4. Set the value of `n_init` explicitly to suppress the warning\n",
      "  super()._check_params_vs_input(X, default_n_init=10)\n",
      "c:\\Users\\kimsh-dt01\\miniconda3\\envs\\ds_study\\lib\\site-packages\\sklearn\\cluster\\_kmeans.py:1436: UserWarning: KMeans is known to have a memory leak on Windows with MKL, when there are less chunks than available threads. You can avoid it by setting the environment variable OMP_NUM_THREADS=2.\n",
      "  warnings.warn(\n",
      "c:\\Users\\kimsh-dt01\\miniconda3\\envs\\ds_study\\lib\\site-packages\\sklearn\\cluster\\_kmeans.py:1412: FutureWarning: The default value of `n_init` will change from 10 to 'auto' in 1.4. Set the value of `n_init` explicitly to suppress the warning\n",
      "  super()._check_params_vs_input(X, default_n_init=10)\n",
      "c:\\Users\\kimsh-dt01\\miniconda3\\envs\\ds_study\\lib\\site-packages\\sklearn\\cluster\\_kmeans.py:1436: UserWarning: KMeans is known to have a memory leak on Windows with MKL, when there are less chunks than available threads. You can avoid it by setting the environment variable OMP_NUM_THREADS=2.\n",
      "  warnings.warn(\n",
      "c:\\Users\\kimsh-dt01\\miniconda3\\envs\\ds_study\\lib\\site-packages\\sklearn\\cluster\\_kmeans.py:1412: FutureWarning: The default value of `n_init` will change from 10 to 'auto' in 1.4. Set the value of `n_init` explicitly to suppress the warning\n",
      "  super()._check_params_vs_input(X, default_n_init=10)\n",
      "c:\\Users\\kimsh-dt01\\miniconda3\\envs\\ds_study\\lib\\site-packages\\sklearn\\cluster\\_kmeans.py:1436: UserWarning: KMeans is known to have a memory leak on Windows with MKL, when there are less chunks than available threads. You can avoid it by setting the environment variable OMP_NUM_THREADS=2.\n",
      "  warnings.warn(\n",
      "c:\\Users\\kimsh-dt01\\miniconda3\\envs\\ds_study\\lib\\site-packages\\sklearn\\cluster\\_kmeans.py:1412: FutureWarning: The default value of `n_init` will change from 10 to 'auto' in 1.4. Set the value of `n_init` explicitly to suppress the warning\n",
      "  super()._check_params_vs_input(X, default_n_init=10)\n",
      "c:\\Users\\kimsh-dt01\\miniconda3\\envs\\ds_study\\lib\\site-packages\\sklearn\\cluster\\_kmeans.py:1436: UserWarning: KMeans is known to have a memory leak on Windows with MKL, when there are less chunks than available threads. You can avoid it by setting the environment variable OMP_NUM_THREADS=2.\n",
      "  warnings.warn(\n",
      "c:\\Users\\kimsh-dt01\\miniconda3\\envs\\ds_study\\lib\\site-packages\\sklearn\\cluster\\_kmeans.py:1412: FutureWarning: The default value of `n_init` will change from 10 to 'auto' in 1.4. Set the value of `n_init` explicitly to suppress the warning\n",
      "  super()._check_params_vs_input(X, default_n_init=10)\n",
      "c:\\Users\\kimsh-dt01\\miniconda3\\envs\\ds_study\\lib\\site-packages\\sklearn\\cluster\\_kmeans.py:1436: UserWarning: KMeans is known to have a memory leak on Windows with MKL, when there are less chunks than available threads. You can avoid it by setting the environment variable OMP_NUM_THREADS=2.\n",
      "  warnings.warn(\n"
     ]
    },
    {
     "name": "stdout",
     "output_type": "stream",
     "text": [
      "Optimal number of clusters: 2\n"
     ]
    }
   ],
   "source": [
    "from sklearn.metrics import silhouette_score\n",
    "from sklearn.cluster import KMeans\n",
    "\n",
    "cluster_range = range(2, 11)\n",
    "\n",
    "optimal_clusters = 0\n",
    "max_silhouette_score = -1\n",
    "\n",
    "for n_clusters in cluster_range:\n",
    "    \n",
    "    kmeans = KMeans(n_clusters=n_clusters, random_state=42)\n",
    "    \n",
    "    kmeans.fit(X_train)\n",
    "    \n",
    "    clusters = kmeans.predict(X_train)\n",
    "    \n",
    "    silhouette_avg = silhouette_score(X_train, clusters)\n",
    "    \n",
    "    if silhouette_avg > max_silhouette_score:\n",
    "        max_silhouette_score = silhouette_avg\n",
    "        optimal_clusters = n_clusters\n",
    "\n",
    "# Print the optimal number of clusters\n",
    "print(\"Optimal number of clusters:\", optimal_clusters)\n"
   ]
  },
  {
   "cell_type": "code",
   "execution_count": 35,
   "metadata": {},
   "outputs": [
    {
     "name": "stderr",
     "output_type": "stream",
     "text": [
      "c:\\Users\\kimsh-dt01\\miniconda3\\envs\\ds_study\\lib\\site-packages\\sklearn\\cluster\\_kmeans.py:1412: FutureWarning: The default value of `n_init` will change from 10 to 'auto' in 1.4. Set the value of `n_init` explicitly to suppress the warning\n",
      "  super()._check_params_vs_input(X, default_n_init=10)\n",
      "c:\\Users\\kimsh-dt01\\miniconda3\\envs\\ds_study\\lib\\site-packages\\sklearn\\cluster\\_kmeans.py:1436: UserWarning: KMeans is known to have a memory leak on Windows with MKL, when there are less chunks than available threads. You can avoid it by setting the environment variable OMP_NUM_THREADS=2.\n",
      "  warnings.warn(\n"
     ]
    },
    {
     "name": "stdout",
     "output_type": "stream",
     "text": [
      "train_cluster_labels : [1 1 1 0 0 1 0 0 1 1 0 0 1 0 1 0 0 0 0 1 0 1 1 1 1 1 1 1 0 0 1 0 0 0 0 1 1\n",
      " 0 0 0 1 1 1 0 1 1 0 0 1 0 0 1 0 1 1 1 0 0 0 0 1 1 0 1 1 0 1 1 1 0 1 0 0 1\n",
      " 1 1 1 1 0 0 0 0 0 1 0 1 0 1 1 0 1 1 1 1 1 0 1 0 1 1 1 1 1 1 1 1 0 0 0 1 1\n",
      " 1 0 1 0 0 0 0 0 0 1 1 0 0 0 1 1 1 0 1 0 1 1 0 0 1 0 0 0 0 0 1 0 1 1 1 1 0\n",
      " 1 0 1 0 0 1 1 0 0 0 0 0 0 1 1 0 1 1 0 1 0 0 1 0 1 0 1 0 1 1 0 1 1 1 1 1 1\n",
      " 1 0 0 0 1 1 0 0 0 1 1 0 0 0 0 1 0 0 1 0 0 0 1 1 0 1 1 1 0 1 0 1 0 0 0 0 1\n",
      " 0 1 1 1 1 1 1 0 1 1 1 0 0 0 0 0 0 0 0 0 0 0 0 0 0 0 1 1 1 0 1 0 0 1 1 1 1\n",
      " 1 0 1 0 1 0 1 0 0 0 1 0 1 0 1 0 0 1 0 0 0 0 1 1 1 1 0 1 1 1 1 0 0 0 1 0 1\n",
      " 0 1 0 0 0 0 1 1 1 0 1 0 1 0 0 1 0 1 1 1 1 0 0 1]\n",
      "test_cluster_labels :  [0 0 1 0 1 1 0 1 0 1 1 0 1 1 1 1 0 0 0 0 1 1 0 0 1 0 1 0 0 1 0 1 0 1 0 1 1\n",
      " 0 1 1 0 1 1 1 1 0 1 1 1 1 1 0 0 1 0 1 0 1 1 1 1 0 0 1 1 1 0 0 0 1 0 1 1 1\n",
      " 0 0 0 0 1 0]\n"
     ]
    }
   ],
   "source": [
    "from sklearn.cluster import KMeans\n",
    "\n",
    "\n",
    "kmeans = KMeans(n_clusters=2, random_state=42)\n",
    "kmeans.fit(X_train)\n",
    "\n",
    "# 학습된 모델을 이용하여 train 데이터에 대한 군집 레이블 예측\n",
    "train_cluster_labels = kmeans.predict(X_train)\n",
    "\n",
    "# 학습된 모델을 이용하여 test 데이터에 대한 군집 레이블 예측\n",
    "test_cluster_labels = kmeans.predict(X_test)\n",
    "\n",
    "print('train_cluster_labels :', train_cluster_labels)\n",
    "print('test_cluster_labels : ', test_cluster_labels)\n",
    "\n"
   ]
  },
  {
   "cell_type": "markdown",
   "metadata": {},
   "source": [
    "### 군집 집단 나누기"
   ]
  },
  {
   "cell_type": "code",
   "execution_count": 56,
   "metadata": {},
   "outputs": [],
   "source": [
    "tr_cluster_1_data = X_train[train_cluster_labels == 1]\n",
    "tr_cluster_0_data = X_train[train_cluster_labels == 0]\n",
    "\n",
    "test_cluster_1_data = X_test[test_cluster_labels == 1]\n",
    "test_cluster_0_data = X_test[test_cluster_labels == 0]"
   ]
  },
  {
   "cell_type": "code",
   "execution_count": null,
   "metadata": {},
   "outputs": [],
   "source": []
  },
  {
   "cell_type": "markdown",
   "metadata": {},
   "source": [
    "### 군집 집단 시각화"
   ]
  },
  {
   "cell_type": "code",
   "execution_count": 89,
   "metadata": {},
   "outputs": [
    {
     "data": {
      "application/vnd.plotly.v1+json": {
       "config": {
        "plotlyServerURL": "https://plot.ly"
       },
       "data": [
        {
         "marker": {
          "color": "blue"
         },
         "mode": "markers",
         "name": "Cluster 0",
         "type": "scatter",
         "x": [
          0,
          1,
          2,
          3,
          4,
          5,
          6,
          7,
          8,
          9,
          10,
          11,
          12,
          13,
          14,
          15,
          16,
          17,
          18,
          19,
          20,
          21,
          22,
          23,
          24,
          25,
          26,
          27,
          28,
          29,
          30,
          31,
          32,
          33,
          34,
          35,
          36,
          37,
          38,
          39,
          40,
          41,
          42,
          43,
          44,
          45,
          46,
          47,
          48,
          49,
          50,
          51,
          52,
          53,
          54,
          55,
          56,
          57,
          58,
          59,
          60,
          61,
          62,
          63,
          64,
          65,
          66,
          67,
          68,
          69,
          70,
          71,
          72,
          73,
          74,
          75,
          76,
          77,
          78,
          79,
          80,
          81,
          82,
          83,
          84,
          85,
          86,
          87,
          88,
          89,
          90,
          91,
          92,
          93,
          94,
          95,
          96,
          97,
          98,
          99,
          100,
          101,
          102,
          103,
          104,
          105,
          106,
          107,
          108,
          109,
          110,
          111,
          112,
          113,
          114,
          115,
          116,
          117,
          118,
          119,
          120,
          121,
          122,
          123,
          124,
          125,
          126,
          127,
          128,
          129,
          130,
          131,
          132,
          133,
          134,
          135,
          136,
          137,
          138,
          139,
          140,
          141,
          142,
          143,
          144,
          145,
          146,
          147,
          148,
          149,
          150,
          151,
          152,
          153,
          154,
          155,
          156,
          157,
          158,
          159
         ],
         "y": [
          4.076848983764648,
          -0.6155471205711365,
          -1.5023478269577026,
          -5.395340919494629,
          8.35130786895752,
          4.030449390411377,
          9.419702529907227,
          -3.2539634704589844,
          -2.719648599624634,
          4.654105186462402,
          2.4407825469970703,
          -0.6828835010528564,
          -5.605012893676758,
          7.1301655769348145,
          -4.27207088470459,
          -6.01522970199585,
          4.511606216430664,
          -0.7967379689216614,
          -4.327507495880127,
          9.27062702178955,
          -5.93557596206665,
          1.3050156831741333,
          1.110396146774292,
          3.6066157817840576,
          0.6260319948196411,
          -3.711775064468384,
          3.744312286376953,
          -1.7195820808410645,
          -5.832164764404297,
          3.619530439376831,
          -5.931096076965332,
          -3.596522569656372,
          -6.202775478363037,
          -5.879568099975586,
          -5.579354763031006,
          -1.2025010585784912,
          9.521279335021973,
          -1.1863763332366943,
          7.769834518432617,
          -1.5741040706634521,
          -2.2491860389709473,
          7.515435695648193,
          -0.25971290469169617,
          6.143329620361328,
          7.2185282707214355,
          -5.0657501220703125,
          0.34537020325660706,
          4.288244247436523,
          5.934874534606934,
          -4.765506267547607,
          4.470230579376221,
          -2.8124146461486816,
          -2.4334027767181396,
          8.747878074645996,
          4.248449325561523,
          8.517333030700684,
          -5.744657039642334,
          -5.1146392822265625,
          6.249579429626465,
          9.341089248657227,
          2.341918468475342,
          5.162106037139893,
          9.096977233886719,
          -5.156057834625244,
          -2.7542665004730225,
          5.003446578979492,
          5.602991104125977,
          -5.268913745880127,
          -5.908660888671875,
          -4.84766960144043,
          -4.062111854553223,
          -4.141648769378662,
          0.4049791097640991,
          8.629302978515625,
          -5.552797794342041,
          3.3528406620025635,
          -0.34890276193618774,
          -0.048429664224386215,
          -4.584306240081787,
          -0.38082706928253174,
          -5.547906398773193,
          6.358188152313232,
          7.132507801055908,
          -4.5171895027160645,
          3.8005104064941406,
          -1.4368329048156738,
          -2.1948416233062744,
          -3.951378583908081,
          -5.330033779144287,
          -3.4466474056243896,
          -1.5651417970657349,
          -2.020812749862671,
          5.8340864181518555,
          0.7210513949394226,
          7.791043281555176,
          6.992044925689697,
          -5.664909839630127,
          3.791069984436035,
          6.613173961639404,
          1.596745252609253,
          -5.150590896606445,
          1.4458751678466797,
          6.177431583404541,
          3.8313589096069336,
          -0.8725473880767822,
          -5.917701244354248,
          -2.3483757972717285,
          1.8651691675186157,
          -5.755151748657227,
          -0.9569243788719177,
          7.098790645599365,
          5.655207633972168,
          -5.405451774597168,
          5.774435043334961,
          6.645076274871826,
          3.5286221504211426,
          7.09975528717041,
          1.4653067588806152,
          7.491023540496826,
          -4.575693130493164,
          -0.8419252038002014,
          -4.938356876373291,
          -1.73331618309021,
          6.021050930023193,
          -4.893645286560059,
          0.9174644351005554,
          -0.6574916839599609,
          0.4738221764564514,
          -5.71858549118042,
          3.306959629058838,
          -5.530722618103027,
          4.165795803070068,
          -5.3007707595825195,
          -3.8273823261260986,
          -1.582438588142395,
          -0.9296382069587708,
          1.2546614408493042,
          -2.637089252471924,
          3.065600633621216,
          -5.878416061401367,
          -5.891888618469238,
          -1.2378249168395996,
          5.869786262512207,
          -3.1503684520721436,
          -3.613524913787842,
          2.5096678733825684,
          3.242736339569092,
          -5.075267314910889,
          -3.102033853530884,
          7.134575843811035,
          -0.4532868564128876,
          6.512612819671631,
          0.9254831671714783,
          -5.22067403793335,
          0.3040385842323303,
          -1.1330106258392334,
          2.8431577682495117,
          0.12002328783273697,
          7.43189001083374,
          -3.0030481815338135
         ]
        },
        {
         "marker": {
          "color": "red"
         },
         "mode": "markers",
         "name": "Cluster 1",
         "type": "scatter",
         "x": [
          0,
          1,
          2,
          3,
          4,
          5,
          6,
          7,
          8,
          9,
          10,
          11,
          12,
          13,
          14,
          15,
          16,
          17,
          18,
          19,
          20,
          21,
          22,
          23,
          24,
          25,
          26,
          27,
          28,
          29,
          30,
          31,
          32,
          33,
          34,
          35,
          36,
          37,
          38,
          39,
          40,
          41,
          42,
          43,
          44,
          45,
          46,
          47,
          48,
          49,
          50,
          51,
          52,
          53,
          54,
          55,
          56,
          57,
          58,
          59,
          60,
          61,
          62,
          63,
          64,
          65,
          66,
          67,
          68,
          69,
          70,
          71,
          72,
          73,
          74,
          75,
          76,
          77,
          78,
          79,
          80,
          81,
          82,
          83,
          84,
          85,
          86,
          87,
          88,
          89,
          90,
          91,
          92,
          93,
          94,
          95,
          96,
          97,
          98,
          99,
          100,
          101,
          102,
          103,
          104,
          105,
          106,
          107,
          108,
          109,
          110,
          111,
          112,
          113,
          114,
          115,
          116,
          117,
          118,
          119,
          120,
          121,
          122,
          123,
          124,
          125,
          126,
          127,
          128,
          129,
          130,
          131,
          132,
          133,
          134,
          135,
          136,
          137,
          138,
          139,
          140,
          141,
          142,
          143,
          144,
          145,
          146,
          147,
          148,
          149,
          150,
          151,
          152,
          153,
          154,
          155,
          156,
          157,
          158,
          159
         ],
         "y": [
          9.096970558166504,
          8.731049537658691,
          -6.011785984039307,
          0.8086490035057068,
          2.941028594970703,
          -0.5653898119926453,
          -4.078493118286133,
          8.572468757629395,
          -4.888557434082031,
          8.385884284973145,
          7.980757713317871,
          -5.467589855194092,
          -4.80273962020874,
          -3.867889642715454,
          -5.396299362182617,
          -1.635105848312378,
          -3.345092535018921,
          -5.024699687957764,
          8.892633438110352,
          0.06847216188907623,
          2.213627815246582,
          -5.441789150238037,
          -4.778270244598389,
          -3.9979991912841797,
          -1.9712198972702026,
          0.7332795262336731,
          8.249911308288574,
          6.824172496795654,
          -3.5190212726593018,
          -5.851003170013428,
          -2.1166892051696777,
          1.6363102197647095,
          -5.546601295471191,
          -2.3967456817626953,
          6.704990386962891,
          8.677305221557617,
          -0.9155563116073608,
          -4.648522853851318,
          -3.1777145862579346,
          -4.535611629486084,
          -5.646658420562744,
          -6.06447696685791,
          3.01688551902771,
          2.0069122314453125,
          -2.8919174671173096,
          -5.709277629852295,
          3.8399391174316406,
          1.8872536420822144,
          -5.622557640075684,
          -4.4043450355529785,
          9.137452125549316,
          7.806373596191406,
          -3.4918899536132812,
          0.896435022354126,
          5.558806896209717,
          -5.623390197753906,
          6.536585330963135,
          9.508207321166992,
          0.3754754960536957,
          -5.305909156799316,
          7.42280912399292,
          -5.681324481964111,
          7.996179103851318,
          -3.096296548843384,
          -4.328873157501221,
          6.490556240081787,
          -5.941373825073242,
          -0.10852645337581635,
          5.261739730834961,
          5.55055046081543,
          7.112544059753418,
          1.1882511377334595,
          1.6028623580932617,
          -5.586479187011719,
          -5.079645156860352,
          4.759282112121582,
          5.687241554260254,
          8.030707359313965,
          -5.958521842956543,
          -2.4578516483306885,
          1.5711166858673096,
          -1.8318190574645996,
          -2.6303842067718506,
          -4.301601409912109,
          -5.213428497314453,
          2.7181198596954346,
          0.516301691532135,
          -4.728695392608643,
          4.064465045928955,
          6.972481727600098,
          7.466151714324951,
          -1.2342541217803955,
          0.03909575939178467,
          -2.182511806488037,
          3.7226743698120117,
          3.342170000076294,
          2.3604564666748047,
          -4.867650032043457,
          0.07570621371269226,
          -5.8709540367126465,
          -0.22356632351875305,
          2.6121835708618164,
          -2.863682270050049,
          -1.8784068822860718,
          -5.407786846160889,
          -5.45347785949707,
          1.0973142385482788,
          2.395946979522705,
          2.825425624847412,
          2.694901704788208,
          2.308532953262329,
          -2.140639543533325,
          1.9062007665634155,
          6.546242713928223,
          -2.4669883251190186,
          6.558938026428223,
          -1.7823731899261475,
          6.1776838302612305,
          -4.102646350860596,
          -5.727181911468506,
          -4.984836578369141,
          -4.901342868804932,
          -3.0685665607452393,
          -5.675004482269287,
          -4.828179359436035,
          -0.17525708675384521,
          -4.270298957824707,
          2.1408772468566895,
          -4.258742809295654,
          5.709580898284912,
          -5.417327880859375,
          -5.967663288116455,
          -3.4305906295776367,
          0.0780985876917839,
          6.19819450378418,
          6.468478679656982,
          -5.548309326171875,
          -5.2102370262146,
          -4.201775074005127,
          7.531877517700195,
          6.42312479019165,
          -0.49383753538131714,
          -5.996989727020264,
          0.4271693825721741,
          -3.817596673965454,
          -5.91721248626709,
          -3.5232789516448975,
          0.7676349878311157,
          1.7309786081314087,
          -4.529590129852295,
          7.588133811950684,
          3.257643461227417,
          -4.343105316162109,
          -2.492794990539551,
          -3.8991639614105225,
          5.882400989532471,
          6.796017646789551,
          1.959434986114502,
          -5.483857154846191,
          3.1825625896453857
         ]
        }
       ],
       "layout": {
        "template": {
         "data": {
          "bar": [
           {
            "error_x": {
             "color": "#2a3f5f"
            },
            "error_y": {
             "color": "#2a3f5f"
            },
            "marker": {
             "line": {
              "color": "#E5ECF6",
              "width": 0.5
             },
             "pattern": {
              "fillmode": "overlay",
              "size": 10,
              "solidity": 0.2
             }
            },
            "type": "bar"
           }
          ],
          "barpolar": [
           {
            "marker": {
             "line": {
              "color": "#E5ECF6",
              "width": 0.5
             },
             "pattern": {
              "fillmode": "overlay",
              "size": 10,
              "solidity": 0.2
             }
            },
            "type": "barpolar"
           }
          ],
          "carpet": [
           {
            "aaxis": {
             "endlinecolor": "#2a3f5f",
             "gridcolor": "white",
             "linecolor": "white",
             "minorgridcolor": "white",
             "startlinecolor": "#2a3f5f"
            },
            "baxis": {
             "endlinecolor": "#2a3f5f",
             "gridcolor": "white",
             "linecolor": "white",
             "minorgridcolor": "white",
             "startlinecolor": "#2a3f5f"
            },
            "type": "carpet"
           }
          ],
          "choropleth": [
           {
            "colorbar": {
             "outlinewidth": 0,
             "ticks": ""
            },
            "type": "choropleth"
           }
          ],
          "contour": [
           {
            "colorbar": {
             "outlinewidth": 0,
             "ticks": ""
            },
            "colorscale": [
             [
              0,
              "#0d0887"
             ],
             [
              0.1111111111111111,
              "#46039f"
             ],
             [
              0.2222222222222222,
              "#7201a8"
             ],
             [
              0.3333333333333333,
              "#9c179e"
             ],
             [
              0.4444444444444444,
              "#bd3786"
             ],
             [
              0.5555555555555556,
              "#d8576b"
             ],
             [
              0.6666666666666666,
              "#ed7953"
             ],
             [
              0.7777777777777778,
              "#fb9f3a"
             ],
             [
              0.8888888888888888,
              "#fdca26"
             ],
             [
              1,
              "#f0f921"
             ]
            ],
            "type": "contour"
           }
          ],
          "contourcarpet": [
           {
            "colorbar": {
             "outlinewidth": 0,
             "ticks": ""
            },
            "type": "contourcarpet"
           }
          ],
          "heatmap": [
           {
            "colorbar": {
             "outlinewidth": 0,
             "ticks": ""
            },
            "colorscale": [
             [
              0,
              "#0d0887"
             ],
             [
              0.1111111111111111,
              "#46039f"
             ],
             [
              0.2222222222222222,
              "#7201a8"
             ],
             [
              0.3333333333333333,
              "#9c179e"
             ],
             [
              0.4444444444444444,
              "#bd3786"
             ],
             [
              0.5555555555555556,
              "#d8576b"
             ],
             [
              0.6666666666666666,
              "#ed7953"
             ],
             [
              0.7777777777777778,
              "#fb9f3a"
             ],
             [
              0.8888888888888888,
              "#fdca26"
             ],
             [
              1,
              "#f0f921"
             ]
            ],
            "type": "heatmap"
           }
          ],
          "heatmapgl": [
           {
            "colorbar": {
             "outlinewidth": 0,
             "ticks": ""
            },
            "colorscale": [
             [
              0,
              "#0d0887"
             ],
             [
              0.1111111111111111,
              "#46039f"
             ],
             [
              0.2222222222222222,
              "#7201a8"
             ],
             [
              0.3333333333333333,
              "#9c179e"
             ],
             [
              0.4444444444444444,
              "#bd3786"
             ],
             [
              0.5555555555555556,
              "#d8576b"
             ],
             [
              0.6666666666666666,
              "#ed7953"
             ],
             [
              0.7777777777777778,
              "#fb9f3a"
             ],
             [
              0.8888888888888888,
              "#fdca26"
             ],
             [
              1,
              "#f0f921"
             ]
            ],
            "type": "heatmapgl"
           }
          ],
          "histogram": [
           {
            "marker": {
             "pattern": {
              "fillmode": "overlay",
              "size": 10,
              "solidity": 0.2
             }
            },
            "type": "histogram"
           }
          ],
          "histogram2d": [
           {
            "colorbar": {
             "outlinewidth": 0,
             "ticks": ""
            },
            "colorscale": [
             [
              0,
              "#0d0887"
             ],
             [
              0.1111111111111111,
              "#46039f"
             ],
             [
              0.2222222222222222,
              "#7201a8"
             ],
             [
              0.3333333333333333,
              "#9c179e"
             ],
             [
              0.4444444444444444,
              "#bd3786"
             ],
             [
              0.5555555555555556,
              "#d8576b"
             ],
             [
              0.6666666666666666,
              "#ed7953"
             ],
             [
              0.7777777777777778,
              "#fb9f3a"
             ],
             [
              0.8888888888888888,
              "#fdca26"
             ],
             [
              1,
              "#f0f921"
             ]
            ],
            "type": "histogram2d"
           }
          ],
          "histogram2dcontour": [
           {
            "colorbar": {
             "outlinewidth": 0,
             "ticks": ""
            },
            "colorscale": [
             [
              0,
              "#0d0887"
             ],
             [
              0.1111111111111111,
              "#46039f"
             ],
             [
              0.2222222222222222,
              "#7201a8"
             ],
             [
              0.3333333333333333,
              "#9c179e"
             ],
             [
              0.4444444444444444,
              "#bd3786"
             ],
             [
              0.5555555555555556,
              "#d8576b"
             ],
             [
              0.6666666666666666,
              "#ed7953"
             ],
             [
              0.7777777777777778,
              "#fb9f3a"
             ],
             [
              0.8888888888888888,
              "#fdca26"
             ],
             [
              1,
              "#f0f921"
             ]
            ],
            "type": "histogram2dcontour"
           }
          ],
          "mesh3d": [
           {
            "colorbar": {
             "outlinewidth": 0,
             "ticks": ""
            },
            "type": "mesh3d"
           }
          ],
          "parcoords": [
           {
            "line": {
             "colorbar": {
              "outlinewidth": 0,
              "ticks": ""
             }
            },
            "type": "parcoords"
           }
          ],
          "pie": [
           {
            "automargin": true,
            "type": "pie"
           }
          ],
          "scatter": [
           {
            "fillpattern": {
             "fillmode": "overlay",
             "size": 10,
             "solidity": 0.2
            },
            "type": "scatter"
           }
          ],
          "scatter3d": [
           {
            "line": {
             "colorbar": {
              "outlinewidth": 0,
              "ticks": ""
             }
            },
            "marker": {
             "colorbar": {
              "outlinewidth": 0,
              "ticks": ""
             }
            },
            "type": "scatter3d"
           }
          ],
          "scattercarpet": [
           {
            "marker": {
             "colorbar": {
              "outlinewidth": 0,
              "ticks": ""
             }
            },
            "type": "scattercarpet"
           }
          ],
          "scattergeo": [
           {
            "marker": {
             "colorbar": {
              "outlinewidth": 0,
              "ticks": ""
             }
            },
            "type": "scattergeo"
           }
          ],
          "scattergl": [
           {
            "marker": {
             "colorbar": {
              "outlinewidth": 0,
              "ticks": ""
             }
            },
            "type": "scattergl"
           }
          ],
          "scattermapbox": [
           {
            "marker": {
             "colorbar": {
              "outlinewidth": 0,
              "ticks": ""
             }
            },
            "type": "scattermapbox"
           }
          ],
          "scatterpolar": [
           {
            "marker": {
             "colorbar": {
              "outlinewidth": 0,
              "ticks": ""
             }
            },
            "type": "scatterpolar"
           }
          ],
          "scatterpolargl": [
           {
            "marker": {
             "colorbar": {
              "outlinewidth": 0,
              "ticks": ""
             }
            },
            "type": "scatterpolargl"
           }
          ],
          "scatterternary": [
           {
            "marker": {
             "colorbar": {
              "outlinewidth": 0,
              "ticks": ""
             }
            },
            "type": "scatterternary"
           }
          ],
          "surface": [
           {
            "colorbar": {
             "outlinewidth": 0,
             "ticks": ""
            },
            "colorscale": [
             [
              0,
              "#0d0887"
             ],
             [
              0.1111111111111111,
              "#46039f"
             ],
             [
              0.2222222222222222,
              "#7201a8"
             ],
             [
              0.3333333333333333,
              "#9c179e"
             ],
             [
              0.4444444444444444,
              "#bd3786"
             ],
             [
              0.5555555555555556,
              "#d8576b"
             ],
             [
              0.6666666666666666,
              "#ed7953"
             ],
             [
              0.7777777777777778,
              "#fb9f3a"
             ],
             [
              0.8888888888888888,
              "#fdca26"
             ],
             [
              1,
              "#f0f921"
             ]
            ],
            "type": "surface"
           }
          ],
          "table": [
           {
            "cells": {
             "fill": {
              "color": "#EBF0F8"
             },
             "line": {
              "color": "white"
             }
            },
            "header": {
             "fill": {
              "color": "#C8D4E3"
             },
             "line": {
              "color": "white"
             }
            },
            "type": "table"
           }
          ]
         },
         "layout": {
          "annotationdefaults": {
           "arrowcolor": "#2a3f5f",
           "arrowhead": 0,
           "arrowwidth": 1
          },
          "autotypenumbers": "strict",
          "coloraxis": {
           "colorbar": {
            "outlinewidth": 0,
            "ticks": ""
           }
          },
          "colorscale": {
           "diverging": [
            [
             0,
             "#8e0152"
            ],
            [
             0.1,
             "#c51b7d"
            ],
            [
             0.2,
             "#de77ae"
            ],
            [
             0.3,
             "#f1b6da"
            ],
            [
             0.4,
             "#fde0ef"
            ],
            [
             0.5,
             "#f7f7f7"
            ],
            [
             0.6,
             "#e6f5d0"
            ],
            [
             0.7,
             "#b8e186"
            ],
            [
             0.8,
             "#7fbc41"
            ],
            [
             0.9,
             "#4d9221"
            ],
            [
             1,
             "#276419"
            ]
           ],
           "sequential": [
            [
             0,
             "#0d0887"
            ],
            [
             0.1111111111111111,
             "#46039f"
            ],
            [
             0.2222222222222222,
             "#7201a8"
            ],
            [
             0.3333333333333333,
             "#9c179e"
            ],
            [
             0.4444444444444444,
             "#bd3786"
            ],
            [
             0.5555555555555556,
             "#d8576b"
            ],
            [
             0.6666666666666666,
             "#ed7953"
            ],
            [
             0.7777777777777778,
             "#fb9f3a"
            ],
            [
             0.8888888888888888,
             "#fdca26"
            ],
            [
             1,
             "#f0f921"
            ]
           ],
           "sequentialminus": [
            [
             0,
             "#0d0887"
            ],
            [
             0.1111111111111111,
             "#46039f"
            ],
            [
             0.2222222222222222,
             "#7201a8"
            ],
            [
             0.3333333333333333,
             "#9c179e"
            ],
            [
             0.4444444444444444,
             "#bd3786"
            ],
            [
             0.5555555555555556,
             "#d8576b"
            ],
            [
             0.6666666666666666,
             "#ed7953"
            ],
            [
             0.7777777777777778,
             "#fb9f3a"
            ],
            [
             0.8888888888888888,
             "#fdca26"
            ],
            [
             1,
             "#f0f921"
            ]
           ]
          },
          "colorway": [
           "#636efa",
           "#EF553B",
           "#00cc96",
           "#ab63fa",
           "#FFA15A",
           "#19d3f3",
           "#FF6692",
           "#B6E880",
           "#FF97FF",
           "#FECB52"
          ],
          "font": {
           "color": "#2a3f5f"
          },
          "geo": {
           "bgcolor": "white",
           "lakecolor": "white",
           "landcolor": "#E5ECF6",
           "showlakes": true,
           "showland": true,
           "subunitcolor": "white"
          },
          "hoverlabel": {
           "align": "left"
          },
          "hovermode": "closest",
          "mapbox": {
           "style": "light"
          },
          "paper_bgcolor": "white",
          "plot_bgcolor": "#E5ECF6",
          "polar": {
           "angularaxis": {
            "gridcolor": "white",
            "linecolor": "white",
            "ticks": ""
           },
           "bgcolor": "#E5ECF6",
           "radialaxis": {
            "gridcolor": "white",
            "linecolor": "white",
            "ticks": ""
           }
          },
          "scene": {
           "xaxis": {
            "backgroundcolor": "#E5ECF6",
            "gridcolor": "white",
            "gridwidth": 2,
            "linecolor": "white",
            "showbackground": true,
            "ticks": "",
            "zerolinecolor": "white"
           },
           "yaxis": {
            "backgroundcolor": "#E5ECF6",
            "gridcolor": "white",
            "gridwidth": 2,
            "linecolor": "white",
            "showbackground": true,
            "ticks": "",
            "zerolinecolor": "white"
           },
           "zaxis": {
            "backgroundcolor": "#E5ECF6",
            "gridcolor": "white",
            "gridwidth": 2,
            "linecolor": "white",
            "showbackground": true,
            "ticks": "",
            "zerolinecolor": "white"
           }
          },
          "shapedefaults": {
           "line": {
            "color": "#2a3f5f"
           }
          },
          "ternary": {
           "aaxis": {
            "gridcolor": "white",
            "linecolor": "white",
            "ticks": ""
           },
           "baxis": {
            "gridcolor": "white",
            "linecolor": "white",
            "ticks": ""
           },
           "bgcolor": "#E5ECF6",
           "caxis": {
            "gridcolor": "white",
            "linecolor": "white",
            "ticks": ""
           }
          },
          "title": {
           "x": 0.05
          },
          "xaxis": {
           "automargin": true,
           "gridcolor": "white",
           "linecolor": "white",
           "ticks": "",
           "title": {
            "standoff": 15
           },
           "zerolinecolor": "white",
           "zerolinewidth": 2
          },
          "yaxis": {
           "automargin": true,
           "gridcolor": "white",
           "linecolor": "white",
           "ticks": "",
           "title": {
            "standoff": 15
           },
           "zerolinecolor": "white",
           "zerolinewidth": 2
          }
         }
        },
        "title": {
         "text": "t-SNE Feature 1 vs Count"
        },
        "xaxis": {
         "title": {
          "text": "Count"
         }
        },
        "yaxis": {
         "title": {
          "text": "t-SNE Feature 1"
         }
        }
       }
      }
     },
     "metadata": {},
     "output_type": "display_data"
    }
   ],
   "source": [
    "import plotly.express as px\n",
    "import plotly.graph_objects as go\n",
    "\n",
    "# 군집 0과 1에 해당하는 데이터를 분할\n",
    "cluster_0_data = tr_cluster_tsne[train_cluster_labels == 0]\n",
    "cluster_1_data = tr_cluster_tsne[train_cluster_labels == 1]\n",
    "\n",
    "# 각 군집에 대한 count 계산 (가정)\n",
    "count_cluster_0 = len(cluster_0_data)\n",
    "count_cluster_1 = len(cluster_1_data)\n",
    "\n",
    "# 군집 0과 1의 데이터를 DataFrame으로 변환\n",
    "import pandas as pd\n",
    "df_cluster_0 = pd.DataFrame({'Count': range(count_cluster_0), 't-SNE Feature 1': cluster_0_data[:, 1]})\n",
    "df_cluster_1 = pd.DataFrame({'Count': range(count_cluster_1), 't-SNE Feature 1': cluster_1_data[:, 1]})\n",
    "\n",
    "# Plotly를 사용하여 시각화\n",
    "fig = go.Figure()\n",
    "\n",
    "# 군집 0에 대한 산점도\n",
    "fig.add_trace(go.Scatter(x=df_cluster_0['Count'], y=df_cluster_0['t-SNE Feature 1'], mode='markers', marker=dict(color='blue'), name='Cluster 0'))\n",
    "\n",
    "# 군집 1에 대한 산점도\n",
    "fig.add_trace(go.Scatter(x=df_cluster_1['Count'], y=df_cluster_1['t-SNE Feature 1'], mode='markers', marker=dict(color='red'), name='Cluster 1'))\n",
    "\n",
    "# 레이아웃 설정\n",
    "fig.update_layout(title='t-SNE Feature 1 vs Count',\n",
    "                  xaxis_title='Count',\n",
    "                  yaxis_title='t-SNE Feature 1')\n",
    "                  \n",
    "fig.show()\n"
   ]
  },
  {
   "cell_type": "markdown",
   "metadata": {},
   "source": [
    "# RandomForestRegressor"
   ]
  },
  {
   "cell_type": "code",
   "execution_count": 74,
   "metadata": {},
   "outputs": [
    {
     "name": "stdout",
     "output_type": "stream",
     "text": [
      "Mean Squared Error for cluster 0: 449.2750173055553\n",
      "R^2 Score for cluster 0: 0.27870638968975847\n"
     ]
    }
   ],
   "source": [
    "from sklearn.ensemble import RandomForestRegressor\n",
    "from sklearn.metrics import mean_squared_error, r2_score\n",
    "\n",
    "# RandomForestRegressor 모델 초기화\n",
    "rf_model = RandomForestRegressor(random_state=42)\n",
    "\n",
    "# 군집에 속한 데이터로 모델 학습\n",
    "rf_model.fit(tr_cluster_0_data, y_train[train_cluster_labels == 0])\n",
    "\n",
    "# 테스트 데이터에 대한 예측\n",
    "predictions = rf_model.predict(test_cluster_0_data)\n",
    "\n",
    "# 회귀 모델의 성능 평가\n",
    "mse = mean_squared_error(y_test[test_cluster_labels == 0], predictions)\n",
    "r2 = r2_score(y_test[test_cluster_labels == 0], predictions)\n",
    "\n",
    "print('Mean Squared Error for cluster 0:', mse)\n",
    "print('R^2 Score for cluster 0:', r2)\n"
   ]
  },
  {
   "cell_type": "code",
   "execution_count": 75,
   "metadata": {},
   "outputs": [
    {
     "name": "stdout",
     "output_type": "stream",
     "text": [
      "Mean Squared Error for cluster 1: 603.4771822786553\n",
      "R^2 Score for cluster 1: 0.07062436035256414\n"
     ]
    }
   ],
   "source": [
    "# RandomForestRegressor 모델 초기화\n",
    "rf_model_cluster_1 = RandomForestRegressor(random_state=42)\n",
    "\n",
    "# 군집에 속한 데이터로 모델 학습\n",
    "rf_model_cluster_1.fit(tr_cluster_1_data, y_train[train_cluster_labels == 1])\n",
    "\n",
    "# 테스트 데이터에 대한 예측\n",
    "predictions_cluster_1 = rf_model_cluster_1.predict(test_cluster_1_data)\n",
    "\n",
    "# 회귀 모델의 성능 평가\n",
    "mse_cluster_1 = mean_squared_error(y_test[test_cluster_labels == 1], predictions_cluster_1)\n",
    "r2_cluster_1 = r2_score(y_test[test_cluster_labels == 1], predictions_cluster_1)\n",
    "\n",
    "print('Mean Squared Error for cluster 1:', mse_cluster_1)\n",
    "print('R^2 Score for cluster 1:', r2_cluster_1)\n"
   ]
  },
  {
   "cell_type": "markdown",
   "metadata": {},
   "source": [
    "### 결과: 1보다 0이 좀 더 좋은 성능을 나타냄"
   ]
  },
  {
   "cell_type": "markdown",
   "metadata": {},
   "source": [
    "# Decision_tree"
   ]
  },
  {
   "cell_type": "code",
   "execution_count": 76,
   "metadata": {},
   "outputs": [
    {
     "name": "stdout",
     "output_type": "stream",
     "text": [
      "Mean Squared Error for cluster 0: 601.5791666666668\n",
      "R^2 Score for cluster 0: 0.034187986648459456\n"
     ]
    }
   ],
   "source": [
    "from sklearn.tree import DecisionTreeRegressor\n",
    "\n",
    "# DecisionTreeRegressor 모델 초기화\n",
    "dt_model_cluster_0 = DecisionTreeRegressor(random_state=42)\n",
    "\n",
    "# 군집에 속한 데이터로 모델 학습\n",
    "dt_model_cluster_0.fit(tr_cluster_0_data, y_train[train_cluster_labels == 0])\n",
    "\n",
    "# 테스트 데이터에 대한 예측\n",
    "predictions_cluster_0 = dt_model_cluster_0.predict(test_cluster_0_data)\n",
    "\n",
    "# 회귀 모델의 성능 평가\n",
    "mse_cluster_0 = mean_squared_error(y_test[test_cluster_labels == 0], predictions_cluster_0)\n",
    "r2_cluster_0 = r2_score(y_test[test_cluster_labels == 0], predictions_cluster_0)\n",
    "\n",
    "print('Mean Squared Error for cluster 0:', mse_cluster_0)\n",
    "print('R^2 Score for cluster 0:', r2_cluster_0)\n"
   ]
  },
  {
   "cell_type": "code",
   "execution_count": 77,
   "metadata": {},
   "outputs": [
    {
     "name": "stdout",
     "output_type": "stream",
     "text": [
      "Mean Squared Error for cluster 1: 750.1281818181815\n",
      "R^2 Score for cluster 1: -0.1552232284284305\n"
     ]
    }
   ],
   "source": [
    "from sklearn.tree import DecisionTreeRegressor\n",
    "\n",
    "# DecisionTreeRegressor 모델 초기화\n",
    "dt_model_cluster_1 = DecisionTreeRegressor(random_state=42)\n",
    "\n",
    "# 군집에 속한 데이터로 모델 학습\n",
    "dt_model_cluster_1.fit(tr_cluster_1_data, y_train[train_cluster_labels == 1])\n",
    "\n",
    "# 테스트 데이터에 대한 예측\n",
    "predictions_cluster_1 = dt_model_cluster_1.predict(test_cluster_1_data)\n",
    "\n",
    "# 회귀 모델의 성능 평가\n",
    "mse_cluster_1 = mean_squared_error(y_test[test_cluster_labels == 1], predictions_cluster_1)\n",
    "r2_cluster_1 = r2_score(y_test[test_cluster_labels == 1], predictions_cluster_1)\n",
    "\n",
    "print('Mean Squared Error for cluster 1:', mse_cluster_1)\n",
    "print('R^2 Score for cluster 1:', r2_cluster_1)\n"
   ]
  },
  {
   "cell_type": "code",
   "execution_count": null,
   "metadata": {},
   "outputs": [],
   "source": []
  }
 ],
 "metadata": {
  "kernelspec": {
   "display_name": "py3.8",
   "language": "python",
   "name": "python3"
  },
  "language_info": {
   "codemirror_mode": {
    "name": "ipython",
    "version": 3
   },
   "file_extension": ".py",
   "mimetype": "text/x-python",
   "name": "python",
   "nbconvert_exporter": "python",
   "pygments_lexer": "ipython3",
   "version": "3.8.18"
  }
 },
 "nbformat": 4,
 "nbformat_minor": 2
}
