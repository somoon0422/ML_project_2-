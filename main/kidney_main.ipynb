{
 "cells": [
  {
   "cell_type": "markdown",
   "metadata": {},
   "source": [
    "# <신장 종양 적출에 따른 손실체적(RAIV) 예측>"
   ]
  },
  {
   "cell_type": "markdown",
   "metadata": {},
   "source": [
    "### 신장 종양 평가지표(PADUA, Renal..)를 활용한 최소한의 필요한 종양 적출 체적 예측\n",
    "- 과거에는 신장에 발생한 악성종양을 제거할 때 한쪽 신장을 모두 제거하는 것이 문제가 없는 것으로 인식됐었으나, 최근에는 신장 한쪽을 제거한 경우 수술 후 신부전·심혈관질환 각종 대사성 질환의 빈도가 증가한다는 보고가 있어 가능하면 신장을 보존하는 것이 추천되는 경향\n",
    "- 신장은 출혈 위험이 크며, 생명 유지에 중요한 기능을 하는 장기이므로  신장의 기능을 보존할 수 있게 신장 수술의 목표는 최소 절개 및 최대 보존\n",
    "- 신장을 최대한 보존해 합병증을 줄임으로써 중요한 만성질환 예방과 삶의 질을 높여 환자들에게 큰 도움이 될 것"
   ]
  },
  {
   "cell_type": "markdown",
   "metadata": {},
   "source": [
    "### 1. 데이터 불러오기"
   ]
  },
  {
   "cell_type": "code",
   "execution_count": 49,
   "metadata": {},
   "outputs": [],
   "source": [
    "import pandas as pd\n",
    "import numpy as np\n",
    "import seaborn as sns\n",
    "import matplotlib.pyplot as plt\n",
    "\n",
    "import plotly.express as px\n",
    "import plotly.graph_objects as go\n",
    "\n",
    "from sklearn.model_selection import train_test_split\n",
    "from sklearn.metrics import silhouette_score\n",
    "from sklearn.cluster import KMeans"
   ]
  },
  {
   "cell_type": "code",
   "execution_count": 26,
   "metadata": {},
   "outputs": [],
   "source": [
    "padua_data = pd.read_csv('./data/kideny_PADUA_upload.csv')\n",
    "renal_data = pd.read_csv('./data/kideny_RENAL_upload.csv')\n",
    "treat_data = pd.read_csv('./data/kidney_treat_upload.csv')"
   ]
  },
  {
   "cell_type": "code",
   "execution_count": null,
   "metadata": {},
   "outputs": [],
   "source": []
  },
  {
   "cell_type": "markdown",
   "metadata": {},
   "source": [
    "#### RENAL\n",
    "- 'serial' : 환자번호\n",
    "- 'Radius_RENAL' : 종양의 최장 반지름 길이(cm) -> T_size\n",
    "- 'Exophytic_RENAL' : 종양의 외성장 정도(%) -> T_exophytic\n",
    "- 'Nearness_RENAL' : 종양의 집배뇨관의 근접 정도 -> T_near_urethra\n",
    "- 'APX_RENAL' : 종양의 위치 - 전/후방 -> T_APX\n",
    "- 'Location_RENAL' : 종양의 집배뇨관 기준 상대 위치 -> T_rel_urethra\n",
    "- 'RENAL_total' : 최종 RENAL 점수"
   ]
  },
  {
   "cell_type": "code",
   "execution_count": null,
   "metadata": {},
   "outputs": [],
   "source": [
    "#### RENAL\n",
    "- 'serial' : 환자번호\n",
    "- 'RAIV_1' : 손실체적(cm^3)"
   ]
  },
  {
   "cell_type": "markdown",
   "metadata": {},
   "source": [
    "### 2. 데이터 정리"
   ]
  },
  {
   "cell_type": "markdown",
   "metadata": {},
   "source": [
    "- 중복 컬럼 삭제(종양의 크기, 외성장 비율) 및 데이터 합치기 "
   ]
  },
  {
   "cell_type": "code",
   "execution_count": 27,
   "metadata": {},
   "outputs": [],
   "source": [
    "merged_data = pd.merge(padua_data, renal_data, on='serial')"
   ]
  },
  {
   "cell_type": "code",
   "execution_count": 28,
   "metadata": {},
   "outputs": [],
   "source": [
    "merged_data.drop(['Tumor_PADUA', 'Exophytic_PADUA'], axis=1, inplace=True)"
   ]
  },
  {
   "cell_type": "code",
   "execution_count": 29,
   "metadata": {},
   "outputs": [],
   "source": [
    "merged_result = pd.merge(merged_data, treat_data, on='serial')"
   ]
  },
  {
   "cell_type": "markdown",
   "metadata": {},
   "source": [
    "- 컬럼명 변경"
   ]
  },
  {
   "cell_type": "code",
   "execution_count": 30,
   "metadata": {},
   "outputs": [],
   "source": [
    "# RAIV_1 -> RAIV\n",
    "merged_result.rename(columns={'Radius_RENAL': 'T_size', 'Exophytic_RENAL':'T_Exophytic',\n",
    "                            'Rim_PADUA':'T_surface_loc','Polarlocation_PADUA':'T_height_loc',\n",
    "                            'Collectingsystem_PADUA':'T_gm_over','Sinus_PADUA':'T_sinus_dt',\n",
    "                            'Nearness_RENAL':'T_near_urethra','APX_RENAL':'T_APX','Location_RENAL':'T_rel_urethra','RAIV_1': 'RAIV'\n",
    "                            }, inplace=True)"
   ]
  },
  {
   "cell_type": "markdown",
   "metadata": {},
   "source": [
    "- 결측치 제거"
   ]
  },
  {
   "cell_type": "code",
   "execution_count": 31,
   "metadata": {},
   "outputs": [
    {
     "name": "stdout",
     "output_type": "stream",
     "text": [
      "<class 'pandas.core.frame.DataFrame'>\n",
      "RangeIndex: 400 entries, 0 to 399\n",
      "Data columns (total 13 columns):\n",
      " #   Column          Non-Null Count  Dtype  \n",
      "---  ------          --------------  -----  \n",
      " 0   serial          400 non-null    int64  \n",
      " 1   T_surface_loc   395 non-null    float64\n",
      " 2   T_sinus_dt      395 non-null    float64\n",
      " 3   T_height_loc    395 non-null    float64\n",
      " 4   T_gm_over       395 non-null    float64\n",
      " 5   PADUA_total     400 non-null    int64  \n",
      " 6   T_size          396 non-null    float64\n",
      " 7   T_Exophytic     395 non-null    float64\n",
      " 8   T_near_urethra  395 non-null    float64\n",
      " 9   T_APX           394 non-null    float64\n",
      " 10  T_rel_urethra   395 non-null    float64\n",
      " 11  RENAL_total     400 non-null    int64  \n",
      " 12  RAIV            397 non-null    float64\n",
      "dtypes: float64(10), int64(3)\n",
      "memory usage: 40.8 KB\n"
     ]
    }
   ],
   "source": [
    "merged_result.info()"
   ]
  },
  {
   "cell_type": "code",
   "execution_count": 32,
   "metadata": {},
   "outputs": [],
   "source": [
    "merged_result = merged_result.dropna()"
   ]
  },
  {
   "cell_type": "code",
   "execution_count": 33,
   "metadata": {},
   "outputs": [],
   "source": [
    "# total 합쳐보기(PADUA_total + RENAL_total  = total)\n",
    "merged_result['total'] = (merged_result['T_surface_loc'] + merged_result['T_sinus_dt']+merged_result['T_height_loc'] + \n",
    "                        merged_result['T_gm_over'] + merged_result['T_size'] + merged_result['T_Exophytic'] +\n",
    "                        merged_result['T_near_urethra']+merged_result['T_APX'] + merged_result['T_rel_urethra'])"
   ]
  },
  {
   "cell_type": "code",
   "execution_count": 34,
   "metadata": {},
   "outputs": [],
   "source": [
    "# 새로운 컬럼(T_size + T_Exophytic = T_size_exo )\n",
    "merged_result['T_size_exo'] = merged_result['T_size'] + merged_result['T_Exophytic']"
   ]
  },
  {
   "cell_type": "code",
   "execution_count": 35,
   "metadata": {},
   "outputs": [
    {
     "name": "stdout",
     "output_type": "stream",
     "text": [
      "<class 'pandas.core.frame.DataFrame'>\n",
      "Index: 389 entries, 0 to 399\n",
      "Data columns (total 15 columns):\n",
      " #   Column          Non-Null Count  Dtype  \n",
      "---  ------          --------------  -----  \n",
      " 0   serial          389 non-null    int64  \n",
      " 1   T_surface_loc   389 non-null    float64\n",
      " 2   T_sinus_dt      389 non-null    float64\n",
      " 3   T_height_loc    389 non-null    float64\n",
      " 4   T_gm_over       389 non-null    float64\n",
      " 5   PADUA_total     389 non-null    int64  \n",
      " 6   T_size          389 non-null    float64\n",
      " 7   T_Exophytic     389 non-null    float64\n",
      " 8   T_near_urethra  389 non-null    float64\n",
      " 9   T_APX           389 non-null    float64\n",
      " 10  T_rel_urethra   389 non-null    float64\n",
      " 11  RENAL_total     389 non-null    int64  \n",
      " 12  RAIV            389 non-null    float64\n",
      " 13  total           389 non-null    float64\n",
      " 14  T_size_exo      389 non-null    float64\n",
      "dtypes: float64(12), int64(3)\n",
      "memory usage: 48.6 KB\n"
     ]
    }
   ],
   "source": [
    "merged_result.info()"
   ]
  },
  {
   "cell_type": "markdown",
   "metadata": {},
   "source": [
    "### 3. 데이터 탐색"
   ]
  },
  {
   "cell_type": "code",
   "execution_count": 36,
   "metadata": {},
   "outputs": [
    {
     "data": {
      "text/html": [
       "<div>\n",
       "<style scoped>\n",
       "    .dataframe tbody tr th:only-of-type {\n",
       "        vertical-align: middle;\n",
       "    }\n",
       "\n",
       "    .dataframe tbody tr th {\n",
       "        vertical-align: top;\n",
       "    }\n",
       "\n",
       "    .dataframe thead th {\n",
       "        text-align: right;\n",
       "    }\n",
       "</style>\n",
       "<table border=\"1\" class=\"dataframe\">\n",
       "  <thead>\n",
       "    <tr style=\"text-align: right;\">\n",
       "      <th></th>\n",
       "      <th>serial</th>\n",
       "      <th>T_surface_loc</th>\n",
       "      <th>T_sinus_dt</th>\n",
       "      <th>T_height_loc</th>\n",
       "      <th>T_gm_over</th>\n",
       "      <th>PADUA_total</th>\n",
       "      <th>T_size</th>\n",
       "      <th>T_Exophytic</th>\n",
       "      <th>T_near_urethra</th>\n",
       "      <th>T_APX</th>\n",
       "      <th>T_rel_urethra</th>\n",
       "      <th>RENAL_total</th>\n",
       "      <th>RAIV</th>\n",
       "      <th>total</th>\n",
       "      <th>T_size_exo</th>\n",
       "    </tr>\n",
       "  </thead>\n",
       "  <tbody>\n",
       "    <tr>\n",
       "      <th>0</th>\n",
       "      <td>1</td>\n",
       "      <td>2.0</td>\n",
       "      <td>1.0</td>\n",
       "      <td>1.0</td>\n",
       "      <td>1.0</td>\n",
       "      <td>8</td>\n",
       "      <td>2.0</td>\n",
       "      <td>1.0</td>\n",
       "      <td>1.0</td>\n",
       "      <td>2.0</td>\n",
       "      <td>1.0</td>\n",
       "      <td>4</td>\n",
       "      <td>51.1</td>\n",
       "      <td>12.0</td>\n",
       "      <td>3.0</td>\n",
       "    </tr>\n",
       "    <tr>\n",
       "      <th>1</th>\n",
       "      <td>2</td>\n",
       "      <td>1.0</td>\n",
       "      <td>1.0</td>\n",
       "      <td>2.0</td>\n",
       "      <td>1.0</td>\n",
       "      <td>8</td>\n",
       "      <td>1.0</td>\n",
       "      <td>2.0</td>\n",
       "      <td>2.0</td>\n",
       "      <td>2.0</td>\n",
       "      <td>2.0</td>\n",
       "      <td>5</td>\n",
       "      <td>46.1</td>\n",
       "      <td>14.0</td>\n",
       "      <td>3.0</td>\n",
       "    </tr>\n",
       "    <tr>\n",
       "      <th>2</th>\n",
       "      <td>3</td>\n",
       "      <td>1.0</td>\n",
       "      <td>1.0</td>\n",
       "      <td>2.0</td>\n",
       "      <td>1.0</td>\n",
       "      <td>7</td>\n",
       "      <td>1.0</td>\n",
       "      <td>1.0</td>\n",
       "      <td>1.0</td>\n",
       "      <td>1.0</td>\n",
       "      <td>1.0</td>\n",
       "      <td>3</td>\n",
       "      <td>14.8</td>\n",
       "      <td>10.0</td>\n",
       "      <td>2.0</td>\n",
       "    </tr>\n",
       "    <tr>\n",
       "      <th>3</th>\n",
       "      <td>4</td>\n",
       "      <td>1.0</td>\n",
       "      <td>1.0</td>\n",
       "      <td>2.0</td>\n",
       "      <td>2.0</td>\n",
       "      <td>8</td>\n",
       "      <td>1.0</td>\n",
       "      <td>1.0</td>\n",
       "      <td>3.0</td>\n",
       "      <td>2.0</td>\n",
       "      <td>3.0</td>\n",
       "      <td>5</td>\n",
       "      <td>19.7</td>\n",
       "      <td>16.0</td>\n",
       "      <td>2.0</td>\n",
       "    </tr>\n",
       "    <tr>\n",
       "      <th>4</th>\n",
       "      <td>5</td>\n",
       "      <td>1.0</td>\n",
       "      <td>1.0</td>\n",
       "      <td>2.0</td>\n",
       "      <td>1.0</td>\n",
       "      <td>8</td>\n",
       "      <td>1.0</td>\n",
       "      <td>2.0</td>\n",
       "      <td>1.0</td>\n",
       "      <td>1.0</td>\n",
       "      <td>3.0</td>\n",
       "      <td>4</td>\n",
       "      <td>14.8</td>\n",
       "      <td>13.0</td>\n",
       "      <td>3.0</td>\n",
       "    </tr>\n",
       "  </tbody>\n",
       "</table>\n",
       "</div>"
      ],
      "text/plain": [
       "   serial  T_surface_loc  T_sinus_dt  T_height_loc  T_gm_over  PADUA_total  \\\n",
       "0       1            2.0         1.0           1.0        1.0            8   \n",
       "1       2            1.0         1.0           2.0        1.0            8   \n",
       "2       3            1.0         1.0           2.0        1.0            7   \n",
       "3       4            1.0         1.0           2.0        2.0            8   \n",
       "4       5            1.0         1.0           2.0        1.0            8   \n",
       "\n",
       "   T_size  T_Exophytic  T_near_urethra  T_APX  T_rel_urethra  RENAL_total  \\\n",
       "0     2.0          1.0             1.0    2.0            1.0            4   \n",
       "1     1.0          2.0             2.0    2.0            2.0            5   \n",
       "2     1.0          1.0             1.0    1.0            1.0            3   \n",
       "3     1.0          1.0             3.0    2.0            3.0            5   \n",
       "4     1.0          2.0             1.0    1.0            3.0            4   \n",
       "\n",
       "   RAIV  total  T_size_exo  \n",
       "0  51.1   12.0         3.0  \n",
       "1  46.1   14.0         3.0  \n",
       "2  14.8   10.0         2.0  \n",
       "3  19.7   16.0         2.0  \n",
       "4  14.8   13.0         3.0  "
      ]
     },
     "execution_count": 36,
     "metadata": {},
     "output_type": "execute_result"
    }
   ],
   "source": [
    "merged_result.head()"
   ]
  },
  {
   "cell_type": "code",
   "execution_count": 37,
   "metadata": {},
   "outputs": [
    {
     "data": {
      "text/html": [
       "<div>\n",
       "<style scoped>\n",
       "    .dataframe tbody tr th:only-of-type {\n",
       "        vertical-align: middle;\n",
       "    }\n",
       "\n",
       "    .dataframe tbody tr th {\n",
       "        vertical-align: top;\n",
       "    }\n",
       "\n",
       "    .dataframe thead th {\n",
       "        text-align: right;\n",
       "    }\n",
       "</style>\n",
       "<table border=\"1\" class=\"dataframe\">\n",
       "  <thead>\n",
       "    <tr style=\"text-align: right;\">\n",
       "      <th></th>\n",
       "      <th>serial</th>\n",
       "      <th>T_surface_loc</th>\n",
       "      <th>T_sinus_dt</th>\n",
       "      <th>T_height_loc</th>\n",
       "      <th>T_gm_over</th>\n",
       "      <th>PADUA_total</th>\n",
       "      <th>T_size</th>\n",
       "      <th>T_Exophytic</th>\n",
       "      <th>T_near_urethra</th>\n",
       "      <th>T_APX</th>\n",
       "      <th>T_rel_urethra</th>\n",
       "      <th>RENAL_total</th>\n",
       "      <th>RAIV</th>\n",
       "      <th>total</th>\n",
       "      <th>T_size_exo</th>\n",
       "    </tr>\n",
       "  </thead>\n",
       "  <tbody>\n",
       "    <tr>\n",
       "      <th>count</th>\n",
       "      <td>389.000000</td>\n",
       "      <td>389.000000</td>\n",
       "      <td>389.000000</td>\n",
       "      <td>389.000000</td>\n",
       "      <td>389.000000</td>\n",
       "      <td>389.000000</td>\n",
       "      <td>389.000000</td>\n",
       "      <td>389.000000</td>\n",
       "      <td>389.000000</td>\n",
       "      <td>389.000000</td>\n",
       "      <td>389.000000</td>\n",
       "      <td>389.000000</td>\n",
       "      <td>389.000000</td>\n",
       "      <td>389.000000</td>\n",
       "      <td>389.000000</td>\n",
       "    </tr>\n",
       "    <tr>\n",
       "      <th>mean</th>\n",
       "      <td>202.228792</td>\n",
       "      <td>1.354756</td>\n",
       "      <td>1.318766</td>\n",
       "      <td>1.398458</td>\n",
       "      <td>1.311054</td>\n",
       "      <td>8.460154</td>\n",
       "      <td>1.208226</td>\n",
       "      <td>1.868895</td>\n",
       "      <td>1.920308</td>\n",
       "      <td>1.557841</td>\n",
       "      <td>1.799486</td>\n",
       "      <td>4.989717</td>\n",
       "      <td>27.196144</td>\n",
       "      <td>13.737789</td>\n",
       "      <td>3.077121</td>\n",
       "    </tr>\n",
       "    <tr>\n",
       "      <th>std</th>\n",
       "      <td>116.730333</td>\n",
       "      <td>0.479055</td>\n",
       "      <td>0.466598</td>\n",
       "      <td>0.490211</td>\n",
       "      <td>0.485253</td>\n",
       "      <td>1.682714</td>\n",
       "      <td>0.471162</td>\n",
       "      <td>0.718521</td>\n",
       "      <td>0.906064</td>\n",
       "      <td>0.497283</td>\n",
       "      <td>0.806481</td>\n",
       "      <td>1.428682</td>\n",
       "      <td>24.330815</td>\n",
       "      <td>2.813468</td>\n",
       "      <td>0.811779</td>\n",
       "    </tr>\n",
       "    <tr>\n",
       "      <th>min</th>\n",
       "      <td>1.000000</td>\n",
       "      <td>1.000000</td>\n",
       "      <td>1.000000</td>\n",
       "      <td>1.000000</td>\n",
       "      <td>1.000000</td>\n",
       "      <td>6.000000</td>\n",
       "      <td>1.000000</td>\n",
       "      <td>1.000000</td>\n",
       "      <td>1.000000</td>\n",
       "      <td>1.000000</td>\n",
       "      <td>1.000000</td>\n",
       "      <td>3.000000</td>\n",
       "      <td>3.500000</td>\n",
       "      <td>9.000000</td>\n",
       "      <td>2.000000</td>\n",
       "    </tr>\n",
       "    <tr>\n",
       "      <th>25%</th>\n",
       "      <td>104.000000</td>\n",
       "      <td>1.000000</td>\n",
       "      <td>1.000000</td>\n",
       "      <td>1.000000</td>\n",
       "      <td>1.000000</td>\n",
       "      <td>7.000000</td>\n",
       "      <td>1.000000</td>\n",
       "      <td>1.000000</td>\n",
       "      <td>1.000000</td>\n",
       "      <td>1.000000</td>\n",
       "      <td>1.000000</td>\n",
       "      <td>4.000000</td>\n",
       "      <td>10.800000</td>\n",
       "      <td>12.000000</td>\n",
       "      <td>2.000000</td>\n",
       "    </tr>\n",
       "    <tr>\n",
       "      <th>50%</th>\n",
       "      <td>202.000000</td>\n",
       "      <td>1.000000</td>\n",
       "      <td>1.000000</td>\n",
       "      <td>1.000000</td>\n",
       "      <td>1.000000</td>\n",
       "      <td>8.000000</td>\n",
       "      <td>1.000000</td>\n",
       "      <td>2.000000</td>\n",
       "      <td>2.000000</td>\n",
       "      <td>2.000000</td>\n",
       "      <td>2.000000</td>\n",
       "      <td>5.000000</td>\n",
       "      <td>19.000000</td>\n",
       "      <td>13.000000</td>\n",
       "      <td>3.000000</td>\n",
       "    </tr>\n",
       "    <tr>\n",
       "      <th>75%</th>\n",
       "      <td>299.000000</td>\n",
       "      <td>2.000000</td>\n",
       "      <td>2.000000</td>\n",
       "      <td>2.000000</td>\n",
       "      <td>2.000000</td>\n",
       "      <td>9.000000</td>\n",
       "      <td>1.000000</td>\n",
       "      <td>2.000000</td>\n",
       "      <td>3.000000</td>\n",
       "      <td>2.000000</td>\n",
       "      <td>2.000000</td>\n",
       "      <td>6.000000</td>\n",
       "      <td>35.100000</td>\n",
       "      <td>16.000000</td>\n",
       "      <td>4.000000</td>\n",
       "    </tr>\n",
       "    <tr>\n",
       "      <th>max</th>\n",
       "      <td>412.000000</td>\n",
       "      <td>2.000000</td>\n",
       "      <td>2.000000</td>\n",
       "      <td>2.000000</td>\n",
       "      <td>3.000000</td>\n",
       "      <td>13.000000</td>\n",
       "      <td>3.000000</td>\n",
       "      <td>3.000000</td>\n",
       "      <td>3.000000</td>\n",
       "      <td>2.000000</td>\n",
       "      <td>3.000000</td>\n",
       "      <td>8.000000</td>\n",
       "      <td>154.800000</td>\n",
       "      <td>21.000000</td>\n",
       "      <td>5.000000</td>\n",
       "    </tr>\n",
       "  </tbody>\n",
       "</table>\n",
       "</div>"
      ],
      "text/plain": [
       "           serial  T_surface_loc  T_sinus_dt  T_height_loc   T_gm_over  \\\n",
       "count  389.000000     389.000000  389.000000    389.000000  389.000000   \n",
       "mean   202.228792       1.354756    1.318766      1.398458    1.311054   \n",
       "std    116.730333       0.479055    0.466598      0.490211    0.485253   \n",
       "min      1.000000       1.000000    1.000000      1.000000    1.000000   \n",
       "25%    104.000000       1.000000    1.000000      1.000000    1.000000   \n",
       "50%    202.000000       1.000000    1.000000      1.000000    1.000000   \n",
       "75%    299.000000       2.000000    2.000000      2.000000    2.000000   \n",
       "max    412.000000       2.000000    2.000000      2.000000    3.000000   \n",
       "\n",
       "       PADUA_total      T_size  T_Exophytic  T_near_urethra       T_APX  \\\n",
       "count   389.000000  389.000000   389.000000      389.000000  389.000000   \n",
       "mean      8.460154    1.208226     1.868895        1.920308    1.557841   \n",
       "std       1.682714    0.471162     0.718521        0.906064    0.497283   \n",
       "min       6.000000    1.000000     1.000000        1.000000    1.000000   \n",
       "25%       7.000000    1.000000     1.000000        1.000000    1.000000   \n",
       "50%       8.000000    1.000000     2.000000        2.000000    2.000000   \n",
       "75%       9.000000    1.000000     2.000000        3.000000    2.000000   \n",
       "max      13.000000    3.000000     3.000000        3.000000    2.000000   \n",
       "\n",
       "       T_rel_urethra  RENAL_total        RAIV       total  T_size_exo  \n",
       "count     389.000000   389.000000  389.000000  389.000000  389.000000  \n",
       "mean        1.799486     4.989717   27.196144   13.737789    3.077121  \n",
       "std         0.806481     1.428682   24.330815    2.813468    0.811779  \n",
       "min         1.000000     3.000000    3.500000    9.000000    2.000000  \n",
       "25%         1.000000     4.000000   10.800000   12.000000    2.000000  \n",
       "50%         2.000000     5.000000   19.000000   13.000000    3.000000  \n",
       "75%         2.000000     6.000000   35.100000   16.000000    4.000000  \n",
       "max         3.000000     8.000000  154.800000   21.000000    5.000000  "
      ]
     },
     "execution_count": 37,
     "metadata": {},
     "output_type": "execute_result"
    }
   ],
   "source": [
    "merged_result.describe()"
   ]
  },
  {
   "cell_type": "code",
   "execution_count": 38,
   "metadata": {},
   "outputs": [
    {
     "data": {
      "application/vnd.plotly.v1+json": {
       "config": {
        "plotlyServerURL": "https://plot.ly"
       },
       "data": [
        {
         "alignmentgroup": "True",
         "bingroup": "x",
         "hovertemplate": "RAIV=%{x}<br>count=%{y}<extra></extra>",
         "legendgroup": "",
         "marker": {
          "color": "#636efa",
          "pattern": {
           "shape": ""
          }
         },
         "name": "",
         "offsetgroup": "",
         "orientation": "v",
         "showlegend": false,
         "type": "histogram",
         "x": [
          51.1,
          46.1,
          14.8,
          19.7,
          14.8,
          18.5,
          42.5,
          56.3,
          65.3,
          51.1,
          95.7,
          45,
          55.8,
          48.2,
          58.6,
          85.4,
          31.4,
          28.6,
          114,
          27.7,
          75.9,
          154.8,
          25.8,
          45.6,
          36.8,
          57.8,
          44.3,
          6.9,
          43.6,
          48.8,
          46,
          24.7,
          51.6,
          45.6,
          13.1,
          9,
          67.2,
          30.3,
          30.3,
          23.7,
          66.5,
          40.6,
          30.4,
          20.2,
          94.2,
          74.6,
          17.9,
          37.2,
          111.3,
          66.5,
          18.1,
          103.6,
          19.3,
          27.6,
          49.7,
          15.3,
          46.2,
          55.6,
          143.4,
          46.7,
          67.2,
          11.8,
          76.9,
          42.1,
          32.6,
          19.2,
          20.7,
          31.8,
          9.1,
          26.5,
          8.1,
          7.3,
          21.8,
          93.6,
          27.3,
          10.8,
          43.9,
          8.6,
          4.6,
          34.4,
          18.9,
          82.3,
          88.5,
          82.2,
          12.3,
          35.7,
          49.7,
          10.6,
          19,
          18.6,
          52.6,
          74.2,
          27.7,
          36.5,
          8.8,
          22.6,
          11,
          17.7,
          19.4,
          26.8,
          55.8,
          16.6,
          33.4,
          11.9,
          28.8,
          13.6,
          11.4,
          27.9,
          14.1,
          19.6,
          56.3,
          57.8,
          24.1,
          10.8,
          29.1,
          32.8,
          6.7,
          19.8,
          20.2,
          82.2,
          35.1,
          27.8,
          24.4,
          27.6,
          6.6,
          21.5,
          9.6,
          5.3,
          7.4,
          51.9,
          36,
          8.8,
          7.1,
          5.9,
          5.1,
          14,
          17.2,
          5.3,
          13.4,
          15,
          26.9,
          5.1,
          17.2,
          13.1,
          4.3,
          7.7,
          19.3,
          33.2,
          15.2,
          6.1,
          16.8,
          4.1,
          14.9,
          14.2,
          10.9,
          6.5,
          23,
          6.6,
          19.4,
          23,
          12.7,
          13.1,
          4.3,
          7.1,
          13.9,
          18.1,
          12.7,
          8.1,
          13.4,
          21.8,
          21.2,
          5.9,
          9.5,
          22.6,
          10.2,
          16.5,
          27.9,
          35.3,
          22.7,
          4.7,
          11.7,
          13.1,
          21.3,
          11.5,
          13.5,
          8.7,
          14,
          12.5,
          54.4,
          32.7,
          9.1,
          9.2,
          3.7,
          12.7,
          10.4,
          11.5,
          9,
          22.4,
          9.9,
          9.3,
          11.9,
          18.4,
          25.8,
          10.1,
          6.6,
          9.1,
          28,
          8.1,
          6.6,
          10.6,
          36.5,
          43.1,
          8.1,
          10.4,
          14.7,
          42.7,
          5.1,
          9.9,
          36.5,
          17.7,
          18.4,
          10.1,
          7.1,
          11.1,
          26.2,
          19.9,
          4.1,
          13,
          9.3,
          16.2,
          5.9,
          7.1,
          36.5,
          27.6,
          11,
          6.1,
          16.8,
          6.1,
          10.4,
          31.3,
          21.9,
          17.8,
          37.8,
          63.6,
          3.5,
          5.3,
          14.7,
          30.4,
          3.6,
          9.3,
          36.5,
          9.2,
          20.9,
          24.8,
          5.1,
          19.4,
          30.4,
          26.9,
          21.6,
          6.1,
          8.7,
          22.2,
          14.5,
          10.4,
          6.6,
          15.3,
          20.5,
          22.6,
          10.3,
          4.6,
          6.5,
          21.8,
          12,
          19.1,
          14.4,
          13.2,
          13.4,
          26.7,
          15.3,
          14,
          16.8,
          3.6,
          9.6,
          42.7,
          24,
          37,
          8.3,
          14.3,
          13.5,
          9.5,
          31.7,
          37.5,
          15.7,
          10.4,
          5.2,
          63.6,
          20.6,
          6.5,
          25.5,
          11.2,
          9.9,
          15,
          10.9,
          12.1,
          31.6,
          14.3,
          15,
          27.9,
          17.9,
          13.3,
          4.6,
          6.5,
          64.7,
          22.6,
          49.5,
          7.1,
          16.8,
          8.4,
          11.9,
          10.7,
          12.8,
          32.8,
          6.6,
          14,
          13.1,
          5.3,
          14.3,
          32.2,
          12,
          16.1,
          7.4,
          14.7,
          49.5,
          23.3,
          5.7,
          7.6,
          20.6,
          42.1,
          10.4,
          7.1,
          18.1,
          10.9,
          8.4,
          22.4,
          13,
          9,
          24.2,
          17,
          28.5,
          29.1,
          60.5,
          37.9,
          48.9,
          67.8,
          70.1,
          18.9,
          106,
          50.6,
          57.7,
          60.5,
          52.3,
          55.6,
          22.4,
          47.8,
          10.1,
          24.7,
          121.1,
          122.7,
          28.4,
          74.6,
          49.5,
          65.6,
          104.8,
          14.7,
          48.9,
          20.4,
          24,
          16.8,
          55.6,
          10.6,
          23.2,
          17.7,
          97.9,
          24.6,
          21.3,
          30.5,
          70.7,
          12.6,
          11.8
         ],
         "xaxis": "x",
         "yaxis": "y"
        }
       ],
       "layout": {
        "barmode": "relative",
        "legend": {
         "tracegroupgap": 0
        },
        "margin": {
         "t": 60
        },
        "template": {
         "data": {
          "bar": [
           {
            "error_x": {
             "color": "#2a3f5f"
            },
            "error_y": {
             "color": "#2a3f5f"
            },
            "marker": {
             "line": {
              "color": "#E5ECF6",
              "width": 0.5
             },
             "pattern": {
              "fillmode": "overlay",
              "size": 10,
              "solidity": 0.2
             }
            },
            "type": "bar"
           }
          ],
          "barpolar": [
           {
            "marker": {
             "line": {
              "color": "#E5ECF6",
              "width": 0.5
             },
             "pattern": {
              "fillmode": "overlay",
              "size": 10,
              "solidity": 0.2
             }
            },
            "type": "barpolar"
           }
          ],
          "carpet": [
           {
            "aaxis": {
             "endlinecolor": "#2a3f5f",
             "gridcolor": "white",
             "linecolor": "white",
             "minorgridcolor": "white",
             "startlinecolor": "#2a3f5f"
            },
            "baxis": {
             "endlinecolor": "#2a3f5f",
             "gridcolor": "white",
             "linecolor": "white",
             "minorgridcolor": "white",
             "startlinecolor": "#2a3f5f"
            },
            "type": "carpet"
           }
          ],
          "choropleth": [
           {
            "colorbar": {
             "outlinewidth": 0,
             "ticks": ""
            },
            "type": "choropleth"
           }
          ],
          "contour": [
           {
            "colorbar": {
             "outlinewidth": 0,
             "ticks": ""
            },
            "colorscale": [
             [
              0,
              "#0d0887"
             ],
             [
              0.1111111111111111,
              "#46039f"
             ],
             [
              0.2222222222222222,
              "#7201a8"
             ],
             [
              0.3333333333333333,
              "#9c179e"
             ],
             [
              0.4444444444444444,
              "#bd3786"
             ],
             [
              0.5555555555555556,
              "#d8576b"
             ],
             [
              0.6666666666666666,
              "#ed7953"
             ],
             [
              0.7777777777777778,
              "#fb9f3a"
             ],
             [
              0.8888888888888888,
              "#fdca26"
             ],
             [
              1,
              "#f0f921"
             ]
            ],
            "type": "contour"
           }
          ],
          "contourcarpet": [
           {
            "colorbar": {
             "outlinewidth": 0,
             "ticks": ""
            },
            "type": "contourcarpet"
           }
          ],
          "heatmap": [
           {
            "colorbar": {
             "outlinewidth": 0,
             "ticks": ""
            },
            "colorscale": [
             [
              0,
              "#0d0887"
             ],
             [
              0.1111111111111111,
              "#46039f"
             ],
             [
              0.2222222222222222,
              "#7201a8"
             ],
             [
              0.3333333333333333,
              "#9c179e"
             ],
             [
              0.4444444444444444,
              "#bd3786"
             ],
             [
              0.5555555555555556,
              "#d8576b"
             ],
             [
              0.6666666666666666,
              "#ed7953"
             ],
             [
              0.7777777777777778,
              "#fb9f3a"
             ],
             [
              0.8888888888888888,
              "#fdca26"
             ],
             [
              1,
              "#f0f921"
             ]
            ],
            "type": "heatmap"
           }
          ],
          "heatmapgl": [
           {
            "colorbar": {
             "outlinewidth": 0,
             "ticks": ""
            },
            "colorscale": [
             [
              0,
              "#0d0887"
             ],
             [
              0.1111111111111111,
              "#46039f"
             ],
             [
              0.2222222222222222,
              "#7201a8"
             ],
             [
              0.3333333333333333,
              "#9c179e"
             ],
             [
              0.4444444444444444,
              "#bd3786"
             ],
             [
              0.5555555555555556,
              "#d8576b"
             ],
             [
              0.6666666666666666,
              "#ed7953"
             ],
             [
              0.7777777777777778,
              "#fb9f3a"
             ],
             [
              0.8888888888888888,
              "#fdca26"
             ],
             [
              1,
              "#f0f921"
             ]
            ],
            "type": "heatmapgl"
           }
          ],
          "histogram": [
           {
            "marker": {
             "pattern": {
              "fillmode": "overlay",
              "size": 10,
              "solidity": 0.2
             }
            },
            "type": "histogram"
           }
          ],
          "histogram2d": [
           {
            "colorbar": {
             "outlinewidth": 0,
             "ticks": ""
            },
            "colorscale": [
             [
              0,
              "#0d0887"
             ],
             [
              0.1111111111111111,
              "#46039f"
             ],
             [
              0.2222222222222222,
              "#7201a8"
             ],
             [
              0.3333333333333333,
              "#9c179e"
             ],
             [
              0.4444444444444444,
              "#bd3786"
             ],
             [
              0.5555555555555556,
              "#d8576b"
             ],
             [
              0.6666666666666666,
              "#ed7953"
             ],
             [
              0.7777777777777778,
              "#fb9f3a"
             ],
             [
              0.8888888888888888,
              "#fdca26"
             ],
             [
              1,
              "#f0f921"
             ]
            ],
            "type": "histogram2d"
           }
          ],
          "histogram2dcontour": [
           {
            "colorbar": {
             "outlinewidth": 0,
             "ticks": ""
            },
            "colorscale": [
             [
              0,
              "#0d0887"
             ],
             [
              0.1111111111111111,
              "#46039f"
             ],
             [
              0.2222222222222222,
              "#7201a8"
             ],
             [
              0.3333333333333333,
              "#9c179e"
             ],
             [
              0.4444444444444444,
              "#bd3786"
             ],
             [
              0.5555555555555556,
              "#d8576b"
             ],
             [
              0.6666666666666666,
              "#ed7953"
             ],
             [
              0.7777777777777778,
              "#fb9f3a"
             ],
             [
              0.8888888888888888,
              "#fdca26"
             ],
             [
              1,
              "#f0f921"
             ]
            ],
            "type": "histogram2dcontour"
           }
          ],
          "mesh3d": [
           {
            "colorbar": {
             "outlinewidth": 0,
             "ticks": ""
            },
            "type": "mesh3d"
           }
          ],
          "parcoords": [
           {
            "line": {
             "colorbar": {
              "outlinewidth": 0,
              "ticks": ""
             }
            },
            "type": "parcoords"
           }
          ],
          "pie": [
           {
            "automargin": true,
            "type": "pie"
           }
          ],
          "scatter": [
           {
            "fillpattern": {
             "fillmode": "overlay",
             "size": 10,
             "solidity": 0.2
            },
            "type": "scatter"
           }
          ],
          "scatter3d": [
           {
            "line": {
             "colorbar": {
              "outlinewidth": 0,
              "ticks": ""
             }
            },
            "marker": {
             "colorbar": {
              "outlinewidth": 0,
              "ticks": ""
             }
            },
            "type": "scatter3d"
           }
          ],
          "scattercarpet": [
           {
            "marker": {
             "colorbar": {
              "outlinewidth": 0,
              "ticks": ""
             }
            },
            "type": "scattercarpet"
           }
          ],
          "scattergeo": [
           {
            "marker": {
             "colorbar": {
              "outlinewidth": 0,
              "ticks": ""
             }
            },
            "type": "scattergeo"
           }
          ],
          "scattergl": [
           {
            "marker": {
             "colorbar": {
              "outlinewidth": 0,
              "ticks": ""
             }
            },
            "type": "scattergl"
           }
          ],
          "scattermapbox": [
           {
            "marker": {
             "colorbar": {
              "outlinewidth": 0,
              "ticks": ""
             }
            },
            "type": "scattermapbox"
           }
          ],
          "scatterpolar": [
           {
            "marker": {
             "colorbar": {
              "outlinewidth": 0,
              "ticks": ""
             }
            },
            "type": "scatterpolar"
           }
          ],
          "scatterpolargl": [
           {
            "marker": {
             "colorbar": {
              "outlinewidth": 0,
              "ticks": ""
             }
            },
            "type": "scatterpolargl"
           }
          ],
          "scatterternary": [
           {
            "marker": {
             "colorbar": {
              "outlinewidth": 0,
              "ticks": ""
             }
            },
            "type": "scatterternary"
           }
          ],
          "surface": [
           {
            "colorbar": {
             "outlinewidth": 0,
             "ticks": ""
            },
            "colorscale": [
             [
              0,
              "#0d0887"
             ],
             [
              0.1111111111111111,
              "#46039f"
             ],
             [
              0.2222222222222222,
              "#7201a8"
             ],
             [
              0.3333333333333333,
              "#9c179e"
             ],
             [
              0.4444444444444444,
              "#bd3786"
             ],
             [
              0.5555555555555556,
              "#d8576b"
             ],
             [
              0.6666666666666666,
              "#ed7953"
             ],
             [
              0.7777777777777778,
              "#fb9f3a"
             ],
             [
              0.8888888888888888,
              "#fdca26"
             ],
             [
              1,
              "#f0f921"
             ]
            ],
            "type": "surface"
           }
          ],
          "table": [
           {
            "cells": {
             "fill": {
              "color": "#EBF0F8"
             },
             "line": {
              "color": "white"
             }
            },
            "header": {
             "fill": {
              "color": "#C8D4E3"
             },
             "line": {
              "color": "white"
             }
            },
            "type": "table"
           }
          ]
         },
         "layout": {
          "annotationdefaults": {
           "arrowcolor": "#2a3f5f",
           "arrowhead": 0,
           "arrowwidth": 1
          },
          "autotypenumbers": "strict",
          "coloraxis": {
           "colorbar": {
            "outlinewidth": 0,
            "ticks": ""
           }
          },
          "colorscale": {
           "diverging": [
            [
             0,
             "#8e0152"
            ],
            [
             0.1,
             "#c51b7d"
            ],
            [
             0.2,
             "#de77ae"
            ],
            [
             0.3,
             "#f1b6da"
            ],
            [
             0.4,
             "#fde0ef"
            ],
            [
             0.5,
             "#f7f7f7"
            ],
            [
             0.6,
             "#e6f5d0"
            ],
            [
             0.7,
             "#b8e186"
            ],
            [
             0.8,
             "#7fbc41"
            ],
            [
             0.9,
             "#4d9221"
            ],
            [
             1,
             "#276419"
            ]
           ],
           "sequential": [
            [
             0,
             "#0d0887"
            ],
            [
             0.1111111111111111,
             "#46039f"
            ],
            [
             0.2222222222222222,
             "#7201a8"
            ],
            [
             0.3333333333333333,
             "#9c179e"
            ],
            [
             0.4444444444444444,
             "#bd3786"
            ],
            [
             0.5555555555555556,
             "#d8576b"
            ],
            [
             0.6666666666666666,
             "#ed7953"
            ],
            [
             0.7777777777777778,
             "#fb9f3a"
            ],
            [
             0.8888888888888888,
             "#fdca26"
            ],
            [
             1,
             "#f0f921"
            ]
           ],
           "sequentialminus": [
            [
             0,
             "#0d0887"
            ],
            [
             0.1111111111111111,
             "#46039f"
            ],
            [
             0.2222222222222222,
             "#7201a8"
            ],
            [
             0.3333333333333333,
             "#9c179e"
            ],
            [
             0.4444444444444444,
             "#bd3786"
            ],
            [
             0.5555555555555556,
             "#d8576b"
            ],
            [
             0.6666666666666666,
             "#ed7953"
            ],
            [
             0.7777777777777778,
             "#fb9f3a"
            ],
            [
             0.8888888888888888,
             "#fdca26"
            ],
            [
             1,
             "#f0f921"
            ]
           ]
          },
          "colorway": [
           "#636efa",
           "#EF553B",
           "#00cc96",
           "#ab63fa",
           "#FFA15A",
           "#19d3f3",
           "#FF6692",
           "#B6E880",
           "#FF97FF",
           "#FECB52"
          ],
          "font": {
           "color": "#2a3f5f"
          },
          "geo": {
           "bgcolor": "white",
           "lakecolor": "white",
           "landcolor": "#E5ECF6",
           "showlakes": true,
           "showland": true,
           "subunitcolor": "white"
          },
          "hoverlabel": {
           "align": "left"
          },
          "hovermode": "closest",
          "mapbox": {
           "style": "light"
          },
          "paper_bgcolor": "white",
          "plot_bgcolor": "#E5ECF6",
          "polar": {
           "angularaxis": {
            "gridcolor": "white",
            "linecolor": "white",
            "ticks": ""
           },
           "bgcolor": "#E5ECF6",
           "radialaxis": {
            "gridcolor": "white",
            "linecolor": "white",
            "ticks": ""
           }
          },
          "scene": {
           "xaxis": {
            "backgroundcolor": "#E5ECF6",
            "gridcolor": "white",
            "gridwidth": 2,
            "linecolor": "white",
            "showbackground": true,
            "ticks": "",
            "zerolinecolor": "white"
           },
           "yaxis": {
            "backgroundcolor": "#E5ECF6",
            "gridcolor": "white",
            "gridwidth": 2,
            "linecolor": "white",
            "showbackground": true,
            "ticks": "",
            "zerolinecolor": "white"
           },
           "zaxis": {
            "backgroundcolor": "#E5ECF6",
            "gridcolor": "white",
            "gridwidth": 2,
            "linecolor": "white",
            "showbackground": true,
            "ticks": "",
            "zerolinecolor": "white"
           }
          },
          "shapedefaults": {
           "line": {
            "color": "#2a3f5f"
           }
          },
          "ternary": {
           "aaxis": {
            "gridcolor": "white",
            "linecolor": "white",
            "ticks": ""
           },
           "baxis": {
            "gridcolor": "white",
            "linecolor": "white",
            "ticks": ""
           },
           "bgcolor": "#E5ECF6",
           "caxis": {
            "gridcolor": "white",
            "linecolor": "white",
            "ticks": ""
           }
          },
          "title": {
           "x": 0.05
          },
          "xaxis": {
           "automargin": true,
           "gridcolor": "white",
           "linecolor": "white",
           "ticks": "",
           "title": {
            "standoff": 15
           },
           "zerolinecolor": "white",
           "zerolinewidth": 2
          },
          "yaxis": {
           "automargin": true,
           "gridcolor": "white",
           "linecolor": "white",
           "ticks": "",
           "title": {
            "standoff": 15
           },
           "zerolinecolor": "white",
           "zerolinewidth": 2
          }
         }
        },
        "xaxis": {
         "anchor": "y",
         "domain": [
          0,
          1
         ],
         "title": {
          "text": "RAIV"
         }
        },
        "yaxis": {
         "anchor": "x",
         "domain": [
          0,
          1
         ],
         "title": {
          "text": "count"
         }
        }
       }
      }
     },
     "metadata": {},
     "output_type": "display_data"
    }
   ],
   "source": [
    "# Raiv에 대한 histogram\n",
    "import plotly.express as px\n",
    "\n",
    "fig=px.histogram(merged_result, x='RAIV')\n",
    "fig.show()"
   ]
  },
  {
   "cell_type": "code",
   "execution_count": 39,
   "metadata": {},
   "outputs": [
    {
     "data": {
      "text/html": [
       "<div>\n",
       "<style scoped>\n",
       "    .dataframe tbody tr th:only-of-type {\n",
       "        vertical-align: middle;\n",
       "    }\n",
       "\n",
       "    .dataframe tbody tr th {\n",
       "        vertical-align: top;\n",
       "    }\n",
       "\n",
       "    .dataframe thead th {\n",
       "        text-align: right;\n",
       "    }\n",
       "</style>\n",
       "<table border=\"1\" class=\"dataframe\">\n",
       "  <thead>\n",
       "    <tr style=\"text-align: right;\">\n",
       "      <th></th>\n",
       "      <th>serial</th>\n",
       "      <th>T_surface_loc</th>\n",
       "      <th>T_sinus_dt</th>\n",
       "      <th>T_height_loc</th>\n",
       "      <th>T_gm_over</th>\n",
       "      <th>PADUA_total</th>\n",
       "      <th>T_size</th>\n",
       "      <th>T_Exophytic</th>\n",
       "      <th>T_near_urethra</th>\n",
       "      <th>T_APX</th>\n",
       "      <th>T_rel_urethra</th>\n",
       "      <th>RENAL_total</th>\n",
       "      <th>RAIV</th>\n",
       "      <th>total</th>\n",
       "      <th>T_size_exo</th>\n",
       "    </tr>\n",
       "  </thead>\n",
       "  <tbody>\n",
       "    <tr>\n",
       "      <th>count</th>\n",
       "      <td>389.000000</td>\n",
       "      <td>389.000000</td>\n",
       "      <td>389.000000</td>\n",
       "      <td>389.000000</td>\n",
       "      <td>389.000000</td>\n",
       "      <td>389.000000</td>\n",
       "      <td>389.000000</td>\n",
       "      <td>389.000000</td>\n",
       "      <td>389.000000</td>\n",
       "      <td>389.000000</td>\n",
       "      <td>389.000000</td>\n",
       "      <td>389.000000</td>\n",
       "      <td>389.000000</td>\n",
       "      <td>389.000000</td>\n",
       "      <td>389.000000</td>\n",
       "    </tr>\n",
       "    <tr>\n",
       "      <th>mean</th>\n",
       "      <td>202.228792</td>\n",
       "      <td>1.354756</td>\n",
       "      <td>1.318766</td>\n",
       "      <td>1.398458</td>\n",
       "      <td>1.311054</td>\n",
       "      <td>8.460154</td>\n",
       "      <td>1.208226</td>\n",
       "      <td>1.868895</td>\n",
       "      <td>1.920308</td>\n",
       "      <td>1.557841</td>\n",
       "      <td>1.799486</td>\n",
       "      <td>4.989717</td>\n",
       "      <td>27.196144</td>\n",
       "      <td>13.737789</td>\n",
       "      <td>3.077121</td>\n",
       "    </tr>\n",
       "    <tr>\n",
       "      <th>std</th>\n",
       "      <td>116.730333</td>\n",
       "      <td>0.479055</td>\n",
       "      <td>0.466598</td>\n",
       "      <td>0.490211</td>\n",
       "      <td>0.485253</td>\n",
       "      <td>1.682714</td>\n",
       "      <td>0.471162</td>\n",
       "      <td>0.718521</td>\n",
       "      <td>0.906064</td>\n",
       "      <td>0.497283</td>\n",
       "      <td>0.806481</td>\n",
       "      <td>1.428682</td>\n",
       "      <td>24.330815</td>\n",
       "      <td>2.813468</td>\n",
       "      <td>0.811779</td>\n",
       "    </tr>\n",
       "    <tr>\n",
       "      <th>min</th>\n",
       "      <td>1.000000</td>\n",
       "      <td>1.000000</td>\n",
       "      <td>1.000000</td>\n",
       "      <td>1.000000</td>\n",
       "      <td>1.000000</td>\n",
       "      <td>6.000000</td>\n",
       "      <td>1.000000</td>\n",
       "      <td>1.000000</td>\n",
       "      <td>1.000000</td>\n",
       "      <td>1.000000</td>\n",
       "      <td>1.000000</td>\n",
       "      <td>3.000000</td>\n",
       "      <td>3.500000</td>\n",
       "      <td>9.000000</td>\n",
       "      <td>2.000000</td>\n",
       "    </tr>\n",
       "    <tr>\n",
       "      <th>25%</th>\n",
       "      <td>104.000000</td>\n",
       "      <td>1.000000</td>\n",
       "      <td>1.000000</td>\n",
       "      <td>1.000000</td>\n",
       "      <td>1.000000</td>\n",
       "      <td>7.000000</td>\n",
       "      <td>1.000000</td>\n",
       "      <td>1.000000</td>\n",
       "      <td>1.000000</td>\n",
       "      <td>1.000000</td>\n",
       "      <td>1.000000</td>\n",
       "      <td>4.000000</td>\n",
       "      <td>10.800000</td>\n",
       "      <td>12.000000</td>\n",
       "      <td>2.000000</td>\n",
       "    </tr>\n",
       "    <tr>\n",
       "      <th>50%</th>\n",
       "      <td>202.000000</td>\n",
       "      <td>1.000000</td>\n",
       "      <td>1.000000</td>\n",
       "      <td>1.000000</td>\n",
       "      <td>1.000000</td>\n",
       "      <td>8.000000</td>\n",
       "      <td>1.000000</td>\n",
       "      <td>2.000000</td>\n",
       "      <td>2.000000</td>\n",
       "      <td>2.000000</td>\n",
       "      <td>2.000000</td>\n",
       "      <td>5.000000</td>\n",
       "      <td>19.000000</td>\n",
       "      <td>13.000000</td>\n",
       "      <td>3.000000</td>\n",
       "    </tr>\n",
       "    <tr>\n",
       "      <th>75%</th>\n",
       "      <td>299.000000</td>\n",
       "      <td>2.000000</td>\n",
       "      <td>2.000000</td>\n",
       "      <td>2.000000</td>\n",
       "      <td>2.000000</td>\n",
       "      <td>9.000000</td>\n",
       "      <td>1.000000</td>\n",
       "      <td>2.000000</td>\n",
       "      <td>3.000000</td>\n",
       "      <td>2.000000</td>\n",
       "      <td>2.000000</td>\n",
       "      <td>6.000000</td>\n",
       "      <td>35.100000</td>\n",
       "      <td>16.000000</td>\n",
       "      <td>4.000000</td>\n",
       "    </tr>\n",
       "    <tr>\n",
       "      <th>max</th>\n",
       "      <td>412.000000</td>\n",
       "      <td>2.000000</td>\n",
       "      <td>2.000000</td>\n",
       "      <td>2.000000</td>\n",
       "      <td>3.000000</td>\n",
       "      <td>13.000000</td>\n",
       "      <td>3.000000</td>\n",
       "      <td>3.000000</td>\n",
       "      <td>3.000000</td>\n",
       "      <td>2.000000</td>\n",
       "      <td>3.000000</td>\n",
       "      <td>8.000000</td>\n",
       "      <td>154.800000</td>\n",
       "      <td>21.000000</td>\n",
       "      <td>5.000000</td>\n",
       "    </tr>\n",
       "  </tbody>\n",
       "</table>\n",
       "</div>"
      ],
      "text/plain": [
       "           serial  T_surface_loc  T_sinus_dt  T_height_loc   T_gm_over  \\\n",
       "count  389.000000     389.000000  389.000000    389.000000  389.000000   \n",
       "mean   202.228792       1.354756    1.318766      1.398458    1.311054   \n",
       "std    116.730333       0.479055    0.466598      0.490211    0.485253   \n",
       "min      1.000000       1.000000    1.000000      1.000000    1.000000   \n",
       "25%    104.000000       1.000000    1.000000      1.000000    1.000000   \n",
       "50%    202.000000       1.000000    1.000000      1.000000    1.000000   \n",
       "75%    299.000000       2.000000    2.000000      2.000000    2.000000   \n",
       "max    412.000000       2.000000    2.000000      2.000000    3.000000   \n",
       "\n",
       "       PADUA_total      T_size  T_Exophytic  T_near_urethra       T_APX  \\\n",
       "count   389.000000  389.000000   389.000000      389.000000  389.000000   \n",
       "mean      8.460154    1.208226     1.868895        1.920308    1.557841   \n",
       "std       1.682714    0.471162     0.718521        0.906064    0.497283   \n",
       "min       6.000000    1.000000     1.000000        1.000000    1.000000   \n",
       "25%       7.000000    1.000000     1.000000        1.000000    1.000000   \n",
       "50%       8.000000    1.000000     2.000000        2.000000    2.000000   \n",
       "75%       9.000000    1.000000     2.000000        3.000000    2.000000   \n",
       "max      13.000000    3.000000     3.000000        3.000000    2.000000   \n",
       "\n",
       "       T_rel_urethra  RENAL_total        RAIV       total  T_size_exo  \n",
       "count     389.000000   389.000000  389.000000  389.000000  389.000000  \n",
       "mean        1.799486     4.989717   27.196144   13.737789    3.077121  \n",
       "std         0.806481     1.428682   24.330815    2.813468    0.811779  \n",
       "min         1.000000     3.000000    3.500000    9.000000    2.000000  \n",
       "25%         1.000000     4.000000   10.800000   12.000000    2.000000  \n",
       "50%         2.000000     5.000000   19.000000   13.000000    3.000000  \n",
       "75%         2.000000     6.000000   35.100000   16.000000    4.000000  \n",
       "max         3.000000     8.000000  154.800000   21.000000    5.000000  "
      ]
     },
     "execution_count": 39,
     "metadata": {},
     "output_type": "execute_result"
    }
   ],
   "source": [
    "merged_result.describe()"
   ]
  },
  {
   "cell_type": "markdown",
   "metadata": {},
   "source": [
    "- 이상치 제거"
   ]
  },
  {
   "cell_type": "code",
   "execution_count": 40,
   "metadata": {},
   "outputs": [
    {
     "data": {
      "application/vnd.plotly.v1+json": {
       "config": {
        "plotlyServerURL": "https://plot.ly"
       },
       "data": [
        {
         "name": "RAIV",
         "type": "box",
         "y": [
          51.1,
          46.1,
          14.8,
          19.7,
          14.8,
          18.5,
          42.5,
          56.3,
          65.3,
          51.1,
          95.7,
          45,
          55.8,
          48.2,
          58.6,
          85.4,
          31.4,
          28.6,
          114,
          27.7,
          75.9,
          154.8,
          25.8,
          45.6,
          36.8,
          57.8,
          44.3,
          6.9,
          43.6,
          48.8,
          46,
          24.7,
          51.6,
          45.6,
          13.1,
          9,
          67.2,
          30.3,
          30.3,
          23.7,
          66.5,
          40.6,
          30.4,
          20.2,
          94.2,
          74.6,
          17.9,
          37.2,
          111.3,
          66.5,
          18.1,
          103.6,
          19.3,
          27.6,
          49.7,
          15.3,
          46.2,
          55.6,
          143.4,
          46.7,
          67.2,
          11.8,
          76.9,
          42.1,
          32.6,
          19.2,
          20.7,
          31.8,
          9.1,
          26.5,
          8.1,
          7.3,
          21.8,
          93.6,
          27.3,
          10.8,
          43.9,
          8.6,
          4.6,
          34.4,
          18.9,
          82.3,
          88.5,
          82.2,
          12.3,
          35.7,
          49.7,
          10.6,
          19,
          18.6,
          52.6,
          74.2,
          27.7,
          36.5,
          8.8,
          22.6,
          11,
          17.7,
          19.4,
          26.8,
          55.8,
          16.6,
          33.4,
          11.9,
          28.8,
          13.6,
          11.4,
          27.9,
          14.1,
          19.6,
          56.3,
          57.8,
          24.1,
          10.8,
          29.1,
          32.8,
          6.7,
          19.8,
          20.2,
          82.2,
          35.1,
          27.8,
          24.4,
          27.6,
          6.6,
          21.5,
          9.6,
          5.3,
          7.4,
          51.9,
          36,
          8.8,
          7.1,
          5.9,
          5.1,
          14,
          17.2,
          5.3,
          13.4,
          15,
          26.9,
          5.1,
          17.2,
          13.1,
          4.3,
          7.7,
          19.3,
          33.2,
          15.2,
          6.1,
          16.8,
          4.1,
          14.9,
          14.2,
          10.9,
          6.5,
          23,
          6.6,
          19.4,
          23,
          12.7,
          13.1,
          4.3,
          7.1,
          13.9,
          18.1,
          12.7,
          8.1,
          13.4,
          21.8,
          21.2,
          5.9,
          9.5,
          22.6,
          10.2,
          16.5,
          27.9,
          35.3,
          22.7,
          4.7,
          11.7,
          13.1,
          21.3,
          11.5,
          13.5,
          8.7,
          14,
          12.5,
          54.4,
          32.7,
          9.1,
          9.2,
          3.7,
          12.7,
          10.4,
          11.5,
          9,
          22.4,
          9.9,
          9.3,
          11.9,
          18.4,
          25.8,
          10.1,
          6.6,
          9.1,
          28,
          8.1,
          6.6,
          10.6,
          36.5,
          43.1,
          8.1,
          10.4,
          14.7,
          42.7,
          5.1,
          9.9,
          36.5,
          17.7,
          18.4,
          10.1,
          7.1,
          11.1,
          26.2,
          19.9,
          4.1,
          13,
          9.3,
          16.2,
          5.9,
          7.1,
          36.5,
          27.6,
          11,
          6.1,
          16.8,
          6.1,
          10.4,
          31.3,
          21.9,
          17.8,
          37.8,
          63.6,
          3.5,
          5.3,
          14.7,
          30.4,
          3.6,
          9.3,
          36.5,
          9.2,
          20.9,
          24.8,
          5.1,
          19.4,
          30.4,
          26.9,
          21.6,
          6.1,
          8.7,
          22.2,
          14.5,
          10.4,
          6.6,
          15.3,
          20.5,
          22.6,
          10.3,
          4.6,
          6.5,
          21.8,
          12,
          19.1,
          14.4,
          13.2,
          13.4,
          26.7,
          15.3,
          14,
          16.8,
          3.6,
          9.6,
          42.7,
          24,
          37,
          8.3,
          14.3,
          13.5,
          9.5,
          31.7,
          37.5,
          15.7,
          10.4,
          5.2,
          63.6,
          20.6,
          6.5,
          25.5,
          11.2,
          9.9,
          15,
          10.9,
          12.1,
          31.6,
          14.3,
          15,
          27.9,
          17.9,
          13.3,
          4.6,
          6.5,
          64.7,
          22.6,
          49.5,
          7.1,
          16.8,
          8.4,
          11.9,
          10.7,
          12.8,
          32.8,
          6.6,
          14,
          13.1,
          5.3,
          14.3,
          32.2,
          12,
          16.1,
          7.4,
          14.7,
          49.5,
          23.3,
          5.7,
          7.6,
          20.6,
          42.1,
          10.4,
          7.1,
          18.1,
          10.9,
          8.4,
          22.4,
          13,
          9,
          24.2,
          17,
          28.5,
          29.1,
          60.5,
          37.9,
          48.9,
          67.8,
          70.1,
          18.9,
          106,
          50.6,
          57.7,
          60.5,
          52.3,
          55.6,
          22.4,
          47.8,
          10.1,
          24.7,
          121.1,
          122.7,
          28.4,
          74.6,
          49.5,
          65.6,
          104.8,
          14.7,
          48.9,
          20.4,
          24,
          16.8,
          55.6,
          10.6,
          23.2,
          17.7,
          97.9,
          24.6,
          21.3,
          30.5,
          70.7,
          12.6,
          11.8
         ]
        }
       ],
       "layout": {
        "template": {
         "data": {
          "bar": [
           {
            "error_x": {
             "color": "#2a3f5f"
            },
            "error_y": {
             "color": "#2a3f5f"
            },
            "marker": {
             "line": {
              "color": "#E5ECF6",
              "width": 0.5
             },
             "pattern": {
              "fillmode": "overlay",
              "size": 10,
              "solidity": 0.2
             }
            },
            "type": "bar"
           }
          ],
          "barpolar": [
           {
            "marker": {
             "line": {
              "color": "#E5ECF6",
              "width": 0.5
             },
             "pattern": {
              "fillmode": "overlay",
              "size": 10,
              "solidity": 0.2
             }
            },
            "type": "barpolar"
           }
          ],
          "carpet": [
           {
            "aaxis": {
             "endlinecolor": "#2a3f5f",
             "gridcolor": "white",
             "linecolor": "white",
             "minorgridcolor": "white",
             "startlinecolor": "#2a3f5f"
            },
            "baxis": {
             "endlinecolor": "#2a3f5f",
             "gridcolor": "white",
             "linecolor": "white",
             "minorgridcolor": "white",
             "startlinecolor": "#2a3f5f"
            },
            "type": "carpet"
           }
          ],
          "choropleth": [
           {
            "colorbar": {
             "outlinewidth": 0,
             "ticks": ""
            },
            "type": "choropleth"
           }
          ],
          "contour": [
           {
            "colorbar": {
             "outlinewidth": 0,
             "ticks": ""
            },
            "colorscale": [
             [
              0,
              "#0d0887"
             ],
             [
              0.1111111111111111,
              "#46039f"
             ],
             [
              0.2222222222222222,
              "#7201a8"
             ],
             [
              0.3333333333333333,
              "#9c179e"
             ],
             [
              0.4444444444444444,
              "#bd3786"
             ],
             [
              0.5555555555555556,
              "#d8576b"
             ],
             [
              0.6666666666666666,
              "#ed7953"
             ],
             [
              0.7777777777777778,
              "#fb9f3a"
             ],
             [
              0.8888888888888888,
              "#fdca26"
             ],
             [
              1,
              "#f0f921"
             ]
            ],
            "type": "contour"
           }
          ],
          "contourcarpet": [
           {
            "colorbar": {
             "outlinewidth": 0,
             "ticks": ""
            },
            "type": "contourcarpet"
           }
          ],
          "heatmap": [
           {
            "colorbar": {
             "outlinewidth": 0,
             "ticks": ""
            },
            "colorscale": [
             [
              0,
              "#0d0887"
             ],
             [
              0.1111111111111111,
              "#46039f"
             ],
             [
              0.2222222222222222,
              "#7201a8"
             ],
             [
              0.3333333333333333,
              "#9c179e"
             ],
             [
              0.4444444444444444,
              "#bd3786"
             ],
             [
              0.5555555555555556,
              "#d8576b"
             ],
             [
              0.6666666666666666,
              "#ed7953"
             ],
             [
              0.7777777777777778,
              "#fb9f3a"
             ],
             [
              0.8888888888888888,
              "#fdca26"
             ],
             [
              1,
              "#f0f921"
             ]
            ],
            "type": "heatmap"
           }
          ],
          "heatmapgl": [
           {
            "colorbar": {
             "outlinewidth": 0,
             "ticks": ""
            },
            "colorscale": [
             [
              0,
              "#0d0887"
             ],
             [
              0.1111111111111111,
              "#46039f"
             ],
             [
              0.2222222222222222,
              "#7201a8"
             ],
             [
              0.3333333333333333,
              "#9c179e"
             ],
             [
              0.4444444444444444,
              "#bd3786"
             ],
             [
              0.5555555555555556,
              "#d8576b"
             ],
             [
              0.6666666666666666,
              "#ed7953"
             ],
             [
              0.7777777777777778,
              "#fb9f3a"
             ],
             [
              0.8888888888888888,
              "#fdca26"
             ],
             [
              1,
              "#f0f921"
             ]
            ],
            "type": "heatmapgl"
           }
          ],
          "histogram": [
           {
            "marker": {
             "pattern": {
              "fillmode": "overlay",
              "size": 10,
              "solidity": 0.2
             }
            },
            "type": "histogram"
           }
          ],
          "histogram2d": [
           {
            "colorbar": {
             "outlinewidth": 0,
             "ticks": ""
            },
            "colorscale": [
             [
              0,
              "#0d0887"
             ],
             [
              0.1111111111111111,
              "#46039f"
             ],
             [
              0.2222222222222222,
              "#7201a8"
             ],
             [
              0.3333333333333333,
              "#9c179e"
             ],
             [
              0.4444444444444444,
              "#bd3786"
             ],
             [
              0.5555555555555556,
              "#d8576b"
             ],
             [
              0.6666666666666666,
              "#ed7953"
             ],
             [
              0.7777777777777778,
              "#fb9f3a"
             ],
             [
              0.8888888888888888,
              "#fdca26"
             ],
             [
              1,
              "#f0f921"
             ]
            ],
            "type": "histogram2d"
           }
          ],
          "histogram2dcontour": [
           {
            "colorbar": {
             "outlinewidth": 0,
             "ticks": ""
            },
            "colorscale": [
             [
              0,
              "#0d0887"
             ],
             [
              0.1111111111111111,
              "#46039f"
             ],
             [
              0.2222222222222222,
              "#7201a8"
             ],
             [
              0.3333333333333333,
              "#9c179e"
             ],
             [
              0.4444444444444444,
              "#bd3786"
             ],
             [
              0.5555555555555556,
              "#d8576b"
             ],
             [
              0.6666666666666666,
              "#ed7953"
             ],
             [
              0.7777777777777778,
              "#fb9f3a"
             ],
             [
              0.8888888888888888,
              "#fdca26"
             ],
             [
              1,
              "#f0f921"
             ]
            ],
            "type": "histogram2dcontour"
           }
          ],
          "mesh3d": [
           {
            "colorbar": {
             "outlinewidth": 0,
             "ticks": ""
            },
            "type": "mesh3d"
           }
          ],
          "parcoords": [
           {
            "line": {
             "colorbar": {
              "outlinewidth": 0,
              "ticks": ""
             }
            },
            "type": "parcoords"
           }
          ],
          "pie": [
           {
            "automargin": true,
            "type": "pie"
           }
          ],
          "scatter": [
           {
            "fillpattern": {
             "fillmode": "overlay",
             "size": 10,
             "solidity": 0.2
            },
            "type": "scatter"
           }
          ],
          "scatter3d": [
           {
            "line": {
             "colorbar": {
              "outlinewidth": 0,
              "ticks": ""
             }
            },
            "marker": {
             "colorbar": {
              "outlinewidth": 0,
              "ticks": ""
             }
            },
            "type": "scatter3d"
           }
          ],
          "scattercarpet": [
           {
            "marker": {
             "colorbar": {
              "outlinewidth": 0,
              "ticks": ""
             }
            },
            "type": "scattercarpet"
           }
          ],
          "scattergeo": [
           {
            "marker": {
             "colorbar": {
              "outlinewidth": 0,
              "ticks": ""
             }
            },
            "type": "scattergeo"
           }
          ],
          "scattergl": [
           {
            "marker": {
             "colorbar": {
              "outlinewidth": 0,
              "ticks": ""
             }
            },
            "type": "scattergl"
           }
          ],
          "scattermapbox": [
           {
            "marker": {
             "colorbar": {
              "outlinewidth": 0,
              "ticks": ""
             }
            },
            "type": "scattermapbox"
           }
          ],
          "scatterpolar": [
           {
            "marker": {
             "colorbar": {
              "outlinewidth": 0,
              "ticks": ""
             }
            },
            "type": "scatterpolar"
           }
          ],
          "scatterpolargl": [
           {
            "marker": {
             "colorbar": {
              "outlinewidth": 0,
              "ticks": ""
             }
            },
            "type": "scatterpolargl"
           }
          ],
          "scatterternary": [
           {
            "marker": {
             "colorbar": {
              "outlinewidth": 0,
              "ticks": ""
             }
            },
            "type": "scatterternary"
           }
          ],
          "surface": [
           {
            "colorbar": {
             "outlinewidth": 0,
             "ticks": ""
            },
            "colorscale": [
             [
              0,
              "#0d0887"
             ],
             [
              0.1111111111111111,
              "#46039f"
             ],
             [
              0.2222222222222222,
              "#7201a8"
             ],
             [
              0.3333333333333333,
              "#9c179e"
             ],
             [
              0.4444444444444444,
              "#bd3786"
             ],
             [
              0.5555555555555556,
              "#d8576b"
             ],
             [
              0.6666666666666666,
              "#ed7953"
             ],
             [
              0.7777777777777778,
              "#fb9f3a"
             ],
             [
              0.8888888888888888,
              "#fdca26"
             ],
             [
              1,
              "#f0f921"
             ]
            ],
            "type": "surface"
           }
          ],
          "table": [
           {
            "cells": {
             "fill": {
              "color": "#EBF0F8"
             },
             "line": {
              "color": "white"
             }
            },
            "header": {
             "fill": {
              "color": "#C8D4E3"
             },
             "line": {
              "color": "white"
             }
            },
            "type": "table"
           }
          ]
         },
         "layout": {
          "annotationdefaults": {
           "arrowcolor": "#2a3f5f",
           "arrowhead": 0,
           "arrowwidth": 1
          },
          "autotypenumbers": "strict",
          "coloraxis": {
           "colorbar": {
            "outlinewidth": 0,
            "ticks": ""
           }
          },
          "colorscale": {
           "diverging": [
            [
             0,
             "#8e0152"
            ],
            [
             0.1,
             "#c51b7d"
            ],
            [
             0.2,
             "#de77ae"
            ],
            [
             0.3,
             "#f1b6da"
            ],
            [
             0.4,
             "#fde0ef"
            ],
            [
             0.5,
             "#f7f7f7"
            ],
            [
             0.6,
             "#e6f5d0"
            ],
            [
             0.7,
             "#b8e186"
            ],
            [
             0.8,
             "#7fbc41"
            ],
            [
             0.9,
             "#4d9221"
            ],
            [
             1,
             "#276419"
            ]
           ],
           "sequential": [
            [
             0,
             "#0d0887"
            ],
            [
             0.1111111111111111,
             "#46039f"
            ],
            [
             0.2222222222222222,
             "#7201a8"
            ],
            [
             0.3333333333333333,
             "#9c179e"
            ],
            [
             0.4444444444444444,
             "#bd3786"
            ],
            [
             0.5555555555555556,
             "#d8576b"
            ],
            [
             0.6666666666666666,
             "#ed7953"
            ],
            [
             0.7777777777777778,
             "#fb9f3a"
            ],
            [
             0.8888888888888888,
             "#fdca26"
            ],
            [
             1,
             "#f0f921"
            ]
           ],
           "sequentialminus": [
            [
             0,
             "#0d0887"
            ],
            [
             0.1111111111111111,
             "#46039f"
            ],
            [
             0.2222222222222222,
             "#7201a8"
            ],
            [
             0.3333333333333333,
             "#9c179e"
            ],
            [
             0.4444444444444444,
             "#bd3786"
            ],
            [
             0.5555555555555556,
             "#d8576b"
            ],
            [
             0.6666666666666666,
             "#ed7953"
            ],
            [
             0.7777777777777778,
             "#fb9f3a"
            ],
            [
             0.8888888888888888,
             "#fdca26"
            ],
            [
             1,
             "#f0f921"
            ]
           ]
          },
          "colorway": [
           "#636efa",
           "#EF553B",
           "#00cc96",
           "#ab63fa",
           "#FFA15A",
           "#19d3f3",
           "#FF6692",
           "#B6E880",
           "#FF97FF",
           "#FECB52"
          ],
          "font": {
           "color": "#2a3f5f"
          },
          "geo": {
           "bgcolor": "white",
           "lakecolor": "white",
           "landcolor": "#E5ECF6",
           "showlakes": true,
           "showland": true,
           "subunitcolor": "white"
          },
          "hoverlabel": {
           "align": "left"
          },
          "hovermode": "closest",
          "mapbox": {
           "style": "light"
          },
          "paper_bgcolor": "white",
          "plot_bgcolor": "#E5ECF6",
          "polar": {
           "angularaxis": {
            "gridcolor": "white",
            "linecolor": "white",
            "ticks": ""
           },
           "bgcolor": "#E5ECF6",
           "radialaxis": {
            "gridcolor": "white",
            "linecolor": "white",
            "ticks": ""
           }
          },
          "scene": {
           "xaxis": {
            "backgroundcolor": "#E5ECF6",
            "gridcolor": "white",
            "gridwidth": 2,
            "linecolor": "white",
            "showbackground": true,
            "ticks": "",
            "zerolinecolor": "white"
           },
           "yaxis": {
            "backgroundcolor": "#E5ECF6",
            "gridcolor": "white",
            "gridwidth": 2,
            "linecolor": "white",
            "showbackground": true,
            "ticks": "",
            "zerolinecolor": "white"
           },
           "zaxis": {
            "backgroundcolor": "#E5ECF6",
            "gridcolor": "white",
            "gridwidth": 2,
            "linecolor": "white",
            "showbackground": true,
            "ticks": "",
            "zerolinecolor": "white"
           }
          },
          "shapedefaults": {
           "line": {
            "color": "#2a3f5f"
           }
          },
          "ternary": {
           "aaxis": {
            "gridcolor": "white",
            "linecolor": "white",
            "ticks": ""
           },
           "baxis": {
            "gridcolor": "white",
            "linecolor": "white",
            "ticks": ""
           },
           "bgcolor": "#E5ECF6",
           "caxis": {
            "gridcolor": "white",
            "linecolor": "white",
            "ticks": ""
           }
          },
          "title": {
           "x": 0.05
          },
          "xaxis": {
           "automargin": true,
           "gridcolor": "white",
           "linecolor": "white",
           "ticks": "",
           "title": {
            "standoff": 15
           },
           "zerolinecolor": "white",
           "zerolinewidth": 2
          },
          "yaxis": {
           "automargin": true,
           "gridcolor": "white",
           "linecolor": "white",
           "ticks": "",
           "title": {
            "standoff": 15
           },
           "zerolinecolor": "white",
           "zerolinewidth": 2
          }
         }
        }
       }
      }
     },
     "metadata": {},
     "output_type": "display_data"
    }
   ],
   "source": [
    "import plotly.graph_objects as go\n",
    "fig = go.Figure()\n",
    "fig.add_trace(go.Box(y=merged_result['RAIV'], name='RAIV'))\n",
    "fig.show()"
   ]
  },
  {
   "cell_type": "markdown",
   "metadata": {},
   "source": [
    "- 상관관계"
   ]
  },
  {
   "cell_type": "code",
   "execution_count": 41,
   "metadata": {},
   "outputs": [
    {
     "data": {
      "image/png": "[encoded data removed]",
      "text/plain": [
       "<Figure size 1500x1000 with 16 Axes>"
      ]
     },
     "metadata": {},
     "output_type": "display_data"
    }
   ],
   "source": [
    "# 분포확인( 범주형 데이터 )\n",
    "merged_corr = merged_result.drop(['serial'], axis=1)\n",
    "merged_corr.hist(bins=10, figsize=(15,10))\n",
    "plt.show()"
   ]
  },
  {
   "cell_type": "code",
   "execution_count": 42,
   "metadata": {},
   "outputs": [
    {
     "data": {
      "text/plain": [
       "<Axes: >"
      ]
     },
     "execution_count": 42,
     "metadata": {},
     "output_type": "execute_result"
    },
    {
     "data": {
      "image/png": "[encoded data removed]",
      "text/plain": [
       "<Figure size 1000x800 with 2 Axes>"
      ]
     },
     "metadata": {},
     "output_type": "display_data"
    }
   ],
   "source": [
    "# corr() 함수이용해보기\n",
    "corr = merged_corr.corr().round(2)\n",
    "sns.set(rc={'figure.figsize':(10,8)})\n",
    "sns.heatmap(data=corr, annot=True, cmap='bwr')"
   ]
  },
  {
   "cell_type": "markdown",
   "metadata": {},
   "source": [
    "---"
   ]
  },
  {
   "cell_type": "code",
   "execution_count": 43,
   "metadata": {},
   "outputs": [
    {
     "data": {
      "application/vnd.plotly.v1+json": {
       "config": {
        "plotlyServerURL": "https://plot.ly"
       },
       "data": [
        {
         "marker": {
          "color": [
           2,
           1,
           1,
           1,
           1,
           1,
           1,
           1,
           1,
           1,
           1,
           1,
           1,
           1,
           1,
           1,
           1,
           1,
           1,
           1,
           1,
           1,
           1,
           1,
           1,
           1,
           1,
           1,
           1,
           2,
           1,
           1,
           1,
           1,
           1,
           1,
           1,
           1,
           1,
           1,
           1,
           1,
           1,
           1,
           1,
           1,
           1,
           1,
           1,
           1,
           1,
           1,
           1,
           1,
           1,
           1,
           1,
           2,
           1,
           1,
           1,
           1,
           1,
           1,
           1,
           1,
           1,
           1,
           1,
           1,
           1,
           1,
           1,
           1,
           1,
           1,
           1,
           1,
           1,
           1,
           1,
           1,
           1,
           2,
           1,
           1,
           1,
           1,
           1,
           1,
           1,
           1,
           1,
           1,
           1,
           1,
           1,
           1,
           1,
           1,
           1,
           1,
           1,
           1,
           1,
           1,
           1,
           1,
           1,
           1,
           1,
           1,
           1,
           1,
           1,
           1,
           1,
           1,
           1,
           1,
           1,
           1,
           1,
           1,
           1,
           1,
           1,
           1,
           1,
           3,
           2,
           1,
           1,
           1,
           1,
           1,
           1,
           1,
           1,
           1,
           1,
           1,
           1,
           1,
           1,
           1,
           1,
           1,
           1,
           1,
           2,
           1,
           1,
           1,
           1,
           1,
           1,
           1,
           2,
           1,
           1,
           1,
           1,
           1,
           2,
           1,
           1,
           1,
           1,
           1,
           1,
           1,
           1,
           2,
           1,
           2,
           1,
           1,
           1,
           1,
           1,
           2,
           1,
           1,
           2,
           1,
           1,
           1,
           2,
           2,
           1,
           1,
           1,
           1,
           1,
           1,
           1,
           1,
           1,
           1,
           1,
           1,
           1,
           2,
           1,
           1,
           2,
           1,
           1,
           1,
           2,
           2,
           1,
           1,
           1,
           2,
           1,
           1,
           2,
           1,
           1,
           2,
           1,
           2,
           2,
           2,
           1,
           2,
           1,
           1,
           1,
           1,
           2,
           1,
           1,
           1,
           2,
           1,
           1,
           3,
           3,
           2,
           2,
           3,
           1,
           1,
           1,
           1,
           1,
           1,
           2,
           1,
           2,
           1,
           1,
           2,
           1,
           1,
           1,
           1,
           1,
           3,
           1,
           1,
           1,
           2,
           1,
           1,
           2,
           1,
           1,
           1,
           2,
           2,
           1,
           2,
           1,
           1,
           2,
           1,
           1,
           1,
           1,
           2,
           1,
           2,
           1,
           2,
           2,
           1,
           3,
           2,
           3,
           1,
           1,
           3,
           3,
           1,
           1,
           1,
           1,
           1,
           1,
           1,
           2,
           2,
           2,
           1,
           1,
           2,
           1,
           1,
           3,
           2,
           2,
           1,
           2,
           1,
           1,
           2,
           1,
           2,
           1,
           1,
           1,
           1,
           1,
           2,
           2,
           1,
           1,
           1,
           3,
           1,
           1,
           1,
           2,
           2,
           1,
           1,
           1,
           1,
           1,
           1,
           2,
           1,
           1,
           1,
           1,
           1,
           1,
           1,
           1,
           1,
           1,
           1,
           1,
           1,
           1,
           1,
           1,
           1,
           1,
           1,
           1,
           1,
           2,
           1,
           1,
           2,
           1,
           1,
           1,
           1,
           1,
           1,
           1,
           1,
           1,
           1,
           1,
           1,
           1,
           1,
           1,
           1,
           1,
           1,
           1
          ]
         },
         "mode": "markers",
         "name": "T_size",
         "type": "scatter",
         "x": [
          51.1,
          46.1,
          14.8,
          19.7,
          14.8,
          18.5,
          42.5,
          56.3,
          65.3,
          51.1,
          95.7,
          45,
          55.8,
          48.2,
          58.6,
          85.4,
          31.4,
          28.6,
          114,
          27.7,
          75.9,
          154.8,
          25.8,
          45.6,
          36.8,
          57.8,
          44.3,
          6.9,
          43.6,
          48.8,
          46,
          24.7,
          51.6,
          45.6,
          13.1,
          9,
          67.2,
          30.3,
          30.3,
          23.7,
          66.5,
          40.6,
          30.4,
          20.2,
          94.2,
          74.6,
          17.9,
          37.2,
          111.3,
          66.5,
          18.1,
          103.6,
          19.3,
          27.6,
          49.7,
          15.3,
          46.2,
          55.6,
          143.4,
          46.7,
          67.2,
          11.8,
          76.9,
          42.1,
          32.6,
          19.2,
          20.7,
          31.8,
          9.1,
          26.5,
          8.1,
          7.3,
          21.8,
          93.6,
          27.3,
          10.8,
          43.9,
          8.6,
          4.6,
          34.4,
          18.9,
          82.3,
          88.5,
          82.2,
          12.3,
          35.7,
          49.7,
          10.6,
          19,
          18.6,
          52.6,
          74.2,
          27.7,
          36.5,
          8.8,
          22.6,
          11,
          17.7,
          19.4,
          26.8,
          55.8,
          16.6,
          33.4,
          11.9,
          28.8,
          13.6,
          11.4,
          27.9,
          14.1,
          19.6,
          56.3,
          57.8,
          24.1,
          10.8,
          29.1,
          32.8,
          6.7,
          19.8,
          20.2,
          82.2,
          35.1,
          27.8,
          24.4,
          27.6,
          6.6,
          21.5,
          9.6,
          5.3,
          7.4,
          51.9,
          36,
          8.8,
          7.1,
          5.9,
          5.1,
          14,
          17.2,
          5.3,
          13.4,
          15,
          26.9,
          5.1,
          17.2,
          13.1,
          4.3,
          7.7,
          19.3,
          33.2,
          15.2,
          6.1,
          16.8,
          4.1,
          14.9,
          14.2,
          10.9,
          6.5,
          23,
          6.6,
          19.4,
          23,
          12.7,
          13.1,
          4.3,
          7.1,
          13.9,
          18.1,
          12.7,
          8.1,
          13.4,
          21.8,
          21.2,
          5.9,
          9.5,
          22.6,
          10.2,
          16.5,
          27.9,
          35.3,
          22.7,
          4.7,
          11.7,
          13.1,
          21.3,
          11.5,
          13.5,
          8.7,
          14,
          12.5,
          54.4,
          32.7,
          9.1,
          9.2,
          3.7,
          12.7,
          10.4,
          11.5,
          9,
          22.4,
          9.9,
          9.3,
          11.9,
          18.4,
          25.8,
          10.1,
          6.6,
          9.1,
          28,
          8.1,
          6.6,
          10.6,
          36.5,
          43.1,
          8.1,
          10.4,
          14.7,
          42.7,
          5.1,
          9.9,
          36.5,
          17.7,
          18.4,
          10.1,
          7.1,
          11.1,
          26.2,
          19.9,
          4.1,
          13,
          9.3,
          16.2,
          5.9,
          7.1,
          36.5,
          27.6,
          11,
          6.1,
          16.8,
          6.1,
          10.4,
          31.3,
          21.9,
          17.8,
          37.8,
          63.6,
          3.5,
          5.3,
          14.7,
          30.4,
          3.6,
          9.3,
          36.5,
          9.2,
          20.9,
          24.8,
          5.1,
          19.4,
          30.4,
          26.9,
          21.6,
          6.1,
          8.7,
          22.2,
          14.5,
          10.4,
          6.6,
          15.3,
          20.5,
          22.6,
          10.3,
          4.6,
          6.5,
          21.8,
          12,
          19.1,
          14.4,
          13.2,
          13.4,
          26.7,
          15.3,
          14,
          16.8,
          3.6,
          9.6,
          42.7,
          24,
          37,
          8.3,
          14.3,
          13.5,
          9.5,
          31.7,
          37.5,
          15.7,
          10.4,
          5.2,
          63.6,
          20.6,
          6.5,
          25.5,
          11.2,
          9.9,
          15,
          10.9,
          12.1,
          31.6,
          14.3,
          15,
          27.9,
          17.9,
          13.3,
          4.6,
          6.5,
          64.7,
          22.6,
          49.5,
          7.1,
          16.8,
          8.4,
          11.9,
          10.7,
          12.8,
          32.8,
          6.6,
          14,
          13.1,
          5.3,
          14.3,
          32.2,
          12,
          16.1,
          7.4,
          14.7,
          49.5,
          23.3,
          5.7,
          7.6,
          20.6,
          42.1,
          10.4,
          7.1,
          18.1,
          10.9,
          8.4,
          22.4,
          13,
          9,
          24.2,
          17,
          28.5,
          29.1,
          60.5,
          37.9,
          48.9,
          67.8,
          70.1,
          18.9,
          106,
          50.6,
          57.7,
          60.5,
          52.3,
          55.6,
          22.4,
          47.8,
          10.1,
          24.7,
          121.1,
          122.7,
          28.4,
          74.6,
          49.5,
          65.6,
          104.8,
          14.7,
          48.9,
          20.4,
          24,
          16.8,
          55.6,
          10.6,
          23.2,
          17.7,
          97.9,
          24.6,
          21.3,
          30.5,
          70.7,
          12.6,
          11.8
         ],
         "y": [
          2,
          1,
          1,
          1,
          1,
          1,
          1,
          1,
          1,
          1,
          1,
          1,
          1,
          1,
          1,
          1,
          1,
          1,
          1,
          1,
          1,
          1,
          1,
          1,
          1,
          1,
          1,
          1,
          1,
          2,
          1,
          1,
          1,
          1,
          1,
          1,
          1,
          1,
          1,
          1,
          1,
          1,
          1,
          1,
          1,
          1,
          1,
          1,
          1,
          1,
          1,
          1,
          1,
          1,
          1,
          1,
          1,
          2,
          1,
          1,
          1,
          1,
          1,
          1,
          1,
          1,
          1,
          1,
          1,
          1,
          1,
          1,
          1,
          1,
          1,
          1,
          1,
          1,
          1,
          1,
          1,
          1,
          1,
          2,
          1,
          1,
          1,
          1,
          1,
          1,
          1,
          1,
          1,
          1,
          1,
          1,
          1,
          1,
          1,
          1,
          1,
          1,
          1,
          1,
          1,
          1,
          1,
          1,
          1,
          1,
          1,
          1,
          1,
          1,
          1,
          1,
          1,
          1,
          1,
          1,
          1,
          1,
          1,
          1,
          1,
          1,
          1,
          1,
          1,
          3,
          2,
          1,
          1,
          1,
          1,
          1,
          1,
          1,
          1,
          1,
          1,
          1,
          1,
          1,
          1,
          1,
          1,
          1,
          1,
          1,
          2,
          1,
          1,
          1,
          1,
          1,
          1,
          1,
          2,
          1,
          1,
          1,
          1,
          1,
          2,
          1,
          1,
          1,
          1,
          1,
          1,
          1,
          1,
          2,
          1,
          2,
          1,
          1,
          1,
          1,
          1,
          2,
          1,
          1,
          2,
          1,
          1,
          1,
          2,
          2,
          1,
          1,
          1,
          1,
          1,
          1,
          1,
          1,
          1,
          1,
          1,
          1,
          1,
          2,
          1,
          1,
          2,
          1,
          1,
          1,
          2,
          2,
          1,
          1,
          1,
          2,
          1,
          1,
          2,
          1,
          1,
          2,
          1,
          2,
          2,
          2,
          1,
          2,
          1,
          1,
          1,
          1,
          2,
          1,
          1,
          1,
          2,
          1,
          1,
          3,
          3,
          2,
          2,
          3,
          1,
          1,
          1,
          1,
          1,
          1,
          2,
          1,
          2,
          1,
          1,
          2,
          1,
          1,
          1,
          1,
          1,
          3,
          1,
          1,
          1,
          2,
          1,
          1,
          2,
          1,
          1,
          1,
          2,
          2,
          1,
          2,
          1,
          1,
          2,
          1,
          1,
          1,
          1,
          2,
          1,
          2,
          1,
          2,
          2,
          1,
          3,
          2,
          3,
          1,
          1,
          3,
          3,
          1,
          1,
          1,
          1,
          1,
          1,
          1,
          2,
          2,
          2,
          1,
          1,
          2,
          1,
          1,
          3,
          2,
          2,
          1,
          2,
          1,
          1,
          2,
          1,
          2,
          1,
          1,
          1,
          1,
          1,
          2,
          2,
          1,
          1,
          1,
          3,
          1,
          1,
          1,
          2,
          2,
          1,
          1,
          1,
          1,
          1,
          1,
          2,
          1,
          1,
          1,
          1,
          1,
          1,
          1,
          1,
          1,
          1,
          1,
          1,
          1,
          1,
          1,
          1,
          1,
          1,
          1,
          1,
          1,
          2,
          1,
          1,
          2,
          1,
          1,
          1,
          1,
          1,
          1,
          1,
          1,
          1,
          1,
          1,
          1,
          1,
          1,
          1,
          1,
          1,
          1,
          1
         ]
        }
       ],
       "layout": {
        "template": {
         "data": {
          "bar": [
           {
            "error_x": {
             "color": "#2a3f5f"
            },
            "error_y": {
             "color": "#2a3f5f"
            },
            "marker": {
             "line": {
              "color": "#E5ECF6",
              "width": 0.5
             },
             "pattern": {
              "fillmode": "overlay",
              "size": 10,
              "solidity": 0.2
             }
            },
            "type": "bar"
           }
          ],
          "barpolar": [
           {
            "marker": {
             "line": {
              "color": "#E5ECF6",
              "width": 0.5
             },
             "pattern": {
              "fillmode": "overlay",
              "size": 10,
              "solidity": 0.2
             }
            },
            "type": "barpolar"
           }
          ],
          "carpet": [
           {
            "aaxis": {
             "endlinecolor": "#2a3f5f",
             "gridcolor": "white",
             "linecolor": "white",
             "minorgridcolor": "white",
             "startlinecolor": "#2a3f5f"
            },
            "baxis": {
             "endlinecolor": "#2a3f5f",
             "gridcolor": "white",
             "linecolor": "white",
             "minorgridcolor": "white",
             "startlinecolor": "#2a3f5f"
            },
            "type": "carpet"
           }
          ],
          "choropleth": [
           {
            "colorbar": {
             "outlinewidth": 0,
             "ticks": ""
            },
            "type": "choropleth"
           }
          ],
          "contour": [
           {
            "colorbar": {
             "outlinewidth": 0,
             "ticks": ""
            },
            "colorscale": [
             [
              0,
              "#0d0887"
             ],
             [
              0.1111111111111111,
              "#46039f"
             ],
             [
              0.2222222222222222,
              "#7201a8"
             ],
             [
              0.3333333333333333,
              "#9c179e"
             ],
             [
              0.4444444444444444,
              "#bd3786"
             ],
             [
              0.5555555555555556,
              "#d8576b"
             ],
             [
              0.6666666666666666,
              "#ed7953"
             ],
             [
              0.7777777777777778,
              "#fb9f3a"
             ],
             [
              0.8888888888888888,
              "#fdca26"
             ],
             [
              1,
              "#f0f921"
             ]
            ],
            "type": "contour"
           }
          ],
          "contourcarpet": [
           {
            "colorbar": {
             "outlinewidth": 0,
             "ticks": ""
            },
            "type": "contourcarpet"
           }
          ],
          "heatmap": [
           {
            "colorbar": {
             "outlinewidth": 0,
             "ticks": ""
            },
            "colorscale": [
             [
              0,
              "#0d0887"
             ],
             [
              0.1111111111111111,
              "#46039f"
             ],
             [
              0.2222222222222222,
              "#7201a8"
             ],
             [
              0.3333333333333333,
              "#9c179e"
             ],
             [
              0.4444444444444444,
              "#bd3786"
             ],
             [
              0.5555555555555556,
              "#d8576b"
             ],
             [
              0.6666666666666666,
              "#ed7953"
             ],
             [
              0.7777777777777778,
              "#fb9f3a"
             ],
             [
              0.8888888888888888,
              "#fdca26"
             ],
             [
              1,
              "#f0f921"
             ]
            ],
            "type": "heatmap"
           }
          ],
          "heatmapgl": [
           {
            "colorbar": {
             "outlinewidth": 0,
             "ticks": ""
            },
            "colorscale": [
             [
              0,
              "#0d0887"
             ],
             [
              0.1111111111111111,
              "#46039f"
             ],
             [
              0.2222222222222222,
              "#7201a8"
             ],
             [
              0.3333333333333333,
              "#9c179e"
             ],
             [
              0.4444444444444444,
              "#bd3786"
             ],
             [
              0.5555555555555556,
              "#d8576b"
             ],
             [
              0.6666666666666666,
              "#ed7953"
             ],
             [
              0.7777777777777778,
              "#fb9f3a"
             ],
             [
              0.8888888888888888,
              "#fdca26"
             ],
             [
              1,
              "#f0f921"
             ]
            ],
            "type": "heatmapgl"
           }
          ],
          "histogram": [
           {
            "marker": {
             "pattern": {
              "fillmode": "overlay",
              "size": 10,
              "solidity": 0.2
             }
            },
            "type": "histogram"
           }
          ],
          "histogram2d": [
           {
            "colorbar": {
             "outlinewidth": 0,
             "ticks": ""
            },
            "colorscale": [
             [
              0,
              "#0d0887"
             ],
             [
              0.1111111111111111,
              "#46039f"
             ],
             [
              0.2222222222222222,
              "#7201a8"
             ],
             [
              0.3333333333333333,
              "#9c179e"
             ],
             [
              0.4444444444444444,
              "#bd3786"
             ],
             [
              0.5555555555555556,
              "#d8576b"
             ],
             [
              0.6666666666666666,
              "#ed7953"
             ],
             [
              0.7777777777777778,
              "#fb9f3a"
             ],
             [
              0.8888888888888888,
              "#fdca26"
             ],
             [
              1,
              "#f0f921"
             ]
            ],
            "type": "histogram2d"
           }
          ],
          "histogram2dcontour": [
           {
            "colorbar": {
             "outlinewidth": 0,
             "ticks": ""
            },
            "colorscale": [
             [
              0,
              "#0d0887"
             ],
             [
              0.1111111111111111,
              "#46039f"
             ],
             [
              0.2222222222222222,
              "#7201a8"
             ],
             [
              0.3333333333333333,
              "#9c179e"
             ],
             [
              0.4444444444444444,
              "#bd3786"
             ],
             [
              0.5555555555555556,
              "#d8576b"
             ],
             [
              0.6666666666666666,
              "#ed7953"
             ],
             [
              0.7777777777777778,
              "#fb9f3a"
             ],
             [
              0.8888888888888888,
              "#fdca26"
             ],
             [
              1,
              "#f0f921"
             ]
            ],
            "type": "histogram2dcontour"
           }
          ],
          "mesh3d": [
           {
            "colorbar": {
             "outlinewidth": 0,
             "ticks": ""
            },
            "type": "mesh3d"
           }
          ],
          "parcoords": [
           {
            "line": {
             "colorbar": {
              "outlinewidth": 0,
              "ticks": ""
             }
            },
            "type": "parcoords"
           }
          ],
          "pie": [
           {
            "automargin": true,
            "type": "pie"
           }
          ],
          "scatter": [
           {
            "fillpattern": {
             "fillmode": "overlay",
             "size": 10,
             "solidity": 0.2
            },
            "type": "scatter"
           }
          ],
          "scatter3d": [
           {
            "line": {
             "colorbar": {
              "outlinewidth": 0,
              "ticks": ""
             }
            },
            "marker": {
             "colorbar": {
              "outlinewidth": 0,
              "ticks": ""
             }
            },
            "type": "scatter3d"
           }
          ],
          "scattercarpet": [
           {
            "marker": {
             "colorbar": {
              "outlinewidth": 0,
              "ticks": ""
             }
            },
            "type": "scattercarpet"
           }
          ],
          "scattergeo": [
           {
            "marker": {
             "colorbar": {
              "outlinewidth": 0,
              "ticks": ""
             }
            },
            "type": "scattergeo"
           }
          ],
          "scattergl": [
           {
            "marker": {
             "colorbar": {
              "outlinewidth": 0,
              "ticks": ""
             }
            },
            "type": "scattergl"
           }
          ],
          "scattermapbox": [
           {
            "marker": {
             "colorbar": {
              "outlinewidth": 0,
              "ticks": ""
             }
            },
            "type": "scattermapbox"
           }
          ],
          "scatterpolar": [
           {
            "marker": {
             "colorbar": {
              "outlinewidth": 0,
              "ticks": ""
             }
            },
            "type": "scatterpolar"
           }
          ],
          "scatterpolargl": [
           {
            "marker": {
             "colorbar": {
              "outlinewidth": 0,
              "ticks": ""
             }
            },
            "type": "scatterpolargl"
           }
          ],
          "scatterternary": [
           {
            "marker": {
             "colorbar": {
              "outlinewidth": 0,
              "ticks": ""
             }
            },
            "type": "scatterternary"
           }
          ],
          "surface": [
           {
            "colorbar": {
             "outlinewidth": 0,
             "ticks": ""
            },
            "colorscale": [
             [
              0,
              "#0d0887"
             ],
             [
              0.1111111111111111,
              "#46039f"
             ],
             [
              0.2222222222222222,
              "#7201a8"
             ],
             [
              0.3333333333333333,
              "#9c179e"
             ],
             [
              0.4444444444444444,
              "#bd3786"
             ],
             [
              0.5555555555555556,
              "#d8576b"
             ],
             [
              0.6666666666666666,
              "#ed7953"
             ],
             [
              0.7777777777777778,
              "#fb9f3a"
             ],
             [
              0.8888888888888888,
              "#fdca26"
             ],
             [
              1,
              "#f0f921"
             ]
            ],
            "type": "surface"
           }
          ],
          "table": [
           {
            "cells": {
             "fill": {
              "color": "#EBF0F8"
             },
             "line": {
              "color": "white"
             }
            },
            "header": {
             "fill": {
              "color": "#C8D4E3"
             },
             "line": {
              "color": "white"
             }
            },
            "type": "table"
           }
          ]
         },
         "layout": {
          "annotationdefaults": {
           "arrowcolor": "#2a3f5f",
           "arrowhead": 0,
           "arrowwidth": 1
          },
          "autotypenumbers": "strict",
          "coloraxis": {
           "colorbar": {
            "outlinewidth": 0,
            "ticks": ""
           }
          },
          "colorscale": {
           "diverging": [
            [
             0,
             "#8e0152"
            ],
            [
             0.1,
             "#c51b7d"
            ],
            [
             0.2,
             "#de77ae"
            ],
            [
             0.3,
             "#f1b6da"
            ],
            [
             0.4,
             "#fde0ef"
            ],
            [
             0.5,
             "#f7f7f7"
            ],
            [
             0.6,
             "#e6f5d0"
            ],
            [
             0.7,
             "#b8e186"
            ],
            [
             0.8,
             "#7fbc41"
            ],
            [
             0.9,
             "#4d9221"
            ],
            [
             1,
             "#276419"
            ]
           ],
           "sequential": [
            [
             0,
             "#0d0887"
            ],
            [
             0.1111111111111111,
             "#46039f"
            ],
            [
             0.2222222222222222,
             "#7201a8"
            ],
            [
             0.3333333333333333,
             "#9c179e"
            ],
            [
             0.4444444444444444,
             "#bd3786"
            ],
            [
             0.5555555555555556,
             "#d8576b"
            ],
            [
             0.6666666666666666,
             "#ed7953"
            ],
            [
             0.7777777777777778,
             "#fb9f3a"
            ],
            [
             0.8888888888888888,
             "#fdca26"
            ],
            [
             1,
             "#f0f921"
            ]
           ],
           "sequentialminus": [
            [
             0,
             "#0d0887"
            ],
            [
             0.1111111111111111,
             "#46039f"
            ],
            [
             0.2222222222222222,
             "#7201a8"
            ],
            [
             0.3333333333333333,
             "#9c179e"
            ],
            [
             0.4444444444444444,
             "#bd3786"
            ],
            [
             0.5555555555555556,
             "#d8576b"
            ],
            [
             0.6666666666666666,
             "#ed7953"
            ],
            [
             0.7777777777777778,
             "#fb9f3a"
            ],
            [
             0.8888888888888888,
             "#fdca26"
            ],
            [
             1,
             "#f0f921"
            ]
           ]
          },
          "colorway": [
           "#636efa",
           "#EF553B",
           "#00cc96",
           "#ab63fa",
           "#FFA15A",
           "#19d3f3",
           "#FF6692",
           "#B6E880",
           "#FF97FF",
           "#FECB52"
          ],
          "font": {
           "color": "#2a3f5f"
          },
          "geo": {
           "bgcolor": "white",
           "lakecolor": "white",
           "landcolor": "#E5ECF6",
           "showlakes": true,
           "showland": true,
           "subunitcolor": "white"
          },
          "hoverlabel": {
           "align": "left"
          },
          "hovermode": "closest",
          "mapbox": {
           "style": "light"
          },
          "paper_bgcolor": "white",
          "plot_bgcolor": "#E5ECF6",
          "polar": {
           "angularaxis": {
            "gridcolor": "white",
            "linecolor": "white",
            "ticks": ""
           },
           "bgcolor": "#E5ECF6",
           "radialaxis": {
            "gridcolor": "white",
            "linecolor": "white",
            "ticks": ""
           }
          },
          "scene": {
           "xaxis": {
            "backgroundcolor": "#E5ECF6",
            "gridcolor": "white",
            "gridwidth": 2,
            "linecolor": "white",
            "showbackground": true,
            "ticks": "",
            "zerolinecolor": "white"
           },
           "yaxis": {
            "backgroundcolor": "#E5ECF6",
            "gridcolor": "white",
            "gridwidth": 2,
            "linecolor": "white",
            "showbackground": true,
            "ticks": "",
            "zerolinecolor": "white"
           },
           "zaxis": {
            "backgroundcolor": "#E5ECF6",
            "gridcolor": "white",
            "gridwidth": 2,
            "linecolor": "white",
            "showbackground": true,
            "ticks": "",
            "zerolinecolor": "white"
           }
          },
          "shapedefaults": {
           "line": {
            "color": "#2a3f5f"
           }
          },
          "ternary": {
           "aaxis": {
            "gridcolor": "white",
            "linecolor": "white",
            "ticks": ""
           },
           "baxis": {
            "gridcolor": "white",
            "linecolor": "white",
            "ticks": ""
           },
           "bgcolor": "#E5ECF6",
           "caxis": {
            "gridcolor": "white",
            "linecolor": "white",
            "ticks": ""
           }
          },
          "title": {
           "x": 0.05
          },
          "xaxis": {
           "automargin": true,
           "gridcolor": "white",
           "linecolor": "white",
           "ticks": "",
           "title": {
            "standoff": 15
           },
           "zerolinecolor": "white",
           "zerolinewidth": 2
          },
          "yaxis": {
           "automargin": true,
           "gridcolor": "white",
           "linecolor": "white",
           "ticks": "",
           "title": {
            "standoff": 15
           },
           "zerolinecolor": "white",
           "zerolinewidth": 2
          }
         }
        }
       }
      }
     },
     "metadata": {},
     "output_type": "display_data"
    }
   ],
   "source": [
    "# T_size(종양 크기 \t≤4 ; 4-7 ; 7)에 따른 Raiv \n",
    "\n",
    "fig = go.Figure()\n",
    "fig.add_trace(go.Scatter(x=merged_result['RAIV'], y=merged_result['T_size'], mode='markers', name='T_size', marker=dict(color=merged_result['T_size'])))\n",
    "fig.show()\n"
   ]
  },
  {
   "cell_type": "code",
   "execution_count": 44,
   "metadata": {},
   "outputs": [
    {
     "data": {
      "application/vnd.plotly.v1+json": {
       "config": {
        "plotlyServerURL": "https://plot.ly"
       },
       "data": [
        {
         "marker": {
          "color": [
           1,
           2,
           1,
           1,
           2,
           1,
           1,
           3,
           2,
           1,
           1,
           2,
           2,
           3,
           3,
           2,
           1,
           2,
           3,
           2,
           1,
           3,
           2,
           3,
           3,
           2,
           2,
           1,
           2,
           2,
           2,
           2,
           2,
           3,
           1,
           1,
           2,
           3,
           2,
           3,
           2,
           2,
           3,
           3,
           2,
           2,
           2,
           3,
           3,
           2,
           1,
           3,
           2,
           2,
           2,
           3,
           3,
           2,
           3,
           2,
           2,
           1,
           2,
           1,
           1,
           1,
           3,
           1,
           1,
           2,
           3,
           3,
           1,
           2,
           1,
           3,
           3,
           1,
           3,
           2,
           3,
           1,
           1,
           1,
           1,
           1,
           1,
           3,
           1,
           2,
           1,
           2,
           1,
           1,
           1,
           1,
           1,
           2,
           2,
           2,
           1,
           1,
           1,
           1,
           1,
           2,
           2,
           2,
           1,
           1,
           1,
           3,
           1,
           1,
           2,
           2,
           2,
           3,
           1,
           1,
           1,
           1,
           1,
           1,
           1,
           1,
           1,
           1,
           1,
           1,
           2,
           2,
           2,
           3,
           1,
           1,
           2,
           1,
           2,
           1,
           2,
           2,
           3,
           3,
           3,
           2,
           1,
           2,
           1,
           1,
           3,
           1,
           1,
           3,
           3,
           3,
           2,
           1,
           1,
           2,
           1,
           3,
           2,
           2,
           1,
           2,
           2,
           1,
           2,
           2,
           2,
           3,
           3,
           1,
           2,
           3,
           2,
           3,
           3,
           2,
           2,
           1,
           2,
           3,
           2,
           2,
           2,
           2,
           2,
           2,
           3,
           2,
           2,
           2,
           2,
           2,
           3,
           2,
           2,
           2,
           3,
           1,
           2,
           2,
           3,
           2,
           2,
           1,
           2,
           2,
           3,
           2,
           2,
           2,
           2,
           3,
           2,
           1,
           2,
           2,
           3,
           2,
           2,
           2,
           2,
           2,
           3,
           2,
           1,
           2,
           3,
           2,
           2,
           3,
           2,
           1,
           1,
           1,
           2,
           1,
           1,
           3,
           2,
           1,
           3,
           3,
           3,
           2,
           3,
           1,
           2,
           2,
           1,
           2,
           3,
           2,
           2,
           2,
           2,
           1,
           3,
           1,
           2,
           1,
           1,
           2,
           3,
           1,
           2,
           1,
           1,
           2,
           2,
           2,
           2,
           2,
           2,
           2,
           2,
           2,
           3,
           1,
           3,
           1,
           1,
           1,
           1,
           1,
           2,
           1,
           2,
           1,
           1,
           3,
           2,
           2,
           1,
           2,
           1,
           3,
           2,
           1,
           1,
           1,
           2,
           3,
           2,
           3,
           2,
           1,
           1,
           3,
           1,
           2,
           2,
           1,
           2,
           3,
           2,
           2,
           2,
           2,
           2,
           2,
           2,
           2,
           1,
           1,
           1,
           2,
           2,
           2,
           2,
           2,
           1,
           2,
           2,
           1,
           3,
           3,
           1,
           2,
           2,
           2,
           3,
           3,
           2,
           2,
           2,
           1,
           2,
           2,
           2,
           2,
           1,
           2,
           2,
           2,
           2,
           2,
           2,
           1,
           2,
           2,
           3,
           1,
           2,
           2,
           2,
           1,
           3,
           3,
           2,
           2,
           1,
           3,
           1,
           3,
           1,
           2,
           1,
           1,
           1,
           1,
           2,
           2,
           2,
           2,
           1
          ]
         },
         "mode": "markers",
         "name": "T_Exophytic",
         "type": "scatter",
         "x": [
          51.1,
          46.1,
          14.8,
          19.7,
          14.8,
          18.5,
          42.5,
          56.3,
          65.3,
          51.1,
          95.7,
          45,
          55.8,
          48.2,
          58.6,
          85.4,
          31.4,
          28.6,
          114,
          27.7,
          75.9,
          154.8,
          25.8,
          45.6,
          36.8,
          57.8,
          44.3,
          6.9,
          43.6,
          48.8,
          46,
          24.7,
          51.6,
          45.6,
          13.1,
          9,
          67.2,
          30.3,
          30.3,
          23.7,
          66.5,
          40.6,
          30.4,
          20.2,
          94.2,
          74.6,
          17.9,
          37.2,
          111.3,
          66.5,
          18.1,
          103.6,
          19.3,
          27.6,
          49.7,
          15.3,
          46.2,
          55.6,
          143.4,
          46.7,
          67.2,
          11.8,
          76.9,
          42.1,
          32.6,
          19.2,
          20.7,
          31.8,
          9.1,
          26.5,
          8.1,
          7.3,
          21.8,
          93.6,
          27.3,
          10.8,
          43.9,
          8.6,
          4.6,
          34.4,
          18.9,
          82.3,
          88.5,
          82.2,
          12.3,
          35.7,
          49.7,
          10.6,
          19,
          18.6,
          52.6,
          74.2,
          27.7,
          36.5,
          8.8,
          22.6,
          11,
          17.7,
          19.4,
          26.8,
          55.8,
          16.6,
          33.4,
          11.9,
          28.8,
          13.6,
          11.4,
          27.9,
          14.1,
          19.6,
          56.3,
          57.8,
          24.1,
          10.8,
          29.1,
          32.8,
          6.7,
          19.8,
          20.2,
          82.2,
          35.1,
          27.8,
          24.4,
          27.6,
          6.6,
          21.5,
          9.6,
          5.3,
          7.4,
          51.9,
          36,
          8.8,
          7.1,
          5.9,
          5.1,
          14,
          17.2,
          5.3,
          13.4,
          15,
          26.9,
          5.1,
          17.2,
          13.1,
          4.3,
          7.7,
          19.3,
          33.2,
          15.2,
          6.1,
          16.8,
          4.1,
          14.9,
          14.2,
          10.9,
          6.5,
          23,
          6.6,
          19.4,
          23,
          12.7,
          13.1,
          4.3,
          7.1,
          13.9,
          18.1,
          12.7,
          8.1,
          13.4,
          21.8,
          21.2,
          5.9,
          9.5,
          22.6,
          10.2,
          16.5,
          27.9,
          35.3,
          22.7,
          4.7,
          11.7,
          13.1,
          21.3,
          11.5,
          13.5,
          8.7,
          14,
          12.5,
          54.4,
          32.7,
          9.1,
          9.2,
          3.7,
          12.7,
          10.4,
          11.5,
          9,
          22.4,
          9.9,
          9.3,
          11.9,
          18.4,
          25.8,
          10.1,
          6.6,
          9.1,
          28,
          8.1,
          6.6,
          10.6,
          36.5,
          43.1,
          8.1,
          10.4,
          14.7,
          42.7,
          5.1,
          9.9,
          36.5,
          17.7,
          18.4,
          10.1,
          7.1,
          11.1,
          26.2,
          19.9,
          4.1,
          13,
          9.3,
          16.2,
          5.9,
          7.1,
          36.5,
          27.6,
          11,
          6.1,
          16.8,
          6.1,
          10.4,
          31.3,
          21.9,
          17.8,
          37.8,
          63.6,
          3.5,
          5.3,
          14.7,
          30.4,
          3.6,
          9.3,
          36.5,
          9.2,
          20.9,
          24.8,
          5.1,
          19.4,
          30.4,
          26.9,
          21.6,
          6.1,
          8.7,
          22.2,
          14.5,
          10.4,
          6.6,
          15.3,
          20.5,
          22.6,
          10.3,
          4.6,
          6.5,
          21.8,
          12,
          19.1,
          14.4,
          13.2,
          13.4,
          26.7,
          15.3,
          14,
          16.8,
          3.6,
          9.6,
          42.7,
          24,
          37,
          8.3,
          14.3,
          13.5,
          9.5,
          31.7,
          37.5,
          15.7,
          10.4,
          5.2,
          63.6,
          20.6,
          6.5,
          25.5,
          11.2,
          9.9,
          15,
          10.9,
          12.1,
          31.6,
          14.3,
          15,
          27.9,
          17.9,
          13.3,
          4.6,
          6.5,
          64.7,
          22.6,
          49.5,
          7.1,
          16.8,
          8.4,
          11.9,
          10.7,
          12.8,
          32.8,
          6.6,
          14,
          13.1,
          5.3,
          14.3,
          32.2,
          12,
          16.1,
          7.4,
          14.7,
          49.5,
          23.3,
          5.7,
          7.6,
          20.6,
          42.1,
          10.4,
          7.1,
          18.1,
          10.9,
          8.4,
          22.4,
          13,
          9,
          24.2,
          17,
          28.5,
          29.1,
          60.5,
          37.9,
          48.9,
          67.8,
          70.1,
          18.9,
          106,
          50.6,
          57.7,
          60.5,
          52.3,
          55.6,
          22.4,
          47.8,
          10.1,
          24.7,
          121.1,
          122.7,
          28.4,
          74.6,
          49.5,
          65.6,
          104.8,
          14.7,
          48.9,
          20.4,
          24,
          16.8,
          55.6,
          10.6,
          23.2,
          17.7,
          97.9,
          24.6,
          21.3,
          30.5,
          70.7,
          12.6,
          11.8
         ],
         "y": [
          1,
          2,
          1,
          1,
          2,
          1,
          1,
          3,
          2,
          1,
          1,
          2,
          2,
          3,
          3,
          2,
          1,
          2,
          3,
          2,
          1,
          3,
          2,
          3,
          3,
          2,
          2,
          1,
          2,
          2,
          2,
          2,
          2,
          3,
          1,
          1,
          2,
          3,
          2,
          3,
          2,
          2,
          3,
          3,
          2,
          2,
          2,
          3,
          3,
          2,
          1,
          3,
          2,
          2,
          2,
          3,
          3,
          2,
          3,
          2,
          2,
          1,
          2,
          1,
          1,
          1,
          3,
          1,
          1,
          2,
          3,
          3,
          1,
          2,
          1,
          3,
          3,
          1,
          3,
          2,
          3,
          1,
          1,
          1,
          1,
          1,
          1,
          3,
          1,
          2,
          1,
          2,
          1,
          1,
          1,
          1,
          1,
          2,
          2,
          2,
          1,
          1,
          1,
          1,
          1,
          2,
          2,
          2,
          1,
          1,
          1,
          3,
          1,
          1,
          2,
          2,
          2,
          3,
          1,
          1,
          1,
          1,
          1,
          1,
          1,
          1,
          1,
          1,
          1,
          1,
          2,
          2,
          2,
          3,
          1,
          1,
          2,
          1,
          2,
          1,
          2,
          2,
          3,
          3,
          3,
          2,
          1,
          2,
          1,
          1,
          3,
          1,
          1,
          3,
          3,
          3,
          2,
          1,
          1,
          2,
          1,
          3,
          2,
          2,
          1,
          2,
          2,
          1,
          2,
          2,
          2,
          3,
          3,
          1,
          2,
          3,
          2,
          3,
          3,
          2,
          2,
          1,
          2,
          3,
          2,
          2,
          2,
          2,
          2,
          2,
          3,
          2,
          2,
          2,
          2,
          2,
          3,
          2,
          2,
          2,
          3,
          1,
          2,
          2,
          3,
          2,
          2,
          1,
          2,
          2,
          3,
          2,
          2,
          2,
          2,
          3,
          2,
          1,
          2,
          2,
          3,
          2,
          2,
          2,
          2,
          2,
          3,
          2,
          1,
          2,
          3,
          2,
          2,
          3,
          2,
          1,
          1,
          1,
          2,
          1,
          1,
          3,
          2,
          1,
          3,
          3,
          3,
          2,
          3,
          1,
          2,
          2,
          1,
          2,
          3,
          2,
          2,
          2,
          2,
          1,
          3,
          1,
          2,
          1,
          1,
          2,
          3,
          1,
          2,
          1,
          1,
          2,
          2,
          2,
          2,
          2,
          2,
          2,
          2,
          2,
          3,
          1,
          3,
          1,
          1,
          1,
          1,
          1,
          2,
          1,
          2,
          1,
          1,
          3,
          2,
          2,
          1,
          2,
          1,
          3,
          2,
          1,
          1,
          1,
          2,
          3,
          2,
          3,
          2,
          1,
          1,
          3,
          1,
          2,
          2,
          1,
          2,
          3,
          2,
          2,
          2,
          2,
          2,
          2,
          2,
          2,
          1,
          1,
          1,
          2,
          2,
          2,
          2,
          2,
          1,
          2,
          2,
          1,
          3,
          3,
          1,
          2,
          2,
          2,
          3,
          3,
          2,
          2,
          2,
          1,
          2,
          2,
          2,
          2,
          1,
          2,
          2,
          2,
          2,
          2,
          2,
          1,
          2,
          2,
          3,
          1,
          2,
          2,
          2,
          1,
          3,
          3,
          2,
          2,
          1,
          3,
          1,
          3,
          1,
          2,
          1,
          1,
          1,
          1,
          2,
          2,
          2,
          2,
          1
         ]
        }
       ],
       "layout": {
        "template": {
         "data": {
          "bar": [
           {
            "error_x": {
             "color": "#2a3f5f"
            },
            "error_y": {
             "color": "#2a3f5f"
            },
            "marker": {
             "line": {
              "color": "#E5ECF6",
              "width": 0.5
             },
             "pattern": {
              "fillmode": "overlay",
              "size": 10,
              "solidity": 0.2
             }
            },
            "type": "bar"
           }
          ],
          "barpolar": [
           {
            "marker": {
             "line": {
              "color": "#E5ECF6",
              "width": 0.5
             },
             "pattern": {
              "fillmode": "overlay",
              "size": 10,
              "solidity": 0.2
             }
            },
            "type": "barpolar"
           }
          ],
          "carpet": [
           {
            "aaxis": {
             "endlinecolor": "#2a3f5f",
             "gridcolor": "white",
             "linecolor": "white",
             "minorgridcolor": "white",
             "startlinecolor": "#2a3f5f"
            },
            "baxis": {
             "endlinecolor": "#2a3f5f",
             "gridcolor": "white",
             "linecolor": "white",
             "minorgridcolor": "white",
             "startlinecolor": "#2a3f5f"
            },
            "type": "carpet"
           }
          ],
          "choropleth": [
           {
            "colorbar": {
             "outlinewidth": 0,
             "ticks": ""
            },
            "type": "choropleth"
           }
          ],
          "contour": [
           {
            "colorbar": {
             "outlinewidth": 0,
             "ticks": ""
            },
            "colorscale": [
             [
              0,
              "#0d0887"
             ],
             [
              0.1111111111111111,
              "#46039f"
             ],
             [
              0.2222222222222222,
              "#7201a8"
             ],
             [
              0.3333333333333333,
              "#9c179e"
             ],
             [
              0.4444444444444444,
              "#bd3786"
             ],
             [
              0.5555555555555556,
              "#d8576b"
             ],
             [
              0.6666666666666666,
              "#ed7953"
             ],
             [
              0.7777777777777778,
              "#fb9f3a"
             ],
             [
              0.8888888888888888,
              "#fdca26"
             ],
             [
              1,
              "#f0f921"
             ]
            ],
            "type": "contour"
           }
          ],
          "contourcarpet": [
           {
            "colorbar": {
             "outlinewidth": 0,
             "ticks": ""
            },
            "type": "contourcarpet"
           }
          ],
          "heatmap": [
           {
            "colorbar": {
             "outlinewidth": 0,
             "ticks": ""
            },
            "colorscale": [
             [
              0,
              "#0d0887"
             ],
             [
              0.1111111111111111,
              "#46039f"
             ],
             [
              0.2222222222222222,
              "#7201a8"
             ],
             [
              0.3333333333333333,
              "#9c179e"
             ],
             [
              0.4444444444444444,
              "#bd3786"
             ],
             [
              0.5555555555555556,
              "#d8576b"
             ],
             [
              0.6666666666666666,
              "#ed7953"
             ],
             [
              0.7777777777777778,
              "#fb9f3a"
             ],
             [
              0.8888888888888888,
              "#fdca26"
             ],
             [
              1,
              "#f0f921"
             ]
            ],
            "type": "heatmap"
           }
          ],
          "heatmapgl": [
           {
            "colorbar": {
             "outlinewidth": 0,
             "ticks": ""
            },
            "colorscale": [
             [
              0,
              "#0d0887"
             ],
             [
              0.1111111111111111,
              "#46039f"
             ],
             [
              0.2222222222222222,
              "#7201a8"
             ],
             [
              0.3333333333333333,
              "#9c179e"
             ],
             [
              0.4444444444444444,
              "#bd3786"
             ],
             [
              0.5555555555555556,
              "#d8576b"
             ],
             [
              0.6666666666666666,
              "#ed7953"
             ],
             [
              0.7777777777777778,
              "#fb9f3a"
             ],
             [
              0.8888888888888888,
              "#fdca26"
             ],
             [
              1,
              "#f0f921"
             ]
            ],
            "type": "heatmapgl"
           }
          ],
          "histogram": [
           {
            "marker": {
             "pattern": {
              "fillmode": "overlay",
              "size": 10,
              "solidity": 0.2
             }
            },
            "type": "histogram"
           }
          ],
          "histogram2d": [
           {
            "colorbar": {
             "outlinewidth": 0,
             "ticks": ""
            },
            "colorscale": [
             [
              0,
              "#0d0887"
             ],
             [
              0.1111111111111111,
              "#46039f"
             ],
             [
              0.2222222222222222,
              "#7201a8"
             ],
             [
              0.3333333333333333,
              "#9c179e"
             ],
             [
              0.4444444444444444,
              "#bd3786"
             ],
             [
              0.5555555555555556,
              "#d8576b"
             ],
             [
              0.6666666666666666,
              "#ed7953"
             ],
             [
              0.7777777777777778,
              "#fb9f3a"
             ],
             [
              0.8888888888888888,
              "#fdca26"
             ],
             [
              1,
              "#f0f921"
             ]
            ],
            "type": "histogram2d"
           }
          ],
          "histogram2dcontour": [
           {
            "colorbar": {
             "outlinewidth": 0,
             "ticks": ""
            },
            "colorscale": [
             [
              0,
              "#0d0887"
             ],
             [
              0.1111111111111111,
              "#46039f"
             ],
             [
              0.2222222222222222,
              "#7201a8"
             ],
             [
              0.3333333333333333,
              "#9c179e"
             ],
             [
              0.4444444444444444,
              "#bd3786"
             ],
             [
              0.5555555555555556,
              "#d8576b"
             ],
             [
              0.6666666666666666,
              "#ed7953"
             ],
             [
              0.7777777777777778,
              "#fb9f3a"
             ],
             [
              0.8888888888888888,
              "#fdca26"
             ],
             [
              1,
              "#f0f921"
             ]
            ],
            "type": "histogram2dcontour"
           }
          ],
          "mesh3d": [
           {
            "colorbar": {
             "outlinewidth": 0,
             "ticks": ""
            },
            "type": "mesh3d"
           }
          ],
          "parcoords": [
           {
            "line": {
             "colorbar": {
              "outlinewidth": 0,
              "ticks": ""
             }
            },
            "type": "parcoords"
           }
          ],
          "pie": [
           {
            "automargin": true,
            "type": "pie"
           }
          ],
          "scatter": [
           {
            "fillpattern": {
             "fillmode": "overlay",
             "size": 10,
             "solidity": 0.2
            },
            "type": "scatter"
           }
          ],
          "scatter3d": [
           {
            "line": {
             "colorbar": {
              "outlinewidth": 0,
              "ticks": ""
             }
            },
            "marker": {
             "colorbar": {
              "outlinewidth": 0,
              "ticks": ""
             }
            },
            "type": "scatter3d"
           }
          ],
          "scattercarpet": [
           {
            "marker": {
             "colorbar": {
              "outlinewidth": 0,
              "ticks": ""
             }
            },
            "type": "scattercarpet"
           }
          ],
          "scattergeo": [
           {
            "marker": {
             "colorbar": {
              "outlinewidth": 0,
              "ticks": ""
             }
            },
            "type": "scattergeo"
           }
          ],
          "scattergl": [
           {
            "marker": {
             "colorbar": {
              "outlinewidth": 0,
              "ticks": ""
             }
            },
            "type": "scattergl"
           }
          ],
          "scattermapbox": [
           {
            "marker": {
             "colorbar": {
              "outlinewidth": 0,
              "ticks": ""
             }
            },
            "type": "scattermapbox"
           }
          ],
          "scatterpolar": [
           {
            "marker": {
             "colorbar": {
              "outlinewidth": 0,
              "ticks": ""
             }
            },
            "type": "scatterpolar"
           }
          ],
          "scatterpolargl": [
           {
            "marker": {
             "colorbar": {
              "outlinewidth": 0,
              "ticks": ""
             }
            },
            "type": "scatterpolargl"
           }
          ],
          "scatterternary": [
           {
            "marker": {
             "colorbar": {
              "outlinewidth": 0,
              "ticks": ""
             }
            },
            "type": "scatterternary"
           }
          ],
          "surface": [
           {
            "colorbar": {
             "outlinewidth": 0,
             "ticks": ""
            },
            "colorscale": [
             [
              0,
              "#0d0887"
             ],
             [
              0.1111111111111111,
              "#46039f"
             ],
             [
              0.2222222222222222,
              "#7201a8"
             ],
             [
              0.3333333333333333,
              "#9c179e"
             ],
             [
              0.4444444444444444,
              "#bd3786"
             ],
             [
              0.5555555555555556,
              "#d8576b"
             ],
             [
              0.6666666666666666,
              "#ed7953"
             ],
             [
              0.7777777777777778,
              "#fb9f3a"
             ],
             [
              0.8888888888888888,
              "#fdca26"
             ],
             [
              1,
              "#f0f921"
             ]
            ],
            "type": "surface"
           }
          ],
          "table": [
           {
            "cells": {
             "fill": {
              "color": "#EBF0F8"
             },
             "line": {
              "color": "white"
             }
            },
            "header": {
             "fill": {
              "color": "#C8D4E3"
             },
             "line": {
              "color": "white"
             }
            },
            "type": "table"
           }
          ]
         },
         "layout": {
          "annotationdefaults": {
           "arrowcolor": "#2a3f5f",
           "arrowhead": 0,
           "arrowwidth": 1
          },
          "autotypenumbers": "strict",
          "coloraxis": {
           "colorbar": {
            "outlinewidth": 0,
            "ticks": ""
           }
          },
          "colorscale": {
           "diverging": [
            [
             0,
             "#8e0152"
            ],
            [
             0.1,
             "#c51b7d"
            ],
            [
             0.2,
             "#de77ae"
            ],
            [
             0.3,
             "#f1b6da"
            ],
            [
             0.4,
             "#fde0ef"
            ],
            [
             0.5,
             "#f7f7f7"
            ],
            [
             0.6,
             "#e6f5d0"
            ],
            [
             0.7,
             "#b8e186"
            ],
            [
             0.8,
             "#7fbc41"
            ],
            [
             0.9,
             "#4d9221"
            ],
            [
             1,
             "#276419"
            ]
           ],
           "sequential": [
            [
             0,
             "#0d0887"
            ],
            [
             0.1111111111111111,
             "#46039f"
            ],
            [
             0.2222222222222222,
             "#7201a8"
            ],
            [
             0.3333333333333333,
             "#9c179e"
            ],
            [
             0.4444444444444444,
             "#bd3786"
            ],
            [
             0.5555555555555556,
             "#d8576b"
            ],
            [
             0.6666666666666666,
             "#ed7953"
            ],
            [
             0.7777777777777778,
             "#fb9f3a"
            ],
            [
             0.8888888888888888,
             "#fdca26"
            ],
            [
             1,
             "#f0f921"
            ]
           ],
           "sequentialminus": [
            [
             0,
             "#0d0887"
            ],
            [
             0.1111111111111111,
             "#46039f"
            ],
            [
             0.2222222222222222,
             "#7201a8"
            ],
            [
             0.3333333333333333,
             "#9c179e"
            ],
            [
             0.4444444444444444,
             "#bd3786"
            ],
            [
             0.5555555555555556,
             "#d8576b"
            ],
            [
             0.6666666666666666,
             "#ed7953"
            ],
            [
             0.7777777777777778,
             "#fb9f3a"
            ],
            [
             0.8888888888888888,
             "#fdca26"
            ],
            [
             1,
             "#f0f921"
            ]
           ]
          },
          "colorway": [
           "#636efa",
           "#EF553B",
           "#00cc96",
           "#ab63fa",
           "#FFA15A",
           "#19d3f3",
           "#FF6692",
           "#B6E880",
           "#FF97FF",
           "#FECB52"
          ],
          "font": {
           "color": "#2a3f5f"
          },
          "geo": {
           "bgcolor": "white",
           "lakecolor": "white",
           "landcolor": "#E5ECF6",
           "showlakes": true,
           "showland": true,
           "subunitcolor": "white"
          },
          "hoverlabel": {
           "align": "left"
          },
          "hovermode": "closest",
          "mapbox": {
           "style": "light"
          },
          "paper_bgcolor": "white",
          "plot_bgcolor": "#E5ECF6",
          "polar": {
           "angularaxis": {
            "gridcolor": "white",
            "linecolor": "white",
            "ticks": ""
           },
           "bgcolor": "#E5ECF6",
           "radialaxis": {
            "gridcolor": "white",
            "linecolor": "white",
            "ticks": ""
           }
          },
          "scene": {
           "xaxis": {
            "backgroundcolor": "#E5ECF6",
            "gridcolor": "white",
            "gridwidth": 2,
            "linecolor": "white",
            "showbackground": true,
            "ticks": "",
            "zerolinecolor": "white"
           },
           "yaxis": {
            "backgroundcolor": "#E5ECF6",
            "gridcolor": "white",
            "gridwidth": 2,
            "linecolor": "white",
            "showbackground": true,
            "ticks": "",
            "zerolinecolor": "white"
           },
           "zaxis": {
            "backgroundcolor": "#E5ECF6",
            "gridcolor": "white",
            "gridwidth": 2,
            "linecolor": "white",
            "showbackground": true,
            "ticks": "",
            "zerolinecolor": "white"
           }
          },
          "shapedefaults": {
           "line": {
            "color": "#2a3f5f"
           }
          },
          "ternary": {
           "aaxis": {
            "gridcolor": "white",
            "linecolor": "white",
            "ticks": ""
           },
           "baxis": {
            "gridcolor": "white",
            "linecolor": "white",
            "ticks": ""
           },
           "bgcolor": "#E5ECF6",
           "caxis": {
            "gridcolor": "white",
            "linecolor": "white",
            "ticks": ""
           }
          },
          "title": {
           "x": 0.05
          },
          "xaxis": {
           "automargin": true,
           "gridcolor": "white",
           "linecolor": "white",
           "ticks": "",
           "title": {
            "standoff": 15
           },
           "zerolinecolor": "white",
           "zerolinewidth": 2
          },
          "yaxis": {
           "automargin": true,
           "gridcolor": "white",
           "linecolor": "white",
           "ticks": "",
           "title": {
            "standoff": 15
           },
           "zerolinecolor": "white",
           "zerolinewidth": 2
          }
         }
        }
       }
      }
     },
     "metadata": {},
     "output_type": "display_data"
    }
   ],
   "source": [
    "# T_Exophytic(외성장비율 ≥50 ; <50 ; e내장성ndophytic_)에 따른 Raiv\n",
    "\n",
    "fig = go.Figure()\n",
    "fig.add_trace(go.Scatter(x=merged_result['RAIV'], y=merged_result['T_Exophytic'], mode='markers', name='T_Exophytic', marker=dict(color=merged_result['T_Exophytic'])))\n",
    "fig.show()"
   ]
  },
  {
   "cell_type": "markdown",
   "metadata": {},
   "source": [
    "- 종양이 작거나 신장의 표면으로 많이 튀어나와 있는 형태는 신장부분절제수술이 비교적 용이하지만 \n",
    "- 종양의 크기가 크거나, 위치가 좋지 않거나 신장 내에 파묻혀 있는 경우에는 ‘신장 부분절제술’이 기술적 어려움, 합병증 초래 -> 신장 전체 적출술을 선택하게 되는 경우가 많다.\n",
    "(-> 로봇수술로 신장 전절제술이 필요한 ‘내장성 신장암’ 환자를 부분절제술로 치료하는 경우도 있음)\n",
    "- 신장 안쪽에 파묻혀 있고 종양의 크기가 4cm 이상인 경우에는 신장 부분 절제술의 이득이 없어 신장 전체 절제술을 권장"
   ]
  },
  {
   "cell_type": "code",
   "execution_count": 45,
   "metadata": {},
   "outputs": [
    {
     "data": {
      "application/vnd.plotly.v1+json": {
       "config": {
        "plotlyServerURL": "https://plot.ly"
       },
       "data": [
        {
         "marker": {
          "color": [
           3,
           3,
           2,
           2,
           3,
           2,
           2,
           4,
           3,
           2,
           2,
           3,
           3,
           4,
           4,
           3,
           2,
           3,
           4,
           3,
           2,
           4,
           3,
           4,
           4,
           3,
           3,
           2,
           3,
           4,
           3,
           3,
           3,
           4,
           2,
           2,
           3,
           4,
           3,
           4,
           3,
           3,
           4,
           4,
           3,
           3,
           3,
           4,
           4,
           3,
           2,
           4,
           3,
           3,
           3,
           4,
           4,
           4,
           4,
           3,
           3,
           2,
           3,
           2,
           2,
           2,
           4,
           2,
           2,
           3,
           4,
           4,
           2,
           3,
           2,
           4,
           4,
           2,
           4,
           3,
           4,
           2,
           2,
           3,
           2,
           2,
           2,
           4,
           2,
           3,
           2,
           3,
           2,
           2,
           2,
           2,
           2,
           3,
           3,
           3,
           2,
           2,
           2,
           2,
           2,
           3,
           3,
           3,
           2,
           2,
           2,
           4,
           2,
           2,
           3,
           3,
           3,
           4,
           2,
           2,
           2,
           2,
           2,
           2,
           2,
           2,
           2,
           2,
           2,
           4,
           4,
           3,
           3,
           4,
           2,
           2,
           3,
           2,
           3,
           2,
           3,
           3,
           4,
           4,
           4,
           3,
           2,
           3,
           2,
           2,
           5,
           2,
           2,
           4,
           4,
           4,
           3,
           2,
           3,
           3,
           2,
           4,
           3,
           3,
           3,
           3,
           3,
           2,
           3,
           3,
           3,
           4,
           4,
           3,
           3,
           5,
           3,
           4,
           4,
           3,
           3,
           3,
           3,
           4,
           4,
           3,
           3,
           3,
           4,
           4,
           4,
           3,
           3,
           3,
           3,
           3,
           4,
           3,
           3,
           3,
           4,
           2,
           3,
           4,
           4,
           3,
           4,
           2,
           3,
           3,
           5,
           4,
           3,
           3,
           3,
           5,
           3,
           2,
           4,
           3,
           4,
           4,
           3,
           4,
           4,
           4,
           4,
           4,
           2,
           3,
           4,
           3,
           4,
           4,
           3,
           2,
           3,
           2,
           3,
           4,
           4,
           5,
           4,
           4,
           4,
           4,
           4,
           3,
           4,
           2,
           4,
           3,
           3,
           3,
           4,
           4,
           3,
           3,
           3,
           2,
           4,
           4,
           3,
           2,
           2,
           4,
           4,
           2,
           4,
           2,
           2,
           3,
           4,
           4,
           3,
           4,
           3,
           3,
           4,
           3,
           4,
           2,
           4,
           3,
           2,
           3,
           2,
           3,
           4,
           2,
           5,
           3,
           4,
           4,
           3,
           5,
           4,
           3,
           2,
           4,
           3,
           2,
           2,
           2,
           4,
           5,
           4,
           4,
           3,
           3,
           2,
           4,
           4,
           4,
           4,
           2,
           4,
           4,
           3,
           4,
           3,
           4,
           3,
           3,
           3,
           3,
           2,
           3,
           3,
           3,
           3,
           3,
           5,
           3,
           2,
           3,
           4,
           3,
           4,
           4,
           2,
           3,
           3,
           3,
           5,
           4,
           3,
           3,
           3,
           2,
           3,
           3,
           3,
           3,
           2,
           3,
           3,
           3,
           3,
           3,
           3,
           2,
           3,
           3,
           4,
           2,
           4,
           3,
           3,
           3,
           4,
           4,
           3,
           3,
           2,
           4,
           2,
           4,
           2,
           3,
           2,
           2,
           2,
           2,
           3,
           3,
           3,
           3,
           2
          ]
         },
         "mode": "markers",
         "name": "T_size_exo",
         "type": "scatter",
         "x": [
          51.1,
          46.1,
          14.8,
          19.7,
          14.8,
          18.5,
          42.5,
          56.3,
          65.3,
          51.1,
          95.7,
          45,
          55.8,
          48.2,
          58.6,
          85.4,
          31.4,
          28.6,
          114,
          27.7,
          75.9,
          154.8,
          25.8,
          45.6,
          36.8,
          57.8,
          44.3,
          6.9,
          43.6,
          48.8,
          46,
          24.7,
          51.6,
          45.6,
          13.1,
          9,
          67.2,
          30.3,
          30.3,
          23.7,
          66.5,
          40.6,
          30.4,
          20.2,
          94.2,
          74.6,
          17.9,
          37.2,
          111.3,
          66.5,
          18.1,
          103.6,
          19.3,
          27.6,
          49.7,
          15.3,
          46.2,
          55.6,
          143.4,
          46.7,
          67.2,
          11.8,
          76.9,
          42.1,
          32.6,
          19.2,
          20.7,
          31.8,
          9.1,
          26.5,
          8.1,
          7.3,
          21.8,
          93.6,
          27.3,
          10.8,
          43.9,
          8.6,
          4.6,
          34.4,
          18.9,
          82.3,
          88.5,
          82.2,
          12.3,
          35.7,
          49.7,
          10.6,
          19,
          18.6,
          52.6,
          74.2,
          27.7,
          36.5,
          8.8,
          22.6,
          11,
          17.7,
          19.4,
          26.8,
          55.8,
          16.6,
          33.4,
          11.9,
          28.8,
          13.6,
          11.4,
          27.9,
          14.1,
          19.6,
          56.3,
          57.8,
          24.1,
          10.8,
          29.1,
          32.8,
          6.7,
          19.8,
          20.2,
          82.2,
          35.1,
          27.8,
          24.4,
          27.6,
          6.6,
          21.5,
          9.6,
          5.3,
          7.4,
          51.9,
          36,
          8.8,
          7.1,
          5.9,
          5.1,
          14,
          17.2,
          5.3,
          13.4,
          15,
          26.9,
          5.1,
          17.2,
          13.1,
          4.3,
          7.7,
          19.3,
          33.2,
          15.2,
          6.1,
          16.8,
          4.1,
          14.9,
          14.2,
          10.9,
          6.5,
          23,
          6.6,
          19.4,
          23,
          12.7,
          13.1,
          4.3,
          7.1,
          13.9,
          18.1,
          12.7,
          8.1,
          13.4,
          21.8,
          21.2,
          5.9,
          9.5,
          22.6,
          10.2,
          16.5,
          27.9,
          35.3,
          22.7,
          4.7,
          11.7,
          13.1,
          21.3,
          11.5,
          13.5,
          8.7,
          14,
          12.5,
          54.4,
          32.7,
          9.1,
          9.2,
          3.7,
          12.7,
          10.4,
          11.5,
          9,
          22.4,
          9.9,
          9.3,
          11.9,
          18.4,
          25.8,
          10.1,
          6.6,
          9.1,
          28,
          8.1,
          6.6,
          10.6,
          36.5,
          43.1,
          8.1,
          10.4,
          14.7,
          42.7,
          5.1,
          9.9,
          36.5,
          17.7,
          18.4,
          10.1,
          7.1,
          11.1,
          26.2,
          19.9,
          4.1,
          13,
          9.3,
          16.2,
          5.9,
          7.1,
          36.5,
          27.6,
          11,
          6.1,
          16.8,
          6.1,
          10.4,
          31.3,
          21.9,
          17.8,
          37.8,
          63.6,
          3.5,
          5.3,
          14.7,
          30.4,
          3.6,
          9.3,
          36.5,
          9.2,
          20.9,
          24.8,
          5.1,
          19.4,
          30.4,
          26.9,
          21.6,
          6.1,
          8.7,
          22.2,
          14.5,
          10.4,
          6.6,
          15.3,
          20.5,
          22.6,
          10.3,
          4.6,
          6.5,
          21.8,
          12,
          19.1,
          14.4,
          13.2,
          13.4,
          26.7,
          15.3,
          14,
          16.8,
          3.6,
          9.6,
          42.7,
          24,
          37,
          8.3,
          14.3,
          13.5,
          9.5,
          31.7,
          37.5,
          15.7,
          10.4,
          5.2,
          63.6,
          20.6,
          6.5,
          25.5,
          11.2,
          9.9,
          15,
          10.9,
          12.1,
          31.6,
          14.3,
          15,
          27.9,
          17.9,
          13.3,
          4.6,
          6.5,
          64.7,
          22.6,
          49.5,
          7.1,
          16.8,
          8.4,
          11.9,
          10.7,
          12.8,
          32.8,
          6.6,
          14,
          13.1,
          5.3,
          14.3,
          32.2,
          12,
          16.1,
          7.4,
          14.7,
          49.5,
          23.3,
          5.7,
          7.6,
          20.6,
          42.1,
          10.4,
          7.1,
          18.1,
          10.9,
          8.4,
          22.4,
          13,
          9,
          24.2,
          17,
          28.5,
          29.1,
          60.5,
          37.9,
          48.9,
          67.8,
          70.1,
          18.9,
          106,
          50.6,
          57.7,
          60.5,
          52.3,
          55.6,
          22.4,
          47.8,
          10.1,
          24.7,
          121.1,
          122.7,
          28.4,
          74.6,
          49.5,
          65.6,
          104.8,
          14.7,
          48.9,
          20.4,
          24,
          16.8,
          55.6,
          10.6,
          23.2,
          17.7,
          97.9,
          24.6,
          21.3,
          30.5,
          70.7,
          12.6,
          11.8
         ],
         "y": [
          3,
          3,
          2,
          2,
          3,
          2,
          2,
          4,
          3,
          2,
          2,
          3,
          3,
          4,
          4,
          3,
          2,
          3,
          4,
          3,
          2,
          4,
          3,
          4,
          4,
          3,
          3,
          2,
          3,
          4,
          3,
          3,
          3,
          4,
          2,
          2,
          3,
          4,
          3,
          4,
          3,
          3,
          4,
          4,
          3,
          3,
          3,
          4,
          4,
          3,
          2,
          4,
          3,
          3,
          3,
          4,
          4,
          4,
          4,
          3,
          3,
          2,
          3,
          2,
          2,
          2,
          4,
          2,
          2,
          3,
          4,
          4,
          2,
          3,
          2,
          4,
          4,
          2,
          4,
          3,
          4,
          2,
          2,
          3,
          2,
          2,
          2,
          4,
          2,
          3,
          2,
          3,
          2,
          2,
          2,
          2,
          2,
          3,
          3,
          3,
          2,
          2,
          2,
          2,
          2,
          3,
          3,
          3,
          2,
          2,
          2,
          4,
          2,
          2,
          3,
          3,
          3,
          4,
          2,
          2,
          2,
          2,
          2,
          2,
          2,
          2,
          2,
          2,
          2,
          4,
          4,
          3,
          3,
          4,
          2,
          2,
          3,
          2,
          3,
          2,
          3,
          3,
          4,
          4,
          4,
          3,
          2,
          3,
          2,
          2,
          5,
          2,
          2,
          4,
          4,
          4,
          3,
          2,
          3,
          3,
          2,
          4,
          3,
          3,
          3,
          3,
          3,
          2,
          3,
          3,
          3,
          4,
          4,
          3,
          3,
          5,
          3,
          4,
          4,
          3,
          3,
          3,
          3,
          4,
          4,
          3,
          3,
          3,
          4,
          4,
          4,
          3,
          3,
          3,
          3,
          3,
          4,
          3,
          3,
          3,
          4,
          2,
          3,
          4,
          4,
          3,
          4,
          2,
          3,
          3,
          5,
          4,
          3,
          3,
          3,
          5,
          3,
          2,
          4,
          3,
          4,
          4,
          3,
          4,
          4,
          4,
          4,
          4,
          2,
          3,
          4,
          3,
          4,
          4,
          3,
          2,
          3,
          2,
          3,
          4,
          4,
          5,
          4,
          4,
          4,
          4,
          4,
          3,
          4,
          2,
          4,
          3,
          3,
          3,
          4,
          4,
          3,
          3,
          3,
          2,
          4,
          4,
          3,
          2,
          2,
          4,
          4,
          2,
          4,
          2,
          2,
          3,
          4,
          4,
          3,
          4,
          3,
          3,
          4,
          3,
          4,
          2,
          4,
          3,
          2,
          3,
          2,
          3,
          4,
          2,
          5,
          3,
          4,
          4,
          3,
          5,
          4,
          3,
          2,
          4,
          3,
          2,
          2,
          2,
          4,
          5,
          4,
          4,
          3,
          3,
          2,
          4,
          4,
          4,
          4,
          2,
          4,
          4,
          3,
          4,
          3,
          4,
          3,
          3,
          3,
          3,
          2,
          3,
          3,
          3,
          3,
          3,
          5,
          3,
          2,
          3,
          4,
          3,
          4,
          4,
          2,
          3,
          3,
          3,
          5,
          4,
          3,
          3,
          3,
          2,
          3,
          3,
          3,
          3,
          2,
          3,
          3,
          3,
          3,
          3,
          3,
          2,
          3,
          3,
          4,
          2,
          4,
          3,
          3,
          3,
          4,
          4,
          3,
          3,
          2,
          4,
          2,
          4,
          2,
          3,
          2,
          2,
          2,
          2,
          3,
          3,
          3,
          3,
          2
         ]
        }
       ],
       "layout": {
        "template": {
         "data": {
          "bar": [
           {
            "error_x": {
             "color": "#2a3f5f"
            },
            "error_y": {
             "color": "#2a3f5f"
            },
            "marker": {
             "line": {
              "color": "#E5ECF6",
              "width": 0.5
             },
             "pattern": {
              "fillmode": "overlay",
              "size": 10,
              "solidity": 0.2
             }
            },
            "type": "bar"
           }
          ],
          "barpolar": [
           {
            "marker": {
             "line": {
              "color": "#E5ECF6",
              "width": 0.5
             },
             "pattern": {
              "fillmode": "overlay",
              "size": 10,
              "solidity": 0.2
             }
            },
            "type": "barpolar"
           }
          ],
          "carpet": [
           {
            "aaxis": {
             "endlinecolor": "#2a3f5f",
             "gridcolor": "white",
             "linecolor": "white",
             "minorgridcolor": "white",
             "startlinecolor": "#2a3f5f"
            },
            "baxis": {
             "endlinecolor": "#2a3f5f",
             "gridcolor": "white",
             "linecolor": "white",
             "minorgridcolor": "white",
             "startlinecolor": "#2a3f5f"
            },
            "type": "carpet"
           }
          ],
          "choropleth": [
           {
            "colorbar": {
             "outlinewidth": 0,
             "ticks": ""
            },
            "type": "choropleth"
           }
          ],
          "contour": [
           {
            "colorbar": {
             "outlinewidth": 0,
             "ticks": ""
            },
            "colorscale": [
             [
              0,
              "#0d0887"
             ],
             [
              0.1111111111111111,
              "#46039f"
             ],
             [
              0.2222222222222222,
              "#7201a8"
             ],
             [
              0.3333333333333333,
              "#9c179e"
             ],
             [
              0.4444444444444444,
              "#bd3786"
             ],
             [
              0.5555555555555556,
              "#d8576b"
             ],
             [
              0.6666666666666666,
              "#ed7953"
             ],
             [
              0.7777777777777778,
              "#fb9f3a"
             ],
             [
              0.8888888888888888,
              "#fdca26"
             ],
             [
              1,
              "#f0f921"
             ]
            ],
            "type": "contour"
           }
          ],
          "contourcarpet": [
           {
            "colorbar": {
             "outlinewidth": 0,
             "ticks": ""
            },
            "type": "contourcarpet"
           }
          ],
          "heatmap": [
           {
            "colorbar": {
             "outlinewidth": 0,
             "ticks": ""
            },
            "colorscale": [
             [
              0,
              "#0d0887"
             ],
             [
              0.1111111111111111,
              "#46039f"
             ],
             [
              0.2222222222222222,
              "#7201a8"
             ],
             [
              0.3333333333333333,
              "#9c179e"
             ],
             [
              0.4444444444444444,
              "#bd3786"
             ],
             [
              0.5555555555555556,
              "#d8576b"
             ],
             [
              0.6666666666666666,
              "#ed7953"
             ],
             [
              0.7777777777777778,
              "#fb9f3a"
             ],
             [
              0.8888888888888888,
              "#fdca26"
             ],
             [
              1,
              "#f0f921"
             ]
            ],
            "type": "heatmap"
           }
          ],
          "heatmapgl": [
           {
            "colorbar": {
             "outlinewidth": 0,
             "ticks": ""
            },
            "colorscale": [
             [
              0,
              "#0d0887"
             ],
             [
              0.1111111111111111,
              "#46039f"
             ],
             [
              0.2222222222222222,
              "#7201a8"
             ],
             [
              0.3333333333333333,
              "#9c179e"
             ],
             [
              0.4444444444444444,
              "#bd3786"
             ],
             [
              0.5555555555555556,
              "#d8576b"
             ],
             [
              0.6666666666666666,
              "#ed7953"
             ],
             [
              0.7777777777777778,
              "#fb9f3a"
             ],
             [
              0.8888888888888888,
              "#fdca26"
             ],
             [
              1,
              "#f0f921"
             ]
            ],
            "type": "heatmapgl"
           }
          ],
          "histogram": [
           {
            "marker": {
             "pattern": {
              "fillmode": "overlay",
              "size": 10,
              "solidity": 0.2
             }
            },
            "type": "histogram"
           }
          ],
          "histogram2d": [
           {
            "colorbar": {
             "outlinewidth": 0,
             "ticks": ""
            },
            "colorscale": [
             [
              0,
              "#0d0887"
             ],
             [
              0.1111111111111111,
              "#46039f"
             ],
             [
              0.2222222222222222,
              "#7201a8"
             ],
             [
              0.3333333333333333,
              "#9c179e"
             ],
             [
              0.4444444444444444,
              "#bd3786"
             ],
             [
              0.5555555555555556,
              "#d8576b"
             ],
             [
              0.6666666666666666,
              "#ed7953"
             ],
             [
              0.7777777777777778,
              "#fb9f3a"
             ],
             [
              0.8888888888888888,
              "#fdca26"
             ],
             [
              1,
              "#f0f921"
             ]
            ],
            "type": "histogram2d"
           }
          ],
          "histogram2dcontour": [
           {
            "colorbar": {
             "outlinewidth": 0,
             "ticks": ""
            },
            "colorscale": [
             [
              0,
              "#0d0887"
             ],
             [
              0.1111111111111111,
              "#46039f"
             ],
             [
              0.2222222222222222,
              "#7201a8"
             ],
             [
              0.3333333333333333,
              "#9c179e"
             ],
             [
              0.4444444444444444,
              "#bd3786"
             ],
             [
              0.5555555555555556,
              "#d8576b"
             ],
             [
              0.6666666666666666,
              "#ed7953"
             ],
             [
              0.7777777777777778,
              "#fb9f3a"
             ],
             [
              0.8888888888888888,
              "#fdca26"
             ],
             [
              1,
              "#f0f921"
             ]
            ],
            "type": "histogram2dcontour"
           }
          ],
          "mesh3d": [
           {
            "colorbar": {
             "outlinewidth": 0,
             "ticks": ""
            },
            "type": "mesh3d"
           }
          ],
          "parcoords": [
           {
            "line": {
             "colorbar": {
              "outlinewidth": 0,
              "ticks": ""
             }
            },
            "type": "parcoords"
           }
          ],
          "pie": [
           {
            "automargin": true,
            "type": "pie"
           }
          ],
          "scatter": [
           {
            "fillpattern": {
             "fillmode": "overlay",
             "size": 10,
             "solidity": 0.2
            },
            "type": "scatter"
           }
          ],
          "scatter3d": [
           {
            "line": {
             "colorbar": {
              "outlinewidth": 0,
              "ticks": ""
             }
            },
            "marker": {
             "colorbar": {
              "outlinewidth": 0,
              "ticks": ""
             }
            },
            "type": "scatter3d"
           }
          ],
          "scattercarpet": [
           {
            "marker": {
             "colorbar": {
              "outlinewidth": 0,
              "ticks": ""
             }
            },
            "type": "scattercarpet"
           }
          ],
          "scattergeo": [
           {
            "marker": {
             "colorbar": {
              "outlinewidth": 0,
              "ticks": ""
             }
            },
            "type": "scattergeo"
           }
          ],
          "scattergl": [
           {
            "marker": {
             "colorbar": {
              "outlinewidth": 0,
              "ticks": ""
             }
            },
            "type": "scattergl"
           }
          ],
          "scattermapbox": [
           {
            "marker": {
             "colorbar": {
              "outlinewidth": 0,
              "ticks": ""
             }
            },
            "type": "scattermapbox"
           }
          ],
          "scatterpolar": [
           {
            "marker": {
             "colorbar": {
              "outlinewidth": 0,
              "ticks": ""
             }
            },
            "type": "scatterpolar"
           }
          ],
          "scatterpolargl": [
           {
            "marker": {
             "colorbar": {
              "outlinewidth": 0,
              "ticks": ""
             }
            },
            "type": "scatterpolargl"
           }
          ],
          "scatterternary": [
           {
            "marker": {
             "colorbar": {
              "outlinewidth": 0,
              "ticks": ""
             }
            },
            "type": "scatterternary"
           }
          ],
          "surface": [
           {
            "colorbar": {
             "outlinewidth": 0,
             "ticks": ""
            },
            "colorscale": [
             [
              0,
              "#0d0887"
             ],
             [
              0.1111111111111111,
              "#46039f"
             ],
             [
              0.2222222222222222,
              "#7201a8"
             ],
             [
              0.3333333333333333,
              "#9c179e"
             ],
             [
              0.4444444444444444,
              "#bd3786"
             ],
             [
              0.5555555555555556,
              "#d8576b"
             ],
             [
              0.6666666666666666,
              "#ed7953"
             ],
             [
              0.7777777777777778,
              "#fb9f3a"
             ],
             [
              0.8888888888888888,
              "#fdca26"
             ],
             [
              1,
              "#f0f921"
             ]
            ],
            "type": "surface"
           }
          ],
          "table": [
           {
            "cells": {
             "fill": {
              "color": "#EBF0F8"
             },
             "line": {
              "color": "white"
             }
            },
            "header": {
             "fill": {
              "color": "#C8D4E3"
             },
             "line": {
              "color": "white"
             }
            },
            "type": "table"
           }
          ]
         },
         "layout": {
          "annotationdefaults": {
           "arrowcolor": "#2a3f5f",
           "arrowhead": 0,
           "arrowwidth": 1
          },
          "autotypenumbers": "strict",
          "coloraxis": {
           "colorbar": {
            "outlinewidth": 0,
            "ticks": ""
           }
          },
          "colorscale": {
           "diverging": [
            [
             0,
             "#8e0152"
            ],
            [
             0.1,
             "#c51b7d"
            ],
            [
             0.2,
             "#de77ae"
            ],
            [
             0.3,
             "#f1b6da"
            ],
            [
             0.4,
             "#fde0ef"
            ],
            [
             0.5,
             "#f7f7f7"
            ],
            [
             0.6,
             "#e6f5d0"
            ],
            [
             0.7,
             "#b8e186"
            ],
            [
             0.8,
             "#7fbc41"
            ],
            [
             0.9,
             "#4d9221"
            ],
            [
             1,
             "#276419"
            ]
           ],
           "sequential": [
            [
             0,
             "#0d0887"
            ],
            [
             0.1111111111111111,
             "#46039f"
            ],
            [
             0.2222222222222222,
             "#7201a8"
            ],
            [
             0.3333333333333333,
             "#9c179e"
            ],
            [
             0.4444444444444444,
             "#bd3786"
            ],
            [
             0.5555555555555556,
             "#d8576b"
            ],
            [
             0.6666666666666666,
             "#ed7953"
            ],
            [
             0.7777777777777778,
             "#fb9f3a"
            ],
            [
             0.8888888888888888,
             "#fdca26"
            ],
            [
             1,
             "#f0f921"
            ]
           ],
           "sequentialminus": [
            [
             0,
             "#0d0887"
            ],
            [
             0.1111111111111111,
             "#46039f"
            ],
            [
             0.2222222222222222,
             "#7201a8"
            ],
            [
             0.3333333333333333,
             "#9c179e"
            ],
            [
             0.4444444444444444,
             "#bd3786"
            ],
            [
             0.5555555555555556,
             "#d8576b"
            ],
            [
             0.6666666666666666,
             "#ed7953"
            ],
            [
             0.7777777777777778,
             "#fb9f3a"
            ],
            [
             0.8888888888888888,
             "#fdca26"
            ],
            [
             1,
             "#f0f921"
            ]
           ]
          },
          "colorway": [
           "#636efa",
           "#EF553B",
           "#00cc96",
           "#ab63fa",
           "#FFA15A",
           "#19d3f3",
           "#FF6692",
           "#B6E880",
           "#FF97FF",
           "#FECB52"
          ],
          "font": {
           "color": "#2a3f5f"
          },
          "geo": {
           "bgcolor": "white",
           "lakecolor": "white",
           "landcolor": "#E5ECF6",
           "showlakes": true,
           "showland": true,
           "subunitcolor": "white"
          },
          "hoverlabel": {
           "align": "left"
          },
          "hovermode": "closest",
          "mapbox": {
           "style": "light"
          },
          "paper_bgcolor": "white",
          "plot_bgcolor": "#E5ECF6",
          "polar": {
           "angularaxis": {
            "gridcolor": "white",
            "linecolor": "white",
            "ticks": ""
           },
           "bgcolor": "#E5ECF6",
           "radialaxis": {
            "gridcolor": "white",
            "linecolor": "white",
            "ticks": ""
           }
          },
          "scene": {
           "xaxis": {
            "backgroundcolor": "#E5ECF6",
            "gridcolor": "white",
            "gridwidth": 2,
            "linecolor": "white",
            "showbackground": true,
            "ticks": "",
            "zerolinecolor": "white"
           },
           "yaxis": {
            "backgroundcolor": "#E5ECF6",
            "gridcolor": "white",
            "gridwidth": 2,
            "linecolor": "white",
            "showbackground": true,
            "ticks": "",
            "zerolinecolor": "white"
           },
           "zaxis": {
            "backgroundcolor": "#E5ECF6",
            "gridcolor": "white",
            "gridwidth": 2,
            "linecolor": "white",
            "showbackground": true,
            "ticks": "",
            "zerolinecolor": "white"
           }
          },
          "shapedefaults": {
           "line": {
            "color": "#2a3f5f"
           }
          },
          "ternary": {
           "aaxis": {
            "gridcolor": "white",
            "linecolor": "white",
            "ticks": ""
           },
           "baxis": {
            "gridcolor": "white",
            "linecolor": "white",
            "ticks": ""
           },
           "bgcolor": "#E5ECF6",
           "caxis": {
            "gridcolor": "white",
            "linecolor": "white",
            "ticks": ""
           }
          },
          "title": {
           "x": 0.05
          },
          "xaxis": {
           "automargin": true,
           "gridcolor": "white",
           "linecolor": "white",
           "ticks": "",
           "title": {
            "standoff": 15
           },
           "zerolinecolor": "white",
           "zerolinewidth": 2
          },
          "yaxis": {
           "automargin": true,
           "gridcolor": "white",
           "linecolor": "white",
           "ticks": "",
           "title": {
            "standoff": 15
           },
           "zerolinecolor": "white",
           "zerolinewidth": 2
          }
         }
        }
       }
      }
     },
     "metadata": {},
     "output_type": "display_data"
    }
   ],
   "source": [
    "# T_size_exo에 따른 Raiv ((T_size + T_Exophytic = T_size_exo ))\n",
    "\n",
    "fig = go.Figure()\n",
    "fig.add_trace(go.Scatter(x=merged_result['RAIV'], y=merged_result['T_size_exo'], mode='markers', name='T_size_exo', marker=dict(color=merged_result['T_size_exo'])))\n",
    "fig.show()"
   ]
  },
  {
   "cell_type": "code",
   "execution_count": 46,
   "metadata": {},
   "outputs": [
    {
     "data": {
      "application/vnd.plotly.v1+json": {
       "config": {
        "plotlyServerURL": "https://plot.ly"
       },
       "data": [
        {
         "marker": {
          "color": [
           2,
           1,
           1,
           1,
           1,
           1,
           1,
           2,
           1,
           2,
           2,
           1,
           1,
           2,
           2,
           1,
           1,
           1,
           2,
           2,
           1,
           1,
           1,
           1,
           2,
           2,
           2,
           2,
           2,
           2,
           1,
           1,
           2,
           1,
           1,
           1,
           2,
           1,
           2,
           2,
           1,
           1,
           2,
           1,
           1,
           1,
           1,
           2,
           1,
           1,
           1,
           2,
           1,
           2,
           1,
           1,
           1,
           1,
           1,
           1,
           1,
           1,
           1,
           1,
           1,
           1,
           2,
           1,
           1,
           1,
           2,
           1,
           2,
           1,
           1,
           2,
           2,
           1,
           2,
           2,
           2,
           2,
           2,
           1,
           2,
           2,
           2,
           1,
           1,
           1,
           2,
           2,
           2,
           2,
           2,
           2,
           2,
           2,
           2,
           1,
           2,
           2,
           1,
           2,
           1,
           1,
           2,
           2,
           1,
           2,
           1,
           2,
           2,
           1,
           2,
           1,
           2,
           2,
           1,
           2,
           2,
           2,
           1,
           1,
           1,
           2,
           1,
           1,
           1,
           2,
           1,
           1,
           1,
           1,
           1,
           1,
           1,
           1,
           1,
           1,
           1,
           2,
           1,
           2,
           1,
           1,
           1,
           1,
           1,
           1,
           2,
           1,
           1,
           1,
           2,
           1,
           2,
           1,
           1,
           1,
           1,
           2,
           1,
           1,
           1,
           2,
           1,
           1,
           2,
           1,
           1,
           2,
           1,
           1,
           1,
           1,
           1,
           2,
           1,
           1,
           1,
           1,
           1,
           1,
           1,
           2,
           2,
           2,
           1,
           1,
           1,
           1,
           1,
           1,
           1,
           1,
           2,
           1,
           1,
           1,
           1,
           2,
           1,
           1,
           1,
           2,
           1,
           1,
           1,
           1,
           2,
           2,
           1,
           2,
           2,
           1,
           1,
           1,
           1,
           1,
           2,
           2,
           2,
           2,
           2,
           1,
           1,
           1,
           1,
           1,
           1,
           1,
           1,
           1,
           1,
           1,
           1,
           1,
           1,
           1,
           1,
           1,
           1,
           1,
           1,
           1,
           2,
           1,
           1,
           1,
           1,
           1,
           1,
           1,
           1,
           1,
           1,
           1,
           1,
           1,
           2,
           1,
           1,
           2,
           1,
           1,
           2,
           1,
           1,
           1,
           2,
           2,
           2,
           1,
           1,
           2,
           1,
           1,
           1,
           1,
           2,
           2,
           2,
           2,
           2,
           1,
           1,
           1,
           1,
           1,
           2,
           1,
           1,
           2,
           2,
           2,
           1,
           1,
           1,
           2,
           2,
           1,
           1,
           1,
           2,
           2,
           2,
           2,
           1,
           1,
           1,
           1,
           2,
           1,
           2,
           1,
           2,
           1,
           1,
           1,
           1,
           1,
           1,
           1,
           2,
           1,
           1,
           1,
           1,
           2,
           2,
           2,
           2,
           2,
           1,
           2,
           2,
           1,
           2,
           2,
           1,
           2,
           1,
           2,
           2,
           2,
           1,
           2,
           2,
           1,
           1,
           1,
           2,
           1,
           1,
           2,
           1,
           2,
           2,
           1,
           1,
           2,
           1,
           1,
           1,
           1,
           2,
           1,
           1,
           1,
           1,
           1,
           1,
           2,
           1,
           1,
           1,
           1,
           1,
           2,
           2,
           1,
           2,
           1,
           1,
           1,
           1,
           2,
           1
          ]
         },
         "mode": "markers",
         "name": "T_surface_loc",
         "type": "scatter",
         "x": [
          51.1,
          46.1,
          14.8,
          19.7,
          14.8,
          18.5,
          42.5,
          56.3,
          65.3,
          51.1,
          95.7,
          45,
          55.8,
          48.2,
          58.6,
          85.4,
          31.4,
          28.6,
          114,
          27.7,
          75.9,
          154.8,
          25.8,
          45.6,
          36.8,
          57.8,
          44.3,
          6.9,
          43.6,
          48.8,
          46,
          24.7,
          51.6,
          45.6,
          13.1,
          9,
          67.2,
          30.3,
          30.3,
          23.7,
          66.5,
          40.6,
          30.4,
          20.2,
          94.2,
          74.6,
          17.9,
          37.2,
          111.3,
          66.5,
          18.1,
          103.6,
          19.3,
          27.6,
          49.7,
          15.3,
          46.2,
          55.6,
          143.4,
          46.7,
          67.2,
          11.8,
          76.9,
          42.1,
          32.6,
          19.2,
          20.7,
          31.8,
          9.1,
          26.5,
          8.1,
          7.3,
          21.8,
          93.6,
          27.3,
          10.8,
          43.9,
          8.6,
          4.6,
          34.4,
          18.9,
          82.3,
          88.5,
          82.2,
          12.3,
          35.7,
          49.7,
          10.6,
          19,
          18.6,
          52.6,
          74.2,
          27.7,
          36.5,
          8.8,
          22.6,
          11,
          17.7,
          19.4,
          26.8,
          55.8,
          16.6,
          33.4,
          11.9,
          28.8,
          13.6,
          11.4,
          27.9,
          14.1,
          19.6,
          56.3,
          57.8,
          24.1,
          10.8,
          29.1,
          32.8,
          6.7,
          19.8,
          20.2,
          82.2,
          35.1,
          27.8,
          24.4,
          27.6,
          6.6,
          21.5,
          9.6,
          5.3,
          7.4,
          51.9,
          36,
          8.8,
          7.1,
          5.9,
          5.1,
          14,
          17.2,
          5.3,
          13.4,
          15,
          26.9,
          5.1,
          17.2,
          13.1,
          4.3,
          7.7,
          19.3,
          33.2,
          15.2,
          6.1,
          16.8,
          4.1,
          14.9,
          14.2,
          10.9,
          6.5,
          23,
          6.6,
          19.4,
          23,
          12.7,
          13.1,
          4.3,
          7.1,
          13.9,
          18.1,
          12.7,
          8.1,
          13.4,
          21.8,
          21.2,
          5.9,
          9.5,
          22.6,
          10.2,
          16.5,
          27.9,
          35.3,
          22.7,
          4.7,
          11.7,
          13.1,
          21.3,
          11.5,
          13.5,
          8.7,
          14,
          12.5,
          54.4,
          32.7,
          9.1,
          9.2,
          3.7,
          12.7,
          10.4,
          11.5,
          9,
          22.4,
          9.9,
          9.3,
          11.9,
          18.4,
          25.8,
          10.1,
          6.6,
          9.1,
          28,
          8.1,
          6.6,
          10.6,
          36.5,
          43.1,
          8.1,
          10.4,
          14.7,
          42.7,
          5.1,
          9.9,
          36.5,
          17.7,
          18.4,
          10.1,
          7.1,
          11.1,
          26.2,
          19.9,
          4.1,
          13,
          9.3,
          16.2,
          5.9,
          7.1,
          36.5,
          27.6,
          11,
          6.1,
          16.8,
          6.1,
          10.4,
          31.3,
          21.9,
          17.8,
          37.8,
          63.6,
          3.5,
          5.3,
          14.7,
          30.4,
          3.6,
          9.3,
          36.5,
          9.2,
          20.9,
          24.8,
          5.1,
          19.4,
          30.4,
          26.9,
          21.6,
          6.1,
          8.7,
          22.2,
          14.5,
          10.4,
          6.6,
          15.3,
          20.5,
          22.6,
          10.3,
          4.6,
          6.5,
          21.8,
          12,
          19.1,
          14.4,
          13.2,
          13.4,
          26.7,
          15.3,
          14,
          16.8,
          3.6,
          9.6,
          42.7,
          24,
          37,
          8.3,
          14.3,
          13.5,
          9.5,
          31.7,
          37.5,
          15.7,
          10.4,
          5.2,
          63.6,
          20.6,
          6.5,
          25.5,
          11.2,
          9.9,
          15,
          10.9,
          12.1,
          31.6,
          14.3,
          15,
          27.9,
          17.9,
          13.3,
          4.6,
          6.5,
          64.7,
          22.6,
          49.5,
          7.1,
          16.8,
          8.4,
          11.9,
          10.7,
          12.8,
          32.8,
          6.6,
          14,
          13.1,
          5.3,
          14.3,
          32.2,
          12,
          16.1,
          7.4,
          14.7,
          49.5,
          23.3,
          5.7,
          7.6,
          20.6,
          42.1,
          10.4,
          7.1,
          18.1,
          10.9,
          8.4,
          22.4,
          13,
          9,
          24.2,
          17,
          28.5,
          29.1,
          60.5,
          37.9,
          48.9,
          67.8,
          70.1,
          18.9,
          106,
          50.6,
          57.7,
          60.5,
          52.3,
          55.6,
          22.4,
          47.8,
          10.1,
          24.7,
          121.1,
          122.7,
          28.4,
          74.6,
          49.5,
          65.6,
          104.8,
          14.7,
          48.9,
          20.4,
          24,
          16.8,
          55.6,
          10.6,
          23.2,
          17.7,
          97.9,
          24.6,
          21.3,
          30.5,
          70.7,
          12.6,
          11.8
         ],
         "y": [
          2,
          1,
          1,
          1,
          1,
          1,
          1,
          2,
          1,
          2,
          2,
          1,
          1,
          2,
          2,
          1,
          1,
          1,
          2,
          2,
          1,
          1,
          1,
          1,
          2,
          2,
          2,
          2,
          2,
          2,
          1,
          1,
          2,
          1,
          1,
          1,
          2,
          1,
          2,
          2,
          1,
          1,
          2,
          1,
          1,
          1,
          1,
          2,
          1,
          1,
          1,
          2,
          1,
          2,
          1,
          1,
          1,
          1,
          1,
          1,
          1,
          1,
          1,
          1,
          1,
          1,
          2,
          1,
          1,
          1,
          2,
          1,
          2,
          1,
          1,
          2,
          2,
          1,
          2,
          2,
          2,
          2,
          2,
          1,
          2,
          2,
          2,
          1,
          1,
          1,
          2,
          2,
          2,
          2,
          2,
          2,
          2,
          2,
          2,
          1,
          2,
          2,
          1,
          2,
          1,
          1,
          2,
          2,
          1,
          2,
          1,
          2,
          2,
          1,
          2,
          1,
          2,
          2,
          1,
          2,
          2,
          2,
          1,
          1,
          1,
          2,
          1,
          1,
          1,
          2,
          1,
          1,
          1,
          1,
          1,
          1,
          1,
          1,
          1,
          1,
          1,
          2,
          1,
          2,
          1,
          1,
          1,
          1,
          1,
          1,
          2,
          1,
          1,
          1,
          2,
          1,
          2,
          1,
          1,
          1,
          1,
          2,
          1,
          1,
          1,
          2,
          1,
          1,
          2,
          1,
          1,
          2,
          1,
          1,
          1,
          1,
          1,
          2,
          1,
          1,
          1,
          1,
          1,
          1,
          1,
          2,
          2,
          2,
          1,
          1,
          1,
          1,
          1,
          1,
          1,
          1,
          2,
          1,
          1,
          1,
          1,
          2,
          1,
          1,
          1,
          2,
          1,
          1,
          1,
          1,
          2,
          2,
          1,
          2,
          2,
          1,
          1,
          1,
          1,
          1,
          2,
          2,
          2,
          2,
          2,
          1,
          1,
          1,
          1,
          1,
          1,
          1,
          1,
          1,
          1,
          1,
          1,
          1,
          1,
          1,
          1,
          1,
          1,
          1,
          1,
          1,
          2,
          1,
          1,
          1,
          1,
          1,
          1,
          1,
          1,
          1,
          1,
          1,
          1,
          1,
          2,
          1,
          1,
          2,
          1,
          1,
          2,
          1,
          1,
          1,
          2,
          2,
          2,
          1,
          1,
          2,
          1,
          1,
          1,
          1,
          2,
          2,
          2,
          2,
          2,
          1,
          1,
          1,
          1,
          1,
          2,
          1,
          1,
          2,
          2,
          2,
          1,
          1,
          1,
          2,
          2,
          1,
          1,
          1,
          2,
          2,
          2,
          2,
          1,
          1,
          1,
          1,
          2,
          1,
          2,
          1,
          2,
          1,
          1,
          1,
          1,
          1,
          1,
          1,
          2,
          1,
          1,
          1,
          1,
          2,
          2,
          2,
          2,
          2,
          1,
          2,
          2,
          1,
          2,
          2,
          1,
          2,
          1,
          2,
          2,
          2,
          1,
          2,
          2,
          1,
          1,
          1,
          2,
          1,
          1,
          2,
          1,
          2,
          2,
          1,
          1,
          2,
          1,
          1,
          1,
          1,
          2,
          1,
          1,
          1,
          1,
          1,
          1,
          2,
          1,
          1,
          1,
          1,
          1,
          2,
          2,
          1,
          2,
          1,
          1,
          1,
          1,
          2,
          1
         ]
        }
       ],
       "layout": {
        "template": {
         "data": {
          "bar": [
           {
            "error_x": {
             "color": "#2a3f5f"
            },
            "error_y": {
             "color": "#2a3f5f"
            },
            "marker": {
             "line": {
              "color": "#E5ECF6",
              "width": 0.5
             },
             "pattern": {
              "fillmode": "overlay",
              "size": 10,
              "solidity": 0.2
             }
            },
            "type": "bar"
           }
          ],
          "barpolar": [
           {
            "marker": {
             "line": {
              "color": "#E5ECF6",
              "width": 0.5
             },
             "pattern": {
              "fillmode": "overlay",
              "size": 10,
              "solidity": 0.2
             }
            },
            "type": "barpolar"
           }
          ],
          "carpet": [
           {
            "aaxis": {
             "endlinecolor": "#2a3f5f",
             "gridcolor": "white",
             "linecolor": "white",
             "minorgridcolor": "white",
             "startlinecolor": "#2a3f5f"
            },
            "baxis": {
             "endlinecolor": "#2a3f5f",
             "gridcolor": "white",
             "linecolor": "white",
             "minorgridcolor": "white",
             "startlinecolor": "#2a3f5f"
            },
            "type": "carpet"
           }
          ],
          "choropleth": [
           {
            "colorbar": {
             "outlinewidth": 0,
             "ticks": ""
            },
            "type": "choropleth"
           }
          ],
          "contour": [
           {
            "colorbar": {
             "outlinewidth": 0,
             "ticks": ""
            },
            "colorscale": [
             [
              0,
              "#0d0887"
             ],
             [
              0.1111111111111111,
              "#46039f"
             ],
             [
              0.2222222222222222,
              "#7201a8"
             ],
             [
              0.3333333333333333,
              "#9c179e"
             ],
             [
              0.4444444444444444,
              "#bd3786"
             ],
             [
              0.5555555555555556,
              "#d8576b"
             ],
             [
              0.6666666666666666,
              "#ed7953"
             ],
             [
              0.7777777777777778,
              "#fb9f3a"
             ],
             [
              0.8888888888888888,
              "#fdca26"
             ],
             [
              1,
              "#f0f921"
             ]
            ],
            "type": "contour"
           }
          ],
          "contourcarpet": [
           {
            "colorbar": {
             "outlinewidth": 0,
             "ticks": ""
            },
            "type": "contourcarpet"
           }
          ],
          "heatmap": [
           {
            "colorbar": {
             "outlinewidth": 0,
             "ticks": ""
            },
            "colorscale": [
             [
              0,
              "#0d0887"
             ],
             [
              0.1111111111111111,
              "#46039f"
             ],
             [
              0.2222222222222222,
              "#7201a8"
             ],
             [
              0.3333333333333333,
              "#9c179e"
             ],
             [
              0.4444444444444444,
              "#bd3786"
             ],
             [
              0.5555555555555556,
              "#d8576b"
             ],
             [
              0.6666666666666666,
              "#ed7953"
             ],
             [
              0.7777777777777778,
              "#fb9f3a"
             ],
             [
              0.8888888888888888,
              "#fdca26"
             ],
             [
              1,
              "#f0f921"
             ]
            ],
            "type": "heatmap"
           }
          ],
          "heatmapgl": [
           {
            "colorbar": {
             "outlinewidth": 0,
             "ticks": ""
            },
            "colorscale": [
             [
              0,
              "#0d0887"
             ],
             [
              0.1111111111111111,
              "#46039f"
             ],
             [
              0.2222222222222222,
              "#7201a8"
             ],
             [
              0.3333333333333333,
              "#9c179e"
             ],
             [
              0.4444444444444444,
              "#bd3786"
             ],
             [
              0.5555555555555556,
              "#d8576b"
             ],
             [
              0.6666666666666666,
              "#ed7953"
             ],
             [
              0.7777777777777778,
              "#fb9f3a"
             ],
             [
              0.8888888888888888,
              "#fdca26"
             ],
             [
              1,
              "#f0f921"
             ]
            ],
            "type": "heatmapgl"
           }
          ],
          "histogram": [
           {
            "marker": {
             "pattern": {
              "fillmode": "overlay",
              "size": 10,
              "solidity": 0.2
             }
            },
            "type": "histogram"
           }
          ],
          "histogram2d": [
           {
            "colorbar": {
             "outlinewidth": 0,
             "ticks": ""
            },
            "colorscale": [
             [
              0,
              "#0d0887"
             ],
             [
              0.1111111111111111,
              "#46039f"
             ],
             [
              0.2222222222222222,
              "#7201a8"
             ],
             [
              0.3333333333333333,
              "#9c179e"
             ],
             [
              0.4444444444444444,
              "#bd3786"
             ],
             [
              0.5555555555555556,
              "#d8576b"
             ],
             [
              0.6666666666666666,
              "#ed7953"
             ],
             [
              0.7777777777777778,
              "#fb9f3a"
             ],
             [
              0.8888888888888888,
              "#fdca26"
             ],
             [
              1,
              "#f0f921"
             ]
            ],
            "type": "histogram2d"
           }
          ],
          "histogram2dcontour": [
           {
            "colorbar": {
             "outlinewidth": 0,
             "ticks": ""
            },
            "colorscale": [
             [
              0,
              "#0d0887"
             ],
             [
              0.1111111111111111,
              "#46039f"
             ],
             [
              0.2222222222222222,
              "#7201a8"
             ],
             [
              0.3333333333333333,
              "#9c179e"
             ],
             [
              0.4444444444444444,
              "#bd3786"
             ],
             [
              0.5555555555555556,
              "#d8576b"
             ],
             [
              0.6666666666666666,
              "#ed7953"
             ],
             [
              0.7777777777777778,
              "#fb9f3a"
             ],
             [
              0.8888888888888888,
              "#fdca26"
             ],
             [
              1,
              "#f0f921"
             ]
            ],
            "type": "histogram2dcontour"
           }
          ],
          "mesh3d": [
           {
            "colorbar": {
             "outlinewidth": 0,
             "ticks": ""
            },
            "type": "mesh3d"
           }
          ],
          "parcoords": [
           {
            "line": {
             "colorbar": {
              "outlinewidth": 0,
              "ticks": ""
             }
            },
            "type": "parcoords"
           }
          ],
          "pie": [
           {
            "automargin": true,
            "type": "pie"
           }
          ],
          "scatter": [
           {
            "fillpattern": {
             "fillmode": "overlay",
             "size": 10,
             "solidity": 0.2
            },
            "type": "scatter"
           }
          ],
          "scatter3d": [
           {
            "line": {
             "colorbar": {
              "outlinewidth": 0,
              "ticks": ""
             }
            },
            "marker": {
             "colorbar": {
              "outlinewidth": 0,
              "ticks": ""
             }
            },
            "type": "scatter3d"
           }
          ],
          "scattercarpet": [
           {
            "marker": {
             "colorbar": {
              "outlinewidth": 0,
              "ticks": ""
             }
            },
            "type": "scattercarpet"
           }
          ],
          "scattergeo": [
           {
            "marker": {
             "colorbar": {
              "outlinewidth": 0,
              "ticks": ""
             }
            },
            "type": "scattergeo"
           }
          ],
          "scattergl": [
           {
            "marker": {
             "colorbar": {
              "outlinewidth": 0,
              "ticks": ""
             }
            },
            "type": "scattergl"
           }
          ],
          "scattermapbox": [
           {
            "marker": {
             "colorbar": {
              "outlinewidth": 0,
              "ticks": ""
             }
            },
            "type": "scattermapbox"
           }
          ],
          "scatterpolar": [
           {
            "marker": {
             "colorbar": {
              "outlinewidth": 0,
              "ticks": ""
             }
            },
            "type": "scatterpolar"
           }
          ],
          "scatterpolargl": [
           {
            "marker": {
             "colorbar": {
              "outlinewidth": 0,
              "ticks": ""
             }
            },
            "type": "scatterpolargl"
           }
          ],
          "scatterternary": [
           {
            "marker": {
             "colorbar": {
              "outlinewidth": 0,
              "ticks": ""
             }
            },
            "type": "scatterternary"
           }
          ],
          "surface": [
           {
            "colorbar": {
             "outlinewidth": 0,
             "ticks": ""
            },
            "colorscale": [
             [
              0,
              "#0d0887"
             ],
             [
              0.1111111111111111,
              "#46039f"
             ],
             [
              0.2222222222222222,
              "#7201a8"
             ],
             [
              0.3333333333333333,
              "#9c179e"
             ],
             [
              0.4444444444444444,
              "#bd3786"
             ],
             [
              0.5555555555555556,
              "#d8576b"
             ],
             [
              0.6666666666666666,
              "#ed7953"
             ],
             [
              0.7777777777777778,
              "#fb9f3a"
             ],
             [
              0.8888888888888888,
              "#fdca26"
             ],
             [
              1,
              "#f0f921"
             ]
            ],
            "type": "surface"
           }
          ],
          "table": [
           {
            "cells": {
             "fill": {
              "color": "#EBF0F8"
             },
             "line": {
              "color": "white"
             }
            },
            "header": {
             "fill": {
              "color": "#C8D4E3"
             },
             "line": {
              "color": "white"
             }
            },
            "type": "table"
           }
          ]
         },
         "layout": {
          "annotationdefaults": {
           "arrowcolor": "#2a3f5f",
           "arrowhead": 0,
           "arrowwidth": 1
          },
          "autotypenumbers": "strict",
          "coloraxis": {
           "colorbar": {
            "outlinewidth": 0,
            "ticks": ""
           }
          },
          "colorscale": {
           "diverging": [
            [
             0,
             "#8e0152"
            ],
            [
             0.1,
             "#c51b7d"
            ],
            [
             0.2,
             "#de77ae"
            ],
            [
             0.3,
             "#f1b6da"
            ],
            [
             0.4,
             "#fde0ef"
            ],
            [
             0.5,
             "#f7f7f7"
            ],
            [
             0.6,
             "#e6f5d0"
            ],
            [
             0.7,
             "#b8e186"
            ],
            [
             0.8,
             "#7fbc41"
            ],
            [
             0.9,
             "#4d9221"
            ],
            [
             1,
             "#276419"
            ]
           ],
           "sequential": [
            [
             0,
             "#0d0887"
            ],
            [
             0.1111111111111111,
             "#46039f"
            ],
            [
             0.2222222222222222,
             "#7201a8"
            ],
            [
             0.3333333333333333,
             "#9c179e"
            ],
            [
             0.4444444444444444,
             "#bd3786"
            ],
            [
             0.5555555555555556,
             "#d8576b"
            ],
            [
             0.6666666666666666,
             "#ed7953"
            ],
            [
             0.7777777777777778,
             "#fb9f3a"
            ],
            [
             0.8888888888888888,
             "#fdca26"
            ],
            [
             1,
             "#f0f921"
            ]
           ],
           "sequentialminus": [
            [
             0,
             "#0d0887"
            ],
            [
             0.1111111111111111,
             "#46039f"
            ],
            [
             0.2222222222222222,
             "#7201a8"
            ],
            [
             0.3333333333333333,
             "#9c179e"
            ],
            [
             0.4444444444444444,
             "#bd3786"
            ],
            [
             0.5555555555555556,
             "#d8576b"
            ],
            [
             0.6666666666666666,
             "#ed7953"
            ],
            [
             0.7777777777777778,
             "#fb9f3a"
            ],
            [
             0.8888888888888888,
             "#fdca26"
            ],
            [
             1,
             "#f0f921"
            ]
           ]
          },
          "colorway": [
           "#636efa",
           "#EF553B",
           "#00cc96",
           "#ab63fa",
           "#FFA15A",
           "#19d3f3",
           "#FF6692",
           "#B6E880",
           "#FF97FF",
           "#FECB52"
          ],
          "font": {
           "color": "#2a3f5f"
          },
          "geo": {
           "bgcolor": "white",
           "lakecolor": "white",
           "landcolor": "#E5ECF6",
           "showlakes": true,
           "showland": true,
           "subunitcolor": "white"
          },
          "hoverlabel": {
           "align": "left"
          },
          "hovermode": "closest",
          "mapbox": {
           "style": "light"
          },
          "paper_bgcolor": "white",
          "plot_bgcolor": "#E5ECF6",
          "polar": {
           "angularaxis": {
            "gridcolor": "white",
            "linecolor": "white",
            "ticks": ""
           },
           "bgcolor": "#E5ECF6",
           "radialaxis": {
            "gridcolor": "white",
            "linecolor": "white",
            "ticks": ""
           }
          },
          "scene": {
           "xaxis": {
            "backgroundcolor": "#E5ECF6",
            "gridcolor": "white",
            "gridwidth": 2,
            "linecolor": "white",
            "showbackground": true,
            "ticks": "",
            "zerolinecolor": "white"
           },
           "yaxis": {
            "backgroundcolor": "#E5ECF6",
            "gridcolor": "white",
            "gridwidth": 2,
            "linecolor": "white",
            "showbackground": true,
            "ticks": "",
            "zerolinecolor": "white"
           },
           "zaxis": {
            "backgroundcolor": "#E5ECF6",
            "gridcolor": "white",
            "gridwidth": 2,
            "linecolor": "white",
            "showbackground": true,
            "ticks": "",
            "zerolinecolor": "white"
           }
          },
          "shapedefaults": {
           "line": {
            "color": "#2a3f5f"
           }
          },
          "ternary": {
           "aaxis": {
            "gridcolor": "white",
            "linecolor": "white",
            "ticks": ""
           },
           "baxis": {
            "gridcolor": "white",
            "linecolor": "white",
            "ticks": ""
           },
           "bgcolor": "#E5ECF6",
           "caxis": {
            "gridcolor": "white",
            "linecolor": "white",
            "ticks": ""
           }
          },
          "title": {
           "x": 0.05
          },
          "xaxis": {
           "automargin": true,
           "gridcolor": "white",
           "linecolor": "white",
           "ticks": "",
           "title": {
            "standoff": 15
           },
           "zerolinecolor": "white",
           "zerolinewidth": 2
          },
          "yaxis": {
           "automargin": true,
           "gridcolor": "white",
           "linecolor": "white",
           "ticks": "",
           "title": {
            "standoff": 15
           },
           "zerolinecolor": "white",
           "zerolinewidth": 2
          }
         }
        }
       }
      }
     },
     "metadata": {},
     "output_type": "display_data"
    }
   ],
   "source": [
    "# T_surface_loc (종양의 표면 위치 lateral_외측 ; Medial_내측(몸 중심 가까이))에 따른 Raiv\n",
    "\n",
    "fig = go.Figure()\n",
    "fig.add_trace(go.Scatter(x=merged_result['RAIV'], y=merged_result['T_surface_loc'], mode='markers', name='T_surface_loc', marker=dict(color=merged_result['T_surface_loc'])))\n",
    "fig.show()"
   ]
  },
  {
   "cell_type": "code",
   "execution_count": 47,
   "metadata": {},
   "outputs": [],
   "source": [
    "# EDA 더 할거? 추가 플러스"
   ]
  },
  {
   "cell_type": "markdown",
   "metadata": {},
   "source": [
    "---"
   ]
  },
  {
   "cell_type": "markdown",
   "metadata": {},
   "source": [
    "### 3. 데이터 나누기"
   ]
  },
  {
   "cell_type": "code",
   "execution_count": 48,
   "metadata": {},
   "outputs": [],
   "source": [
    "from sklearn.model_selection import train_test_split\n",
    "\n",
    "X = merged_result.drop(['RAIV','serial'], axis=1)  # 'RAIV_1' 열을 제외한 모든 열 선택\n",
    "y = merged_result['RAIV']\n",
    "\n",
    "X_train, X_test, y_train, y_test = train_test_split(X, y, test_size=0.2, random_state=42)"
   ]
  },
  {
   "cell_type": "code",
   "execution_count": null,
   "metadata": {},
   "outputs": [],
   "source": [
    "# def함수 (MAE, RMSE)"
   ]
  },
  {
   "cell_type": "code",
   "execution_count": null,
   "metadata": {},
   "outputs": [],
   "source": []
  },
  {
   "cell_type": "code",
   "execution_count": null,
   "metadata": {},
   "outputs": [],
   "source": []
  },
  {
   "cell_type": "markdown",
   "metadata": {},
   "source": [
    "### 4. 군집이용"
   ]
  },
  {
   "cell_type": "code",
   "execution_count": 50,
   "metadata": {},
   "outputs": [
    {
     "name": "stderr",
     "output_type": "stream",
     "text": [
      "c:\\Users\\rbfl7\\miniconda3\\envs\\ds_study\\lib\\site-packages\\sklearn\\cluster\\_kmeans.py:1412: FutureWarning:\n",
      "\n",
      "The default value of `n_init` will change from 10 to 'auto' in 1.4. Set the value of `n_init` explicitly to suppress the warning\n",
      "\n",
      "Exception in thread Thread-6:\n",
      "Traceback (most recent call last):\n",
      "  File \"c:\\Users\\rbfl7\\miniconda3\\envs\\ds_study\\lib\\threading.py\", line 932, in _bootstrap_inner\n",
      "    self.run()\n",
      "  File \"c:\\Users\\rbfl7\\miniconda3\\envs\\ds_study\\lib\\threading.py\", line 870, in run\n",
      "    self._target(*self._args, **self._kwargs)\n",
      "  File \"c:\\Users\\rbfl7\\miniconda3\\envs\\ds_study\\lib\\subprocess.py\", line 1386, in _readerthread\n",
      "    buffer.append(fh.read())\n",
      "  File \"c:\\Users\\rbfl7\\miniconda3\\envs\\ds_study\\lib\\codecs.py\", line 322, in decode\n",
      "    (result, consumed) = self._buffer_decode(data, self.errors, final)\n",
      "UnicodeDecodeError: 'utf-8' codec can't decode byte 0xb1 in position 24: invalid start byte\n",
      "c:\\Users\\rbfl7\\miniconda3\\envs\\ds_study\\lib\\site-packages\\joblib\\externals\\loky\\backend\\context.py:110: UserWarning:\n",
      "\n",
      "Could not find the number of physical cores for the following reason:\n",
      "'NoneType' object has no attribute 'splitlines'\n",
      "Returning the number of logical cores instead. You can silence this warning by setting LOKY_MAX_CPU_COUNT to the number of cores you want to use.\n",
      "\n",
      "  File \"c:\\Users\\rbfl7\\miniconda3\\envs\\ds_study\\lib\\site-packages\\joblib\\externals\\loky\\backend\\context.py\", line 202, in _count_physical_cores\n",
      "    cpu_info = cpu_info.stdout.splitlines()\n",
      "c:\\Users\\rbfl7\\miniconda3\\envs\\ds_study\\lib\\site-packages\\sklearn\\cluster\\_kmeans.py:1436: UserWarning:\n",
      "\n",
      "KMeans is known to have a memory leak on Windows with MKL, when there are less chunks than available threads. You can avoid it by setting the environment variable OMP_NUM_THREADS=2.\n",
      "\n",
      "c:\\Users\\rbfl7\\miniconda3\\envs\\ds_study\\lib\\site-packages\\sklearn\\cluster\\_kmeans.py:1412: FutureWarning:\n",
      "\n",
      "The default value of `n_init` will change from 10 to 'auto' in 1.4. Set the value of `n_init` explicitly to suppress the warning\n",
      "\n",
      "c:\\Users\\rbfl7\\miniconda3\\envs\\ds_study\\lib\\site-packages\\sklearn\\cluster\\_kmeans.py:1436: UserWarning:\n",
      "\n",
      "KMeans is known to have a memory leak on Windows with MKL, when there are less chunks than available threads. You can avoid it by setting the environment variable OMP_NUM_THREADS=2.\n",
      "\n",
      "c:\\Users\\rbfl7\\miniconda3\\envs\\ds_study\\lib\\site-packages\\sklearn\\cluster\\_kmeans.py:1412: FutureWarning:\n",
      "\n",
      "The default value of `n_init` will change from 10 to 'auto' in 1.4. Set the value of `n_init` explicitly to suppress the warning\n",
      "\n",
      "c:\\Users\\rbfl7\\miniconda3\\envs\\ds_study\\lib\\site-packages\\sklearn\\cluster\\_kmeans.py:1436: UserWarning:\n",
      "\n",
      "KMeans is known to have a memory leak on Windows with MKL, when there are less chunks than available threads. You can avoid it by setting the environment variable OMP_NUM_THREADS=2.\n",
      "\n",
      "c:\\Users\\rbfl7\\miniconda3\\envs\\ds_study\\lib\\site-packages\\sklearn\\cluster\\_kmeans.py:1412: FutureWarning:\n",
      "\n",
      "The default value of `n_init` will change from 10 to 'auto' in 1.4. Set the value of `n_init` explicitly to suppress the warning\n",
      "\n",
      "c:\\Users\\rbfl7\\miniconda3\\envs\\ds_study\\lib\\site-packages\\sklearn\\cluster\\_kmeans.py:1436: UserWarning:\n",
      "\n",
      "KMeans is known to have a memory leak on Windows with MKL, when there are less chunks than available threads. You can avoid it by setting the environment variable OMP_NUM_THREADS=2.\n",
      "\n",
      "c:\\Users\\rbfl7\\miniconda3\\envs\\ds_study\\lib\\site-packages\\sklearn\\cluster\\_kmeans.py:1412: FutureWarning:\n",
      "\n",
      "The default value of `n_init` will change from 10 to 'auto' in 1.4. Set the value of `n_init` explicitly to suppress the warning\n",
      "\n",
      "c:\\Users\\rbfl7\\miniconda3\\envs\\ds_study\\lib\\site-packages\\sklearn\\cluster\\_kmeans.py:1436: UserWarning:\n",
      "\n",
      "KMeans is known to have a memory leak on Windows with MKL, when there are less chunks than available threads. You can avoid it by setting the environment variable OMP_NUM_THREADS=2.\n",
      "\n",
      "c:\\Users\\rbfl7\\miniconda3\\envs\\ds_study\\lib\\site-packages\\sklearn\\cluster\\_kmeans.py:1412: FutureWarning:\n",
      "\n",
      "The default value of `n_init` will change from 10 to 'auto' in 1.4. Set the value of `n_init` explicitly to suppress the warning\n",
      "\n",
      "c:\\Users\\rbfl7\\miniconda3\\envs\\ds_study\\lib\\site-packages\\sklearn\\cluster\\_kmeans.py:1436: UserWarning:\n",
      "\n",
      "KMeans is known to have a memory leak on Windows with MKL, when there are less chunks than available threads. You can avoid it by setting the environment variable OMP_NUM_THREADS=2.\n",
      "\n",
      "c:\\Users\\rbfl7\\miniconda3\\envs\\ds_study\\lib\\site-packages\\sklearn\\cluster\\_kmeans.py:1412: FutureWarning:\n",
      "\n",
      "The default value of `n_init` will change from 10 to 'auto' in 1.4. Set the value of `n_init` explicitly to suppress the warning\n",
      "\n",
      "c:\\Users\\rbfl7\\miniconda3\\envs\\ds_study\\lib\\site-packages\\sklearn\\cluster\\_kmeans.py:1436: UserWarning:\n",
      "\n",
      "KMeans is known to have a memory leak on Windows with MKL, when there are less chunks than available threads. You can avoid it by setting the environment variable OMP_NUM_THREADS=2.\n",
      "\n",
      "c:\\Users\\rbfl7\\miniconda3\\envs\\ds_study\\lib\\site-packages\\sklearn\\cluster\\_kmeans.py:1412: FutureWarning:\n",
      "\n",
      "The default value of `n_init` will change from 10 to 'auto' in 1.4. Set the value of `n_init` explicitly to suppress the warning\n",
      "\n",
      "c:\\Users\\rbfl7\\miniconda3\\envs\\ds_study\\lib\\site-packages\\sklearn\\cluster\\_kmeans.py:1436: UserWarning:\n",
      "\n",
      "KMeans is known to have a memory leak on Windows with MKL, when there are less chunks than available threads. You can avoid it by setting the environment variable OMP_NUM_THREADS=2.\n",
      "\n",
      "c:\\Users\\rbfl7\\miniconda3\\envs\\ds_study\\lib\\site-packages\\sklearn\\cluster\\_kmeans.py:1412: FutureWarning:\n",
      "\n",
      "The default value of `n_init` will change from 10 to 'auto' in 1.4. Set the value of `n_init` explicitly to suppress the warning\n",
      "\n",
      "c:\\Users\\rbfl7\\miniconda3\\envs\\ds_study\\lib\\site-packages\\sklearn\\cluster\\_kmeans.py:1436: UserWarning:\n",
      "\n",
      "KMeans is known to have a memory leak on Windows with MKL, when there are less chunks than available threads. You can avoid it by setting the environment variable OMP_NUM_THREADS=2.\n",
      "\n"
     ]
    },
    {
     "name": "stdout",
     "output_type": "stream",
     "text": [
      "Optimal number of clusters: 2\n"
     ]
    }
   ],
   "source": [
    "from sklearn.metrics import silhouette_score\n",
    "from sklearn.cluster import KMeans\n",
    "\n",
    "cluster_range = range(2, 11)\n",
    "\n",
    "optimal_clusters = 0\n",
    "max_silhouette_score = -1\n",
    "\n",
    "for n_clusters in cluster_range:\n",
    "    \n",
    "    kmeans = KMeans(n_clusters=n_clusters, random_state=42)\n",
    "    \n",
    "    kmeans.fit(X_train)\n",
    "    \n",
    "    clusters = kmeans.predict(X_train)\n",
    "    \n",
    "    silhouette_avg = silhouette_score(X_train, clusters)\n",
    "    \n",
    "    if silhouette_avg > max_silhouette_score:\n",
    "        max_silhouette_score = silhouette_avg\n",
    "        optimal_clusters = n_clusters\n",
    "\n",
    "# Print the optimal number of clusters\n",
    "print(\"Optimal number of clusters:\", optimal_clusters)"
   ]
  },
  {
   "cell_type": "code",
   "execution_count": 51,
   "metadata": {},
   "outputs": [
    {
     "name": "stderr",
     "output_type": "stream",
     "text": [
      "c:\\Users\\rbfl7\\miniconda3\\envs\\ds_study\\lib\\site-packages\\sklearn\\cluster\\_kmeans.py:1412: FutureWarning:\n",
      "\n",
      "The default value of `n_init` will change from 10 to 'auto' in 1.4. Set the value of `n_init` explicitly to suppress the warning\n",
      "\n",
      "c:\\Users\\rbfl7\\miniconda3\\envs\\ds_study\\lib\\site-packages\\sklearn\\cluster\\_kmeans.py:1436: UserWarning:\n",
      "\n",
      "KMeans is known to have a memory leak on Windows with MKL, when there are less chunks than available threads. You can avoid it by setting the environment variable OMP_NUM_THREADS=2.\n",
      "\n"
     ]
    },
    {
     "name": "stdout",
     "output_type": "stream",
     "text": [
      "train_cluster_labels : [0 0 0 0 0 1 0 0 1 0 0 0 0 0 1 0 1 0 0 1 0 0 0 0 1 0 1 1 0 0 0 0 0 0 1 0 0\n",
      " 0 1 0 0 0 1 0 0 1 1 0 0 1 1 1 0 1 1 0 0 0 0 1 0 1 0 0 1 0 0 0 1 1 0 1 0 0\n",
      " 1 0 0 0 0 0 0 0 1 0 0 0 0 0 1 0 0 0 0 0 0 1 0 0 1 0 1 0 0 0 0 1 0 0 1 0 0\n",
      " 0 0 0 0 0 0 1 0 0 0 1 1 1 0 0 1 1 1 0 1 0 1 0 1 0 1 1 0 0 0 0 1 0 1 0 1 0\n",
      " 0 1 0 0 0 0 0 0 0 0 1 1 1 1 1 1 0 0 1 0 1 0 1 1 1 1 0 0 0 0 1 0 1 1 0 0 1\n",
      " 0 1 1 0 0 1 1 1 0 0 0 0 0 1 1 1 0 1 0 0 0 0 0 1 0 1 0 1 1 0 0 1 0 0 0 1 0\n",
      " 1 0 0 0 0 1 0 1 1 1 0 0 1 0 0 0 0 0 0 0 1 0 0 1 1 0 0 0 0 0 1 1 0 0 0 0 0\n",
      " 1 0 0 0 1 1 0 0 0 1 0 1 1 0 0 1 1 0 0 0 0 0 1 0 1 1 1 0 1 1 1 1 0 1 0 1 0\n",
      " 0 0 0 1 1 1 0 0 0 1 0 0 0 0 0]\n",
      "test_cluster_labels :  [1 0 0 0 0 0 1 0 0 0 1 1 0 1 1 0 0 1 0 0 0 0 1 1 0 0 1 1 0 1 0 0 1 1 0 0 1\n",
      " 0 0 0 0 0 0 0 1 1 0 0 0 1 1 0 0 0 0 0 0 0 0 1 1 1 0 1 1 0 0 1 0 0 0 0 0 1\n",
      " 1 0 0 1]\n"
     ]
    }
   ],
   "source": [
    "from sklearn.cluster import KMeans\n",
    "\n",
    "\n",
    "kmeans = KMeans(n_clusters=2, random_state=42)\n",
    "kmeans.fit(X_train)\n",
    "\n",
    "# 학습된 모델을 이용하여 train 데이터에 대한 군집 레이블 예측\n",
    "train_cluster_labels = kmeans.predict(X_train)\n",
    "\n",
    "# 학습된 모델을 이용하여 test 데이터에 대한 군집 레이블 예측\n",
    "test_cluster_labels = kmeans.predict(X_test)\n",
    "\n",
    "print('train_cluster_labels :', train_cluster_labels)\n",
    "print('test_cluster_labels : ', test_cluster_labels)"
   ]
  },
  {
   "cell_type": "code",
   "execution_count": 52,
   "metadata": {},
   "outputs": [],
   "source": [
    "X_tr_1 = X_train[train_cluster_labels == 1]\n",
    "X_test_1 = X_test[test_cluster_labels == 1]\n",
    "y_tr_1 = y_train[train_cluster_labels == 1]\n",
    "y_test_1 = y_test[test_cluster_labels == 1]\n",
    "\n",
    "X_tr_0 = X_train[train_cluster_labels == 0]\n",
    "X_test_0 = X_test[test_cluster_labels == 0]\n",
    "y_tr_0 = y_train[train_cluster_labels == 0]\n",
    "y_test_0 = y_test[test_cluster_labels == 0]"
   ]
  },
  {
   "cell_type": "code",
   "execution_count": 53,
   "metadata": {},
   "outputs": [
    {
     "data": {
      "application/vnd.plotly.v1+json": {
       "config": {
        "plotlyServerURL": "https://plot.ly"
       },
       "data": [
        {
         "marker": {
          "color": "blue"
         },
         "mode": "markers",
         "name": "Train Cluster 0",
         "type": "scatter",
         "x": [
          42.1,
          10.4,
          7.1,
          16.6,
          48.9,
          20.2,
          7.1,
          6.6,
          11,
          22.4,
          30.4,
          4.6,
          12.7,
          31.4,
          20.7,
          56.3,
          27.7,
          14.5,
          48.9,
          14.3,
          20.4,
          37.5,
          67.2,
          34.4,
          24.7,
          8.8,
          10.6,
          19.6,
          28.6,
          36.8,
          23.2,
          18.1,
          8.3,
          52.3,
          24.8,
          21.3,
          82.2,
          5.3,
          6.6,
          25.5,
          67.2,
          65.6,
          24.6,
          46.7,
          19.4,
          8.4,
          42.5,
          95.7,
          11.9,
          82.3,
          7.1,
          16.2,
          18.4,
          10.1,
          27.9,
          18.6,
          21.3,
          17.7,
          27.7,
          26.5,
          27.6,
          11,
          5.2,
          17.7,
          5.3,
          9.1,
          45.6,
          30.3,
          24.4,
          31.8,
          14.7,
          49.5,
          11.1,
          21.5,
          19.3,
          49.7,
          32.2,
          28.4,
          3.7,
          9.3,
          122.7,
          11.5,
          10.4,
          14.4,
          25.8,
          51.9,
          30.3,
          45,
          24.1,
          4.7,
          50.6,
          14.7,
          37.9,
          3.6,
          9.3,
          22.4,
          17.7,
          14.8,
          32.8,
          9.3,
          35.1,
          6.5,
          27.6,
          24.2,
          5.7,
          5.3,
          27.3,
          47.8,
          48.8,
          82.2,
          3.6,
          94.2,
          19.2,
          35.7,
          55.8,
          9,
          43.6,
          21.2,
          13.1,
          22.6,
          103.6,
          9.5,
          40.6,
          15,
          14.8,
          30.4,
          17,
          55.8,
          4.1,
          19.4,
          11.8,
          37.2,
          51.6,
          22.6,
          11.9,
          6.9,
          5.9,
          4.3,
          55.6,
          76.9,
          14,
          7.4,
          32.6,
          58.6,
          23,
          66.5,
          18.9,
          5.1,
          8.1,
          8.1,
          67.8,
          9.2,
          10.6,
          70.1,
          12.1,
          4.6,
          18.4,
          20.2,
          9.9,
          6.1,
          13.6,
          27.6,
          46.1,
          66.5,
          13.1,
          10.4,
          74.2,
          19.3,
          6.6,
          48.2,
          7.1,
          19,
          12,
          97.9,
          5.1,
          24,
          49.7,
          18.1,
          70.7,
          12.5,
          21.8,
          143.4,
          111.3,
          6.1,
          12.7,
          26.9,
          6.1,
          4.1,
          60.5,
          26.8,
          104.8,
          27.8,
          11.8,
          75.9,
          7.3,
          11.4,
          6.5,
          28.5,
          33.4
         ]
        },
        {
         "marker": {
          "color": "red"
         },
         "mode": "markers",
         "name": "Train Cluster 1",
         "type": "scatter",
         "x": [
          13,
          43.1,
          10.8,
          6.5,
          7.7,
          10.4,
          16.5,
          42.7,
          5.3,
          15.7,
          12,
          16.8,
          9.5,
          26.9,
          36.5,
          3.5,
          37,
          11.5,
          9.6,
          31.6,
          57.8,
          27.9,
          20.5,
          121.1,
          16.8,
          33.2,
          13.1,
          4.3,
          35.3,
          36.5,
          13.2,
          9,
          10.9,
          22.2,
          8.7,
          26.7,
          31.7,
          14.3,
          19.8,
          10.3,
          15.3,
          13.9,
          17.2,
          10.9,
          6.6,
          19.9,
          44.3,
          26.2,
          32.8,
          27.9,
          31.3,
          14.7,
          5.9,
          13.5,
          106,
          14.3,
          37.8,
          14,
          8.1,
          23,
          17.2,
          23.3,
          10.1,
          21.9,
          64.7,
          22.7,
          28,
          5.1,
          6.6,
          49.5,
          10.4,
          5.9,
          42.7,
          9,
          8.4,
          8.7,
          13.5,
          13.4,
          65.3,
          9.9,
          49.5,
          14,
          7.6,
          16.8,
          63.6,
          13.1,
          9.1,
          13.3,
          18.9,
          9.1,
          17.8,
          19.1,
          12.7,
          15,
          10.7,
          63.6,
          10.2,
          32.7,
          13,
          20.9,
          154.8,
          22.6,
          13.4,
          9.2,
          10.4,
          22.4,
          17.9,
          36,
          10.6,
          7.4,
          14.7,
          54.4
         ]
        },
        {
         "marker": {
          "color": "green"
         },
         "mode": "markers",
         "name": "Test Cluster 0",
         "type": "scatter",
         "x": [
          17.9,
          8.1,
          30.4,
          60.5,
          13.1,
          45.6,
          6.7,
          15.2,
          28.8,
          29.1,
          85.4,
          12.3,
          51.1,
          30.5,
          14.9,
          55.6,
          8.6,
          43.9,
          6.1,
          51.1,
          15.3,
          7.1,
          29.1,
          88.5,
          15,
          5.1,
          22.6,
          52.6,
          9.6,
          21.6,
          10.9,
          6.6,
          46.2,
          25.8,
          24.7,
          10.8,
          16.8,
          8.8,
          21.8,
          46,
          11.9,
          18.5,
          74.6,
          74.6,
          6.5,
          57.7,
          4.6,
          56.3,
          36.5,
          14.1
         ]
        },
        {
         "marker": {
          "color": "orange"
         },
         "mode": "markers",
         "name": "Test Cluster 1",
         "type": "scatter",
         "x": [
          21.8,
          14.2,
          16.8,
          24,
          55.6,
          9.9,
          36.5,
          93.6,
          13.4,
          12.6,
          16.1,
          11.2,
          20.6,
          20.6,
          57.8,
          23.7,
          42.1,
          11.7,
          12.8,
          10.1,
          18.1,
          36.5,
          15.3,
          7.1,
          14,
          19.7,
          114,
          19.4
         ]
        }
       ],
       "layout": {
        "template": {
         "data": {
          "bar": [
           {
            "error_x": {
             "color": "#2a3f5f"
            },
            "error_y": {
             "color": "#2a3f5f"
            },
            "marker": {
             "line": {
              "color": "#E5ECF6",
              "width": 0.5
             },
             "pattern": {
              "fillmode": "overlay",
              "size": 10,
              "solidity": 0.2
             }
            },
            "type": "bar"
           }
          ],
          "barpolar": [
           {
            "marker": {
             "line": {
              "color": "#E5ECF6",
              "width": 0.5
             },
             "pattern": {
              "fillmode": "overlay",
              "size": 10,
              "solidity": 0.2
             }
            },
            "type": "barpolar"
           }
          ],
          "carpet": [
           {
            "aaxis": {
             "endlinecolor": "#2a3f5f",
             "gridcolor": "white",
             "linecolor": "white",
             "minorgridcolor": "white",
             "startlinecolor": "#2a3f5f"
            },
            "baxis": {
             "endlinecolor": "#2a3f5f",
             "gridcolor": "white",
             "linecolor": "white",
             "minorgridcolor": "white",
             "startlinecolor": "#2a3f5f"
            },
            "type": "carpet"
           }
          ],
          "choropleth": [
           {
            "colorbar": {
             "outlinewidth": 0,
             "ticks": ""
            },
            "type": "choropleth"
           }
          ],
          "contour": [
           {
            "colorbar": {
             "outlinewidth": 0,
             "ticks": ""
            },
            "colorscale": [
             [
              0,
              "#0d0887"
             ],
             [
              0.1111111111111111,
              "#46039f"
             ],
             [
              0.2222222222222222,
              "#7201a8"
             ],
             [
              0.3333333333333333,
              "#9c179e"
             ],
             [
              0.4444444444444444,
              "#bd3786"
             ],
             [
              0.5555555555555556,
              "#d8576b"
             ],
             [
              0.6666666666666666,
              "#ed7953"
             ],
             [
              0.7777777777777778,
              "#fb9f3a"
             ],
             [
              0.8888888888888888,
              "#fdca26"
             ],
             [
              1,
              "#f0f921"
             ]
            ],
            "type": "contour"
           }
          ],
          "contourcarpet": [
           {
            "colorbar": {
             "outlinewidth": 0,
             "ticks": ""
            },
            "type": "contourcarpet"
           }
          ],
          "heatmap": [
           {
            "colorbar": {
             "outlinewidth": 0,
             "ticks": ""
            },
            "colorscale": [
             [
              0,
              "#0d0887"
             ],
             [
              0.1111111111111111,
              "#46039f"
             ],
             [
              0.2222222222222222,
              "#7201a8"
             ],
             [
              0.3333333333333333,
              "#9c179e"
             ],
             [
              0.4444444444444444,
              "#bd3786"
             ],
             [
              0.5555555555555556,
              "#d8576b"
             ],
             [
              0.6666666666666666,
              "#ed7953"
             ],
             [
              0.7777777777777778,
              "#fb9f3a"
             ],
             [
              0.8888888888888888,
              "#fdca26"
             ],
             [
              1,
              "#f0f921"
             ]
            ],
            "type": "heatmap"
           }
          ],
          "heatmapgl": [
           {
            "colorbar": {
             "outlinewidth": 0,
             "ticks": ""
            },
            "colorscale": [
             [
              0,
              "#0d0887"
             ],
             [
              0.1111111111111111,
              "#46039f"
             ],
             [
              0.2222222222222222,
              "#7201a8"
             ],
             [
              0.3333333333333333,
              "#9c179e"
             ],
             [
              0.4444444444444444,
              "#bd3786"
             ],
             [
              0.5555555555555556,
              "#d8576b"
             ],
             [
              0.6666666666666666,
              "#ed7953"
             ],
             [
              0.7777777777777778,
              "#fb9f3a"
             ],
             [
              0.8888888888888888,
              "#fdca26"
             ],
             [
              1,
              "#f0f921"
             ]
            ],
            "type": "heatmapgl"
           }
          ],
          "histogram": [
           {
            "marker": {
             "pattern": {
              "fillmode": "overlay",
              "size": 10,
              "solidity": 0.2
             }
            },
            "type": "histogram"
           }
          ],
          "histogram2d": [
           {
            "colorbar": {
             "outlinewidth": 0,
             "ticks": ""
            },
            "colorscale": [
             [
              0,
              "#0d0887"
             ],
             [
              0.1111111111111111,
              "#46039f"
             ],
             [
              0.2222222222222222,
              "#7201a8"
             ],
             [
              0.3333333333333333,
              "#9c179e"
             ],
             [
              0.4444444444444444,
              "#bd3786"
             ],
             [
              0.5555555555555556,
              "#d8576b"
             ],
             [
              0.6666666666666666,
              "#ed7953"
             ],
             [
              0.7777777777777778,
              "#fb9f3a"
             ],
             [
              0.8888888888888888,
              "#fdca26"
             ],
             [
              1,
              "#f0f921"
             ]
            ],
            "type": "histogram2d"
           }
          ],
          "histogram2dcontour": [
           {
            "colorbar": {
             "outlinewidth": 0,
             "ticks": ""
            },
            "colorscale": [
             [
              0,
              "#0d0887"
             ],
             [
              0.1111111111111111,
              "#46039f"
             ],
             [
              0.2222222222222222,
              "#7201a8"
             ],
             [
              0.3333333333333333,
              "#9c179e"
             ],
             [
              0.4444444444444444,
              "#bd3786"
             ],
             [
              0.5555555555555556,
              "#d8576b"
             ],
             [
              0.6666666666666666,
              "#ed7953"
             ],
             [
              0.7777777777777778,
              "#fb9f3a"
             ],
             [
              0.8888888888888888,
              "#fdca26"
             ],
             [
              1,
              "#f0f921"
             ]
            ],
            "type": "histogram2dcontour"
           }
          ],
          "mesh3d": [
           {
            "colorbar": {
             "outlinewidth": 0,
             "ticks": ""
            },
            "type": "mesh3d"
           }
          ],
          "parcoords": [
           {
            "line": {
             "colorbar": {
              "outlinewidth": 0,
              "ticks": ""
             }
            },
            "type": "parcoords"
           }
          ],
          "pie": [
           {
            "automargin": true,
            "type": "pie"
           }
          ],
          "scatter": [
           {
            "fillpattern": {
             "fillmode": "overlay",
             "size": 10,
             "solidity": 0.2
            },
            "type": "scatter"
           }
          ],
          "scatter3d": [
           {
            "line": {
             "colorbar": {
              "outlinewidth": 0,
              "ticks": ""
             }
            },
            "marker": {
             "colorbar": {
              "outlinewidth": 0,
              "ticks": ""
             }
            },
            "type": "scatter3d"
           }
          ],
          "scattercarpet": [
           {
            "marker": {
             "colorbar": {
              "outlinewidth": 0,
              "ticks": ""
             }
            },
            "type": "scattercarpet"
           }
          ],
          "scattergeo": [
           {
            "marker": {
             "colorbar": {
              "outlinewidth": 0,
              "ticks": ""
             }
            },
            "type": "scattergeo"
           }
          ],
          "scattergl": [
           {
            "marker": {
             "colorbar": {
              "outlinewidth": 0,
              "ticks": ""
             }
            },
            "type": "scattergl"
           }
          ],
          "scattermapbox": [
           {
            "marker": {
             "colorbar": {
              "outlinewidth": 0,
              "ticks": ""
             }
            },
            "type": "scattermapbox"
           }
          ],
          "scatterpolar": [
           {
            "marker": {
             "colorbar": {
              "outlinewidth": 0,
              "ticks": ""
             }
            },
            "type": "scatterpolar"
           }
          ],
          "scatterpolargl": [
           {
            "marker": {
             "colorbar": {
              "outlinewidth": 0,
              "ticks": ""
             }
            },
            "type": "scatterpolargl"
           }
          ],
          "scatterternary": [
           {
            "marker": {
             "colorbar": {
              "outlinewidth": 0,
              "ticks": ""
             }
            },
            "type": "scatterternary"
           }
          ],
          "surface": [
           {
            "colorbar": {
             "outlinewidth": 0,
             "ticks": ""
            },
            "colorscale": [
             [
              0,
              "#0d0887"
             ],
             [
              0.1111111111111111,
              "#46039f"
             ],
             [
              0.2222222222222222,
              "#7201a8"
             ],
             [
              0.3333333333333333,
              "#9c179e"
             ],
             [
              0.4444444444444444,
              "#bd3786"
             ],
             [
              0.5555555555555556,
              "#d8576b"
             ],
             [
              0.6666666666666666,
              "#ed7953"
             ],
             [
              0.7777777777777778,
              "#fb9f3a"
             ],
             [
              0.8888888888888888,
              "#fdca26"
             ],
             [
              1,
              "#f0f921"
             ]
            ],
            "type": "surface"
           }
          ],
          "table": [
           {
            "cells": {
             "fill": {
              "color": "#EBF0F8"
             },
             "line": {
              "color": "white"
             }
            },
            "header": {
             "fill": {
              "color": "#C8D4E3"
             },
             "line": {
              "color": "white"
             }
            },
            "type": "table"
           }
          ]
         },
         "layout": {
          "annotationdefaults": {
           "arrowcolor": "#2a3f5f",
           "arrowhead": 0,
           "arrowwidth": 1
          },
          "autotypenumbers": "strict",
          "coloraxis": {
           "colorbar": {
            "outlinewidth": 0,
            "ticks": ""
           }
          },
          "colorscale": {
           "diverging": [
            [
             0,
             "#8e0152"
            ],
            [
             0.1,
             "#c51b7d"
            ],
            [
             0.2,
             "#de77ae"
            ],
            [
             0.3,
             "#f1b6da"
            ],
            [
             0.4,
             "#fde0ef"
            ],
            [
             0.5,
             "#f7f7f7"
            ],
            [
             0.6,
             "#e6f5d0"
            ],
            [
             0.7,
             "#b8e186"
            ],
            [
             0.8,
             "#7fbc41"
            ],
            [
             0.9,
             "#4d9221"
            ],
            [
             1,
             "#276419"
            ]
           ],
           "sequential": [
            [
             0,
             "#0d0887"
            ],
            [
             0.1111111111111111,
             "#46039f"
            ],
            [
             0.2222222222222222,
             "#7201a8"
            ],
            [
             0.3333333333333333,
             "#9c179e"
            ],
            [
             0.4444444444444444,
             "#bd3786"
            ],
            [
             0.5555555555555556,
             "#d8576b"
            ],
            [
             0.6666666666666666,
             "#ed7953"
            ],
            [
             0.7777777777777778,
             "#fb9f3a"
            ],
            [
             0.8888888888888888,
             "#fdca26"
            ],
            [
             1,
             "#f0f921"
            ]
           ],
           "sequentialminus": [
            [
             0,
             "#0d0887"
            ],
            [
             0.1111111111111111,
             "#46039f"
            ],
            [
             0.2222222222222222,
             "#7201a8"
            ],
            [
             0.3333333333333333,
             "#9c179e"
            ],
            [
             0.4444444444444444,
             "#bd3786"
            ],
            [
             0.5555555555555556,
             "#d8576b"
            ],
            [
             0.6666666666666666,
             "#ed7953"
            ],
            [
             0.7777777777777778,
             "#fb9f3a"
            ],
            [
             0.8888888888888888,
             "#fdca26"
            ],
            [
             1,
             "#f0f921"
            ]
           ]
          },
          "colorway": [
           "#636efa",
           "#EF553B",
           "#00cc96",
           "#ab63fa",
           "#FFA15A",
           "#19d3f3",
           "#FF6692",
           "#B6E880",
           "#FF97FF",
           "#FECB52"
          ],
          "font": {
           "color": "#2a3f5f"
          },
          "geo": {
           "bgcolor": "white",
           "lakecolor": "white",
           "landcolor": "#E5ECF6",
           "showlakes": true,
           "showland": true,
           "subunitcolor": "white"
          },
          "hoverlabel": {
           "align": "left"
          },
          "hovermode": "closest",
          "mapbox": {
           "style": "light"
          },
          "paper_bgcolor": "white",
          "plot_bgcolor": "#E5ECF6",
          "polar": {
           "angularaxis": {
            "gridcolor": "white",
            "linecolor": "white",
            "ticks": ""
           },
           "bgcolor": "#E5ECF6",
           "radialaxis": {
            "gridcolor": "white",
            "linecolor": "white",
            "ticks": ""
           }
          },
          "scene": {
           "xaxis": {
            "backgroundcolor": "#E5ECF6",
            "gridcolor": "white",
            "gridwidth": 2,
            "linecolor": "white",
            "showbackground": true,
            "ticks": "",
            "zerolinecolor": "white"
           },
           "yaxis": {
            "backgroundcolor": "#E5ECF6",
            "gridcolor": "white",
            "gridwidth": 2,
            "linecolor": "white",
            "showbackground": true,
            "ticks": "",
            "zerolinecolor": "white"
           },
           "zaxis": {
            "backgroundcolor": "#E5ECF6",
            "gridcolor": "white",
            "gridwidth": 2,
            "linecolor": "white",
            "showbackground": true,
            "ticks": "",
            "zerolinecolor": "white"
           }
          },
          "shapedefaults": {
           "line": {
            "color": "#2a3f5f"
           }
          },
          "ternary": {
           "aaxis": {
            "gridcolor": "white",
            "linecolor": "white",
            "ticks": ""
           },
           "baxis": {
            "gridcolor": "white",
            "linecolor": "white",
            "ticks": ""
           },
           "bgcolor": "#E5ECF6",
           "caxis": {
            "gridcolor": "white",
            "linecolor": "white",
            "ticks": ""
           }
          },
          "title": {
           "x": 0.05
          },
          "xaxis": {
           "automargin": true,
           "gridcolor": "white",
           "linecolor": "white",
           "ticks": "",
           "title": {
            "standoff": 15
           },
           "zerolinecolor": "white",
           "zerolinewidth": 2
          },
          "yaxis": {
           "automargin": true,
           "gridcolor": "white",
           "linecolor": "white",
           "ticks": "",
           "title": {
            "standoff": 15
           },
           "zerolinecolor": "white",
           "zerolinewidth": 2
          }
         }
        }
       }
      }
     },
     "metadata": {},
     "output_type": "display_data"
    }
   ],
   "source": [
    "count_train_cluster_0 = len(X_tr_0)\n",
    "count_train_cluster_1 = len(X_tr_1)\n",
    "count_test_cluster_0 = len(X_test_0)\n",
    "count_test_cluster_1 = len(X_test_1)\n",
    "\n",
    "import plotly.graph_objects as go\n",
    "\n",
    "# Plotly를 사용하여 시각화\n",
    "fig = go.Figure()\n",
    "\n",
    "# 훈련 군집 0에 대한 산점도\n",
    "fig.add_trace(go.Scatter(x=y_tr_0.iloc[:], mode='markers', marker=dict(color='blue'), name='Train Cluster 0'))\n",
    "\n",
    "# 훈련 군집 1에 대한 산점도\n",
    "fig.add_trace(go.Scatter(x=y_tr_1.iloc[:], mode='markers', marker=dict(color='red'), name='Train Cluster 1'))\n",
    "\n",
    "# 테스트 군집 0에 대한 산점도\n",
    "fig.add_trace(go.Scatter(x=y_test_0.iloc[:], mode='markers', marker=dict(color='green'), name='Test Cluster 0'))\n",
    "\n",
    "# 테스트 군집 1에 대한 산점도\n",
    "fig.add_trace(go.Scatter(x=y_test_1.iloc[:], mode='markers', marker=dict(color='orange'), name='Test Cluster 1'))\n",
    "\n",
    "fig.show()"
   ]
  },
  {
   "cell_type": "code",
   "execution_count": null,
   "metadata": {},
   "outputs": [],
   "source": []
  }
 ],
 "metadata": {
  "kernelspec": {
   "display_name": "ds_study",
   "language": "python",
   "name": "python3"
  },
  "language_info": {
   "codemirror_mode": {
    "name": "ipython",
    "version": 3
   },
   "file_extension": ".py",
   "mimetype": "text/x-python",
   "name": "python",
   "nbconvert_exporter": "python",
   "pygments_lexer": "ipython3",
   "version": "3.8.18"
  }
 },
 "nbformat": 4,
 "nbformat_minor": 2
}
