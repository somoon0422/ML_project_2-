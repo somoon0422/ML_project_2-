{
 "cells": [
  {
   "cell_type": "markdown",
   "metadata": {},
   "source": [
    "# 부제: 도메인 지식이 없어도 데이터만으로도 특성 파악하여 예측하기\n",
    "- 특성 파악하는 방법\n",
    "1. 결측치, 이상치 처리 / 기본통계분석 / 클래스 불균형 이해\n",
    "2. 특성 분포 및 시각화:특성의 분포를 히스토그램이나 상자 그림 등을 사용(관계 이해를 위한 산점도)\n",
    "3. 트리 기반 모델의 특성 중요도: DecisionTreeRegressor나 RandomForestRegressor와 같은 트리 기반 모델은 각 특성의 중요도\n",
    "4. L1 정규화 (Lasso): L1 정규화를 사용한 선형 회귀 모델은 일부 특성의 가중치를 0으로 만들어 특성 선택을 자동\n",
    "5. 다중회귀\n",
    "6. 차원 축소 기법 적용: PCA 차원 축소 기법을 사용 데이터의 주성분을 분석하여 주요 특성\n",
    "7. 재귀적 특성 제거 (RFE):모델을 훈련하고 가장 중요하지 않은 특성을 반복적으로 제거하여 최적의 특성을 선택하는 방법"
   ]
  },
  {
   "cell_type": "code",
   "execution_count": 48,
   "metadata": {},
   "outputs": [],
   "source": [
    "from sklearn.cluster import KMeans\n",
    "import pandas as pd\n",
    "import numpy as np\n",
    "import seaborn as sns\n",
    "import matplotlib.pyplot as plt\n",
    "%matplotlib inline"
   ]
  },
  {
   "cell_type": "code",
   "execution_count": 52,
   "metadata": {},
   "outputs": [],
   "source": [
    "padua_data = pd.read_csv('./data/kideny_PADUA_upload.csv')\n",
    "renal_data = pd.read_csv('./data/kideny_RENAL_upload.csv')\n",
    "treat_data = pd.read_csv('./data/kidney_treat_upload.csv')"
   ]
  },
  {
   "cell_type": "code",
   "execution_count": 56,
   "metadata": {},
   "outputs": [
    {
     "name": "stdout",
     "output_type": "stream",
     "text": [
      "<class 'pandas.core.frame.DataFrame'>\n",
      "RangeIndex: 400 entries, 0 to 399\n",
      "Data columns (total 2 columns):\n",
      " #   Column  Non-Null Count  Dtype  \n",
      "---  ------  --------------  -----  \n",
      " 0   serial  400 non-null    int64  \n",
      " 1   RAIV_1  397 non-null    float64\n",
      "dtypes: float64(1), int64(1)\n",
      "memory usage: 6.4 KB\n"
     ]
    }
   ],
   "source": [
    "treat_data.info()"
   ]
  },
  {
   "cell_type": "code",
   "execution_count": 53,
   "metadata": {},
   "outputs": [
    {
     "name": "stdout",
     "output_type": "stream",
     "text": [
      "<class 'pandas.core.frame.DataFrame'>\n",
      "RangeIndex: 400 entries, 0 to 399\n",
      "Data columns (total 8 columns):\n",
      " #   Column                  Non-Null Count  Dtype  \n",
      "---  ------                  --------------  -----  \n",
      " 0   serial                  400 non-null    int64  \n",
      " 1   Tumor_PADUA             396 non-null    float64\n",
      " 2   Exophytic_PADUA         395 non-null    float64\n",
      " 3   Rim_PADUA               395 non-null    float64\n",
      " 4   Sinus_PADUA             395 non-null    float64\n",
      " 5   Polarlocation_PADUA     395 non-null    float64\n",
      " 6   Collectingsystem_PADUA  395 non-null    float64\n",
      " 7   PADUA_total             400 non-null    int64  \n",
      "dtypes: float64(6), int64(2)\n",
      "memory usage: 25.1 KB\n"
     ]
    }
   ],
   "source": [
    "padua_data.info()"
   ]
  },
  {
   "cell_type": "code",
   "execution_count": 54,
   "metadata": {},
   "outputs": [
    {
     "name": "stdout",
     "output_type": "stream",
     "text": [
      "<class 'pandas.core.frame.DataFrame'>\n",
      "RangeIndex: 400 entries, 0 to 399\n",
      "Data columns (total 7 columns):\n",
      " #   Column           Non-Null Count  Dtype  \n",
      "---  ------           --------------  -----  \n",
      " 0   serial           400 non-null    int64  \n",
      " 1   Radius_RENAL     396 non-null    float64\n",
      " 2   Exophytic_RENAL  395 non-null    float64\n",
      " 3   Nearness_RENAL   395 non-null    float64\n",
      " 4   APX_RENAL        394 non-null    float64\n",
      " 5   Location_RENAL   395 non-null    float64\n",
      " 6   RENAL_total      400 non-null    int64  \n",
      "dtypes: float64(5), int64(2)\n",
      "memory usage: 22.0 KB\n"
     ]
    }
   ],
   "source": [
    "renal_data.info()"
   ]
  },
  {
   "cell_type": "code",
   "execution_count": 50,
   "metadata": {},
   "outputs": [
    {
     "data": {
      "text/html": [
       "<div>\n",
       "<style scoped>\n",
       "    .dataframe tbody tr th:only-of-type {\n",
       "        vertical-align: middle;\n",
       "    }\n",
       "\n",
       "    .dataframe tbody tr th {\n",
       "        vertical-align: top;\n",
       "    }\n",
       "\n",
       "    .dataframe thead th {\n",
       "        text-align: right;\n",
       "    }\n",
       "</style>\n",
       "<table border=\"1\" class=\"dataframe\">\n",
       "  <thead>\n",
       "    <tr style=\"text-align: right;\">\n",
       "      <th></th>\n",
       "      <th>serial</th>\n",
       "      <th>Tumor_PADUA</th>\n",
       "      <th>Exophytic_PADUA</th>\n",
       "      <th>Rim_PADUA</th>\n",
       "      <th>Sinus_PADUA</th>\n",
       "      <th>Polarlocation_PADUA</th>\n",
       "      <th>Collectingsystem_PADUA</th>\n",
       "      <th>PADUA_total</th>\n",
       "      <th>Radius_RENAL</th>\n",
       "      <th>Exophytic_RENAL</th>\n",
       "      <th>Nearness_RENAL</th>\n",
       "      <th>APX_RENAL</th>\n",
       "      <th>Location_RENAL</th>\n",
       "      <th>RENAL_total</th>\n",
       "    </tr>\n",
       "  </thead>\n",
       "  <tbody>\n",
       "    <tr>\n",
       "      <th>0</th>\n",
       "      <td>1</td>\n",
       "      <td>2.0</td>\n",
       "      <td>1.0</td>\n",
       "      <td>2.0</td>\n",
       "      <td>1.0</td>\n",
       "      <td>1.0</td>\n",
       "      <td>1.0</td>\n",
       "      <td>8</td>\n",
       "      <td>2.0</td>\n",
       "      <td>1.0</td>\n",
       "      <td>1.0</td>\n",
       "      <td>2.0</td>\n",
       "      <td>1.0</td>\n",
       "      <td>4</td>\n",
       "    </tr>\n",
       "    <tr>\n",
       "      <th>1</th>\n",
       "      <td>2</td>\n",
       "      <td>1.0</td>\n",
       "      <td>2.0</td>\n",
       "      <td>1.0</td>\n",
       "      <td>1.0</td>\n",
       "      <td>2.0</td>\n",
       "      <td>1.0</td>\n",
       "      <td>8</td>\n",
       "      <td>1.0</td>\n",
       "      <td>2.0</td>\n",
       "      <td>2.0</td>\n",
       "      <td>2.0</td>\n",
       "      <td>2.0</td>\n",
       "      <td>5</td>\n",
       "    </tr>\n",
       "    <tr>\n",
       "      <th>2</th>\n",
       "      <td>3</td>\n",
       "      <td>1.0</td>\n",
       "      <td>1.0</td>\n",
       "      <td>1.0</td>\n",
       "      <td>1.0</td>\n",
       "      <td>2.0</td>\n",
       "      <td>1.0</td>\n",
       "      <td>7</td>\n",
       "      <td>1.0</td>\n",
       "      <td>1.0</td>\n",
       "      <td>1.0</td>\n",
       "      <td>1.0</td>\n",
       "      <td>1.0</td>\n",
       "      <td>3</td>\n",
       "    </tr>\n",
       "    <tr>\n",
       "      <th>3</th>\n",
       "      <td>4</td>\n",
       "      <td>1.0</td>\n",
       "      <td>1.0</td>\n",
       "      <td>1.0</td>\n",
       "      <td>1.0</td>\n",
       "      <td>2.0</td>\n",
       "      <td>2.0</td>\n",
       "      <td>8</td>\n",
       "      <td>1.0</td>\n",
       "      <td>1.0</td>\n",
       "      <td>3.0</td>\n",
       "      <td>2.0</td>\n",
       "      <td>3.0</td>\n",
       "      <td>5</td>\n",
       "    </tr>\n",
       "    <tr>\n",
       "      <th>4</th>\n",
       "      <td>5</td>\n",
       "      <td>1.0</td>\n",
       "      <td>2.0</td>\n",
       "      <td>1.0</td>\n",
       "      <td>1.0</td>\n",
       "      <td>2.0</td>\n",
       "      <td>1.0</td>\n",
       "      <td>8</td>\n",
       "      <td>1.0</td>\n",
       "      <td>2.0</td>\n",
       "      <td>1.0</td>\n",
       "      <td>1.0</td>\n",
       "      <td>3.0</td>\n",
       "      <td>4</td>\n",
       "    </tr>\n",
       "    <tr>\n",
       "      <th>...</th>\n",
       "      <td>...</td>\n",
       "      <td>...</td>\n",
       "      <td>...</td>\n",
       "      <td>...</td>\n",
       "      <td>...</td>\n",
       "      <td>...</td>\n",
       "      <td>...</td>\n",
       "      <td>...</td>\n",
       "      <td>...</td>\n",
       "      <td>...</td>\n",
       "      <td>...</td>\n",
       "      <td>...</td>\n",
       "      <td>...</td>\n",
       "      <td>...</td>\n",
       "    </tr>\n",
       "    <tr>\n",
       "      <th>395</th>\n",
       "      <td>408</td>\n",
       "      <td>1.0</td>\n",
       "      <td>2.0</td>\n",
       "      <td>1.0</td>\n",
       "      <td>1.0</td>\n",
       "      <td>2.0</td>\n",
       "      <td>1.0</td>\n",
       "      <td>8</td>\n",
       "      <td>1.0</td>\n",
       "      <td>2.0</td>\n",
       "      <td>1.0</td>\n",
       "      <td>1.0</td>\n",
       "      <td>3.0</td>\n",
       "      <td>4</td>\n",
       "    </tr>\n",
       "    <tr>\n",
       "      <th>396</th>\n",
       "      <td>409</td>\n",
       "      <td>1.0</td>\n",
       "      <td>2.0</td>\n",
       "      <td>1.0</td>\n",
       "      <td>1.0</td>\n",
       "      <td>2.0</td>\n",
       "      <td>1.0</td>\n",
       "      <td>8</td>\n",
       "      <td>1.0</td>\n",
       "      <td>2.0</td>\n",
       "      <td>1.0</td>\n",
       "      <td>1.0</td>\n",
       "      <td>3.0</td>\n",
       "      <td>4</td>\n",
       "    </tr>\n",
       "    <tr>\n",
       "      <th>397</th>\n",
       "      <td>410</td>\n",
       "      <td>1.0</td>\n",
       "      <td>2.0</td>\n",
       "      <td>1.0</td>\n",
       "      <td>1.0</td>\n",
       "      <td>1.0</td>\n",
       "      <td>1.0</td>\n",
       "      <td>7</td>\n",
       "      <td>1.0</td>\n",
       "      <td>2.0</td>\n",
       "      <td>1.0</td>\n",
       "      <td>1.0</td>\n",
       "      <td>1.0</td>\n",
       "      <td>4</td>\n",
       "    </tr>\n",
       "    <tr>\n",
       "      <th>398</th>\n",
       "      <td>411</td>\n",
       "      <td>1.0</td>\n",
       "      <td>2.0</td>\n",
       "      <td>2.0</td>\n",
       "      <td>2.0</td>\n",
       "      <td>1.0</td>\n",
       "      <td>2.0</td>\n",
       "      <td>10</td>\n",
       "      <td>1.0</td>\n",
       "      <td>2.0</td>\n",
       "      <td>2.0</td>\n",
       "      <td>2.0</td>\n",
       "      <td>1.0</td>\n",
       "      <td>5</td>\n",
       "    </tr>\n",
       "    <tr>\n",
       "      <th>399</th>\n",
       "      <td>412</td>\n",
       "      <td>1.0</td>\n",
       "      <td>1.0</td>\n",
       "      <td>1.0</td>\n",
       "      <td>1.0</td>\n",
       "      <td>2.0</td>\n",
       "      <td>1.0</td>\n",
       "      <td>7</td>\n",
       "      <td>1.0</td>\n",
       "      <td>1.0</td>\n",
       "      <td>1.0</td>\n",
       "      <td>1.0</td>\n",
       "      <td>3.0</td>\n",
       "      <td>3</td>\n",
       "    </tr>\n",
       "  </tbody>\n",
       "</table>\n",
       "<p>400 rows × 14 columns</p>\n",
       "</div>"
      ],
      "text/plain": [
       "     serial  Tumor_PADUA  Exophytic_PADUA  Rim_PADUA  Sinus_PADUA  \\\n",
       "0         1          2.0              1.0        2.0          1.0   \n",
       "1         2          1.0              2.0        1.0          1.0   \n",
       "2         3          1.0              1.0        1.0          1.0   \n",
       "3         4          1.0              1.0        1.0          1.0   \n",
       "4         5          1.0              2.0        1.0          1.0   \n",
       "..      ...          ...              ...        ...          ...   \n",
       "395     408          1.0              2.0        1.0          1.0   \n",
       "396     409          1.0              2.0        1.0          1.0   \n",
       "397     410          1.0              2.0        1.0          1.0   \n",
       "398     411          1.0              2.0        2.0          2.0   \n",
       "399     412          1.0              1.0        1.0          1.0   \n",
       "\n",
       "     Polarlocation_PADUA  Collectingsystem_PADUA  PADUA_total  Radius_RENAL  \\\n",
       "0                    1.0                     1.0            8           2.0   \n",
       "1                    2.0                     1.0            8           1.0   \n",
       "2                    2.0                     1.0            7           1.0   \n",
       "3                    2.0                     2.0            8           1.0   \n",
       "4                    2.0                     1.0            8           1.0   \n",
       "..                   ...                     ...          ...           ...   \n",
       "395                  2.0                     1.0            8           1.0   \n",
       "396                  2.0                     1.0            8           1.0   \n",
       "397                  1.0                     1.0            7           1.0   \n",
       "398                  1.0                     2.0           10           1.0   \n",
       "399                  2.0                     1.0            7           1.0   \n",
       "\n",
       "     Exophytic_RENAL  Nearness_RENAL  APX_RENAL  Location_RENAL  RENAL_total  \n",
       "0                1.0             1.0        2.0             1.0            4  \n",
       "1                2.0             2.0        2.0             2.0            5  \n",
       "2                1.0             1.0        1.0             1.0            3  \n",
       "3                1.0             3.0        2.0             3.0            5  \n",
       "4                2.0             1.0        1.0             3.0            4  \n",
       "..               ...             ...        ...             ...          ...  \n",
       "395              2.0             1.0        1.0             3.0            4  \n",
       "396              2.0             1.0        1.0             3.0            4  \n",
       "397              2.0             1.0        1.0             1.0            4  \n",
       "398              2.0             2.0        2.0             1.0            5  \n",
       "399              1.0             1.0        1.0             3.0            3  \n",
       "\n",
       "[400 rows x 14 columns]"
      ]
     },
     "execution_count": 50,
     "metadata": {},
     "output_type": "execute_result"
    }
   ],
   "source": [
    "merged_data = pd.merge(padua_data, renal_data, on='serial')\n",
    "merged_data"
   ]
  },
  {
   "cell_type": "code",
   "execution_count": 51,
   "metadata": {},
   "outputs": [
    {
     "name": "stdout",
     "output_type": "stream",
     "text": [
      "<class 'pandas.core.frame.DataFrame'>\n",
      "RangeIndex: 400 entries, 0 to 399\n",
      "Data columns (total 14 columns):\n",
      " #   Column                  Non-Null Count  Dtype  \n",
      "---  ------                  --------------  -----  \n",
      " 0   serial                  400 non-null    int64  \n",
      " 1   Tumor_PADUA             396 non-null    float64\n",
      " 2   Exophytic_PADUA         395 non-null    float64\n",
      " 3   Rim_PADUA               395 non-null    float64\n",
      " 4   Sinus_PADUA             395 non-null    float64\n",
      " 5   Polarlocation_PADUA     395 non-null    float64\n",
      " 6   Collectingsystem_PADUA  395 non-null    float64\n",
      " 7   PADUA_total             400 non-null    int64  \n",
      " 8   Radius_RENAL            396 non-null    float64\n",
      " 9   Exophytic_RENAL         395 non-null    float64\n",
      " 10  Nearness_RENAL          395 non-null    float64\n",
      " 11  APX_RENAL               394 non-null    float64\n",
      " 12  Location_RENAL          395 non-null    float64\n",
      " 13  RENAL_total             400 non-null    int64  \n",
      "dtypes: float64(11), int64(3)\n",
      "memory usage: 43.9 KB\n"
     ]
    }
   ],
   "source": [
    "merged_data.info()"
   ]
  },
  {
   "cell_type": "code",
   "execution_count": null,
   "metadata": {},
   "outputs": [],
   "source": []
  },
  {
   "cell_type": "code",
   "execution_count": null,
   "metadata": {},
   "outputs": [],
   "source": []
  },
  {
   "cell_type": "code",
   "execution_count": 43,
   "metadata": {},
   "outputs": [],
   "source": [
    "merged_data.drop(['Tumor_PADUA', 'Exophytic_PADUA'], axis=1, inplace=True)"
   ]
  },
  {
   "cell_type": "code",
   "execution_count": 44,
   "metadata": {},
   "outputs": [],
   "source": [
    "merged_data.rename(columns={'Radius_RENAL': 'Radius_RENAL_PADUA'}, inplace=True)\n",
    "merged_data.rename(columns={'Exophytic_RENAL': 'Exophytic_RENAL_PADUA'}, inplace=True)"
   ]
  },
  {
   "cell_type": "code",
   "execution_count": 45,
   "metadata": {},
   "outputs": [],
   "source": [
    "merged_data_result = pd.merge(merged_data, treat_data, on='serial')"
   ]
  },
  {
   "cell_type": "code",
   "execution_count": 10,
   "metadata": {},
   "outputs": [
    {
     "name": "stdout",
     "output_type": "stream",
     "text": [
      "<class 'pandas.core.frame.DataFrame'>\n",
      "RangeIndex: 400 entries, 0 to 399\n",
      "Data columns (total 13 columns):\n",
      " #   Column                  Non-Null Count  Dtype  \n",
      "---  ------                  --------------  -----  \n",
      " 0   serial                  400 non-null    int64  \n",
      " 1   Rim_PADUA               395 non-null    float64\n",
      " 2   Sinus_PADUA             395 non-null    float64\n",
      " 3   Polarlocation_PADUA     395 non-null    float64\n",
      " 4   Collectingsystem_PADUA  395 non-null    float64\n",
      " 5   PADUA_total             400 non-null    int64  \n",
      " 6   Radius_RENAL_PADUA      396 non-null    float64\n",
      " 7   Exophytic_RENAL_PADUA   395 non-null    float64\n",
      " 8   Nearness_RENAL          395 non-null    float64\n",
      " 9   APX_RENAL               394 non-null    float64\n",
      " 10  Location_RENAL          395 non-null    float64\n",
      " 11  RENAL_total             400 non-null    int64  \n",
      " 12  RAIV_1                  397 non-null    float64\n",
      "dtypes: float64(10), int64(3)\n",
      "memory usage: 40.8 KB\n"
     ]
    }
   ],
   "source": [
    "merged_data_result.info()"
   ]
  },
  {
   "cell_type": "markdown",
   "metadata": {},
   "source": [
    "## 결측치 제거"
   ]
  },
  {
   "cell_type": "code",
   "execution_count": 46,
   "metadata": {},
   "outputs": [],
   "source": [
    "merged_data_result = merged_data_result.dropna()"
   ]
  },
  {
   "cell_type": "code",
   "execution_count": 47,
   "metadata": {},
   "outputs": [
    {
     "name": "stdout",
     "output_type": "stream",
     "text": [
      "<class 'pandas.core.frame.DataFrame'>\n",
      "Index: 389 entries, 0 to 399\n",
      "Data columns (total 13 columns):\n",
      " #   Column                  Non-Null Count  Dtype  \n",
      "---  ------                  --------------  -----  \n",
      " 0   serial                  389 non-null    int64  \n",
      " 1   Rim_PADUA               389 non-null    float64\n",
      " 2   Sinus_PADUA             389 non-null    float64\n",
      " 3   Polarlocation_PADUA     389 non-null    float64\n",
      " 4   Collectingsystem_PADUA  389 non-null    float64\n",
      " 5   PADUA_total             389 non-null    int64  \n",
      " 6   Radius_RENAL_PADUA      389 non-null    float64\n",
      " 7   Exophytic_RENAL_PADUA   389 non-null    float64\n",
      " 8   Nearness_RENAL          389 non-null    float64\n",
      " 9   APX_RENAL               389 non-null    float64\n",
      " 10  Location_RENAL          389 non-null    float64\n",
      " 11  RENAL_total             389 non-null    int64  \n",
      " 12  RAIV_1                  389 non-null    float64\n",
      "dtypes: float64(10), int64(3)\n",
      "memory usage: 42.5 KB\n"
     ]
    }
   ],
   "source": [
    "merged_data_result.info()"
   ]
  },
  {
   "cell_type": "code",
   "execution_count": 12,
   "metadata": {},
   "outputs": [
    {
     "data": {
      "text/html": [
       "<div>\n",
       "<style scoped>\n",
       "    .dataframe tbody tr th:only-of-type {\n",
       "        vertical-align: middle;\n",
       "    }\n",
       "\n",
       "    .dataframe tbody tr th {\n",
       "        vertical-align: top;\n",
       "    }\n",
       "\n",
       "    .dataframe thead th {\n",
       "        text-align: right;\n",
       "    }\n",
       "</style>\n",
       "<table border=\"1\" class=\"dataframe\">\n",
       "  <thead>\n",
       "    <tr style=\"text-align: right;\">\n",
       "      <th></th>\n",
       "      <th>serial</th>\n",
       "      <th>Rim_PADUA</th>\n",
       "      <th>Sinus_PADUA</th>\n",
       "      <th>Polarlocation_PADUA</th>\n",
       "      <th>Collectingsystem_PADUA</th>\n",
       "      <th>PADUA_total</th>\n",
       "      <th>Radius_RENAL_PADUA</th>\n",
       "      <th>Exophytic_RENAL_PADUA</th>\n",
       "      <th>Nearness_RENAL</th>\n",
       "      <th>APX_RENAL</th>\n",
       "      <th>Location_RENAL</th>\n",
       "      <th>RENAL_total</th>\n",
       "      <th>RAIV_1</th>\n",
       "    </tr>\n",
       "  </thead>\n",
       "  <tbody>\n",
       "    <tr>\n",
       "      <th>0</th>\n",
       "      <td>1</td>\n",
       "      <td>2.0</td>\n",
       "      <td>1.0</td>\n",
       "      <td>1.0</td>\n",
       "      <td>1.0</td>\n",
       "      <td>8</td>\n",
       "      <td>2.0</td>\n",
       "      <td>1.0</td>\n",
       "      <td>1.0</td>\n",
       "      <td>2.0</td>\n",
       "      <td>1.0</td>\n",
       "      <td>4</td>\n",
       "      <td>51.1</td>\n",
       "    </tr>\n",
       "    <tr>\n",
       "      <th>1</th>\n",
       "      <td>2</td>\n",
       "      <td>1.0</td>\n",
       "      <td>1.0</td>\n",
       "      <td>2.0</td>\n",
       "      <td>1.0</td>\n",
       "      <td>8</td>\n",
       "      <td>1.0</td>\n",
       "      <td>2.0</td>\n",
       "      <td>2.0</td>\n",
       "      <td>2.0</td>\n",
       "      <td>2.0</td>\n",
       "      <td>5</td>\n",
       "      <td>46.1</td>\n",
       "    </tr>\n",
       "    <tr>\n",
       "      <th>2</th>\n",
       "      <td>3</td>\n",
       "      <td>1.0</td>\n",
       "      <td>1.0</td>\n",
       "      <td>2.0</td>\n",
       "      <td>1.0</td>\n",
       "      <td>7</td>\n",
       "      <td>1.0</td>\n",
       "      <td>1.0</td>\n",
       "      <td>1.0</td>\n",
       "      <td>1.0</td>\n",
       "      <td>1.0</td>\n",
       "      <td>3</td>\n",
       "      <td>14.8</td>\n",
       "    </tr>\n",
       "    <tr>\n",
       "      <th>3</th>\n",
       "      <td>4</td>\n",
       "      <td>1.0</td>\n",
       "      <td>1.0</td>\n",
       "      <td>2.0</td>\n",
       "      <td>2.0</td>\n",
       "      <td>8</td>\n",
       "      <td>1.0</td>\n",
       "      <td>1.0</td>\n",
       "      <td>3.0</td>\n",
       "      <td>2.0</td>\n",
       "      <td>3.0</td>\n",
       "      <td>5</td>\n",
       "      <td>19.7</td>\n",
       "    </tr>\n",
       "    <tr>\n",
       "      <th>4</th>\n",
       "      <td>5</td>\n",
       "      <td>1.0</td>\n",
       "      <td>1.0</td>\n",
       "      <td>2.0</td>\n",
       "      <td>1.0</td>\n",
       "      <td>8</td>\n",
       "      <td>1.0</td>\n",
       "      <td>2.0</td>\n",
       "      <td>1.0</td>\n",
       "      <td>1.0</td>\n",
       "      <td>3.0</td>\n",
       "      <td>4</td>\n",
       "      <td>14.8</td>\n",
       "    </tr>\n",
       "  </tbody>\n",
       "</table>\n",
       "</div>"
      ],
      "text/plain": [
       "   serial  Rim_PADUA  Sinus_PADUA  Polarlocation_PADUA  \\\n",
       "0       1        2.0          1.0                  1.0   \n",
       "1       2        1.0          1.0                  2.0   \n",
       "2       3        1.0          1.0                  2.0   \n",
       "3       4        1.0          1.0                  2.0   \n",
       "4       5        1.0          1.0                  2.0   \n",
       "\n",
       "   Collectingsystem_PADUA  PADUA_total  Radius_RENAL_PADUA  \\\n",
       "0                     1.0            8                 2.0   \n",
       "1                     1.0            8                 1.0   \n",
       "2                     1.0            7                 1.0   \n",
       "3                     2.0            8                 1.0   \n",
       "4                     1.0            8                 1.0   \n",
       "\n",
       "   Exophytic_RENAL_PADUA  Nearness_RENAL  APX_RENAL  Location_RENAL  \\\n",
       "0                    1.0             1.0        2.0             1.0   \n",
       "1                    2.0             2.0        2.0             2.0   \n",
       "2                    1.0             1.0        1.0             1.0   \n",
       "3                    1.0             3.0        2.0             3.0   \n",
       "4                    2.0             1.0        1.0             3.0   \n",
       "\n",
       "   RENAL_total  RAIV_1  \n",
       "0            4    51.1  \n",
       "1            5    46.1  \n",
       "2            3    14.8  \n",
       "3            5    19.7  \n",
       "4            4    14.8  "
      ]
     },
     "execution_count": 12,
     "metadata": {},
     "output_type": "execute_result"
    }
   ],
   "source": [
    "merged_data_result.head()"
   ]
  },
  {
   "cell_type": "code",
   "execution_count": 13,
   "metadata": {},
   "outputs": [
    {
     "data": {
      "text/html": [
       "<div>\n",
       "<style scoped>\n",
       "    .dataframe tbody tr th:only-of-type {\n",
       "        vertical-align: middle;\n",
       "    }\n",
       "\n",
       "    .dataframe tbody tr th {\n",
       "        vertical-align: top;\n",
       "    }\n",
       "\n",
       "    .dataframe thead th {\n",
       "        text-align: right;\n",
       "    }\n",
       "</style>\n",
       "<table border=\"1\" class=\"dataframe\">\n",
       "  <thead>\n",
       "    <tr style=\"text-align: right;\">\n",
       "      <th></th>\n",
       "      <th>serial</th>\n",
       "      <th>Rim_PADUA</th>\n",
       "      <th>Sinus_PADUA</th>\n",
       "      <th>Polarlocation_PADUA</th>\n",
       "      <th>Collectingsystem_PADUA</th>\n",
       "      <th>PADUA_total</th>\n",
       "      <th>Radius_RENAL_PADUA</th>\n",
       "      <th>Exophytic_RENAL_PADUA</th>\n",
       "      <th>Nearness_RENAL</th>\n",
       "      <th>APX_RENAL</th>\n",
       "      <th>Location_RENAL</th>\n",
       "      <th>RENAL_total</th>\n",
       "      <th>RAIV_1</th>\n",
       "    </tr>\n",
       "  </thead>\n",
       "  <tbody>\n",
       "    <tr>\n",
       "      <th>395</th>\n",
       "      <td>408</td>\n",
       "      <td>1.0</td>\n",
       "      <td>1.0</td>\n",
       "      <td>2.0</td>\n",
       "      <td>1.0</td>\n",
       "      <td>8</td>\n",
       "      <td>1.0</td>\n",
       "      <td>2.0</td>\n",
       "      <td>1.0</td>\n",
       "      <td>1.0</td>\n",
       "      <td>3.0</td>\n",
       "      <td>4</td>\n",
       "      <td>21.3</td>\n",
       "    </tr>\n",
       "    <tr>\n",
       "      <th>396</th>\n",
       "      <td>409</td>\n",
       "      <td>1.0</td>\n",
       "      <td>1.0</td>\n",
       "      <td>2.0</td>\n",
       "      <td>1.0</td>\n",
       "      <td>8</td>\n",
       "      <td>1.0</td>\n",
       "      <td>2.0</td>\n",
       "      <td>1.0</td>\n",
       "      <td>1.0</td>\n",
       "      <td>3.0</td>\n",
       "      <td>4</td>\n",
       "      <td>30.5</td>\n",
       "    </tr>\n",
       "    <tr>\n",
       "      <th>397</th>\n",
       "      <td>410</td>\n",
       "      <td>1.0</td>\n",
       "      <td>1.0</td>\n",
       "      <td>1.0</td>\n",
       "      <td>1.0</td>\n",
       "      <td>7</td>\n",
       "      <td>1.0</td>\n",
       "      <td>2.0</td>\n",
       "      <td>1.0</td>\n",
       "      <td>1.0</td>\n",
       "      <td>1.0</td>\n",
       "      <td>4</td>\n",
       "      <td>70.7</td>\n",
       "    </tr>\n",
       "    <tr>\n",
       "      <th>398</th>\n",
       "      <td>411</td>\n",
       "      <td>2.0</td>\n",
       "      <td>2.0</td>\n",
       "      <td>1.0</td>\n",
       "      <td>2.0</td>\n",
       "      <td>10</td>\n",
       "      <td>1.0</td>\n",
       "      <td>2.0</td>\n",
       "      <td>2.0</td>\n",
       "      <td>2.0</td>\n",
       "      <td>1.0</td>\n",
       "      <td>5</td>\n",
       "      <td>12.6</td>\n",
       "    </tr>\n",
       "    <tr>\n",
       "      <th>399</th>\n",
       "      <td>412</td>\n",
       "      <td>1.0</td>\n",
       "      <td>1.0</td>\n",
       "      <td>2.0</td>\n",
       "      <td>1.0</td>\n",
       "      <td>7</td>\n",
       "      <td>1.0</td>\n",
       "      <td>1.0</td>\n",
       "      <td>1.0</td>\n",
       "      <td>1.0</td>\n",
       "      <td>3.0</td>\n",
       "      <td>3</td>\n",
       "      <td>11.8</td>\n",
       "    </tr>\n",
       "  </tbody>\n",
       "</table>\n",
       "</div>"
      ],
      "text/plain": [
       "     serial  Rim_PADUA  Sinus_PADUA  Polarlocation_PADUA  \\\n",
       "395     408        1.0          1.0                  2.0   \n",
       "396     409        1.0          1.0                  2.0   \n",
       "397     410        1.0          1.0                  1.0   \n",
       "398     411        2.0          2.0                  1.0   \n",
       "399     412        1.0          1.0                  2.0   \n",
       "\n",
       "     Collectingsystem_PADUA  PADUA_total  Radius_RENAL_PADUA  \\\n",
       "395                     1.0            8                 1.0   \n",
       "396                     1.0            8                 1.0   \n",
       "397                     1.0            7                 1.0   \n",
       "398                     2.0           10                 1.0   \n",
       "399                     1.0            7                 1.0   \n",
       "\n",
       "     Exophytic_RENAL_PADUA  Nearness_RENAL  APX_RENAL  Location_RENAL  \\\n",
       "395                    2.0             1.0        1.0             3.0   \n",
       "396                    2.0             1.0        1.0             3.0   \n",
       "397                    2.0             1.0        1.0             1.0   \n",
       "398                    2.0             2.0        2.0             1.0   \n",
       "399                    1.0             1.0        1.0             3.0   \n",
       "\n",
       "     RENAL_total  RAIV_1  \n",
       "395            4    21.3  \n",
       "396            4    30.5  \n",
       "397            4    70.7  \n",
       "398            5    12.6  \n",
       "399            3    11.8  "
      ]
     },
     "execution_count": 13,
     "metadata": {},
     "output_type": "execute_result"
    }
   ],
   "source": [
    "merged_data_result.tail()"
   ]
  },
  {
   "cell_type": "code",
   "execution_count": 14,
   "metadata": {},
   "outputs": [
    {
     "data": {
      "application/vnd.plotly.v1+json": {
       "config": {
        "plotlyServerURL": "https://plot.ly"
       },
       "data": [
        {
         "alignmentgroup": "True",
         "bingroup": "x",
         "hovertemplate": "RAIV_1=%{x}<br>count=%{y}<extra></extra>",
         "legendgroup": "",
         "marker": {
          "color": "#636efa",
          "pattern": {
           "shape": ""
          }
         },
         "name": "",
         "offsetgroup": "",
         "orientation": "v",
         "showlegend": false,
         "type": "histogram",
         "x": [
          51.1,
          46.1,
          14.8,
          19.7,
          14.8,
          18.5,
          42.5,
          56.3,
          65.3,
          51.1,
          95.7,
          45,
          55.8,
          48.2,
          58.6,
          85.4,
          31.4,
          28.6,
          114,
          27.7,
          75.9,
          154.8,
          25.8,
          45.6,
          36.8,
          57.8,
          44.3,
          6.9,
          43.6,
          48.8,
          46,
          24.7,
          51.6,
          45.6,
          13.1,
          9,
          67.2,
          30.3,
          30.3,
          23.7,
          66.5,
          40.6,
          30.4,
          20.2,
          94.2,
          74.6,
          17.9,
          37.2,
          111.3,
          66.5,
          18.1,
          103.6,
          19.3,
          27.6,
          49.7,
          15.3,
          46.2,
          55.6,
          143.4,
          46.7,
          67.2,
          11.8,
          76.9,
          42.1,
          32.6,
          19.2,
          20.7,
          31.8,
          9.1,
          26.5,
          8.1,
          7.3,
          21.8,
          93.6,
          27.3,
          10.8,
          43.9,
          8.6,
          4.6,
          34.4,
          18.9,
          82.3,
          88.5,
          82.2,
          12.3,
          35.7,
          49.7,
          10.6,
          19,
          18.6,
          52.6,
          74.2,
          27.7,
          36.5,
          8.8,
          22.6,
          11,
          17.7,
          19.4,
          26.8,
          55.8,
          16.6,
          33.4,
          11.9,
          28.8,
          13.6,
          11.4,
          27.9,
          14.1,
          19.6,
          56.3,
          57.8,
          24.1,
          10.8,
          29.1,
          32.8,
          6.7,
          19.8,
          20.2,
          82.2,
          35.1,
          27.8,
          24.4,
          27.6,
          6.6,
          21.5,
          9.6,
          5.3,
          7.4,
          51.9,
          36,
          8.8,
          7.1,
          5.9,
          5.1,
          14,
          17.2,
          5.3,
          13.4,
          15,
          26.9,
          5.1,
          17.2,
          13.1,
          4.3,
          7.7,
          19.3,
          33.2,
          15.2,
          6.1,
          16.8,
          4.1,
          14.9,
          14.2,
          10.9,
          6.5,
          23,
          6.6,
          19.4,
          23,
          12.7,
          13.1,
          4.3,
          7.1,
          13.9,
          18.1,
          12.7,
          8.1,
          13.4,
          21.8,
          21.2,
          5.9,
          9.5,
          22.6,
          10.2,
          16.5,
          27.9,
          35.3,
          22.7,
          4.7,
          11.7,
          13.1,
          21.3,
          11.5,
          13.5,
          8.7,
          14,
          12.5,
          54.4,
          32.7,
          9.1,
          9.2,
          3.7,
          12.7,
          10.4,
          11.5,
          9,
          22.4,
          9.9,
          9.3,
          11.9,
          18.4,
          25.8,
          10.1,
          6.6,
          9.1,
          28,
          8.1,
          6.6,
          10.6,
          36.5,
          43.1,
          8.1,
          10.4,
          14.7,
          42.7,
          5.1,
          9.9,
          36.5,
          17.7,
          18.4,
          10.1,
          7.1,
          11.1,
          26.2,
          19.9,
          4.1,
          13,
          9.3,
          16.2,
          5.9,
          7.1,
          36.5,
          27.6,
          11,
          6.1,
          16.8,
          6.1,
          10.4,
          31.3,
          21.9,
          17.8,
          37.8,
          63.6,
          3.5,
          5.3,
          14.7,
          30.4,
          3.6,
          9.3,
          36.5,
          9.2,
          20.9,
          24.8,
          5.1,
          19.4,
          30.4,
          26.9,
          21.6,
          6.1,
          8.7,
          22.2,
          14.5,
          10.4,
          6.6,
          15.3,
          20.5,
          22.6,
          10.3,
          4.6,
          6.5,
          21.8,
          12,
          19.1,
          14.4,
          13.2,
          13.4,
          26.7,
          15.3,
          14,
          16.8,
          3.6,
          9.6,
          42.7,
          24,
          37,
          8.3,
          14.3,
          13.5,
          9.5,
          31.7,
          37.5,
          15.7,
          10.4,
          5.2,
          63.6,
          20.6,
          6.5,
          25.5,
          11.2,
          9.9,
          15,
          10.9,
          12.1,
          31.6,
          14.3,
          15,
          27.9,
          17.9,
          13.3,
          4.6,
          6.5,
          64.7,
          22.6,
          49.5,
          7.1,
          16.8,
          8.4,
          11.9,
          10.7,
          12.8,
          32.8,
          6.6,
          14,
          13.1,
          5.3,
          14.3,
          32.2,
          12,
          16.1,
          7.4,
          14.7,
          49.5,
          23.3,
          5.7,
          7.6,
          20.6,
          42.1,
          10.4,
          7.1,
          18.1,
          10.9,
          8.4,
          22.4,
          13,
          9,
          24.2,
          17,
          28.5,
          29.1,
          60.5,
          37.9,
          48.9,
          67.8,
          70.1,
          18.9,
          106,
          50.6,
          57.7,
          60.5,
          52.3,
          55.6,
          22.4,
          47.8,
          10.1,
          24.7,
          121.1,
          122.7,
          28.4,
          74.6,
          49.5,
          65.6,
          104.8,
          14.7,
          48.9,
          20.4,
          24,
          16.8,
          55.6,
          10.6,
          23.2,
          17.7,
          97.9,
          24.6,
          21.3,
          30.5,
          70.7,
          12.6,
          11.8
         ],
         "xaxis": "x",
         "yaxis": "y"
        }
       ],
       "layout": {
        "barmode": "relative",
        "legend": {
         "tracegroupgap": 0
        },
        "margin": {
         "t": 60
        },
        "template": {
         "data": {
          "bar": [
           {
            "error_x": {
             "color": "#2a3f5f"
            },
            "error_y": {
             "color": "#2a3f5f"
            },
            "marker": {
             "line": {
              "color": "#E5ECF6",
              "width": 0.5
             },
             "pattern": {
              "fillmode": "overlay",
              "size": 10,
              "solidity": 0.2
             }
            },
            "type": "bar"
           }
          ],
          "barpolar": [
           {
            "marker": {
             "line": {
              "color": "#E5ECF6",
              "width": 0.5
             },
             "pattern": {
              "fillmode": "overlay",
              "size": 10,
              "solidity": 0.2
             }
            },
            "type": "barpolar"
           }
          ],
          "carpet": [
           {
            "aaxis": {
             "endlinecolor": "#2a3f5f",
             "gridcolor": "white",
             "linecolor": "white",
             "minorgridcolor": "white",
             "startlinecolor": "#2a3f5f"
            },
            "baxis": {
             "endlinecolor": "#2a3f5f",
             "gridcolor": "white",
             "linecolor": "white",
             "minorgridcolor": "white",
             "startlinecolor": "#2a3f5f"
            },
            "type": "carpet"
           }
          ],
          "choropleth": [
           {
            "colorbar": {
             "outlinewidth": 0,
             "ticks": ""
            },
            "type": "choropleth"
           }
          ],
          "contour": [
           {
            "colorbar": {
             "outlinewidth": 0,
             "ticks": ""
            },
            "colorscale": [
             [
              0,
              "#0d0887"
             ],
             [
              0.1111111111111111,
              "#46039f"
             ],
             [
              0.2222222222222222,
              "#7201a8"
             ],
             [
              0.3333333333333333,
              "#9c179e"
             ],
             [
              0.4444444444444444,
              "#bd3786"
             ],
             [
              0.5555555555555556,
              "#d8576b"
             ],
             [
              0.6666666666666666,
              "#ed7953"
             ],
             [
              0.7777777777777778,
              "#fb9f3a"
             ],
             [
              0.8888888888888888,
              "#fdca26"
             ],
             [
              1,
              "#f0f921"
             ]
            ],
            "type": "contour"
           }
          ],
          "contourcarpet": [
           {
            "colorbar": {
             "outlinewidth": 0,
             "ticks": ""
            },
            "type": "contourcarpet"
           }
          ],
          "heatmap": [
           {
            "colorbar": {
             "outlinewidth": 0,
             "ticks": ""
            },
            "colorscale": [
             [
              0,
              "#0d0887"
             ],
             [
              0.1111111111111111,
              "#46039f"
             ],
             [
              0.2222222222222222,
              "#7201a8"
             ],
             [
              0.3333333333333333,
              "#9c179e"
             ],
             [
              0.4444444444444444,
              "#bd3786"
             ],
             [
              0.5555555555555556,
              "#d8576b"
             ],
             [
              0.6666666666666666,
              "#ed7953"
             ],
             [
              0.7777777777777778,
              "#fb9f3a"
             ],
             [
              0.8888888888888888,
              "#fdca26"
             ],
             [
              1,
              "#f0f921"
             ]
            ],
            "type": "heatmap"
           }
          ],
          "heatmapgl": [
           {
            "colorbar": {
             "outlinewidth": 0,
             "ticks": ""
            },
            "colorscale": [
             [
              0,
              "#0d0887"
             ],
             [
              0.1111111111111111,
              "#46039f"
             ],
             [
              0.2222222222222222,
              "#7201a8"
             ],
             [
              0.3333333333333333,
              "#9c179e"
             ],
             [
              0.4444444444444444,
              "#bd3786"
             ],
             [
              0.5555555555555556,
              "#d8576b"
             ],
             [
              0.6666666666666666,
              "#ed7953"
             ],
             [
              0.7777777777777778,
              "#fb9f3a"
             ],
             [
              0.8888888888888888,
              "#fdca26"
             ],
             [
              1,
              "#f0f921"
             ]
            ],
            "type": "heatmapgl"
           }
          ],
          "histogram": [
           {
            "marker": {
             "pattern": {
              "fillmode": "overlay",
              "size": 10,
              "solidity": 0.2
             }
            },
            "type": "histogram"
           }
          ],
          "histogram2d": [
           {
            "colorbar": {
             "outlinewidth": 0,
             "ticks": ""
            },
            "colorscale": [
             [
              0,
              "#0d0887"
             ],
             [
              0.1111111111111111,
              "#46039f"
             ],
             [
              0.2222222222222222,
              "#7201a8"
             ],
             [
              0.3333333333333333,
              "#9c179e"
             ],
             [
              0.4444444444444444,
              "#bd3786"
             ],
             [
              0.5555555555555556,
              "#d8576b"
             ],
             [
              0.6666666666666666,
              "#ed7953"
             ],
             [
              0.7777777777777778,
              "#fb9f3a"
             ],
             [
              0.8888888888888888,
              "#fdca26"
             ],
             [
              1,
              "#f0f921"
             ]
            ],
            "type": "histogram2d"
           }
          ],
          "histogram2dcontour": [
           {
            "colorbar": {
             "outlinewidth": 0,
             "ticks": ""
            },
            "colorscale": [
             [
              0,
              "#0d0887"
             ],
             [
              0.1111111111111111,
              "#46039f"
             ],
             [
              0.2222222222222222,
              "#7201a8"
             ],
             [
              0.3333333333333333,
              "#9c179e"
             ],
             [
              0.4444444444444444,
              "#bd3786"
             ],
             [
              0.5555555555555556,
              "#d8576b"
             ],
             [
              0.6666666666666666,
              "#ed7953"
             ],
             [
              0.7777777777777778,
              "#fb9f3a"
             ],
             [
              0.8888888888888888,
              "#fdca26"
             ],
             [
              1,
              "#f0f921"
             ]
            ],
            "type": "histogram2dcontour"
           }
          ],
          "mesh3d": [
           {
            "colorbar": {
             "outlinewidth": 0,
             "ticks": ""
            },
            "type": "mesh3d"
           }
          ],
          "parcoords": [
           {
            "line": {
             "colorbar": {
              "outlinewidth": 0,
              "ticks": ""
             }
            },
            "type": "parcoords"
           }
          ],
          "pie": [
           {
            "automargin": true,
            "type": "pie"
           }
          ],
          "scatter": [
           {
            "fillpattern": {
             "fillmode": "overlay",
             "size": 10,
             "solidity": 0.2
            },
            "type": "scatter"
           }
          ],
          "scatter3d": [
           {
            "line": {
             "colorbar": {
              "outlinewidth": 0,
              "ticks": ""
             }
            },
            "marker": {
             "colorbar": {
              "outlinewidth": 0,
              "ticks": ""
             }
            },
            "type": "scatter3d"
           }
          ],
          "scattercarpet": [
           {
            "marker": {
             "colorbar": {
              "outlinewidth": 0,
              "ticks": ""
             }
            },
            "type": "scattercarpet"
           }
          ],
          "scattergeo": [
           {
            "marker": {
             "colorbar": {
              "outlinewidth": 0,
              "ticks": ""
             }
            },
            "type": "scattergeo"
           }
          ],
          "scattergl": [
           {
            "marker": {
             "colorbar": {
              "outlinewidth": 0,
              "ticks": ""
             }
            },
            "type": "scattergl"
           }
          ],
          "scattermapbox": [
           {
            "marker": {
             "colorbar": {
              "outlinewidth": 0,
              "ticks": ""
             }
            },
            "type": "scattermapbox"
           }
          ],
          "scatterpolar": [
           {
            "marker": {
             "colorbar": {
              "outlinewidth": 0,
              "ticks": ""
             }
            },
            "type": "scatterpolar"
           }
          ],
          "scatterpolargl": [
           {
            "marker": {
             "colorbar": {
              "outlinewidth": 0,
              "ticks": ""
             }
            },
            "type": "scatterpolargl"
           }
          ],
          "scatterternary": [
           {
            "marker": {
             "colorbar": {
              "outlinewidth": 0,
              "ticks": ""
             }
            },
            "type": "scatterternary"
           }
          ],
          "surface": [
           {
            "colorbar": {
             "outlinewidth": 0,
             "ticks": ""
            },
            "colorscale": [
             [
              0,
              "#0d0887"
             ],
             [
              0.1111111111111111,
              "#46039f"
             ],
             [
              0.2222222222222222,
              "#7201a8"
             ],
             [
              0.3333333333333333,
              "#9c179e"
             ],
             [
              0.4444444444444444,
              "#bd3786"
             ],
             [
              0.5555555555555556,
              "#d8576b"
             ],
             [
              0.6666666666666666,
              "#ed7953"
             ],
             [
              0.7777777777777778,
              "#fb9f3a"
             ],
             [
              0.8888888888888888,
              "#fdca26"
             ],
             [
              1,
              "#f0f921"
             ]
            ],
            "type": "surface"
           }
          ],
          "table": [
           {
            "cells": {
             "fill": {
              "color": "#EBF0F8"
             },
             "line": {
              "color": "white"
             }
            },
            "header": {
             "fill": {
              "color": "#C8D4E3"
             },
             "line": {
              "color": "white"
             }
            },
            "type": "table"
           }
          ]
         },
         "layout": {
          "annotationdefaults": {
           "arrowcolor": "#2a3f5f",
           "arrowhead": 0,
           "arrowwidth": 1
          },
          "autotypenumbers": "strict",
          "coloraxis": {
           "colorbar": {
            "outlinewidth": 0,
            "ticks": ""
           }
          },
          "colorscale": {
           "diverging": [
            [
             0,
             "#8e0152"
            ],
            [
             0.1,
             "#c51b7d"
            ],
            [
             0.2,
             "#de77ae"
            ],
            [
             0.3,
             "#f1b6da"
            ],
            [
             0.4,
             "#fde0ef"
            ],
            [
             0.5,
             "#f7f7f7"
            ],
            [
             0.6,
             "#e6f5d0"
            ],
            [
             0.7,
             "#b8e186"
            ],
            [
             0.8,
             "#7fbc41"
            ],
            [
             0.9,
             "#4d9221"
            ],
            [
             1,
             "#276419"
            ]
           ],
           "sequential": [
            [
             0,
             "#0d0887"
            ],
            [
             0.1111111111111111,
             "#46039f"
            ],
            [
             0.2222222222222222,
             "#7201a8"
            ],
            [
             0.3333333333333333,
             "#9c179e"
            ],
            [
             0.4444444444444444,
             "#bd3786"
            ],
            [
             0.5555555555555556,
             "#d8576b"
            ],
            [
             0.6666666666666666,
             "#ed7953"
            ],
            [
             0.7777777777777778,
             "#fb9f3a"
            ],
            [
             0.8888888888888888,
             "#fdca26"
            ],
            [
             1,
             "#f0f921"
            ]
           ],
           "sequentialminus": [
            [
             0,
             "#0d0887"
            ],
            [
             0.1111111111111111,
             "#46039f"
            ],
            [
             0.2222222222222222,
             "#7201a8"
            ],
            [
             0.3333333333333333,
             "#9c179e"
            ],
            [
             0.4444444444444444,
             "#bd3786"
            ],
            [
             0.5555555555555556,
             "#d8576b"
            ],
            [
             0.6666666666666666,
             "#ed7953"
            ],
            [
             0.7777777777777778,
             "#fb9f3a"
            ],
            [
             0.8888888888888888,
             "#fdca26"
            ],
            [
             1,
             "#f0f921"
            ]
           ]
          },
          "colorway": [
           "#636efa",
           "#EF553B",
           "#00cc96",
           "#ab63fa",
           "#FFA15A",
           "#19d3f3",
           "#FF6692",
           "#B6E880",
           "#FF97FF",
           "#FECB52"
          ],
          "font": {
           "color": "#2a3f5f"
          },
          "geo": {
           "bgcolor": "white",
           "lakecolor": "white",
           "landcolor": "#E5ECF6",
           "showlakes": true,
           "showland": true,
           "subunitcolor": "white"
          },
          "hoverlabel": {
           "align": "left"
          },
          "hovermode": "closest",
          "mapbox": {
           "style": "light"
          },
          "paper_bgcolor": "white",
          "plot_bgcolor": "#E5ECF6",
          "polar": {
           "angularaxis": {
            "gridcolor": "white",
            "linecolor": "white",
            "ticks": ""
           },
           "bgcolor": "#E5ECF6",
           "radialaxis": {
            "gridcolor": "white",
            "linecolor": "white",
            "ticks": ""
           }
          },
          "scene": {
           "xaxis": {
            "backgroundcolor": "#E5ECF6",
            "gridcolor": "white",
            "gridwidth": 2,
            "linecolor": "white",
            "showbackground": true,
            "ticks": "",
            "zerolinecolor": "white"
           },
           "yaxis": {
            "backgroundcolor": "#E5ECF6",
            "gridcolor": "white",
            "gridwidth": 2,
            "linecolor": "white",
            "showbackground": true,
            "ticks": "",
            "zerolinecolor": "white"
           },
           "zaxis": {
            "backgroundcolor": "#E5ECF6",
            "gridcolor": "white",
            "gridwidth": 2,
            "linecolor": "white",
            "showbackground": true,
            "ticks": "",
            "zerolinecolor": "white"
           }
          },
          "shapedefaults": {
           "line": {
            "color": "#2a3f5f"
           }
          },
          "ternary": {
           "aaxis": {
            "gridcolor": "white",
            "linecolor": "white",
            "ticks": ""
           },
           "baxis": {
            "gridcolor": "white",
            "linecolor": "white",
            "ticks": ""
           },
           "bgcolor": "#E5ECF6",
           "caxis": {
            "gridcolor": "white",
            "linecolor": "white",
            "ticks": ""
           }
          },
          "title": {
           "x": 0.05
          },
          "xaxis": {
           "automargin": true,
           "gridcolor": "white",
           "linecolor": "white",
           "ticks": "",
           "title": {
            "standoff": 15
           },
           "zerolinecolor": "white",
           "zerolinewidth": 2
          },
          "yaxis": {
           "automargin": true,
           "gridcolor": "white",
           "linecolor": "white",
           "ticks": "",
           "title": {
            "standoff": 15
           },
           "zerolinecolor": "white",
           "zerolinewidth": 2
          }
         }
        },
        "xaxis": {
         "anchor": "y",
         "domain": [
          0,
          1
         ],
         "title": {
          "text": "RAIV_1"
         }
        },
        "yaxis": {
         "anchor": "x",
         "domain": [
          0,
          1
         ],
         "title": {
          "text": "count"
         }
        }
       }
      }
     },
     "metadata": {},
     "output_type": "display_data"
    }
   ],
   "source": [
    "# Raiv에 대한 histogram\n",
    "import plotly.express as px\n",
    "\n",
    "fig=px.histogram(merged_data_result, x='RAIV_1')\n",
    "fig.show()"
   ]
  },
  {
   "cell_type": "code",
   "execution_count": 15,
   "metadata": {},
   "outputs": [
    {
     "data": {
      "text/html": [
       "<div>\n",
       "<style scoped>\n",
       "    .dataframe tbody tr th:only-of-type {\n",
       "        vertical-align: middle;\n",
       "    }\n",
       "\n",
       "    .dataframe tbody tr th {\n",
       "        vertical-align: top;\n",
       "    }\n",
       "\n",
       "    .dataframe thead th {\n",
       "        text-align: right;\n",
       "    }\n",
       "</style>\n",
       "<table border=\"1\" class=\"dataframe\">\n",
       "  <thead>\n",
       "    <tr style=\"text-align: right;\">\n",
       "      <th></th>\n",
       "      <th>serial</th>\n",
       "      <th>Rim_PADUA</th>\n",
       "      <th>Sinus_PADUA</th>\n",
       "      <th>Polarlocation_PADUA</th>\n",
       "      <th>Collectingsystem_PADUA</th>\n",
       "      <th>PADUA_total</th>\n",
       "      <th>Radius_RENAL_PADUA</th>\n",
       "      <th>Exophytic_RENAL_PADUA</th>\n",
       "      <th>Nearness_RENAL</th>\n",
       "      <th>APX_RENAL</th>\n",
       "      <th>Location_RENAL</th>\n",
       "      <th>RENAL_total</th>\n",
       "      <th>RAIV_1</th>\n",
       "    </tr>\n",
       "  </thead>\n",
       "  <tbody>\n",
       "    <tr>\n",
       "      <th>count</th>\n",
       "      <td>389.000000</td>\n",
       "      <td>389.000000</td>\n",
       "      <td>389.000000</td>\n",
       "      <td>389.000000</td>\n",
       "      <td>389.000000</td>\n",
       "      <td>389.000000</td>\n",
       "      <td>389.000000</td>\n",
       "      <td>389.000000</td>\n",
       "      <td>389.000000</td>\n",
       "      <td>389.000000</td>\n",
       "      <td>389.000000</td>\n",
       "      <td>389.000000</td>\n",
       "      <td>389.000000</td>\n",
       "    </tr>\n",
       "    <tr>\n",
       "      <th>mean</th>\n",
       "      <td>202.228792</td>\n",
       "      <td>1.354756</td>\n",
       "      <td>1.318766</td>\n",
       "      <td>1.398458</td>\n",
       "      <td>1.311054</td>\n",
       "      <td>8.460154</td>\n",
       "      <td>1.208226</td>\n",
       "      <td>1.868895</td>\n",
       "      <td>1.920308</td>\n",
       "      <td>1.557841</td>\n",
       "      <td>1.799486</td>\n",
       "      <td>4.989717</td>\n",
       "      <td>27.196144</td>\n",
       "    </tr>\n",
       "    <tr>\n",
       "      <th>std</th>\n",
       "      <td>116.730333</td>\n",
       "      <td>0.479055</td>\n",
       "      <td>0.466598</td>\n",
       "      <td>0.490211</td>\n",
       "      <td>0.485253</td>\n",
       "      <td>1.682714</td>\n",
       "      <td>0.471162</td>\n",
       "      <td>0.718521</td>\n",
       "      <td>0.906064</td>\n",
       "      <td>0.497283</td>\n",
       "      <td>0.806481</td>\n",
       "      <td>1.428682</td>\n",
       "      <td>24.330815</td>\n",
       "    </tr>\n",
       "    <tr>\n",
       "      <th>min</th>\n",
       "      <td>1.000000</td>\n",
       "      <td>1.000000</td>\n",
       "      <td>1.000000</td>\n",
       "      <td>1.000000</td>\n",
       "      <td>1.000000</td>\n",
       "      <td>6.000000</td>\n",
       "      <td>1.000000</td>\n",
       "      <td>1.000000</td>\n",
       "      <td>1.000000</td>\n",
       "      <td>1.000000</td>\n",
       "      <td>1.000000</td>\n",
       "      <td>3.000000</td>\n",
       "      <td>3.500000</td>\n",
       "    </tr>\n",
       "    <tr>\n",
       "      <th>25%</th>\n",
       "      <td>104.000000</td>\n",
       "      <td>1.000000</td>\n",
       "      <td>1.000000</td>\n",
       "      <td>1.000000</td>\n",
       "      <td>1.000000</td>\n",
       "      <td>7.000000</td>\n",
       "      <td>1.000000</td>\n",
       "      <td>1.000000</td>\n",
       "      <td>1.000000</td>\n",
       "      <td>1.000000</td>\n",
       "      <td>1.000000</td>\n",
       "      <td>4.000000</td>\n",
       "      <td>10.800000</td>\n",
       "    </tr>\n",
       "    <tr>\n",
       "      <th>50%</th>\n",
       "      <td>202.000000</td>\n",
       "      <td>1.000000</td>\n",
       "      <td>1.000000</td>\n",
       "      <td>1.000000</td>\n",
       "      <td>1.000000</td>\n",
       "      <td>8.000000</td>\n",
       "      <td>1.000000</td>\n",
       "      <td>2.000000</td>\n",
       "      <td>2.000000</td>\n",
       "      <td>2.000000</td>\n",
       "      <td>2.000000</td>\n",
       "      <td>5.000000</td>\n",
       "      <td>19.000000</td>\n",
       "    </tr>\n",
       "    <tr>\n",
       "      <th>75%</th>\n",
       "      <td>299.000000</td>\n",
       "      <td>2.000000</td>\n",
       "      <td>2.000000</td>\n",
       "      <td>2.000000</td>\n",
       "      <td>2.000000</td>\n",
       "      <td>9.000000</td>\n",
       "      <td>1.000000</td>\n",
       "      <td>2.000000</td>\n",
       "      <td>3.000000</td>\n",
       "      <td>2.000000</td>\n",
       "      <td>2.000000</td>\n",
       "      <td>6.000000</td>\n",
       "      <td>35.100000</td>\n",
       "    </tr>\n",
       "    <tr>\n",
       "      <th>max</th>\n",
       "      <td>412.000000</td>\n",
       "      <td>2.000000</td>\n",
       "      <td>2.000000</td>\n",
       "      <td>2.000000</td>\n",
       "      <td>3.000000</td>\n",
       "      <td>13.000000</td>\n",
       "      <td>3.000000</td>\n",
       "      <td>3.000000</td>\n",
       "      <td>3.000000</td>\n",
       "      <td>2.000000</td>\n",
       "      <td>3.000000</td>\n",
       "      <td>8.000000</td>\n",
       "      <td>154.800000</td>\n",
       "    </tr>\n",
       "  </tbody>\n",
       "</table>\n",
       "</div>"
      ],
      "text/plain": [
       "           serial   Rim_PADUA  Sinus_PADUA  Polarlocation_PADUA  \\\n",
       "count  389.000000  389.000000   389.000000           389.000000   \n",
       "mean   202.228792    1.354756     1.318766             1.398458   \n",
       "std    116.730333    0.479055     0.466598             0.490211   \n",
       "min      1.000000    1.000000     1.000000             1.000000   \n",
       "25%    104.000000    1.000000     1.000000             1.000000   \n",
       "50%    202.000000    1.000000     1.000000             1.000000   \n",
       "75%    299.000000    2.000000     2.000000             2.000000   \n",
       "max    412.000000    2.000000     2.000000             2.000000   \n",
       "\n",
       "       Collectingsystem_PADUA  PADUA_total  Radius_RENAL_PADUA  \\\n",
       "count              389.000000   389.000000          389.000000   \n",
       "mean                 1.311054     8.460154            1.208226   \n",
       "std                  0.485253     1.682714            0.471162   \n",
       "min                  1.000000     6.000000            1.000000   \n",
       "25%                  1.000000     7.000000            1.000000   \n",
       "50%                  1.000000     8.000000            1.000000   \n",
       "75%                  2.000000     9.000000            1.000000   \n",
       "max                  3.000000    13.000000            3.000000   \n",
       "\n",
       "       Exophytic_RENAL_PADUA  Nearness_RENAL   APX_RENAL  Location_RENAL  \\\n",
       "count             389.000000      389.000000  389.000000      389.000000   \n",
       "mean                1.868895        1.920308    1.557841        1.799486   \n",
       "std                 0.718521        0.906064    0.497283        0.806481   \n",
       "min                 1.000000        1.000000    1.000000        1.000000   \n",
       "25%                 1.000000        1.000000    1.000000        1.000000   \n",
       "50%                 2.000000        2.000000    2.000000        2.000000   \n",
       "75%                 2.000000        3.000000    2.000000        2.000000   \n",
       "max                 3.000000        3.000000    2.000000        3.000000   \n",
       "\n",
       "       RENAL_total      RAIV_1  \n",
       "count   389.000000  389.000000  \n",
       "mean      4.989717   27.196144  \n",
       "std       1.428682   24.330815  \n",
       "min       3.000000    3.500000  \n",
       "25%       4.000000   10.800000  \n",
       "50%       5.000000   19.000000  \n",
       "75%       6.000000   35.100000  \n",
       "max       8.000000  154.800000  "
      ]
     },
     "execution_count": 15,
     "metadata": {},
     "output_type": "execute_result"
    }
   ],
   "source": [
    "merged_data_result.describe()\n",
    "# 데이터 분포이해"
   ]
  },
  {
   "cell_type": "code",
   "execution_count": 16,
   "metadata": {},
   "outputs": [],
   "source": [
    "# 이상치 제거(강의자료 15 인디언 당뇨병 예측 참고)"
   ]
  },
  {
   "cell_type": "markdown",
   "metadata": {},
   "source": [
    "# 상관관계"
   ]
  },
  {
   "cell_type": "code",
   "execution_count": 17,
   "metadata": {},
   "outputs": [
    {
     "data": {
      "image/png": "[encoded data removed]",
      "text/plain": [
       "<Figure size 1500x1000 with 16 Axes>"
      ]
     },
     "metadata": {},
     "output_type": "display_data"
    }
   ],
   "source": [
    "# 분포확인\n",
    "merged_data_result.hist(bins=10, figsize=(15,10))\n",
    "plt.show()"
   ]
  },
  {
   "cell_type": "code",
   "execution_count": 18,
   "metadata": {},
   "outputs": [
    {
     "data": {
      "text/plain": [
       "<Axes: >"
      ]
     },
     "execution_count": 18,
     "metadata": {},
     "output_type": "execute_result"
    },
    {
     "data": {
      "image/png": "[encoded data removed]",
      "text/plain": [
       "<Figure size 1000x800 with 2 Axes>"
      ]
     },
     "metadata": {},
     "output_type": "display_data"
    }
   ],
   "source": [
    "# corr() 함수이용해보기\n",
    "corr = merged_data_result.corr().round(1)\n",
    "sns.set(rc={'figure.figsize':(10,8)})\n",
    "sns.heatmap(data=corr, annot=True, cmap='bwr')"
   ]
  },
  {
   "cell_type": "code",
   "execution_count": 19,
   "metadata": {},
   "outputs": [],
   "source": [
    "# plt.figure(figsize=(12,6))\n",
    "# sns.pairplot(data=merged_data_result);"
   ]
  },
  {
   "cell_type": "markdown",
   "metadata": {},
   "source": [
    "# 데이터나누기"
   ]
  },
  {
   "cell_type": "code",
   "execution_count": 20,
   "metadata": {},
   "outputs": [],
   "source": [
    "from sklearn.model_selection import train_test_split\n",
    "\n",
    "X = merged_data_result.drop('RAIV_1', axis=1)  # 'RAIV_1' 열을 제외한 모든 열 선택\n",
    "y = merged_data_result['RAIV_1']\n",
    "\n",
    "X_train, X_test, y_train, y_test = train_test_split(X, y, test_size=0.2, random_state=42)"
   ]
  },
  {
   "cell_type": "code",
   "execution_count": 39,
   "metadata": {},
   "outputs": [
    {
     "data": {
      "application/vnd.plotly.v1+json": {
       "config": {
        "plotlyServerURL": "https://plot.ly"
       },
       "data": [
        {
         "alignmentgroup": "True",
         "bingroup": "x",
         "hovertemplate": "RAIV_1=%{x}<br>count=%{y}<extra></extra>",
         "legendgroup": "",
         "marker": {
          "color": "#636efa",
          "pattern": {
           "shape": ""
          }
         },
         "name": "",
         "offsetgroup": "",
         "orientation": "v",
         "showlegend": false,
         "type": "histogram",
         "x": [
          42.1,
          10.4,
          7.1,
          16.6,
          48.9,
          13,
          20.2,
          7.1,
          43.1,
          6.6,
          11,
          22.4,
          30.4,
          4.6,
          10.8,
          12.7,
          6.5,
          31.4,
          20.7,
          7.7,
          56.3,
          27.7,
          14.5,
          48.9,
          10.4,
          14.3,
          16.5,
          42.7,
          20.4,
          37.5,
          67.2,
          34.4,
          24.7,
          8.8,
          5.3,
          10.6,
          19.6,
          28.6,
          15.7,
          36.8,
          23.2,
          18.1,
          12,
          8.3,
          52.3,
          16.8,
          9.5,
          24.8,
          21.3,
          26.9,
          36.5,
          3.5,
          82.2,
          37,
          11.5,
          5.3,
          6.6,
          25.5,
          67.2,
          9.6,
          65.6,
          31.6,
          24.6,
          46.7,
          57.8,
          19.4,
          8.4,
          42.5,
          27.9,
          20.5,
          95.7,
          121.1,
          11.9,
          82.3,
          16.8,
          7.1,
          16.2,
          18.4,
          10.1,
          27.9,
          18.6,
          21.3,
          33.2,
          17.7,
          27.7,
          26.5,
          27.6,
          11,
          13.1,
          5.2,
          17.7,
          5.3,
          9.1,
          45.6,
          30.3,
          4.3,
          24.4,
          31.8,
          35.3,
          14.7,
          36.5,
          49.5,
          11.1,
          21.5,
          19.3,
          13.2,
          49.7,
          32.2,
          9,
          28.4,
          3.7,
          9.3,
          122.7,
          11.5,
          10.4,
          14.4,
          25.8,
          10.9,
          51.9,
          30.3,
          45,
          22.2,
          8.7,
          26.7,
          24.1,
          4.7,
          31.7,
          14.3,
          19.8,
          50.6,
          10.3,
          14.7,
          15.3,
          37.9,
          13.9,
          3.6,
          17.2,
          10.9,
          9.3,
          22.4,
          17.7,
          14.8,
          6.6,
          32.8,
          19.9,
          9.3,
          44.3,
          35.1,
          6.5,
          26.2,
          27.6,
          24.2,
          5.7,
          5.3,
          27.3,
          47.8,
          48.8,
          82.2,
          32.8,
          27.9,
          31.3,
          14.7,
          5.9,
          13.5,
          3.6,
          94.2,
          106,
          19.2,
          14.3,
          35.7,
          37.8,
          14,
          8.1,
          23,
          55.8,
          9,
          43.6,
          21.2,
          17.2,
          13.1,
          23.3,
          10.1,
          22.6,
          103.6,
          21.9,
          9.5,
          64.7,
          22.7,
          40.6,
          15,
          28,
          5.1,
          6.6,
          14.8,
          30.4,
          17,
          55.8,
          4.1,
          49.5,
          10.4,
          5.9,
          19.4,
          42.7,
          11.8,
          37.2,
          51.6,
          22.6,
          11.9,
          9,
          6.9,
          8.4,
          5.9,
          8.7,
          13.5,
          4.3,
          55.6,
          13.4,
          76.9,
          14,
          7.4,
          65.3,
          32.6,
          9.9,
          58.6,
          23,
          66.5,
          18.9,
          49.5,
          5.1,
          14,
          7.6,
          16.8,
          8.1,
          8.1,
          63.6,
          67.8,
          9.2,
          10.6,
          70.1,
          12.1,
          4.6,
          18.4,
          13.1,
          20.2,
          9.9,
          9.1,
          13.3,
          6.1,
          13.6,
          27.6,
          46.1,
          66.5,
          18.9,
          9.1,
          13.1,
          10.4,
          74.2,
          19.3,
          6.6,
          17.8,
          48.2,
          7.1,
          19,
          19.1,
          12.7,
          12,
          97.9,
          5.1,
          15,
          24,
          10.7,
          63.6,
          49.7,
          18.1,
          10.2,
          32.7,
          70.7,
          12.5,
          21.8,
          143.4,
          111.3,
          13,
          6.1,
          20.9,
          154.8,
          22.6,
          12.7,
          13.4,
          9.2,
          10.4,
          22.4,
          26.9,
          17.9,
          6.1,
          36,
          4.1,
          60.5,
          26.8,
          104.8,
          10.6,
          7.4,
          14.7,
          27.8,
          11.8,
          75.9,
          54.4,
          7.3,
          11.4,
          6.5,
          28.5,
          33.4
         ],
         "xaxis": "x",
         "yaxis": "y"
        }
       ],
       "layout": {
        "barmode": "relative",
        "legend": {
         "tracegroupgap": 0
        },
        "margin": {
         "t": 60
        },
        "template": {
         "data": {
          "bar": [
           {
            "error_x": {
             "color": "#2a3f5f"
            },
            "error_y": {
             "color": "#2a3f5f"
            },
            "marker": {
             "line": {
              "color": "#E5ECF6",
              "width": 0.5
             },
             "pattern": {
              "fillmode": "overlay",
              "size": 10,
              "solidity": 0.2
             }
            },
            "type": "bar"
           }
          ],
          "barpolar": [
           {
            "marker": {
             "line": {
              "color": "#E5ECF6",
              "width": 0.5
             },
             "pattern": {
              "fillmode": "overlay",
              "size": 10,
              "solidity": 0.2
             }
            },
            "type": "barpolar"
           }
          ],
          "carpet": [
           {
            "aaxis": {
             "endlinecolor": "#2a3f5f",
             "gridcolor": "white",
             "linecolor": "white",
             "minorgridcolor": "white",
             "startlinecolor": "#2a3f5f"
            },
            "baxis": {
             "endlinecolor": "#2a3f5f",
             "gridcolor": "white",
             "linecolor": "white",
             "minorgridcolor": "white",
             "startlinecolor": "#2a3f5f"
            },
            "type": "carpet"
           }
          ],
          "choropleth": [
           {
            "colorbar": {
             "outlinewidth": 0,
             "ticks": ""
            },
            "type": "choropleth"
           }
          ],
          "contour": [
           {
            "colorbar": {
             "outlinewidth": 0,
             "ticks": ""
            },
            "colorscale": [
             [
              0,
              "#0d0887"
             ],
             [
              0.1111111111111111,
              "#46039f"
             ],
             [
              0.2222222222222222,
              "#7201a8"
             ],
             [
              0.3333333333333333,
              "#9c179e"
             ],
             [
              0.4444444444444444,
              "#bd3786"
             ],
             [
              0.5555555555555556,
              "#d8576b"
             ],
             [
              0.6666666666666666,
              "#ed7953"
             ],
             [
              0.7777777777777778,
              "#fb9f3a"
             ],
             [
              0.8888888888888888,
              "#fdca26"
             ],
             [
              1,
              "#f0f921"
             ]
            ],
            "type": "contour"
           }
          ],
          "contourcarpet": [
           {
            "colorbar": {
             "outlinewidth": 0,
             "ticks": ""
            },
            "type": "contourcarpet"
           }
          ],
          "heatmap": [
           {
            "colorbar": {
             "outlinewidth": 0,
             "ticks": ""
            },
            "colorscale": [
             [
              0,
              "#0d0887"
             ],
             [
              0.1111111111111111,
              "#46039f"
             ],
             [
              0.2222222222222222,
              "#7201a8"
             ],
             [
              0.3333333333333333,
              "#9c179e"
             ],
             [
              0.4444444444444444,
              "#bd3786"
             ],
             [
              0.5555555555555556,
              "#d8576b"
             ],
             [
              0.6666666666666666,
              "#ed7953"
             ],
             [
              0.7777777777777778,
              "#fb9f3a"
             ],
             [
              0.8888888888888888,
              "#fdca26"
             ],
             [
              1,
              "#f0f921"
             ]
            ],
            "type": "heatmap"
           }
          ],
          "heatmapgl": [
           {
            "colorbar": {
             "outlinewidth": 0,
             "ticks": ""
            },
            "colorscale": [
             [
              0,
              "#0d0887"
             ],
             [
              0.1111111111111111,
              "#46039f"
             ],
             [
              0.2222222222222222,
              "#7201a8"
             ],
             [
              0.3333333333333333,
              "#9c179e"
             ],
             [
              0.4444444444444444,
              "#bd3786"
             ],
             [
              0.5555555555555556,
              "#d8576b"
             ],
             [
              0.6666666666666666,
              "#ed7953"
             ],
             [
              0.7777777777777778,
              "#fb9f3a"
             ],
             [
              0.8888888888888888,
              "#fdca26"
             ],
             [
              1,
              "#f0f921"
             ]
            ],
            "type": "heatmapgl"
           }
          ],
          "histogram": [
           {
            "marker": {
             "pattern": {
              "fillmode": "overlay",
              "size": 10,
              "solidity": 0.2
             }
            },
            "type": "histogram"
           }
          ],
          "histogram2d": [
           {
            "colorbar": {
             "outlinewidth": 0,
             "ticks": ""
            },
            "colorscale": [
             [
              0,
              "#0d0887"
             ],
             [
              0.1111111111111111,
              "#46039f"
             ],
             [
              0.2222222222222222,
              "#7201a8"
             ],
             [
              0.3333333333333333,
              "#9c179e"
             ],
             [
              0.4444444444444444,
              "#bd3786"
             ],
             [
              0.5555555555555556,
              "#d8576b"
             ],
             [
              0.6666666666666666,
              "#ed7953"
             ],
             [
              0.7777777777777778,
              "#fb9f3a"
             ],
             [
              0.8888888888888888,
              "#fdca26"
             ],
             [
              1,
              "#f0f921"
             ]
            ],
            "type": "histogram2d"
           }
          ],
          "histogram2dcontour": [
           {
            "colorbar": {
             "outlinewidth": 0,
             "ticks": ""
            },
            "colorscale": [
             [
              0,
              "#0d0887"
             ],
             [
              0.1111111111111111,
              "#46039f"
             ],
             [
              0.2222222222222222,
              "#7201a8"
             ],
             [
              0.3333333333333333,
              "#9c179e"
             ],
             [
              0.4444444444444444,
              "#bd3786"
             ],
             [
              0.5555555555555556,
              "#d8576b"
             ],
             [
              0.6666666666666666,
              "#ed7953"
             ],
             [
              0.7777777777777778,
              "#fb9f3a"
             ],
             [
              0.8888888888888888,
              "#fdca26"
             ],
             [
              1,
              "#f0f921"
             ]
            ],
            "type": "histogram2dcontour"
           }
          ],
          "mesh3d": [
           {
            "colorbar": {
             "outlinewidth": 0,
             "ticks": ""
            },
            "type": "mesh3d"
           }
          ],
          "parcoords": [
           {
            "line": {
             "colorbar": {
              "outlinewidth": 0,
              "ticks": ""
             }
            },
            "type": "parcoords"
           }
          ],
          "pie": [
           {
            "automargin": true,
            "type": "pie"
           }
          ],
          "scatter": [
           {
            "fillpattern": {
             "fillmode": "overlay",
             "size": 10,
             "solidity": 0.2
            },
            "type": "scatter"
           }
          ],
          "scatter3d": [
           {
            "line": {
             "colorbar": {
              "outlinewidth": 0,
              "ticks": ""
             }
            },
            "marker": {
             "colorbar": {
              "outlinewidth": 0,
              "ticks": ""
             }
            },
            "type": "scatter3d"
           }
          ],
          "scattercarpet": [
           {
            "marker": {
             "colorbar": {
              "outlinewidth": 0,
              "ticks": ""
             }
            },
            "type": "scattercarpet"
           }
          ],
          "scattergeo": [
           {
            "marker": {
             "colorbar": {
              "outlinewidth": 0,
              "ticks": ""
             }
            },
            "type": "scattergeo"
           }
          ],
          "scattergl": [
           {
            "marker": {
             "colorbar": {
              "outlinewidth": 0,
              "ticks": ""
             }
            },
            "type": "scattergl"
           }
          ],
          "scattermapbox": [
           {
            "marker": {
             "colorbar": {
              "outlinewidth": 0,
              "ticks": ""
             }
            },
            "type": "scattermapbox"
           }
          ],
          "scatterpolar": [
           {
            "marker": {
             "colorbar": {
              "outlinewidth": 0,
              "ticks": ""
             }
            },
            "type": "scatterpolar"
           }
          ],
          "scatterpolargl": [
           {
            "marker": {
             "colorbar": {
              "outlinewidth": 0,
              "ticks": ""
             }
            },
            "type": "scatterpolargl"
           }
          ],
          "scatterternary": [
           {
            "marker": {
             "colorbar": {
              "outlinewidth": 0,
              "ticks": ""
             }
            },
            "type": "scatterternary"
           }
          ],
          "surface": [
           {
            "colorbar": {
             "outlinewidth": 0,
             "ticks": ""
            },
            "colorscale": [
             [
              0,
              "#0d0887"
             ],
             [
              0.1111111111111111,
              "#46039f"
             ],
             [
              0.2222222222222222,
              "#7201a8"
             ],
             [
              0.3333333333333333,
              "#9c179e"
             ],
             [
              0.4444444444444444,
              "#bd3786"
             ],
             [
              0.5555555555555556,
              "#d8576b"
             ],
             [
              0.6666666666666666,
              "#ed7953"
             ],
             [
              0.7777777777777778,
              "#fb9f3a"
             ],
             [
              0.8888888888888888,
              "#fdca26"
             ],
             [
              1,
              "#f0f921"
             ]
            ],
            "type": "surface"
           }
          ],
          "table": [
           {
            "cells": {
             "fill": {
              "color": "#EBF0F8"
             },
             "line": {
              "color": "white"
             }
            },
            "header": {
             "fill": {
              "color": "#C8D4E3"
             },
             "line": {
              "color": "white"
             }
            },
            "type": "table"
           }
          ]
         },
         "layout": {
          "annotationdefaults": {
           "arrowcolor": "#2a3f5f",
           "arrowhead": 0,
           "arrowwidth": 1
          },
          "autotypenumbers": "strict",
          "coloraxis": {
           "colorbar": {
            "outlinewidth": 0,
            "ticks": ""
           }
          },
          "colorscale": {
           "diverging": [
            [
             0,
             "#8e0152"
            ],
            [
             0.1,
             "#c51b7d"
            ],
            [
             0.2,
             "#de77ae"
            ],
            [
             0.3,
             "#f1b6da"
            ],
            [
             0.4,
             "#fde0ef"
            ],
            [
             0.5,
             "#f7f7f7"
            ],
            [
             0.6,
             "#e6f5d0"
            ],
            [
             0.7,
             "#b8e186"
            ],
            [
             0.8,
             "#7fbc41"
            ],
            [
             0.9,
             "#4d9221"
            ],
            [
             1,
             "#276419"
            ]
           ],
           "sequential": [
            [
             0,
             "#0d0887"
            ],
            [
             0.1111111111111111,
             "#46039f"
            ],
            [
             0.2222222222222222,
             "#7201a8"
            ],
            [
             0.3333333333333333,
             "#9c179e"
            ],
            [
             0.4444444444444444,
             "#bd3786"
            ],
            [
             0.5555555555555556,
             "#d8576b"
            ],
            [
             0.6666666666666666,
             "#ed7953"
            ],
            [
             0.7777777777777778,
             "#fb9f3a"
            ],
            [
             0.8888888888888888,
             "#fdca26"
            ],
            [
             1,
             "#f0f921"
            ]
           ],
           "sequentialminus": [
            [
             0,
             "#0d0887"
            ],
            [
             0.1111111111111111,
             "#46039f"
            ],
            [
             0.2222222222222222,
             "#7201a8"
            ],
            [
             0.3333333333333333,
             "#9c179e"
            ],
            [
             0.4444444444444444,
             "#bd3786"
            ],
            [
             0.5555555555555556,
             "#d8576b"
            ],
            [
             0.6666666666666666,
             "#ed7953"
            ],
            [
             0.7777777777777778,
             "#fb9f3a"
            ],
            [
             0.8888888888888888,
             "#fdca26"
            ],
            [
             1,
             "#f0f921"
            ]
           ]
          },
          "colorway": [
           "#636efa",
           "#EF553B",
           "#00cc96",
           "#ab63fa",
           "#FFA15A",
           "#19d3f3",
           "#FF6692",
           "#B6E880",
           "#FF97FF",
           "#FECB52"
          ],
          "font": {
           "color": "#2a3f5f"
          },
          "geo": {
           "bgcolor": "white",
           "lakecolor": "white",
           "landcolor": "#E5ECF6",
           "showlakes": true,
           "showland": true,
           "subunitcolor": "white"
          },
          "hoverlabel": {
           "align": "left"
          },
          "hovermode": "closest",
          "mapbox": {
           "style": "light"
          },
          "paper_bgcolor": "white",
          "plot_bgcolor": "#E5ECF6",
          "polar": {
           "angularaxis": {
            "gridcolor": "white",
            "linecolor": "white",
            "ticks": ""
           },
           "bgcolor": "#E5ECF6",
           "radialaxis": {
            "gridcolor": "white",
            "linecolor": "white",
            "ticks": ""
           }
          },
          "scene": {
           "xaxis": {
            "backgroundcolor": "#E5ECF6",
            "gridcolor": "white",
            "gridwidth": 2,
            "linecolor": "white",
            "showbackground": true,
            "ticks": "",
            "zerolinecolor": "white"
           },
           "yaxis": {
            "backgroundcolor": "#E5ECF6",
            "gridcolor": "white",
            "gridwidth": 2,
            "linecolor": "white",
            "showbackground": true,
            "ticks": "",
            "zerolinecolor": "white"
           },
           "zaxis": {
            "backgroundcolor": "#E5ECF6",
            "gridcolor": "white",
            "gridwidth": 2,
            "linecolor": "white",
            "showbackground": true,
            "ticks": "",
            "zerolinecolor": "white"
           }
          },
          "shapedefaults": {
           "line": {
            "color": "#2a3f5f"
           }
          },
          "ternary": {
           "aaxis": {
            "gridcolor": "white",
            "linecolor": "white",
            "ticks": ""
           },
           "baxis": {
            "gridcolor": "white",
            "linecolor": "white",
            "ticks": ""
           },
           "bgcolor": "#E5ECF6",
           "caxis": {
            "gridcolor": "white",
            "linecolor": "white",
            "ticks": ""
           }
          },
          "title": {
           "x": 0.05
          },
          "xaxis": {
           "automargin": true,
           "gridcolor": "white",
           "linecolor": "white",
           "ticks": "",
           "title": {
            "standoff": 15
           },
           "zerolinecolor": "white",
           "zerolinewidth": 2
          },
          "yaxis": {
           "automargin": true,
           "gridcolor": "white",
           "linecolor": "white",
           "ticks": "",
           "title": {
            "standoff": 15
           },
           "zerolinecolor": "white",
           "zerolinewidth": 2
          }
         }
        },
        "xaxis": {
         "anchor": "y",
         "domain": [
          0,
          1
         ],
         "title": {
          "text": "RAIV_1"
         }
        },
        "yaxis": {
         "anchor": "x",
         "domain": [
          0,
          1
         ],
         "title": {
          "text": "count"
         }
        }
       }
      }
     },
     "metadata": {},
     "output_type": "display_data"
    }
   ],
   "source": [
    "# y값 뷸균형 확인하기\n",
    "import plotly.express as px\n",
    "\n",
    "fig=px.histogram(y_train, x='RAIV_1')\n",
    "fig.show()"
   ]
  },
  {
   "cell_type": "code",
   "execution_count": 38,
   "metadata": {},
   "outputs": [
    {
     "data": {
      "application/vnd.plotly.v1+json": {
       "config": {
        "plotlyServerURL": "https://plot.ly"
       },
       "data": [
        {
         "alignmentgroup": "True",
         "bingroup": "x",
         "hovertemplate": "RAIV_1=%{x}<br>count=%{y}<extra></extra>",
         "legendgroup": "",
         "marker": {
          "color": "#636efa",
          "pattern": {
           "shape": ""
          }
         },
         "name": "",
         "offsetgroup": "",
         "orientation": "v",
         "showlegend": false,
         "type": "histogram",
         "x": [
          21.8,
          17.9,
          8.1,
          30.4,
          60.5,
          13.1,
          14.2,
          45.6,
          6.7,
          15.2,
          16.8,
          24,
          28.8,
          55.6,
          9.9,
          29.1,
          85.4,
          36.5,
          12.3,
          51.1,
          30.5,
          14.9,
          93.6,
          13.4,
          55.6,
          8.6,
          12.6,
          16.1,
          43.9,
          11.2,
          6.1,
          51.1,
          20.6,
          20.6,
          15.3,
          7.1,
          57.8,
          29.1,
          88.5,
          15,
          5.1,
          22.6,
          52.6,
          9.6,
          23.7,
          42.1,
          21.6,
          10.9,
          6.6,
          11.7,
          12.8,
          46.2,
          25.8,
          24.7,
          10.8,
          16.8,
          8.8,
          21.8,
          46,
          10.1,
          18.1,
          36.5,
          11.9,
          15.3,
          7.1,
          18.5,
          74.6,
          14,
          74.6,
          6.5,
          57.7,
          4.6,
          56.3,
          19.7,
          114,
          36.5,
          14.1,
          19.4
         ],
         "xaxis": "x",
         "yaxis": "y"
        }
       ],
       "layout": {
        "barmode": "relative",
        "legend": {
         "tracegroupgap": 0
        },
        "margin": {
         "t": 60
        },
        "template": {
         "data": {
          "bar": [
           {
            "error_x": {
             "color": "#2a3f5f"
            },
            "error_y": {
             "color": "#2a3f5f"
            },
            "marker": {
             "line": {
              "color": "#E5ECF6",
              "width": 0.5
             },
             "pattern": {
              "fillmode": "overlay",
              "size": 10,
              "solidity": 0.2
             }
            },
            "type": "bar"
           }
          ],
          "barpolar": [
           {
            "marker": {
             "line": {
              "color": "#E5ECF6",
              "width": 0.5
             },
             "pattern": {
              "fillmode": "overlay",
              "size": 10,
              "solidity": 0.2
             }
            },
            "type": "barpolar"
           }
          ],
          "carpet": [
           {
            "aaxis": {
             "endlinecolor": "#2a3f5f",
             "gridcolor": "white",
             "linecolor": "white",
             "minorgridcolor": "white",
             "startlinecolor": "#2a3f5f"
            },
            "baxis": {
             "endlinecolor": "#2a3f5f",
             "gridcolor": "white",
             "linecolor": "white",
             "minorgridcolor": "white",
             "startlinecolor": "#2a3f5f"
            },
            "type": "carpet"
           }
          ],
          "choropleth": [
           {
            "colorbar": {
             "outlinewidth": 0,
             "ticks": ""
            },
            "type": "choropleth"
           }
          ],
          "contour": [
           {
            "colorbar": {
             "outlinewidth": 0,
             "ticks": ""
            },
            "colorscale": [
             [
              0,
              "#0d0887"
             ],
             [
              0.1111111111111111,
              "#46039f"
             ],
             [
              0.2222222222222222,
              "#7201a8"
             ],
             [
              0.3333333333333333,
              "#9c179e"
             ],
             [
              0.4444444444444444,
              "#bd3786"
             ],
             [
              0.5555555555555556,
              "#d8576b"
             ],
             [
              0.6666666666666666,
              "#ed7953"
             ],
             [
              0.7777777777777778,
              "#fb9f3a"
             ],
             [
              0.8888888888888888,
              "#fdca26"
             ],
             [
              1,
              "#f0f921"
             ]
            ],
            "type": "contour"
           }
          ],
          "contourcarpet": [
           {
            "colorbar": {
             "outlinewidth": 0,
             "ticks": ""
            },
            "type": "contourcarpet"
           }
          ],
          "heatmap": [
           {
            "colorbar": {
             "outlinewidth": 0,
             "ticks": ""
            },
            "colorscale": [
             [
              0,
              "#0d0887"
             ],
             [
              0.1111111111111111,
              "#46039f"
             ],
             [
              0.2222222222222222,
              "#7201a8"
             ],
             [
              0.3333333333333333,
              "#9c179e"
             ],
             [
              0.4444444444444444,
              "#bd3786"
             ],
             [
              0.5555555555555556,
              "#d8576b"
             ],
             [
              0.6666666666666666,
              "#ed7953"
             ],
             [
              0.7777777777777778,
              "#fb9f3a"
             ],
             [
              0.8888888888888888,
              "#fdca26"
             ],
             [
              1,
              "#f0f921"
             ]
            ],
            "type": "heatmap"
           }
          ],
          "heatmapgl": [
           {
            "colorbar": {
             "outlinewidth": 0,
             "ticks": ""
            },
            "colorscale": [
             [
              0,
              "#0d0887"
             ],
             [
              0.1111111111111111,
              "#46039f"
             ],
             [
              0.2222222222222222,
              "#7201a8"
             ],
             [
              0.3333333333333333,
              "#9c179e"
             ],
             [
              0.4444444444444444,
              "#bd3786"
             ],
             [
              0.5555555555555556,
              "#d8576b"
             ],
             [
              0.6666666666666666,
              "#ed7953"
             ],
             [
              0.7777777777777778,
              "#fb9f3a"
             ],
             [
              0.8888888888888888,
              "#fdca26"
             ],
             [
              1,
              "#f0f921"
             ]
            ],
            "type": "heatmapgl"
           }
          ],
          "histogram": [
           {
            "marker": {
             "pattern": {
              "fillmode": "overlay",
              "size": 10,
              "solidity": 0.2
             }
            },
            "type": "histogram"
           }
          ],
          "histogram2d": [
           {
            "colorbar": {
             "outlinewidth": 0,
             "ticks": ""
            },
            "colorscale": [
             [
              0,
              "#0d0887"
             ],
             [
              0.1111111111111111,
              "#46039f"
             ],
             [
              0.2222222222222222,
              "#7201a8"
             ],
             [
              0.3333333333333333,
              "#9c179e"
             ],
             [
              0.4444444444444444,
              "#bd3786"
             ],
             [
              0.5555555555555556,
              "#d8576b"
             ],
             [
              0.6666666666666666,
              "#ed7953"
             ],
             [
              0.7777777777777778,
              "#fb9f3a"
             ],
             [
              0.8888888888888888,
              "#fdca26"
             ],
             [
              1,
              "#f0f921"
             ]
            ],
            "type": "histogram2d"
           }
          ],
          "histogram2dcontour": [
           {
            "colorbar": {
             "outlinewidth": 0,
             "ticks": ""
            },
            "colorscale": [
             [
              0,
              "#0d0887"
             ],
             [
              0.1111111111111111,
              "#46039f"
             ],
             [
              0.2222222222222222,
              "#7201a8"
             ],
             [
              0.3333333333333333,
              "#9c179e"
             ],
             [
              0.4444444444444444,
              "#bd3786"
             ],
             [
              0.5555555555555556,
              "#d8576b"
             ],
             [
              0.6666666666666666,
              "#ed7953"
             ],
             [
              0.7777777777777778,
              "#fb9f3a"
             ],
             [
              0.8888888888888888,
              "#fdca26"
             ],
             [
              1,
              "#f0f921"
             ]
            ],
            "type": "histogram2dcontour"
           }
          ],
          "mesh3d": [
           {
            "colorbar": {
             "outlinewidth": 0,
             "ticks": ""
            },
            "type": "mesh3d"
           }
          ],
          "parcoords": [
           {
            "line": {
             "colorbar": {
              "outlinewidth": 0,
              "ticks": ""
             }
            },
            "type": "parcoords"
           }
          ],
          "pie": [
           {
            "automargin": true,
            "type": "pie"
           }
          ],
          "scatter": [
           {
            "fillpattern": {
             "fillmode": "overlay",
             "size": 10,
             "solidity": 0.2
            },
            "type": "scatter"
           }
          ],
          "scatter3d": [
           {
            "line": {
             "colorbar": {
              "outlinewidth": 0,
              "ticks": ""
             }
            },
            "marker": {
             "colorbar": {
              "outlinewidth": 0,
              "ticks": ""
             }
            },
            "type": "scatter3d"
           }
          ],
          "scattercarpet": [
           {
            "marker": {
             "colorbar": {
              "outlinewidth": 0,
              "ticks": ""
             }
            },
            "type": "scattercarpet"
           }
          ],
          "scattergeo": [
           {
            "marker": {
             "colorbar": {
              "outlinewidth": 0,
              "ticks": ""
             }
            },
            "type": "scattergeo"
           }
          ],
          "scattergl": [
           {
            "marker": {
             "colorbar": {
              "outlinewidth": 0,
              "ticks": ""
             }
            },
            "type": "scattergl"
           }
          ],
          "scattermapbox": [
           {
            "marker": {
             "colorbar": {
              "outlinewidth": 0,
              "ticks": ""
             }
            },
            "type": "scattermapbox"
           }
          ],
          "scatterpolar": [
           {
            "marker": {
             "colorbar": {
              "outlinewidth": 0,
              "ticks": ""
             }
            },
            "type": "scatterpolar"
           }
          ],
          "scatterpolargl": [
           {
            "marker": {
             "colorbar": {
              "outlinewidth": 0,
              "ticks": ""
             }
            },
            "type": "scatterpolargl"
           }
          ],
          "scatterternary": [
           {
            "marker": {
             "colorbar": {
              "outlinewidth": 0,
              "ticks": ""
             }
            },
            "type": "scatterternary"
           }
          ],
          "surface": [
           {
            "colorbar": {
             "outlinewidth": 0,
             "ticks": ""
            },
            "colorscale": [
             [
              0,
              "#0d0887"
             ],
             [
              0.1111111111111111,
              "#46039f"
             ],
             [
              0.2222222222222222,
              "#7201a8"
             ],
             [
              0.3333333333333333,
              "#9c179e"
             ],
             [
              0.4444444444444444,
              "#bd3786"
             ],
             [
              0.5555555555555556,
              "#d8576b"
             ],
             [
              0.6666666666666666,
              "#ed7953"
             ],
             [
              0.7777777777777778,
              "#fb9f3a"
             ],
             [
              0.8888888888888888,
              "#fdca26"
             ],
             [
              1,
              "#f0f921"
             ]
            ],
            "type": "surface"
           }
          ],
          "table": [
           {
            "cells": {
             "fill": {
              "color": "#EBF0F8"
             },
             "line": {
              "color": "white"
             }
            },
            "header": {
             "fill": {
              "color": "#C8D4E3"
             },
             "line": {
              "color": "white"
             }
            },
            "type": "table"
           }
          ]
         },
         "layout": {
          "annotationdefaults": {
           "arrowcolor": "#2a3f5f",
           "arrowhead": 0,
           "arrowwidth": 1
          },
          "autotypenumbers": "strict",
          "coloraxis": {
           "colorbar": {
            "outlinewidth": 0,
            "ticks": ""
           }
          },
          "colorscale": {
           "diverging": [
            [
             0,
             "#8e0152"
            ],
            [
             0.1,
             "#c51b7d"
            ],
            [
             0.2,
             "#de77ae"
            ],
            [
             0.3,
             "#f1b6da"
            ],
            [
             0.4,
             "#fde0ef"
            ],
            [
             0.5,
             "#f7f7f7"
            ],
            [
             0.6,
             "#e6f5d0"
            ],
            [
             0.7,
             "#b8e186"
            ],
            [
             0.8,
             "#7fbc41"
            ],
            [
             0.9,
             "#4d9221"
            ],
            [
             1,
             "#276419"
            ]
           ],
           "sequential": [
            [
             0,
             "#0d0887"
            ],
            [
             0.1111111111111111,
             "#46039f"
            ],
            [
             0.2222222222222222,
             "#7201a8"
            ],
            [
             0.3333333333333333,
             "#9c179e"
            ],
            [
             0.4444444444444444,
             "#bd3786"
            ],
            [
             0.5555555555555556,
             "#d8576b"
            ],
            [
             0.6666666666666666,
             "#ed7953"
            ],
            [
             0.7777777777777778,
             "#fb9f3a"
            ],
            [
             0.8888888888888888,
             "#fdca26"
            ],
            [
             1,
             "#f0f921"
            ]
           ],
           "sequentialminus": [
            [
             0,
             "#0d0887"
            ],
            [
             0.1111111111111111,
             "#46039f"
            ],
            [
             0.2222222222222222,
             "#7201a8"
            ],
            [
             0.3333333333333333,
             "#9c179e"
            ],
            [
             0.4444444444444444,
             "#bd3786"
            ],
            [
             0.5555555555555556,
             "#d8576b"
            ],
            [
             0.6666666666666666,
             "#ed7953"
            ],
            [
             0.7777777777777778,
             "#fb9f3a"
            ],
            [
             0.8888888888888888,
             "#fdca26"
            ],
            [
             1,
             "#f0f921"
            ]
           ]
          },
          "colorway": [
           "#636efa",
           "#EF553B",
           "#00cc96",
           "#ab63fa",
           "#FFA15A",
           "#19d3f3",
           "#FF6692",
           "#B6E880",
           "#FF97FF",
           "#FECB52"
          ],
          "font": {
           "color": "#2a3f5f"
          },
          "geo": {
           "bgcolor": "white",
           "lakecolor": "white",
           "landcolor": "#E5ECF6",
           "showlakes": true,
           "showland": true,
           "subunitcolor": "white"
          },
          "hoverlabel": {
           "align": "left"
          },
          "hovermode": "closest",
          "mapbox": {
           "style": "light"
          },
          "paper_bgcolor": "white",
          "plot_bgcolor": "#E5ECF6",
          "polar": {
           "angularaxis": {
            "gridcolor": "white",
            "linecolor": "white",
            "ticks": ""
           },
           "bgcolor": "#E5ECF6",
           "radialaxis": {
            "gridcolor": "white",
            "linecolor": "white",
            "ticks": ""
           }
          },
          "scene": {
           "xaxis": {
            "backgroundcolor": "#E5ECF6",
            "gridcolor": "white",
            "gridwidth": 2,
            "linecolor": "white",
            "showbackground": true,
            "ticks": "",
            "zerolinecolor": "white"
           },
           "yaxis": {
            "backgroundcolor": "#E5ECF6",
            "gridcolor": "white",
            "gridwidth": 2,
            "linecolor": "white",
            "showbackground": true,
            "ticks": "",
            "zerolinecolor": "white"
           },
           "zaxis": {
            "backgroundcolor": "#E5ECF6",
            "gridcolor": "white",
            "gridwidth": 2,
            "linecolor": "white",
            "showbackground": true,
            "ticks": "",
            "zerolinecolor": "white"
           }
          },
          "shapedefaults": {
           "line": {
            "color": "#2a3f5f"
           }
          },
          "ternary": {
           "aaxis": {
            "gridcolor": "white",
            "linecolor": "white",
            "ticks": ""
           },
           "baxis": {
            "gridcolor": "white",
            "linecolor": "white",
            "ticks": ""
           },
           "bgcolor": "#E5ECF6",
           "caxis": {
            "gridcolor": "white",
            "linecolor": "white",
            "ticks": ""
           }
          },
          "title": {
           "x": 0.05
          },
          "xaxis": {
           "automargin": true,
           "gridcolor": "white",
           "linecolor": "white",
           "ticks": "",
           "title": {
            "standoff": 15
           },
           "zerolinecolor": "white",
           "zerolinewidth": 2
          },
          "yaxis": {
           "automargin": true,
           "gridcolor": "white",
           "linecolor": "white",
           "ticks": "",
           "title": {
            "standoff": 15
           },
           "zerolinecolor": "white",
           "zerolinewidth": 2
          }
         }
        },
        "xaxis": {
         "anchor": "y",
         "domain": [
          0,
          1
         ],
         "title": {
          "text": "RAIV_1"
         }
        },
        "yaxis": {
         "anchor": "x",
         "domain": [
          0,
          1
         ],
         "title": {
          "text": "count"
         }
        }
       }
      }
     },
     "metadata": {},
     "output_type": "display_data"
    }
   ],
   "source": [
    "# y값 뷸균형 확인하기\n",
    "import plotly.express as px\n",
    "\n",
    "fig=px.histogram(y_test, x='RAIV_1')\n",
    "fig.show()"
   ]
  },
  {
   "cell_type": "code",
   "execution_count": 22,
   "metadata": {},
   "outputs": [],
   "source": [
    "from sklearn.ensemble import (AdaBoostRegressor, GradientBoostingRegressor, RandomForestRegressor)\n",
    "from sklearn.tree import DecisionTreeRegressor\n",
    "from sklearn.linear_model import LinearRegression\n",
    "from xgboost import XGBRegressor\n",
    "\n",
    "models=[]\n",
    "models.append(('AdaBoostRegressor',AdaBoostRegressor()))\n",
    "models.append(('GradientBoostingRegressor',GradientBoostingRegressor()))\n",
    "models.append(('RandomForestRegressor',RandomForestRegressor()))\n",
    "models.append(('DecisionTreeRegressor',DecisionTreeRegressor()))\n",
    "models.append(('XGBoostRegressor', XGBRegressor()))"
   ]
  },
  {
   "cell_type": "code",
   "execution_count": 23,
   "metadata": {},
   "outputs": [
    {
     "data": {
      "text/html": [
       "<div>\n",
       "<style scoped>\n",
       "    .dataframe tbody tr th:only-of-type {\n",
       "        vertical-align: middle;\n",
       "    }\n",
       "\n",
       "    .dataframe tbody tr th {\n",
       "        vertical-align: top;\n",
       "    }\n",
       "\n",
       "    .dataframe thead th {\n",
       "        text-align: right;\n",
       "    }\n",
       "</style>\n",
       "<table border=\"1\" class=\"dataframe\">\n",
       "  <thead>\n",
       "    <tr style=\"text-align: right;\">\n",
       "      <th></th>\n",
       "      <th>Model</th>\n",
       "      <th>train R^2</th>\n",
       "      <th>test R^2</th>\n",
       "      <th>train MSE</th>\n",
       "      <th>test MSE</th>\n",
       "    </tr>\n",
       "  </thead>\n",
       "  <tbody>\n",
       "    <tr>\n",
       "      <th>0</th>\n",
       "      <td>AdaBoostRegressor</td>\n",
       "      <td>0.413328</td>\n",
       "      <td>0.094668</td>\n",
       "      <td>352.875241</td>\n",
       "      <td>492.816752</td>\n",
       "    </tr>\n",
       "    <tr>\n",
       "      <th>1</th>\n",
       "      <td>GradientBoostingRegressor</td>\n",
       "      <td>0.839133</td>\n",
       "      <td>0.168241</td>\n",
       "      <td>96.759476</td>\n",
       "      <td>452.767643</td>\n",
       "    </tr>\n",
       "    <tr>\n",
       "      <th>2</th>\n",
       "      <td>RandomForestRegressor</td>\n",
       "      <td>0.893151</td>\n",
       "      <td>0.285803</td>\n",
       "      <td>64.268249</td>\n",
       "      <td>388.772608</td>\n",
       "    </tr>\n",
       "    <tr>\n",
       "      <th>3</th>\n",
       "      <td>DecisionTreeRegressor</td>\n",
       "      <td>1.000000</td>\n",
       "      <td>-0.468565</td>\n",
       "      <td>0.000000</td>\n",
       "      <td>799.412179</td>\n",
       "    </tr>\n",
       "    <tr>\n",
       "      <th>4</th>\n",
       "      <td>XGBoostRegressor</td>\n",
       "      <td>0.999016</td>\n",
       "      <td>-0.157997</td>\n",
       "      <td>0.591970</td>\n",
       "      <td>630.354838</td>\n",
       "    </tr>\n",
       "  </tbody>\n",
       "</table>\n",
       "</div>"
      ],
      "text/plain": [
       "                       Model  train R^2  test R^2   train MSE    test MSE\n",
       "0          AdaBoostRegressor   0.413328  0.094668  352.875241  492.816752\n",
       "1  GradientBoostingRegressor   0.839133  0.168241   96.759476  452.767643\n",
       "2      RandomForestRegressor   0.893151  0.285803   64.268249  388.772608\n",
       "3      DecisionTreeRegressor   1.000000 -0.468565    0.000000  799.412179\n",
       "4           XGBoostRegressor   0.999016 -0.157997    0.591970  630.354838"
      ]
     },
     "execution_count": 23,
     "metadata": {},
     "output_type": "execute_result"
    }
   ],
   "source": [
    "from sklearn.metrics import r2_score, mean_squared_error\n",
    "\n",
    "tr_result_r2 = []\n",
    "test__result_r2 = []\n",
    "tr_result_mse = []\n",
    "test_result_mse = []\n",
    "names = []\n",
    "\n",
    "for name, model in models:\n",
    "    # 모델 훈련\n",
    "    model.fit(X_train, y_train)\n",
    "\n",
    "    # 예측\n",
    "    pred_tr = model.predict(X_train)\n",
    "    pred_test = model.predict(X_test)\n",
    "\n",
    "    # R^2 계산\n",
    "    r2_tr = r2_score(y_train, pred_tr)\n",
    "    r2_test = r2_score(y_test, pred_test)\n",
    "    tr_result_r2.append(r2_tr)\n",
    "    test__result_r2.append(r2_test)\n",
    "\n",
    "    # Mean Squared Error 계산\n",
    "    mse_tr = mean_squared_error(y_train, pred_tr)\n",
    "    mse_test = mean_squared_error(y_test, pred_test)\n",
    "    tr_result_mse.append(mse_tr)\n",
    "    test_result_mse.append(mse_test)\n",
    "\n",
    "    names.append(name)\n",
    "\n",
    "result_pd = pd.DataFrame({\n",
    "    'Model':names,\n",
    "    'train R^2':tr_result_r2,\n",
    "    'test R^2': test__result_r2,\n",
    "    'train MSE':tr_result_mse,\n",
    "    'test MSE':test_result_mse\n",
    "})\n",
    "result_pd"
   ]
  },
  {
   "cell_type": "code",
   "execution_count": 24,
   "metadata": {},
   "outputs": [
    {
     "data": {
      "text/html": [
       "<div>\n",
       "<style scoped>\n",
       "    .dataframe tbody tr th:only-of-type {\n",
       "        vertical-align: middle;\n",
       "    }\n",
       "\n",
       "    .dataframe tbody tr th {\n",
       "        vertical-align: top;\n",
       "    }\n",
       "\n",
       "    .dataframe thead th {\n",
       "        text-align: right;\n",
       "    }\n",
       "</style>\n",
       "<table border=\"1\" class=\"dataframe\">\n",
       "  <thead>\n",
       "    <tr style=\"text-align: right;\">\n",
       "      <th></th>\n",
       "      <th>Model</th>\n",
       "      <th>Mean R^2</th>\n",
       "      <th>Std R^2</th>\n",
       "      <th>Mean MSE</th>\n",
       "      <th>Std MSE</th>\n",
       "    </tr>\n",
       "  </thead>\n",
       "  <tbody>\n",
       "    <tr>\n",
       "      <th>0</th>\n",
       "      <td>AdaBoostRegressor</td>\n",
       "      <td>0.0092</td>\n",
       "      <td>0.2750</td>\n",
       "      <td>504.5872</td>\n",
       "      <td>126.5130</td>\n",
       "    </tr>\n",
       "    <tr>\n",
       "      <th>1</th>\n",
       "      <td>GradientBoostingRegressor</td>\n",
       "      <td>0.1454</td>\n",
       "      <td>0.1744</td>\n",
       "      <td>470.8455</td>\n",
       "      <td>163.2100</td>\n",
       "    </tr>\n",
       "    <tr>\n",
       "      <th>2</th>\n",
       "      <td>RandomForestRegressor</td>\n",
       "      <td>0.1414</td>\n",
       "      <td>0.2270</td>\n",
       "      <td>453.3818</td>\n",
       "      <td>120.9824</td>\n",
       "    </tr>\n",
       "    <tr>\n",
       "      <th>3</th>\n",
       "      <td>DecisionTreeRegressor</td>\n",
       "      <td>-0.2767</td>\n",
       "      <td>0.5688</td>\n",
       "      <td>646.4174</td>\n",
       "      <td>136.0366</td>\n",
       "    </tr>\n",
       "    <tr>\n",
       "      <th>4</th>\n",
       "      <td>XGBoostRegressor</td>\n",
       "      <td>-0.0359</td>\n",
       "      <td>0.3632</td>\n",
       "      <td>530.6130</td>\n",
       "      <td>112.7307</td>\n",
       "    </tr>\n",
       "  </tbody>\n",
       "</table>\n",
       "</div>"
      ],
      "text/plain": [
       "                       Model  Mean R^2  Std R^2  Mean MSE   Std MSE\n",
       "0          AdaBoostRegressor    0.0092   0.2750  504.5872  126.5130\n",
       "1  GradientBoostingRegressor    0.1454   0.1744  470.8455  163.2100\n",
       "2      RandomForestRegressor    0.1414   0.2270  453.3818  120.9824\n",
       "3      DecisionTreeRegressor   -0.2767   0.5688  646.4174  136.0366\n",
       "4           XGBoostRegressor   -0.0359   0.3632  530.6130  112.7307"
      ]
     },
     "execution_count": 24,
     "metadata": {},
     "output_type": "execute_result"
    }
   ],
   "source": [
    "from sklearn.model_selection import KFold, cross_val_score\n",
    "from sklearn.metrics import r2_score, mean_squared_error\n",
    "\n",
    "results_r2 = []\n",
    "results_mse = []\n",
    "names = []\n",
    "\n",
    "for name, model in models:\n",
    "    kfold = KFold(n_splits=5, random_state=13, shuffle=True)\n",
    "\n",
    "    # R^2 계산\n",
    "    cv_results_r2 = cross_val_score(model, X_train, y_train, cv=kfold, scoring='r2')\n",
    "    results_r2.append(cv_results_r2)\n",
    "    \n",
    "    # mean_squared_error는 값이 낮을수록 더 좋은 모델이므로 음수로 변환하여 사용\n",
    "    cv_results_mse = cross_val_score(model, X_train, y_train, cv=kfold, scoring='neg_mean_squared_error')\n",
    "    cv_results_mse = -cv_results_mse\n",
    "    results_mse.append(cv_results_mse)\n",
    "\n",
    "    names.append(name)\n",
    "\n",
    "# DataFrame 생성\n",
    "result_pd = pd.DataFrame({\n",
    "    'Model': names,\n",
    "    'Mean R^2': [round(result.mean(), 4) for result in results_r2],\n",
    "    'Std R^2': [round(result.std(), 4) for result in results_r2],\n",
    "    'Mean MSE': [round(result.mean(), 4) for result in results_mse],\n",
    "    'Std MSE': [round(result.std(), 4) for result in results_mse]\n",
    "})\n",
    "\n",
    "result_pd"
   ]
  },
  {
   "cell_type": "markdown",
   "metadata": {},
   "source": [
    "- R^2 : 0~1 사이의 값으로 높을수록 좋음(음수값은 그 모델 적용이 어렵다는 뜻)\n",
    "- MSE : 낮은값일수록 좋음\n",
    "- 평가 지표는 R^2 (결정 계수)이며, 이 값은 모델이 주어진 데이터에 얼마나 잘 적합되었는지를 측정하는 지표입니다. R^2 값은 0과 1 사이의 범위에 있으며, 높을수록 모델이 데이터를 잘 설명한다는 것을 나타냄\n",
    "- MSE는 작을수록 모델의 예측이 더 좋다는 것을 의미"
   ]
  },
  {
   "cell_type": "markdown",
   "metadata": {},
   "source": [
    "### RandomForestRegressor() 모델 활용해서 성능 확인"
   ]
  },
  {
   "cell_type": "code",
   "execution_count": 25,
   "metadata": {},
   "outputs": [
    {
     "data": {
      "image/png": "[encoded data removed]",
      "text/plain": [
       "<Figure size 1000x800 with 1 Axes>"
      ]
     },
     "metadata": {},
     "output_type": "display_data"
    }
   ],
   "source": [
    "# 성능 확인\n",
    "\n",
    "rf_model = RandomForestRegressor()\n",
    "rf_model.fit(X_train, y_train)\n",
    "predictions = rf_model.predict(X_test)\n",
    "\n",
    "plt.scatter(y_test, predictions)\n",
    "plt.xlabel('real')\n",
    "plt.ylabel('predict')\n",
    "plt.plot([min(y_test), max(y_test)], [min(y_test), max(y_test)], 'r') \n",
    "plt.show()\n",
    "# 값들이 빨간선 주위에 오는것이 좋음"
   ]
  },
  {
   "cell_type": "markdown",
   "metadata": {},
   "source": [
    "# 군집 이용"
   ]
  },
  {
   "cell_type": "code",
   "execution_count": 26,
   "metadata": {},
   "outputs": [
    {
     "name": "stderr",
     "output_type": "stream",
     "text": [
      "c:\\Users\\rbfl7\\miniconda3\\envs\\ds_study\\lib\\site-packages\\sklearn\\cluster\\_kmeans.py:1412: FutureWarning:\n",
      "\n",
      "The default value of `n_init` will change from 10 to 'auto' in 1.4. Set the value of `n_init` explicitly to suppress the warning\n",
      "\n",
      "Exception in thread Thread-6:\n",
      "Traceback (most recent call last):\n",
      "  File \"c:\\Users\\rbfl7\\miniconda3\\envs\\ds_study\\lib\\threading.py\", line 932, in _bootstrap_inner\n",
      "    self.run()\n",
      "  File \"c:\\Users\\rbfl7\\miniconda3\\envs\\ds_study\\lib\\threading.py\", line 870, in run\n",
      "    self._target(*self._args, **self._kwargs)\n",
      "  File \"c:\\Users\\rbfl7\\miniconda3\\envs\\ds_study\\lib\\subprocess.py\", line 1386, in _readerthread\n",
      "    buffer.append(fh.read())\n",
      "  File \"c:\\Users\\rbfl7\\miniconda3\\envs\\ds_study\\lib\\codecs.py\", line 322, in decode\n",
      "    (result, consumed) = self._buffer_decode(data, self.errors, final)\n",
      "UnicodeDecodeError: 'utf-8' codec can't decode byte 0xb1 in position 24: invalid start byte\n",
      "c:\\Users\\rbfl7\\miniconda3\\envs\\ds_study\\lib\\site-packages\\joblib\\externals\\loky\\backend\\context.py:110: UserWarning:\n",
      "\n",
      "Could not find the number of physical cores for the following reason:\n",
      "'NoneType' object has no attribute 'splitlines'\n",
      "Returning the number of logical cores instead. You can silence this warning by setting LOKY_MAX_CPU_COUNT to the number of cores you want to use.\n",
      "\n",
      "  File \"c:\\Users\\rbfl7\\miniconda3\\envs\\ds_study\\lib\\site-packages\\joblib\\externals\\loky\\backend\\context.py\", line 202, in _count_physical_cores\n",
      "    cpu_info = cpu_info.stdout.splitlines()\n",
      "c:\\Users\\rbfl7\\miniconda3\\envs\\ds_study\\lib\\site-packages\\sklearn\\cluster\\_kmeans.py:1436: UserWarning:\n",
      "\n",
      "KMeans is known to have a memory leak on Windows with MKL, when there are less chunks than available threads. You can avoid it by setting the environment variable OMP_NUM_THREADS=2.\n",
      "\n",
      "c:\\Users\\rbfl7\\miniconda3\\envs\\ds_study\\lib\\site-packages\\sklearn\\cluster\\_kmeans.py:1412: FutureWarning:\n",
      "\n",
      "The default value of `n_init` will change from 10 to 'auto' in 1.4. Set the value of `n_init` explicitly to suppress the warning\n",
      "\n",
      "c:\\Users\\rbfl7\\miniconda3\\envs\\ds_study\\lib\\site-packages\\sklearn\\cluster\\_kmeans.py:1436: UserWarning:\n",
      "\n",
      "KMeans is known to have a memory leak on Windows with MKL, when there are less chunks than available threads. You can avoid it by setting the environment variable OMP_NUM_THREADS=2.\n",
      "\n",
      "c:\\Users\\rbfl7\\miniconda3\\envs\\ds_study\\lib\\site-packages\\sklearn\\cluster\\_kmeans.py:1412: FutureWarning:\n",
      "\n",
      "The default value of `n_init` will change from 10 to 'auto' in 1.4. Set the value of `n_init` explicitly to suppress the warning\n",
      "\n",
      "c:\\Users\\rbfl7\\miniconda3\\envs\\ds_study\\lib\\site-packages\\sklearn\\cluster\\_kmeans.py:1436: UserWarning:\n",
      "\n",
      "KMeans is known to have a memory leak on Windows with MKL, when there are less chunks than available threads. You can avoid it by setting the environment variable OMP_NUM_THREADS=2.\n",
      "\n",
      "c:\\Users\\rbfl7\\miniconda3\\envs\\ds_study\\lib\\site-packages\\sklearn\\cluster\\_kmeans.py:1412: FutureWarning:\n",
      "\n",
      "The default value of `n_init` will change from 10 to 'auto' in 1.4. Set the value of `n_init` explicitly to suppress the warning\n",
      "\n",
      "c:\\Users\\rbfl7\\miniconda3\\envs\\ds_study\\lib\\site-packages\\sklearn\\cluster\\_kmeans.py:1436: UserWarning:\n",
      "\n",
      "KMeans is known to have a memory leak on Windows with MKL, when there are less chunks than available threads. You can avoid it by setting the environment variable OMP_NUM_THREADS=2.\n",
      "\n",
      "c:\\Users\\rbfl7\\miniconda3\\envs\\ds_study\\lib\\site-packages\\sklearn\\cluster\\_kmeans.py:1412: FutureWarning:\n",
      "\n",
      "The default value of `n_init` will change from 10 to 'auto' in 1.4. Set the value of `n_init` explicitly to suppress the warning\n",
      "\n",
      "c:\\Users\\rbfl7\\miniconda3\\envs\\ds_study\\lib\\site-packages\\sklearn\\cluster\\_kmeans.py:1436: UserWarning:\n",
      "\n",
      "KMeans is known to have a memory leak on Windows with MKL, when there are less chunks than available threads. You can avoid it by setting the environment variable OMP_NUM_THREADS=2.\n",
      "\n",
      "c:\\Users\\rbfl7\\miniconda3\\envs\\ds_study\\lib\\site-packages\\sklearn\\cluster\\_kmeans.py:1412: FutureWarning:\n",
      "\n",
      "The default value of `n_init` will change from 10 to 'auto' in 1.4. Set the value of `n_init` explicitly to suppress the warning\n",
      "\n",
      "c:\\Users\\rbfl7\\miniconda3\\envs\\ds_study\\lib\\site-packages\\sklearn\\cluster\\_kmeans.py:1436: UserWarning:\n",
      "\n",
      "KMeans is known to have a memory leak on Windows with MKL, when there are less chunks than available threads. You can avoid it by setting the environment variable OMP_NUM_THREADS=2.\n",
      "\n",
      "c:\\Users\\rbfl7\\miniconda3\\envs\\ds_study\\lib\\site-packages\\sklearn\\cluster\\_kmeans.py:1412: FutureWarning:\n",
      "\n",
      "The default value of `n_init` will change from 10 to 'auto' in 1.4. Set the value of `n_init` explicitly to suppress the warning\n",
      "\n",
      "c:\\Users\\rbfl7\\miniconda3\\envs\\ds_study\\lib\\site-packages\\sklearn\\cluster\\_kmeans.py:1436: UserWarning:\n",
      "\n",
      "KMeans is known to have a memory leak on Windows with MKL, when there are less chunks than available threads. You can avoid it by setting the environment variable OMP_NUM_THREADS=2.\n",
      "\n",
      "c:\\Users\\rbfl7\\miniconda3\\envs\\ds_study\\lib\\site-packages\\sklearn\\cluster\\_kmeans.py:1412: FutureWarning:\n",
      "\n",
      "The default value of `n_init` will change from 10 to 'auto' in 1.4. Set the value of `n_init` explicitly to suppress the warning\n",
      "\n",
      "c:\\Users\\rbfl7\\miniconda3\\envs\\ds_study\\lib\\site-packages\\sklearn\\cluster\\_kmeans.py:1436: UserWarning:\n",
      "\n",
      "KMeans is known to have a memory leak on Windows with MKL, when there are less chunks than available threads. You can avoid it by setting the environment variable OMP_NUM_THREADS=2.\n",
      "\n",
      "c:\\Users\\rbfl7\\miniconda3\\envs\\ds_study\\lib\\site-packages\\sklearn\\cluster\\_kmeans.py:1412: FutureWarning:\n",
      "\n",
      "The default value of `n_init` will change from 10 to 'auto' in 1.4. Set the value of `n_init` explicitly to suppress the warning\n",
      "\n",
      "c:\\Users\\rbfl7\\miniconda3\\envs\\ds_study\\lib\\site-packages\\sklearn\\cluster\\_kmeans.py:1436: UserWarning:\n",
      "\n",
      "KMeans is known to have a memory leak on Windows with MKL, when there are less chunks than available threads. You can avoid it by setting the environment variable OMP_NUM_THREADS=2.\n",
      "\n"
     ]
    },
    {
     "name": "stdout",
     "output_type": "stream",
     "text": [
      "Optimal number of clusters: 2\n"
     ]
    }
   ],
   "source": [
    "from sklearn.metrics import silhouette_score\n",
    "from sklearn.cluster import KMeans\n",
    "\n",
    "cluster_range = range(2, 11)\n",
    "\n",
    "optimal_clusters = 0\n",
    "max_silhouette_score = -1\n",
    "\n",
    "for n_clusters in cluster_range:\n",
    "    \n",
    "    kmeans = KMeans(n_clusters=n_clusters, random_state=42)\n",
    "    \n",
    "    kmeans.fit(X_train)\n",
    "    \n",
    "    clusters = kmeans.predict(X_train)\n",
    "    \n",
    "    silhouette_avg = silhouette_score(X_train, clusters)\n",
    "    \n",
    "    if silhouette_avg > max_silhouette_score:\n",
    "        max_silhouette_score = silhouette_avg\n",
    "        optimal_clusters = n_clusters\n",
    "\n",
    "# Print the optimal number of clusters\n",
    "print(\"Optimal number of clusters:\", optimal_clusters)"
   ]
  },
  {
   "cell_type": "code",
   "execution_count": 27,
   "metadata": {},
   "outputs": [
    {
     "name": "stderr",
     "output_type": "stream",
     "text": [
      "c:\\Users\\rbfl7\\miniconda3\\envs\\ds_study\\lib\\site-packages\\sklearn\\cluster\\_kmeans.py:1412: FutureWarning:\n",
      "\n",
      "The default value of `n_init` will change from 10 to 'auto' in 1.4. Set the value of `n_init` explicitly to suppress the warning\n",
      "\n",
      "c:\\Users\\rbfl7\\miniconda3\\envs\\ds_study\\lib\\site-packages\\sklearn\\cluster\\_kmeans.py:1436: UserWarning:\n",
      "\n",
      "KMeans is known to have a memory leak on Windows with MKL, when there are less chunks than available threads. You can avoid it by setting the environment variable OMP_NUM_THREADS=2.\n",
      "\n"
     ]
    },
    {
     "name": "stdout",
     "output_type": "stream",
     "text": [
      "train_cluster_labels : [0 1 0 0 1 1 0 1 1 0 1 1 1 1 0 0 1 0 0 0 0 0 1 1 1 1 0 1 1 1 0 0 1 0 1 1 0\n",
      " 0 1 0 1 1 1 1 1 0 0 1 1 0 1 1 0 1 0 0 0 1 0 1 1 1 1 0 0 0 1 0 1 1 0 1 0 0\n",
      " 1 1 1 1 1 0 0 0 0 1 0 0 0 0 0 1 0 1 0 0 0 0 0 0 0 1 1 1 1 0 0 1 0 1 0 1 0\n",
      " 1 1 0 0 1 1 1 0 0 0 1 0 1 0 0 1 1 0 1 1 1 1 1 0 1 0 0 1 1 1 0 1 0 1 1 0 0\n",
      " 1 1 1 1 1 0 0 1 0 0 1 0 1 1 0 0 1 0 1 0 1 0 1 0 0 0 0 0 0 0 0 1 1 1 0 0 1\n",
      " 1 1 0 0 1 1 1 1 0 1 1 0 1 1 1 0 0 1 0 0 0 1 1 1 0 1 1 1 1 0 1 0 0 0 0 0 0\n",
      " 1 0 0 0 1 1 1 1 1 1 1 1 1 1 1 1 1 1 1 1 0 0 1 0 1 1 0 0 0 0 0 1 0 1 0 0 1\n",
      " 1 0 1 0 1 0 1 1 0 1 1 1 1 0 0 0 0 1 0 0 0 0 1 1 1 0 1 0 1 0 1 1 1 1 0 0 0\n",
      " 1 0 1 0 1 1 0 1 0 0 0 0 1 1 0]\n",
      "test_cluster_labels :  [1 0 0 0 1 0 0 0 0 0 1 1 0 0 1 0 0 1 0 0 1 0 0 0 1 0 1 1 0 1 1 0 1 1 0 0 0\n",
      " 1 0 0 0 0 0 0 0 1 1 1 1 0 1 0 0 0 0 1 0 0 0 1 0 1 1 1 1 0 0 1 1 0 1 0 0 0\n",
      " 0 0 0 1]\n"
     ]
    }
   ],
   "source": [
    "from sklearn.cluster import KMeans\n",
    "\n",
    "\n",
    "kmeans = KMeans(n_clusters=2, random_state=42)\n",
    "kmeans.fit(X_train)\n",
    "\n",
    "# 학습된 모델을 이용하여 train 데이터에 대한 군집 레이블 예측\n",
    "train_cluster_labels = kmeans.predict(X_train)\n",
    "\n",
    "# 학습된 모델을 이용하여 test 데이터에 대한 군집 레이블 예측\n",
    "test_cluster_labels = kmeans.predict(X_test)\n",
    "\n",
    "print('train_cluster_labels :', train_cluster_labels)\n",
    "print('test_cluster_labels : ', test_cluster_labels)"
   ]
  },
  {
   "cell_type": "code",
   "execution_count": 28,
   "metadata": {},
   "outputs": [],
   "source": [
    "X_tr_1 = X_train[train_cluster_labels == 1]\n",
    "X_test_1 = X_test[test_cluster_labels == 1]\n",
    "y_tr_1 = y_train[train_cluster_labels == 1]\n",
    "y_test_1 = y_test[test_cluster_labels == 1]\n",
    "\n",
    "X_tr_0 = X_train[train_cluster_labels == 0]\n",
    "X_test_0 = X_test[test_cluster_labels == 0]\n",
    "y_tr_0 = y_train[train_cluster_labels == 0]\n",
    "y_test_0 = y_test[test_cluster_labels == 0]"
   ]
  },
  {
   "cell_type": "code",
   "execution_count": null,
   "metadata": {},
   "outputs": [],
   "source": [
    "# y값 뷸균형 확인하기\n",
    "import plotly.express as px\n",
    "\n",
    "fig=px.histogram(y_train, x='RAIV_1')\n",
    "fig.show()"
   ]
  },
  {
   "cell_type": "code",
   "execution_count": null,
   "metadata": {},
   "outputs": [],
   "source": [
    "# y값 뷸균형 확인하기\n",
    "import plotly.express as px\n",
    "\n",
    "fig=px.histogram(y_train, x='RAIV_1')\n",
    "fig.show()"
   ]
  },
  {
   "cell_type": "markdown",
   "metadata": {},
   "source": [
    "---"
   ]
  },
  {
   "cell_type": "markdown",
   "metadata": {},
   "source": [
    "## 군집0"
   ]
  },
  {
   "cell_type": "code",
   "execution_count": 29,
   "metadata": {},
   "outputs": [],
   "source": [
    "from sklearn.ensemble import (AdaBoostRegressor, GradientBoostingRegressor, RandomForestRegressor)\n",
    "from sklearn.tree import DecisionTreeRegressor\n",
    "from sklearn.linear_model import LinearRegression\n",
    "from xgboost import XGBRegressor\n",
    "\n",
    "models=[]\n",
    "models.append(('AdaBoostRegressor',AdaBoostRegressor()))\n",
    "models.append(('GradientBoostingRegressor',GradientBoostingRegressor()))\n",
    "models.append(('RandomForestRegressor',RandomForestRegressor()))\n",
    "models.append(('DecisionTreeRegressor',DecisionTreeRegressor()))\n",
    "models.append(('XGBoostRegressor', XGBRegressor()))"
   ]
  },
  {
   "cell_type": "code",
   "execution_count": 30,
   "metadata": {},
   "outputs": [
    {
     "data": {
      "text/html": [
       "<div>\n",
       "<style scoped>\n",
       "    .dataframe tbody tr th:only-of-type {\n",
       "        vertical-align: middle;\n",
       "    }\n",
       "\n",
       "    .dataframe tbody tr th {\n",
       "        vertical-align: top;\n",
       "    }\n",
       "\n",
       "    .dataframe thead th {\n",
       "        text-align: right;\n",
       "    }\n",
       "</style>\n",
       "<table border=\"1\" class=\"dataframe\">\n",
       "  <thead>\n",
       "    <tr style=\"text-align: right;\">\n",
       "      <th></th>\n",
       "      <th>Model</th>\n",
       "      <th>train R^2</th>\n",
       "      <th>test R^2</th>\n",
       "      <th>train MSE</th>\n",
       "      <th>test MSE</th>\n",
       "    </tr>\n",
       "  </thead>\n",
       "  <tbody>\n",
       "    <tr>\n",
       "      <th>0</th>\n",
       "      <td>AdaBoostRegressor</td>\n",
       "      <td>0.648500</td>\n",
       "      <td>0.167762</td>\n",
       "      <td>246.678695</td>\n",
       "      <td>562.272435</td>\n",
       "    </tr>\n",
       "    <tr>\n",
       "      <th>1</th>\n",
       "      <td>GradientBoostingRegressor</td>\n",
       "      <td>0.915489</td>\n",
       "      <td>0.246886</td>\n",
       "      <td>59.309030</td>\n",
       "      <td>508.814452</td>\n",
       "    </tr>\n",
       "    <tr>\n",
       "      <th>2</th>\n",
       "      <td>RandomForestRegressor</td>\n",
       "      <td>0.891356</td>\n",
       "      <td>0.285621</td>\n",
       "      <td>76.245173</td>\n",
       "      <td>482.644747</td>\n",
       "    </tr>\n",
       "    <tr>\n",
       "      <th>3</th>\n",
       "      <td>DecisionTreeRegressor</td>\n",
       "      <td>1.000000</td>\n",
       "      <td>-0.587946</td>\n",
       "      <td>0.000000</td>\n",
       "      <td>1072.839583</td>\n",
       "    </tr>\n",
       "    <tr>\n",
       "      <th>4</th>\n",
       "      <td>XGBoostRegressor</td>\n",
       "      <td>0.999986</td>\n",
       "      <td>-0.114602</td>\n",
       "      <td>0.009771</td>\n",
       "      <td>753.041096</td>\n",
       "    </tr>\n",
       "  </tbody>\n",
       "</table>\n",
       "</div>"
      ],
      "text/plain": [
       "                       Model  train R^2  test R^2   train MSE     test MSE\n",
       "0          AdaBoostRegressor   0.648500  0.167762  246.678695   562.272435\n",
       "1  GradientBoostingRegressor   0.915489  0.246886   59.309030   508.814452\n",
       "2      RandomForestRegressor   0.891356  0.285621   76.245173   482.644747\n",
       "3      DecisionTreeRegressor   1.000000 -0.587946    0.000000  1072.839583\n",
       "4           XGBoostRegressor   0.999986 -0.114602    0.009771   753.041096"
      ]
     },
     "execution_count": 30,
     "metadata": {},
     "output_type": "execute_result"
    }
   ],
   "source": [
    "from sklearn.metrics import r2_score, mean_squared_error\n",
    "\n",
    "tr_result_r2 = []\n",
    "test__result_r2 = []\n",
    "tr_result_mse = []\n",
    "test_result_mse = []\n",
    "names = []\n",
    "\n",
    "for name, model in models:\n",
    "    # 모델 훈련\n",
    "    model.fit(X_tr_0, y_tr_0)\n",
    "\n",
    "    # 예측\n",
    "    pred_tr = model.predict(X_tr_0)\n",
    "    pred_test = model.predict(X_test_0)\n",
    "\n",
    "    # R^2 계산\n",
    "    r2_tr = r2_score(y_tr_0, pred_tr)\n",
    "    r2_test = r2_score(y_test_0, pred_test)\n",
    "    tr_result_r2.append(r2_tr)\n",
    "    test__result_r2.append(r2_test)\n",
    "\n",
    "    # Mean Squared Error 계산\n",
    "    mse_tr = mean_squared_error(y_tr_0, pred_tr)\n",
    "    mse_test = mean_squared_error(y_test_0, pred_test)\n",
    "    tr_result_mse.append(mse_tr)\n",
    "    test_result_mse.append(mse_test)\n",
    "\n",
    "    names.append(name)\n",
    "\n",
    "result_pd = pd.DataFrame({\n",
    "    'Model':names,\n",
    "    'train R^2':tr_result_r2,\n",
    "    'test R^2': test__result_r2,\n",
    "    'train MSE':tr_result_mse,\n",
    "    'test MSE':test_result_mse\n",
    "})\n",
    "result_pd"
   ]
  },
  {
   "cell_type": "markdown",
   "metadata": {},
   "source": [
    "- DecisionTreeRegressor 같은경우 규제를 주지 않아 과적합이 됨\n",
    "### GradientBoostingRegressor() 모델 활용해서 성능 확인"
   ]
  },
  {
   "cell_type": "code",
   "execution_count": 31,
   "metadata": {},
   "outputs": [
    {
     "data": {
      "image/png": "[encoded data removed]",
      "text/plain": [
       "<Figure size 1000x800 with 1 Axes>"
      ]
     },
     "metadata": {},
     "output_type": "display_data"
    }
   ],
   "source": [
    "# 성능 확인\n",
    "\n",
    "gb_model = GradientBoostingRegressor()\n",
    "gb_model.fit(X_tr_0, y_tr_0)\n",
    "predictions = gb_model.predict(X_test_0)\n",
    "\n",
    "plt.scatter(y_test_0, predictions)\n",
    "plt.xlabel('real')\n",
    "plt.ylabel('predict')\n",
    "plt.plot([min(y_test_0), max(y_test_0)], [min(y_test_0), max(y_test_0)], 'r') \n",
    "plt.show()\n",
    "# 값들이 빨간선 주위에 오는것이 좋음"
   ]
  },
  {
   "cell_type": "markdown",
   "metadata": {},
   "source": [
    "### 교차검증"
   ]
  },
  {
   "cell_type": "code",
   "execution_count": 32,
   "metadata": {},
   "outputs": [
    {
     "data": {
      "text/html": [
       "<div>\n",
       "<style scoped>\n",
       "    .dataframe tbody tr th:only-of-type {\n",
       "        vertical-align: middle;\n",
       "    }\n",
       "\n",
       "    .dataframe tbody tr th {\n",
       "        vertical-align: top;\n",
       "    }\n",
       "\n",
       "    .dataframe thead th {\n",
       "        text-align: right;\n",
       "    }\n",
       "</style>\n",
       "<table border=\"1\" class=\"dataframe\">\n",
       "  <thead>\n",
       "    <tr style=\"text-align: right;\">\n",
       "      <th></th>\n",
       "      <th>Model</th>\n",
       "      <th>Mean R^2</th>\n",
       "      <th>Std R^2</th>\n",
       "      <th>Mean MSE</th>\n",
       "      <th>Std MSE</th>\n",
       "    </tr>\n",
       "  </thead>\n",
       "  <tbody>\n",
       "    <tr>\n",
       "      <th>0</th>\n",
       "      <td>AdaBoostRegressor</td>\n",
       "      <td>0.1408</td>\n",
       "      <td>0.2323</td>\n",
       "      <td>558.3395</td>\n",
       "      <td>350.8350</td>\n",
       "    </tr>\n",
       "    <tr>\n",
       "      <th>1</th>\n",
       "      <td>GradientBoostingRegressor</td>\n",
       "      <td>0.1250</td>\n",
       "      <td>0.2041</td>\n",
       "      <td>587.8487</td>\n",
       "      <td>381.1726</td>\n",
       "    </tr>\n",
       "    <tr>\n",
       "      <th>2</th>\n",
       "      <td>RandomForestRegressor</td>\n",
       "      <td>0.2129</td>\n",
       "      <td>0.1470</td>\n",
       "      <td>532.2157</td>\n",
       "      <td>339.1457</td>\n",
       "    </tr>\n",
       "    <tr>\n",
       "      <th>3</th>\n",
       "      <td>DecisionTreeRegressor</td>\n",
       "      <td>-0.1950</td>\n",
       "      <td>0.1587</td>\n",
       "      <td>732.5606</td>\n",
       "      <td>388.6084</td>\n",
       "    </tr>\n",
       "    <tr>\n",
       "      <th>4</th>\n",
       "      <td>XGBoostRegressor</td>\n",
       "      <td>-0.0001</td>\n",
       "      <td>0.2129</td>\n",
       "      <td>668.9236</td>\n",
       "      <td>437.5098</td>\n",
       "    </tr>\n",
       "  </tbody>\n",
       "</table>\n",
       "</div>"
      ],
      "text/plain": [
       "                       Model  Mean R^2  Std R^2  Mean MSE   Std MSE\n",
       "0          AdaBoostRegressor    0.1408   0.2323  558.3395  350.8350\n",
       "1  GradientBoostingRegressor    0.1250   0.2041  587.8487  381.1726\n",
       "2      RandomForestRegressor    0.2129   0.1470  532.2157  339.1457\n",
       "3      DecisionTreeRegressor   -0.1950   0.1587  732.5606  388.6084\n",
       "4           XGBoostRegressor   -0.0001   0.2129  668.9236  437.5098"
      ]
     },
     "execution_count": 32,
     "metadata": {},
     "output_type": "execute_result"
    }
   ],
   "source": [
    "from sklearn.model_selection import KFold, cross_val_score\n",
    "from sklearn.metrics import r2_score, mean_squared_error\n",
    "\n",
    "results_r2 = []\n",
    "results_mse = []\n",
    "names = []\n",
    "\n",
    "for name, model in models:\n",
    "    kfold = KFold(n_splits=5, random_state=13, shuffle=True)\n",
    "\n",
    "    # R^2 계산\n",
    "    cv_results_r2 = cross_val_score(model, X_tr_0, y_tr_0, cv=kfold, scoring='r2')\n",
    "    results_r2.append(cv_results_r2)\n",
    "    \n",
    "    # mean_squared_error는 값이 낮을수록 더 좋은 모델이므로 음수로 변환하여 사용\n",
    "    cv_results_mse = cross_val_score(model, X_tr_0, y_tr_0, cv=kfold, scoring='neg_mean_squared_error')\n",
    "    cv_results_mse = -cv_results_mse\n",
    "    results_mse.append(cv_results_mse)\n",
    "\n",
    "    names.append(name)\n",
    "\n",
    "# DataFrame 생성\n",
    "result_pd = pd.DataFrame({\n",
    "    'Model': names,\n",
    "    'Mean R^2': [round(result.mean(), 4) for result in results_r2],\n",
    "    'Std R^2': [round(result.std(), 4) for result in results_r2],\n",
    "    'Mean MSE': [round(result.mean(), 4) for result in results_mse],\n",
    "    'Std MSE': [round(result.std(), 4) for result in results_mse]\n",
    "})\n",
    "\n",
    "result_pd"
   ]
  },
  {
   "cell_type": "markdown",
   "metadata": {},
   "source": [
    "---"
   ]
  },
  {
   "cell_type": "markdown",
   "metadata": {},
   "source": [
    "## 군집1"
   ]
  },
  {
   "cell_type": "code",
   "execution_count": 33,
   "metadata": {},
   "outputs": [
    {
     "data": {
      "text/html": [
       "<div>\n",
       "<style scoped>\n",
       "    .dataframe tbody tr th:only-of-type {\n",
       "        vertical-align: middle;\n",
       "    }\n",
       "\n",
       "    .dataframe tbody tr th {\n",
       "        vertical-align: top;\n",
       "    }\n",
       "\n",
       "    .dataframe thead th {\n",
       "        text-align: right;\n",
       "    }\n",
       "</style>\n",
       "<table border=\"1\" class=\"dataframe\">\n",
       "  <thead>\n",
       "    <tr style=\"text-align: right;\">\n",
       "      <th></th>\n",
       "      <th>Model</th>\n",
       "      <th>train R^2</th>\n",
       "      <th>test R^2</th>\n",
       "      <th>train MSE</th>\n",
       "      <th>test MSE</th>\n",
       "    </tr>\n",
       "  </thead>\n",
       "  <tbody>\n",
       "    <tr>\n",
       "      <th>0</th>\n",
       "      <td>AdaBoostRegressor</td>\n",
       "      <td>0.763183</td>\n",
       "      <td>-0.217040</td>\n",
       "      <td>115.523315</td>\n",
       "      <td>371.889604</td>\n",
       "    </tr>\n",
       "    <tr>\n",
       "      <th>1</th>\n",
       "      <td>GradientBoostingRegressor</td>\n",
       "      <td>0.925752</td>\n",
       "      <td>-0.434477</td>\n",
       "      <td>36.219231</td>\n",
       "      <td>438.331566</td>\n",
       "    </tr>\n",
       "    <tr>\n",
       "      <th>2</th>\n",
       "      <td>RandomForestRegressor</td>\n",
       "      <td>0.891803</td>\n",
       "      <td>0.170110</td>\n",
       "      <td>52.780486</td>\n",
       "      <td>253.588547</td>\n",
       "    </tr>\n",
       "    <tr>\n",
       "      <th>3</th>\n",
       "      <td>DecisionTreeRegressor</td>\n",
       "      <td>1.000000</td>\n",
       "      <td>-1.277880</td>\n",
       "      <td>0.000000</td>\n",
       "      <td>696.049333</td>\n",
       "    </tr>\n",
       "    <tr>\n",
       "      <th>4</th>\n",
       "      <td>XGBoostRegressor</td>\n",
       "      <td>0.999995</td>\n",
       "      <td>-0.116226</td>\n",
       "      <td>0.002351</td>\n",
       "      <td>341.084077</td>\n",
       "    </tr>\n",
       "  </tbody>\n",
       "</table>\n",
       "</div>"
      ],
      "text/plain": [
       "                       Model  train R^2  test R^2   train MSE    test MSE\n",
       "0          AdaBoostRegressor   0.763183 -0.217040  115.523315  371.889604\n",
       "1  GradientBoostingRegressor   0.925752 -0.434477   36.219231  438.331566\n",
       "2      RandomForestRegressor   0.891803  0.170110   52.780486  253.588547\n",
       "3      DecisionTreeRegressor   1.000000 -1.277880    0.000000  696.049333\n",
       "4           XGBoostRegressor   0.999995 -0.116226    0.002351  341.084077"
      ]
     },
     "execution_count": 33,
     "metadata": {},
     "output_type": "execute_result"
    }
   ],
   "source": [
    "from sklearn.metrics import r2_score, mean_squared_error\n",
    "\n",
    "tr_result_r2 = []\n",
    "test__result_r2 = []\n",
    "tr_result_mse = []\n",
    "test_result_mse = []\n",
    "names = []\n",
    "\n",
    "for name, model in models:\n",
    "    # 모델 훈련\n",
    "    model.fit(X_tr_1, y_tr_1)\n",
    "\n",
    "    # 예측\n",
    "    pred_tr = model.predict(X_tr_1)\n",
    "    pred_test = model.predict(X_test_1)\n",
    "\n",
    "    # R^2 계산\n",
    "    r2_tr = r2_score(y_tr_1, pred_tr)\n",
    "    r2_test = r2_score(y_test_1, pred_test)\n",
    "    tr_result_r2.append(r2_tr)\n",
    "    test__result_r2.append(r2_test)\n",
    "\n",
    "    # Mean Squared Error 계산\n",
    "    mse_tr = mean_squared_error(y_tr_1, pred_tr)\n",
    "    mse_test = mean_squared_error(y_test_1, pred_test)\n",
    "    tr_result_mse.append(mse_tr)\n",
    "    test_result_mse.append(mse_test)\n",
    "\n",
    "    names.append(name)\n",
    "\n",
    "result_pd = pd.DataFrame({\n",
    "    'Model':names,\n",
    "    'train R^2':tr_result_r2,\n",
    "    'test R^2': test__result_r2,\n",
    "    'train MSE':tr_result_mse,\n",
    "    'test MSE':test_result_mse\n",
    "})\n",
    "result_pd"
   ]
  },
  {
   "cell_type": "markdown",
   "metadata": {},
   "source": [
    "### XGBRegressor() 모델 활용해서 성능 확인"
   ]
  },
  {
   "cell_type": "code",
   "execution_count": 34,
   "metadata": {},
   "outputs": [
    {
     "data": {
      "image/png": "[encoded data removed]",
      "text/plain": [
       "<Figure size 1000x800 with 1 Axes>"
      ]
     },
     "metadata": {},
     "output_type": "display_data"
    }
   ],
   "source": [
    "# 성능 확인\n",
    "\n",
    "xg_model = XGBRegressor()\n",
    "xg_model.fit(X_tr_1, y_tr_1)\n",
    "predictions = xg_model.predict(X_test_1)\n",
    "\n",
    "plt.scatter(y_test_1, predictions)\n",
    "plt.xlabel('real')\n",
    "plt.ylabel('predict')\n",
    "plt.plot([min(y_test_1), max(y_test_1)], [min(y_test_1), max(y_test_1)], 'r') \n",
    "plt.show()\n",
    "# 값들이 빨간선 주위에 오는것이 좋음"
   ]
  },
  {
   "cell_type": "markdown",
   "metadata": {},
   "source": [
    "# 교차검증"
   ]
  },
  {
   "cell_type": "code",
   "execution_count": 35,
   "metadata": {},
   "outputs": [
    {
     "data": {
      "text/html": [
       "<div>\n",
       "<style scoped>\n",
       "    .dataframe tbody tr th:only-of-type {\n",
       "        vertical-align: middle;\n",
       "    }\n",
       "\n",
       "    .dataframe tbody tr th {\n",
       "        vertical-align: top;\n",
       "    }\n",
       "\n",
       "    .dataframe thead th {\n",
       "        text-align: right;\n",
       "    }\n",
       "</style>\n",
       "<table border=\"1\" class=\"dataframe\">\n",
       "  <thead>\n",
       "    <tr style=\"text-align: right;\">\n",
       "      <th></th>\n",
       "      <th>Model</th>\n",
       "      <th>Mean R^2</th>\n",
       "      <th>Std R^2</th>\n",
       "      <th>Mean MSE</th>\n",
       "      <th>Std MSE</th>\n",
       "    </tr>\n",
       "  </thead>\n",
       "  <tbody>\n",
       "    <tr>\n",
       "      <th>0</th>\n",
       "      <td>AdaBoostRegressor</td>\n",
       "      <td>0.2703</td>\n",
       "      <td>0.3463</td>\n",
       "      <td>313.1903</td>\n",
       "      <td>142.8872</td>\n",
       "    </tr>\n",
       "    <tr>\n",
       "      <th>1</th>\n",
       "      <td>GradientBoostingRegressor</td>\n",
       "      <td>0.2133</td>\n",
       "      <td>0.2419</td>\n",
       "      <td>347.0283</td>\n",
       "      <td>168.5070</td>\n",
       "    </tr>\n",
       "    <tr>\n",
       "      <th>2</th>\n",
       "      <td>RandomForestRegressor</td>\n",
       "      <td>0.1645</td>\n",
       "      <td>0.4079</td>\n",
       "      <td>348.8610</td>\n",
       "      <td>134.3468</td>\n",
       "    </tr>\n",
       "    <tr>\n",
       "      <th>3</th>\n",
       "      <td>DecisionTreeRegressor</td>\n",
       "      <td>-0.2384</td>\n",
       "      <td>0.2000</td>\n",
       "      <td>585.9225</td>\n",
       "      <td>250.3310</td>\n",
       "    </tr>\n",
       "    <tr>\n",
       "      <th>4</th>\n",
       "      <td>XGBoostRegressor</td>\n",
       "      <td>0.1071</td>\n",
       "      <td>0.2684</td>\n",
       "      <td>381.1992</td>\n",
       "      <td>124.8137</td>\n",
       "    </tr>\n",
       "  </tbody>\n",
       "</table>\n",
       "</div>"
      ],
      "text/plain": [
       "                       Model  Mean R^2  Std R^2  Mean MSE   Std MSE\n",
       "0          AdaBoostRegressor    0.2703   0.3463  313.1903  142.8872\n",
       "1  GradientBoostingRegressor    0.2133   0.2419  347.0283  168.5070\n",
       "2      RandomForestRegressor    0.1645   0.4079  348.8610  134.3468\n",
       "3      DecisionTreeRegressor   -0.2384   0.2000  585.9225  250.3310\n",
       "4           XGBoostRegressor    0.1071   0.2684  381.1992  124.8137"
      ]
     },
     "execution_count": 35,
     "metadata": {},
     "output_type": "execute_result"
    }
   ],
   "source": [
    "from sklearn.model_selection import KFold, cross_val_score\n",
    "from sklearn.metrics import r2_score, mean_squared_error\n",
    "\n",
    "results_r2 = []\n",
    "results_mse = []\n",
    "names = []\n",
    "\n",
    "for name, model in models:\n",
    "    kfold = KFold(n_splits=5, random_state=13, shuffle=True)\n",
    "\n",
    "    # R^2 계산\n",
    "    cv_results_r2 = cross_val_score(model, X_tr_1, y_tr_1, cv=kfold, scoring='r2')\n",
    "    results_r2.append(cv_results_r2)\n",
    "    \n",
    "    # mean_squared_error는 값이 낮을수록 더 좋은 모델이므로 음수로 변환하여 사용\n",
    "    cv_results_mse = cross_val_score(model, X_tr_1, y_tr_1, cv=kfold, scoring='neg_mean_squared_error')\n",
    "    cv_results_mse = -cv_results_mse\n",
    "    results_mse.append(cv_results_mse)\n",
    "\n",
    "    names.append(name)\n",
    "\n",
    "# DataFrame 생성\n",
    "result_pd = pd.DataFrame({\n",
    "    'Model': names,\n",
    "    'Mean R^2': [round(result.mean(), 4) for result in results_r2],\n",
    "    'Std R^2': [round(result.std(), 4) for result in results_r2],\n",
    "    'Mean MSE': [round(result.mean(), 4) for result in results_mse],\n",
    "    'Std MSE': [round(result.std(), 4) for result in results_mse]\n",
    "})\n",
    "\n",
    "result_pd"
   ]
  },
  {
   "cell_type": "code",
   "execution_count": 36,
   "metadata": {},
   "outputs": [],
   "source": [
    "# 데이터를 3개로 나눠도 될까?? \n",
    "# DecisionTreeRegressor, RandomForestRegressor으로 중요 특성 찾아 import statsmodels.api as sm /  lm = sm.OLS(y_train, X_train).fit()\n",
    "# 그리드CV - best찾기 - 옵티마\n",
    "# pipe라인\n",
    "# 데이터 전처리\n",
    "# 평가기준 def함수 \n",
    "# 학습데이터 늘리기\n",
    "\n",
    "# QnA하고 싶은것들 - "
   ]
  }
 ],
 "metadata": {
  "kernelspec": {
   "display_name": "ds_study",
   "language": "python",
   "name": "python3"
  },
  "language_info": {
   "codemirror_mode": {
    "name": "ipython",
    "version": 3
   },
   "file_extension": ".py",
   "mimetype": "text/x-python",
   "name": "python",
   "nbconvert_exporter": "python",
   "pygments_lexer": "ipython3",
   "version": "3.8.18"
  }
 },
 "nbformat": 4,
 "nbformat_minor": 2
}
